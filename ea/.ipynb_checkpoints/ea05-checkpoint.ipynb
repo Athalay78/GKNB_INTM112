{
 "cells": [
  {
   "cell_type": "markdown",
   "id": "aa43399a-0b44-4946-ae21-f5ffa45277ef",
   "metadata": {},
   "source": [
    "# 5. előadás\n",
    "\n",
    "* Külső könyvtárak használata, math könyvtár bevezetése\n",
    "* dict\n",
    "* enumerate\n",
    "* zip\n",
    "* comprehension"
   ]
  },
  {
   "cell_type": "markdown",
   "id": "eafc4a4d-6e40-4495-a715-f0790c6fef6d",
   "metadata": {},
   "source": [
    "## Modulok\n",
    "\n",
    "A modulok segítségével lehetőségünk van arra, hogy szorosan összekapcsolódó funkcionalitásokat, programrészleteket összekapcsoljunk és egy egységként legyünk képesek kezelni. Számos feladatra, problémára léteznek ma már kész modulok, amiket csak fel kell használnunk. Ilyen modulokat beépítve is tartalmaz a Python, de külső fejlesztők által létrehozott modulok is elérhetők. Melyek közül bizonyos modulok adott feladat tekintetében széles körben elfogadott standardként kezelhetők. A későbbiek során ilyen külső könyvtárakkal meg fogunk ismerkedni. Egyelőre nézzünk meg egy beépített modult, ami sok feladat esetén hasznos.\n",
    "\n",
    "### A math modul\n",
    "\n",
    "A ```math``` modul segítségével alapvető matematikai állandókhoz, gyakorta használt matematikai függvényekhez férünk hozzá. Először nézzük meg mit kell tennünk, ha használni szeretnénk a ```math``` modult!"
   ]
  },
  {
   "cell_type": "code",
   "execution_count": 1,
   "id": "6b952589-e4ce-4880-aa62-384f53a95626",
   "metadata": {},
   "outputs": [],
   "source": [
    "import math"
   ]
  },
  {
   "cell_type": "markdown",
   "id": "8207e3f5-97a4-409c-afe7-df58b5afd471",
   "metadata": {},
   "source": [
    "Ha egy modult használni szeretnénk, akkor azt mindenek előtt importálni szükséges. Ehhez a fent látható utasítást kell kiadnunk. Az ```import math``` utasítás utántól kezdve a ```math``` modulhoz hozzáférünk, fel tudjuk használni. Nézzük meg, hogy milyen, gyakran használt lehetőségeket nyújt számunkra!\n",
    "\n",
    "* ```math.pi```\n",
    "\n",
    "Konstansként tartalmazza a [$\\pi$](https://en.wikipedia.org/wiki/Pi) értékét 15 tizedesjegy pontosságig, amit a ```pi``` változóban találunk. Mivel a ```pi``` változó most a ```math``` modulon belül van, ezért ezt jelezni kell azzal, hogy elé írjuk a modul nevet és egy pontot."
   ]
  },
  {
   "cell_type": "code",
   "execution_count": 2,
   "id": "81921a6d-9fdc-4f59-a804-4a4f3caeadf2",
   "metadata": {},
   "outputs": [
    {
     "name": "stdout",
     "output_type": "stream",
     "text": [
      "3.141592653589793\n"
     ]
    }
   ],
   "source": [
    "print(math.pi)"
   ]
  },
  {
   "cell_type": "markdown",
   "id": "d324c1f0-7444-457f-b5c4-77c5da40acd3",
   "metadata": {},
   "source": [
    "* ```math.e```\n",
    "\n",
    "Hasonló módon az [$e$](https://en.wikipedia.org/wiki/E_(mathematical_constant)) értékét is megtaláljuk a ```math``` modulban."
   ]
  },
  {
   "cell_type": "code",
   "execution_count": 3,
   "id": "be5feb8e-2639-410c-9cc6-d463ec2d0334",
   "metadata": {},
   "outputs": [
    {
     "name": "stdout",
     "output_type": "stream",
     "text": [
      "2.718281828459045\n"
     ]
    }
   ],
   "source": [
    "print(math.e)"
   ]
  },
  {
   "cell_type": "markdown",
   "id": "08b0cc00-f306-4a30-91eb-25fcda7ebb20",
   "metadata": {},
   "source": [
    "* ```math.inf```\n",
    "\n",
    "Segítségével a végtelent tudjuk reprezentálni. Vannak olyan tipikus feladatok, ahol szükségünk van arra, hogy egy változó értéke, ha ideiglenes is, de biztosan nagyobb (vagy kisebb) legyen minden értéknél. Ilyenkkel később találkozni fogunk. Erre tudjuk használni a ```math.inf``` értéket. Ha negatív végtelenre van szükségünk, akkor nyugodtan szorozzuk -1-gyel: ```-math.inf```."
   ]
  },
  {
   "cell_type": "code",
   "execution_count": 4,
   "id": "0860dd7e-1365-45f2-96eb-65987149176a",
   "metadata": {},
   "outputs": [
    {
     "name": "stdout",
     "output_type": "stream",
     "text": [
      "False\n"
     ]
    }
   ],
   "source": [
    "print(1000000000000000000000000000000000000000000000000000000 > math.inf)"
   ]
  },
  {
   "cell_type": "markdown",
   "id": "fab6c5a6-68c3-450c-8ea8-4081028c3389",
   "metadata": {},
   "source": [
    "* ```math.nan```\n",
    "\n",
    "A [NaN](https://en.wikipedia.org/wiki/NaN), azaz \"Not a Number\" kifejezésre utal. A ```math.inf```-hez hasonlóan szintén egy speciális értékű \"szám\". Jelentése, hogy ez az érték nem szám. Használhatjuk ezt arra, hogy ha egy számérték hiányát akarjuk kifejezni, vagy ha egy számítás során az értéket nem tudjuk meghatározni (pl. nullával kellene osztani, ami hibához vezetne). De olyankor is hasznos, amikor egy számítás eselén ideiglenesen számként kell létrehoznunk egy változót, de nem szeretnénk, hogy az bármilyen konkrét értéket felvegyen. Erre később látni fogunk konkrét feladatokat."
   ]
  },
  {
   "cell_type": "code",
   "execution_count": 5,
   "id": "9bd8cda6-422d-460c-bef8-d92d2295e2c2",
   "metadata": {},
   "outputs": [
    {
     "name": "stdout",
     "output_type": "stream",
     "text": [
      "nan\n",
      "False\n"
     ]
    }
   ],
   "source": [
    "x = math.nan\n",
    "print(x)\n",
    "print(x == 10)"
   ]
  },
  {
   "cell_type": "markdown",
   "id": "b878b76c-f48f-4b2b-9d2b-a195e86a9aae",
   "metadata": {},
   "source": [
    "Természetesen nem csak matematikai konstansok, de számos funkció is elérhető a ```math``` könyvtáron keresztül. Nézzünk meg ezek közül néhány fontosabbat!\n",
    "\n",
    "* ```math.ceil```\n",
    "\n",
    "A paraméterül kapott számot egészre felfelé kerekíti."
   ]
  },
  {
   "cell_type": "code",
   "execution_count": 6,
   "id": "0f96e800-73a2-4aee-9ed6-70b0e11f2804",
   "metadata": {},
   "outputs": [
    {
     "name": "stdout",
     "output_type": "stream",
     "text": [
      "2\n",
      "3\n",
      "3\n"
     ]
    }
   ],
   "source": [
    "print(math.ceil(2.0))\n",
    "print(math.ceil(2.1))\n",
    "print(math.ceil(2.9))"
   ]
  },
  {
   "cell_type": "markdown",
   "id": "656073b7-f778-45d2-a492-240601c13864",
   "metadata": {},
   "source": [
    "* ```math.floor```\n",
    "\n",
    "A paraméterül kapott számot egészre lefelé kerekíti."
   ]
  },
  {
   "cell_type": "code",
   "execution_count": 7,
   "id": "32322c06-aea0-450c-a7e1-075322d8db20",
   "metadata": {},
   "outputs": [
    {
     "name": "stdout",
     "output_type": "stream",
     "text": [
      "2\n",
      "2\n",
      "2\n"
     ]
    }
   ],
   "source": [
    "print(math.floor(2.0))\n",
    "print(math.floor(2.1))\n",
    "print(math.floor(2.9))"
   ]
  },
  {
   "cell_type": "markdown",
   "id": "ced2feb9-11b9-4c79-b2c5-dc7f78b47da2",
   "metadata": {},
   "source": [
    "* ```math.pow```\n",
    "\n",
    "Hatványozni tudunk vele. Első paraméter az alap, második paraméter a kitevő. A visszatérési értéke lesz a hatványozás eredménye."
   ]
  },
  {
   "cell_type": "code",
   "execution_count": 8,
   "id": "d3ad1839-1d68-4a97-aaca-e9f26adc8cdd",
   "metadata": {},
   "outputs": [
    {
     "name": "stdout",
     "output_type": "stream",
     "text": [
      "Három a hetediken eredménye: 2187.0\n"
     ]
    }
   ],
   "source": [
    "x = math.pow(3, 7)\n",
    "print(\"Három a hetediken eredménye:\", x)"
   ]
  },
  {
   "cell_type": "markdown",
   "id": "a04dc3e3-75f1-452a-8a29-8caeaf0c0abb",
   "metadata": {},
   "source": [
    "* ```math.sqrt```\n",
    "\n",
    "A megadott számt gyökét kapjuk visszatérési értékül."
   ]
  },
  {
   "cell_type": "code",
   "execution_count": 9,
   "id": "5baae8cd-b23e-42de-ae40-9d0842cd27ff",
   "metadata": {},
   "outputs": [
    {
     "name": "stdout",
     "output_type": "stream",
     "text": [
      "3.0\n"
     ]
    }
   ],
   "source": [
    "x = math.sqrt(9)\n",
    "print(x)"
   ]
  },
  {
   "cell_type": "markdown",
   "id": "5cbde070-1499-4361-b9ee-2dbcfc62f1a5",
   "metadata": {},
   "source": [
    "Fontos! A komplex számok halmazán nem tudunk ennek segítségével számolni!"
   ]
  },
  {
   "cell_type": "code",
   "execution_count": 10,
   "id": "319cda2e-027e-40e0-be38-f1f416783d95",
   "metadata": {},
   "outputs": [
    {
     "ename": "ValueError",
     "evalue": "math domain error",
     "output_type": "error",
     "traceback": [
      "\u001b[0;31m---------------------------------------------------------------------------\u001b[0m",
      "\u001b[0;31mValueError\u001b[0m                                Traceback (most recent call last)",
      "Cell \u001b[0;32mIn[10], line 1\u001b[0m\n\u001b[0;32m----> 1\u001b[0m \u001b[38;5;28mprint\u001b[39m(\u001b[43mmath\u001b[49m\u001b[38;5;241;43m.\u001b[39;49m\u001b[43msqrt\u001b[49m\u001b[43m(\u001b[49m\u001b[38;5;241;43m-\u001b[39;49m\u001b[38;5;241;43m1\u001b[39;49m\u001b[43m)\u001b[49m)\n",
      "\u001b[0;31mValueError\u001b[0m: math domain error"
     ]
    }
   ],
   "source": [
    "print(math.sqrt(-1))"
   ]
  },
  {
   "cell_type": "markdown",
   "id": "26112f85-a3db-43a1-8bbb-cdeaa752ce6f",
   "metadata": {},
   "source": [
    "* ```math.sin```\n",
    "\n",
    "Megadott érték szinuszát kapjuk vissza. A bemenetet radiánban kell értelmezni."
   ]
  },
  {
   "cell_type": "code",
   "execution_count": 11,
   "id": "0285aefe-c59f-4a1c-bb89-12873b46a6fd",
   "metadata": {},
   "outputs": [
    {
     "name": "stdout",
     "output_type": "stream",
     "text": [
      "1.0\n"
     ]
    }
   ],
   "source": [
    "print(math.sin(math.pi/2))"
   ]
  },
  {
   "cell_type": "markdown",
   "id": "87bc844a-2aab-49e9-b824-5ab20e81d08d",
   "metadata": {},
   "source": [
    "* ```math.cos```\n",
    "\n",
    "A megadott érték koszinuszát kapjuk vissza. Itt is radián kell legyen a bemenet."
   ]
  },
  {
   "cell_type": "code",
   "execution_count": 12,
   "id": "36fa2ec0-25cd-4af8-9292-cad2a23149af",
   "metadata": {},
   "outputs": [
    {
     "name": "stdout",
     "output_type": "stream",
     "text": [
      "1.0\n"
     ]
    }
   ],
   "source": [
    "print(math.cos(0))"
   ]
  },
  {
   "cell_type": "markdown",
   "id": "29f76ea6-931b-4c03-a9ae-5272c04a826a",
   "metadata": {},
   "source": [
    "* ```math.degrees```\n",
    "\n",
    "Paraméterként megadott radián értékből fokot kapunk visszatérési értékként."
   ]
  },
  {
   "cell_type": "code",
   "execution_count": 13,
   "id": "400529e4-63e7-4795-9ede-46e57c290681",
   "metadata": {},
   "outputs": [
    {
     "name": "stdout",
     "output_type": "stream",
     "text": [
      "180.0\n"
     ]
    }
   ],
   "source": [
    "print(math.degrees(math.pi))"
   ]
  },
  {
   "cell_type": "markdown",
   "id": "1874810c-ebf6-4a7f-b6e3-69aac735a47a",
   "metadata": {},
   "source": [
    "* ```math.radians```\n",
    "\n",
    "Hasonló módon, mint az előző, de most fok értékből tudunk radiánt generálni."
   ]
  },
  {
   "cell_type": "code",
   "execution_count": 14,
   "id": "c43c0a45-e5e9-437d-922a-9e54dafce22d",
   "metadata": {},
   "outputs": [
    {
     "name": "stdout",
     "output_type": "stream",
     "text": [
      "6.283185307179586\n"
     ]
    }
   ],
   "source": [
    "print(math.radians(360))"
   ]
  },
  {
   "cell_type": "markdown",
   "id": "ad32b96a-2897-43d6-92bc-6c2868e17d3d",
   "metadata": {},
   "source": [
    "* ```math.isinf```\n",
    "\n",
    "Egy értékről eldönti, hogy végtelen vagy sem. Akár pozitív, akár negatív végtelen az érték, igazat ad eredményül. Máskülönben hamis lesz a visszatérési értéke."
   ]
  },
  {
   "cell_type": "code",
   "execution_count": 15,
   "id": "6afc6faa-2fc7-4886-a95c-33a04c6d7701",
   "metadata": {},
   "outputs": [
    {
     "name": "stdout",
     "output_type": "stream",
     "text": [
      "True\n",
      "True\n",
      "False\n"
     ]
    }
   ],
   "source": [
    "a = math.inf\n",
    "b = -math.inf\n",
    "c = 42\n",
    "\n",
    "print(math.isinf(a))\n",
    "print(math.isinf(b))\n",
    "print(math.isinf(c))"
   ]
  },
  {
   "cell_type": "markdown",
   "id": "0c47a975-b7a2-44ae-bee3-a9b248c1796d",
   "metadata": {},
   "source": [
    "* ```math.isnan```\n",
    "\n",
    "A paraméterül kapott értékről eldönti, hogy NaN vagy sem. Ha NaN, akkor igaz eredményt ad, különben hamis."
   ]
  },
  {
   "cell_type": "code",
   "execution_count": 16,
   "id": "06a88df4-728e-414e-9261-6b7f21371fb1",
   "metadata": {},
   "outputs": [
    {
     "name": "stdout",
     "output_type": "stream",
     "text": [
      "False\n",
      "True\n",
      "False\n"
     ]
    }
   ],
   "source": [
    "a = math.inf\n",
    "b = math.nan\n",
    "c = 42\n",
    "\n",
    "print(math.isnan(a))\n",
    "print(math.isnan(b))\n",
    "print(math.isnan(c))"
   ]
  },
  {
   "cell_type": "markdown",
   "id": "f20b92b1-6ec5-4e83-973b-ff8a81181ccc",
   "metadata": {},
   "source": [
    "[Bővebben a ```math``` modulról.](https://docs.python.org/3/library/math.html)"
   ]
  },
  {
   "cell_type": "markdown",
   "id": "81c7b339-8bce-42a6-9b24-7d22d0669c9c",
   "metadata": {},
   "source": [
    "## Szótár (```dict```)\n",
    "\n",
    "A lista (```list```), rendezett n-es (```tuple```) és halmaz (```set```) adatszerkezetek után a ```dict```, azaz a szótár a 4. eszköz amivel megismerkedünk. A szótár segítségével szintén több értéket tudunk tárolni, leginkább a listához hasonló. De van egy nagyon fontos különbség.\n",
    "\n",
    "A listában az elemek felvételük sorrendjében helyezkednek el és az indexükkel tudunk rájuk hivatkozni. Az első elem indexe a 0, a második elemé az 1, és így tovább. A szótár abban különbözik ettől, hogy nem indexeket használ, hanem úgynevezett kulcsokat fogunk alkalmazni. Ilyen tekintetben kulcs-érték párokat tudunk eltárolni a szótárban. Az érték jelenti az adatot, amit el akarunk helyezni a szótárba. Ez ugyanaz, mint a lista esetén. A kulcs pedig az értékhez tartozó azonosítót jelenti. A lista esetén ez volt az index. Szótárnál a kulcs bár milyen adat lehet, nem csak szám, de akár szöveg is.\n",
    "\n",
    "Hozzunk létre egy üres szótárat!"
   ]
  },
  {
   "cell_type": "code",
   "execution_count": 17,
   "id": "1f348c09-602f-43e7-83c4-2d929cbd224f",
   "metadata": {},
   "outputs": [
    {
     "name": "stdout",
     "output_type": "stream",
     "text": [
      "<class 'dict'>\n"
     ]
    }
   ],
   "source": [
    "d = {}\n",
    "\n",
    "print(type(d))"
   ]
  },
  {
   "cell_type": "markdown",
   "id": "a2f48d20-82ec-4cab-ba45-2456bafc9c54",
   "metadata": {},
   "source": [
    "A ```d``` változónk most egy üres szótárat tárol. Adjunk hozzá egy új elemet. Ehhez meg kell adni a felvenni kívánt értéket és a hozzá tartozó kulcsot is, ami egyedileg azonosítani fogja az értéket (az index helyett). Ezt így tehetjük meg:"
   ]
  },
  {
   "cell_type": "code",
   "execution_count": 18,
   "id": "eaa3e597-4209-44fe-87dc-3df2b2b05c4c",
   "metadata": {},
   "outputs": [],
   "source": [
    "d[\"one\"] = \"egy\""
   ]
  },
  {
   "cell_type": "markdown",
   "id": "7cc5b02a-52c8-44ca-9471-f0979952acca",
   "metadata": {},
   "source": [
    "A ```d``` szótárba most eltároltuk az ```\"egy\"``` string-et, amelyhez a ```\"one\"``` string tartozik, mint kulcs. Tehát itt most index helyett a ```\"one\"``` kifejezést tudjuk használni.\n",
    "\n",
    "A teljes szótár tartalmát könnyen kiírathatjuk:"
   ]
  },
  {
   "cell_type": "code",
   "execution_count": 19,
   "id": "4dbe91dd-16a2-4cee-9c86-c084fe4ee8dc",
   "metadata": {},
   "outputs": [
    {
     "name": "stdout",
     "output_type": "stream",
     "text": [
      "{'one': 'egy'}\n"
     ]
    }
   ],
   "source": [
    "print(d)"
   ]
  },
  {
   "cell_type": "markdown",
   "id": "3a4f010e-7b6e-443a-8a38-05aad0898a56",
   "metadata": {},
   "source": [
    "Egy adott elemét lekérdezni most nem az index segítségével, hanem a kulcs segítségével tehetjük meg:"
   ]
  },
  {
   "cell_type": "code",
   "execution_count": 20,
   "id": "ec6f7717-02c3-41cf-b1aa-4708f14613da",
   "metadata": {},
   "outputs": [
    {
     "name": "stdout",
     "output_type": "stream",
     "text": [
      "egy\n"
     ]
    }
   ],
   "source": [
    "print(d[\"one\"])"
   ]
  },
  {
   "cell_type": "markdown",
   "id": "0f576219-da90-43d0-a059-d1aa528f6334",
   "metadata": {},
   "source": [
    "Emiatt hívják szótárnak, mivel egy adott értékhez (ami lehet szöveg, de bármilyen más adat is), egyértelműen hozzárendel egy másik adatot (ami szintén bármi lehet).\n",
    "\n",
    "A kulcs lehet szám is, és persze az sem gond, hogy egyszerre több különböző típusú kulcsot használunk egy szótárban. Ettől függetlenül a gyakorlatban ritka, hogy ilyen módon alkalmazzuk a szótárat."
   ]
  },
  {
   "cell_type": "code",
   "execution_count": 21,
   "id": "ff68b156-c8b6-4f52-8f5f-da9de2864e5c",
   "metadata": {},
   "outputs": [],
   "source": [
    "d[42] = \"alma\""
   ]
  },
  {
   "cell_type": "markdown",
   "id": "6b7907a7-435b-43df-8b2e-49e50d0b2f43",
   "metadata": {},
   "source": [
    "Most a ```42``` kulcshoz rendeltük hozzá az ```\"alma\"``` értéket."
   ]
  },
  {
   "cell_type": "code",
   "execution_count": 22,
   "id": "b029c73c-a2b0-494e-a69b-b2fa1c5eff79",
   "metadata": {},
   "outputs": [
    {
     "name": "stdout",
     "output_type": "stream",
     "text": [
      "alma\n"
     ]
    }
   ],
   "source": [
    "print(d[42])"
   ]
  },
  {
   "cell_type": "markdown",
   "id": "f74ca8c6-b09b-4cc5-8b19-7df1c0ddf7e7",
   "metadata": {},
   "source": [
    "Ha már létezik egy kulcs a szótárban, akkor ugyanilyen módon változtatni is tudunk a hozzá rendelt értéken."
   ]
  },
  {
   "cell_type": "code",
   "execution_count": 23,
   "id": "32bfd841-a60c-4091-be4a-850824edd3cb",
   "metadata": {},
   "outputs": [
    {
     "name": "stdout",
     "output_type": "stream",
     "text": [
      "alma\n",
      "banán\n"
     ]
    }
   ],
   "source": [
    "print(d[42])\n",
    "\n",
    "d[42] = \"banán\"\n",
    "\n",
    "print(d[42])"
   ]
  },
  {
   "cell_type": "markdown",
   "id": "85871146-8f24-47ae-933d-93090ce1415b",
   "metadata": {},
   "source": [
    "Arra is van lehetőségünk, hogy egy elemet töröljünk, ha már nincs rá szükség."
   ]
  },
  {
   "cell_type": "code",
   "execution_count": 24,
   "id": "e1f78677-e527-4c21-8483-b293adc4454e",
   "metadata": {},
   "outputs": [
    {
     "name": "stdout",
     "output_type": "stream",
     "text": [
      "{'one': 'egy', 42: 'banán'}\n",
      "{'one': 'egy'}\n"
     ]
    }
   ],
   "source": [
    "print(d)\n",
    "\n",
    "del d[42]\n",
    "\n",
    "print(d)"
   ]
  },
  {
   "cell_type": "markdown",
   "id": "69a0432a-0902-4fd0-a1af-b0b7618303ea",
   "metadata": {},
   "source": [
    "Ha olyan elemre próbálunk hivatkozni a kulcson keresztül, amely még nem létezik, akkor természetesen hibát kapunk."
   ]
  },
  {
   "cell_type": "code",
   "execution_count": 25,
   "id": "405dfd63-4197-439a-94e9-d7363088d6ac",
   "metadata": {},
   "outputs": [
    {
     "ename": "KeyError",
     "evalue": "1",
     "output_type": "error",
     "traceback": [
      "\u001b[0;31m---------------------------------------------------------------------------\u001b[0m",
      "\u001b[0;31mKeyError\u001b[0m                                  Traceback (most recent call last)",
      "Cell \u001b[0;32mIn[25], line 1\u001b[0m\n\u001b[0;32m----> 1\u001b[0m \u001b[38;5;28mprint\u001b[39m(\u001b[43md\u001b[49m\u001b[43m[\u001b[49m\u001b[38;5;241;43m1\u001b[39;49m\u001b[43m]\u001b[49m)\n",
      "\u001b[0;31mKeyError\u001b[0m: 1"
     ]
    }
   ],
   "source": [
    "print(d[1])"
   ]
  }
 ],
 "metadata": {
  "kernelspec": {
   "display_name": "Python 3 (ipykernel)",
   "language": "python",
   "name": "python3"
  },
  "language_info": {
   "codemirror_mode": {
    "name": "ipython",
    "version": 3
   },
   "file_extension": ".py",
   "mimetype": "text/x-python",
   "name": "python",
   "nbconvert_exporter": "python",
   "pygments_lexer": "ipython3",
   "version": "3.8.10"
  }
 },
 "nbformat": 4,
 "nbformat_minor": 5
}
