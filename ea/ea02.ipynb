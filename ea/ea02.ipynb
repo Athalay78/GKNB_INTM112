{
 "cells": [
  {
   "attachments": {},
   "cell_type": "markdown",
   "id": "46b88afe-2377-4e8e-86fa-a7c4bf0dbaeb",
   "metadata": {},
   "source": [
    "# 2. előadás\n",
    "\n",
    "* ```input``` függvény\n",
    "* ```bool``` típus\n",
    "* relációs operátorok\n",
    "* logikai operátorok\n",
    "* elágazások"
   ]
  },
  {
   "attachments": {},
   "cell_type": "markdown",
   "id": "9ee22991-d981-4f90-8aa7-3c971a07c22b",
   "metadata": {},
   "source": [
    "## Felhasználói bemenet\n",
    "\n",
    "Az ```input()``` függvény segítségével lehetőségünk van arra, hogy szöveges bemenetet kérjünk a felhasználótól."
   ]
  },
  {
   "attachments": {},
   "cell_type": "markdown",
   "id": "a6d3d901-884d-4068-8f80-492fc0cfe987",
   "metadata": {},
   "source": [
    "Az ```input``` függvénynek most nincs paramétere, üres a zárójelpár. Ahol meghívásra kerül a függvény, ott a program futása várakozik, hogy a felhasználó tetszőleges szöveget adjon meg. A függvény úgynevezett visszatérési értéke lesz a szöveg, amit a felhasználó megadott.\n",
    "\n",
    "A függvények visszatérési értékét hasonló módon tudjuk elképzelni, mint a matimatikai függvényen számításának eredményét. Vegyük példának a szinusz függvényt. A szinusz függvény egy tetszőleges számnak a szinuszát meghatározza. A paramétere a szám, aminek a szinuszát szeretnénk meghatározni. A szinusz függvény visszatérési értéke a paraméterként kapott szám szinusza lesz.\n",
    "\n",
    "Az ```input``` függvény esetén nincs paraméter, nincs bemenet. A felhasználótól kér be adatot, majd ezt a ```string```-et fogjak eredményként adni. A fenti kódban ezt az eredményt rögtön el is tároljuk a ```name``` változóban.\n",
    "\n",
    "De csinálhatjuk például ezt is:"
   ]
  },
  {
   "cell_type": "code",
   "execution_count": 1,
   "id": "a3b163d2-ccde-4edd-88d7-d4cbd9d995c2",
   "metadata": {},
   "outputs": [
    {
     "name": "stdout",
     "output_type": "stream",
     "text": [
      "Hogy hívnak?\n"
     ]
    },
    {
     "name": "stdin",
     "output_type": "stream",
     "text": [
      " János\n"
     ]
    },
    {
     "name": "stdout",
     "output_type": "stream",
     "text": [
      "Szia, János!\n"
     ]
    }
   ],
   "source": [
    "print(\"Hogy hívnak?\")\n",
    "print(\"Szia, \" + input() + \"!\")"
   ]
  },
  {
   "attachments": {},
   "cell_type": "markdown",
   "id": "3d2b09c1-f005-4d66-9b36-873ced060314",
   "metadata": {},
   "source": [
    "Ez a kód ugyanazt csinálja, mint az előző esetben. A különbség, hogy az ```input``` függvény visszatérési értékét nem tároltuk el változóban, hanem rögtön átadtuk a ```print``` függvénynek. A kimenet szempontjából nincs különbség. A kódunk rövidebb lett, ugyanakkor kevésbé átlátható. Ezért az ilyen módon történő felhasználása kevébé javasolt.\n",
    "\n",
    "Értelemszerű, hogy ha a felhasználótól szeretnénk bekérni adatot, akkor ezt megelőzően valamilyen tájékoztató szöveggel szeretnénk a felhasználót ellátni, hiszen tudnia kell, hogy milyen bemenetet várunk tőle. Az előző példánál látjuk, hogy megkérdeztük a felhasználó nevét, majd utána jött a bemenet kérése az ```input``` függvénnyel.\n",
    "\n",
    "Ezt a mechanizmust egyszerüsítendő az ```input``` függvényt tudjuk paraméterezni is. Méghozzá egy olyan szöveget tudunk neki paraméterül adni, amelyet a felhasználói bemenet bekérése előtt fog megjeleníteni. Ezzel gyakorlatilag kiváltva azt, hogy az ```input``` függvény hívása előtt egy plusz ```print``` utasítást helyezzünk el."
   ]
  },
  {
   "cell_type": "code",
   "execution_count": 2,
   "id": "c19e894a-9946-4430-abfe-7bdbcdfd5242",
   "metadata": {},
   "outputs": [
    {
     "name": "stdin",
     "output_type": "stream",
     "text": [
      "Hogy hívnak? János\n"
     ]
    },
    {
     "name": "stdout",
     "output_type": "stream",
     "text": [
      "Szia, János!\n"
     ]
    }
   ],
   "source": [
    "name = input(\"Hogy hívnak?\")\n",
    "print(\"Szia, \" + name + \"!\")"
   ]
  },
  {
   "attachments": {},
   "cell_type": "markdown",
   "id": "567b5c68-cd04-4f8d-8681-1fd0bfec53ba",
   "metadata": {},
   "source": [
    "#### Feladat: téglalap kerület és terület számítás\n",
    "\n",
    "Az ```input``` függvénnyel már tudunk egyszerűbb programokat készíteni, amivel tetszőleges számítási feladatokat elvégezhetünk. Például készíthetünk egy egyszerű programot, ami megadott paraméterekkel rendelkező téglalap kerületét és területét kiszámítja. Itt ügyeljünk rá, hogy az ```input``` függvény mindenképp ```string```-et fog visszaadni. Akkor is, ha a felhasználó számot adott meg bemenetként. Ilyenkor szövegként tárolt számról van szó. Amiról tudjuk, hogy nem tudunk vele számítási műveleteket végezni. Viszont azt is tudjuk, hogy az ```int``` és ```float``` függvényekkel egész vagy valós számokká tudjuk őket alakítani. A példában az ```input``` függvény visszatérési értékét rögtön át is alakítjuk a ```float``` függvénnyel valós számmá. Az ```a``` és ```b``` változókban az értékek már számként szerepelnek, így a kerület és terület számításokat is végre tudjuk hajtani."
   ]
  },
  {
   "cell_type": "code",
   "execution_count": 3,
   "id": "f989b643-9e6f-4cd2-bf84-e93f157de740",
   "metadata": {},
   "outputs": [
    {
     "name": "stdin",
     "output_type": "stream",
     "text": [
      "Kérem adja meg a téglalap egyik oldalhosszát! 4.56\n",
      "Kérem adja meg a téglalap másik oldalhosszát! 3.012\n"
     ]
    },
    {
     "name": "stdout",
     "output_type": "stream",
     "text": [
      "A téglalap adatai:\n",
      "  A oldalhossz: 4.56\n",
      "  B oldalhossz: 3.012\n",
      "  Kerülete: 15.143999999999998\n",
      "  Területe: 13.73472\n"
     ]
    }
   ],
   "source": [
    "# Téglalap kerület és terület számítás, felhasználói bemenettel.\n",
    "\n",
    "# A téglalap oldalhosszainak bekérése a felhasználótól.\n",
    "a = float(input(\"Kérem adja meg a téglalap egyik oldalhosszát!\"))\n",
    "b = float(input(\"Kérem adja meg a téglalap másik oldalhosszát!\"))\n",
    "\n",
    "perimeter = 2 * (a + b) # A téglalap kerülete.\n",
    "area = a * b # A téglalap területe.\n",
    "\n",
    "# A téglalap bekért és számított adatainak megjelenítése.\n",
    "print(\"A téglalap adatai:\")\n",
    "print(\"  A oldalhossz: \" + str(a))\n",
    "print(\"  B oldalhossz: \" + str(b))\n",
    "print(\"  Kerülete: \" + str(perimeter))\n",
    "print(\"  Területe: \" + str(area))\n"
   ]
  },
  {
   "attachments": {},
   "cell_type": "markdown",
   "id": "2f1438a7-4cdc-487f-92e3-516978974262",
   "metadata": {},
   "source": [
    "A fenti példában látható, hogy a kiírásoknál most nem vesszővel elválasztva adtuk meg a kiírandó tartalmakat a ```print``` függvényben. Tudjuk már, hogy szövegeket össze lehet fűzni (konkatenálni), így itt most ezzel a lehetőséggel éltünk. Viszont az ```a```, ```b```, ```perimeter``` és ```area``` változók egy-egy ```float``` értéket tárolnak, amiket nem tudunk egy az egyben hozzáfűzni ```string```-hez. Ezért ezeket a valós számokat előbb az ```str``` függvénnyel szöveggé konvertáltuk."
   ]
  },
  {
   "attachments": {},
   "cell_type": "markdown",
   "id": "16b2eafa-8ef1-48b1-91e7-8e2639a811f0",
   "metadata": {},
   "source": [
    "## Logikai értékek és műveletek\n",
    "\n",
    "Eddig három típussal ismerkedtünk meg: ```int```, ```float```, ```str```. Most megismerkedünk a logikai értékekkel. A Python-ban a logikai típus a ```bool```, amely két értéket vehet fel:\n",
    "* True\n",
    "* False"
   ]
  },
  {
   "cell_type": "code",
   "execution_count": 4,
   "id": "c364398e-5039-4649-a190-ee40ce4c8279",
   "metadata": {},
   "outputs": [
    {
     "name": "stdout",
     "output_type": "stream",
     "text": [
      "True\n",
      "<class 'bool'>\n"
     ]
    }
   ],
   "source": [
    "a = True\n",
    "print(a)\n",
    "print(type(a))"
   ]
  },
  {
   "attachments": {},
   "cell_type": "markdown",
   "id": "3856d036-eee4-4dc9-9c98-ccb1f0044e7c",
   "metadata": {},
   "source": [
    "Meg tudunk határozni úgynevezett logikai kifejezéseket, melyek eldöntendő kérdésekre adnak választ. Azaz igennel, vagy nemmel tudunk rájuk egyértelműen válaszolni. Ezeket a válaszokat tároljuk el a ```bool``` típussal.\n",
    "\n",
    "### Relációs operátorok\n",
    "\n",
    "Erre az alábbi összehasonlító operátorok állnak a rendelkezésre:\n",
    "* Egyenlő: ```==```"
   ]
  },
  {
   "cell_type": "code",
   "execution_count": 5,
   "id": "8aa169d4-d62c-4b52-99bc-3eced833107b",
   "metadata": {},
   "outputs": [
    {
     "name": "stdout",
     "output_type": "stream",
     "text": [
      "True\n"
     ]
    }
   ],
   "source": [
    "print(10 == 10)"
   ]
  },
  {
   "attachments": {},
   "cell_type": "markdown",
   "id": "c713c196-737f-4bb9-bf3c-b83899c9ec34",
   "metadata": {},
   "source": [
    "* Nem egyenlő: ```!=```"
   ]
  },
  {
   "cell_type": "code",
   "execution_count": 6,
   "id": "4361e2c2-f196-4ee2-8831-8e2c141aa232",
   "metadata": {},
   "outputs": [
    {
     "name": "stdout",
     "output_type": "stream",
     "text": [
      "False\n"
     ]
    }
   ],
   "source": [
    "print(10 != 10)"
   ]
  },
  {
   "attachments": {},
   "cell_type": "markdown",
   "id": "ea19e83c-ca78-4f46-b495-f68b9e73e391",
   "metadata": {},
   "source": [
    "* Nagyobb: ```>```"
   ]
  },
  {
   "cell_type": "code",
   "execution_count": 7,
   "id": "f33d3e23-e7f1-4387-8a62-dd1ec100f80c",
   "metadata": {},
   "outputs": [
    {
     "name": "stdout",
     "output_type": "stream",
     "text": [
      "True\n"
     ]
    }
   ],
   "source": [
    "print(3 > 2)"
   ]
  },
  {
   "attachments": {},
   "cell_type": "markdown",
   "id": "a6c894b3-33a8-4459-a533-35de60ffce13",
   "metadata": {},
   "source": [
    "* Kisebb: ```<```"
   ]
  },
  {
   "cell_type": "code",
   "execution_count": 8,
   "id": "230d534c-436c-41c9-aa95-0ca8441d2558",
   "metadata": {},
   "outputs": [
    {
     "name": "stdout",
     "output_type": "stream",
     "text": [
      "False\n"
     ]
    }
   ],
   "source": [
    "print(3 < 2)"
   ]
  },
  {
   "attachments": {},
   "cell_type": "markdown",
   "id": "ab0ed4a0-5601-4e84-972c-5e2e6b860745",
   "metadata": {},
   "source": [
    "* Nagyobb vagy egyenlő: ```>=```"
   ]
  },
  {
   "cell_type": "code",
   "execution_count": 9,
   "id": "0c181669-a99f-4da7-a101-ab4841c1a586",
   "metadata": {},
   "outputs": [
    {
     "name": "stdout",
     "output_type": "stream",
     "text": [
      "True\n"
     ]
    }
   ],
   "source": [
    "print(2>=2)"
   ]
  },
  {
   "attachments": {},
   "cell_type": "markdown",
   "id": "6ba6033a-4a88-4aac-a6a1-569e8d70efa4",
   "metadata": {},
   "source": [
    "* Kisebb vagy egyenlő: ```<=```"
   ]
  },
  {
   "cell_type": "code",
   "execution_count": 10,
   "id": "26a95d75-6b42-4b6a-87be-2a9123087ae3",
   "metadata": {},
   "outputs": [
    {
     "name": "stdout",
     "output_type": "stream",
     "text": [
      "False\n"
     ]
    }
   ],
   "source": [
    "print(3 <= 2)"
   ]
  },
  {
   "attachments": {},
   "cell_type": "markdown",
   "id": "2c6121ee-206a-49f0-beaa-f55ebad9993b",
   "metadata": {},
   "source": [
    "Az relációs operátorok ugyanúgy működnek, mint a már ismert aritmetikai operátorok. Van egy rá bízott számítás, amit végre kell hajtania, ennek az eredményét a fordító kiértékeli, és az eredmény a számítás helyén megjelenik. Ezt az eredményt aztán elmenthetjük egy változóba, vagy, mint a fenti esetekben is, rögtön ki is írhatjuk a kimenetre egy ```print``` függvénnyel.\n",
    "\n",
    "### Logikai operátorok\n",
    "\n",
    "Előfordulhat, hogy összetettebb logikai kifejezést akarunk megfogalmazni, amit két szám összehasonlításával nem tudunk megtenni. Például arra szeretnénk választ kapni, hogy egy adott szám bele tartozik e egy megadott intervallumba. Legyen a szám 2 és legyen az intervallum [0, 10]. Itt két vizsgálatra van szükségünk. Egyrészt választ kell adni arra, hogy ```2 >= 0```, valamint arra is, hogy ```2 <= 10```. Viszont csak akkor tartozik a vizsgált szám az intervallumba, ha mindkét vizsgálat eredménye igaz. Az ilyen és hasonló esetekre nyújtanak megoldást a logikai operátorok. Ezek segítségével több összehasonlító kifejezést össze tudunk kapcsolni különféle módon.\n",
    "\n",
    "Három logikai operátort használhatunk:\n",
    "* [Logikai és művelet](https://en.wikipedia.org/wiki/Logical_conjunction): ```and```\n",
    "\n",
    "A ```2 >= 0``` vizsgálat eredménye igaz lesz, a 2 valóban nagyobb vagy egyenlő, mint a 0. Szintén igaz lesz a ```2 <= 10``` vizsgálat, hiszen a 2 kisebb vagy egyenlő, mint a 10. Tehát az ```and``` művelet mindkét bemenete ```True```. Kimenete akkor igaz, ha mindkét bemenet igaz. Jelen esetben ```True``` eredményt kapunk."
   ]
  },
  {
   "cell_type": "code",
   "execution_count": 11,
   "id": "a433bad2-1672-4fe4-ace3-cd96d6aac8de",
   "metadata": {},
   "outputs": [
    {
     "name": "stdout",
     "output_type": "stream",
     "text": [
      "True\n"
     ]
    }
   ],
   "source": [
    "print(2 >= 0 and 2 <= 10)"
   ]
  },
  {
   "attachments": {},
   "cell_type": "markdown",
   "id": "d315f015-8142-4136-8c8a-6712c1cee392",
   "metadata": {},
   "source": [
    "* [Logikai vagy művelet](https://en.wikipedia.org/wiki/Logical_disjunction): ```or```\n",
    "\n",
    "A ```2 == 2``` nyilván igaz, azaz ```True```. Viszont a ```10 > 100``` eredménye ```False```, hiszen a 10 nem nagyobb a 100-nál. Az ```or``` operátor kimenete akkor lesz igaz, ha legalább az egyik bemenet igaz. Mivel ez így történt, ezért a kimenet ```True``` lett."
   ]
  },
  {
   "cell_type": "code",
   "execution_count": 12,
   "id": "3c54fef7-039a-4c47-983c-9ca008601a61",
   "metadata": {},
   "outputs": [
    {
     "name": "stdout",
     "output_type": "stream",
     "text": [
      "True\n"
     ]
    }
   ],
   "source": [
    "print(2 == 2 or 10 > 100)"
   ]
  },
  {
   "attachments": {},
   "cell_type": "markdown",
   "id": "8623c8d1-4732-425a-80a1-1b259189fbb8",
   "metadata": {},
   "source": [
    "* [Logikai tagadás](https://en.wikipedia.org/wiki/Negation): ```not```\n",
    "\n",
    "A ```0 == 1``` kérdésre a válasz egyértelműen nem, azaz ```False```. A ```not``` operátor ezt az ellenkezőjére állítja. Tehát a ```False``` eredményből ```True``` lesz."
   ]
  },
  {
   "cell_type": "code",
   "execution_count": 13,
   "id": "4b8c9ea0-e90d-43c6-856c-f1edbac25f96",
   "metadata": {},
   "outputs": [
    {
     "name": "stdout",
     "output_type": "stream",
     "text": [
      "True\n"
     ]
    }
   ],
   "source": [
    "print(not 0 == 1)"
   ]
  },
  {
   "attachments": {},
   "cell_type": "markdown",
   "id": "e81e04e9-8536-47ac-9a42-427f58981701",
   "metadata": {},
   "source": [
    "#### Feladat: Szám intervallumba tartozása\n",
    "\n",
    "Kérjünk be a felhasználótól egy számot és legyen egy konstansként előre megadott, mindkét végén [nyílt intervallumunk](https://hu.wikipedia.org/wiki/Intervallum). Döntsük el, hogy a megadott szám beletartozik e az intervallumba és a vizsgálat eredményét írjuk a kimenetre."
   ]
  },
  {
   "cell_type": "code",
   "execution_count": 14,
   "id": "5a0404b7-9ffb-4488-ae6a-a07887ad990a",
   "metadata": {},
   "outputs": [
    {
     "name": "stdin",
     "output_type": "stream",
     "text": [
      "Kérek egy számot! 8\n"
     ]
    },
    {
     "name": "stdout",
     "output_type": "stream",
     "text": [
      "True\n"
     ]
    }
   ],
   "source": [
    "# Bekért szám intervallumba tartozásának vizsgálata\n",
    "\n",
    "INTER_MIN = 0 # Az intervallum alsó határértéke.\n",
    "INTER_MAX = 10 # Az intervallum felső határértéke.\n",
    "\n",
    "# Felhasználó bemenet bekérése és float típusra konvertálása.\n",
    "n = float(input(\"Kérek egy számot!\"))\n",
    "\n",
    "# Logikai kiértékelés és eredményének közvetlen kiírása.\n",
    "print(n > INTER_MIN and n < INTER_MAX)"
   ]
  },
  {
   "attachments": {},
   "cell_type": "markdown",
   "id": "ee81b6ce-ef78-4aa0-b8f3-3f28be3723af",
   "metadata": {},
   "source": [
    "A fenti példában az ```INTER_MIN``` és ```INTER_MAX``` változókat azért írtuk nagy betűkkel, mert ezek konstans értékek. Azaz nem a felhasználótól kérjük be az értékeit, vagy nem más forrásból (pl. külső fájl) érkeznek. Ezek előre \"be vannak égetve\" a forráskódba. Az [ajánlás szerint](https://peps.python.org/pep-0008/#constants) ezeket nagy betűvel szokás jelölni."
   ]
  },
  {
   "attachments": {},
   "cell_type": "markdown",
   "id": "7fce3542-2ede-43f6-98e4-76ec86ad6733",
   "metadata": {},
   "source": [
    "## Elágazás\n",
    "\n",
    "Az elágazás segítségével a programon belül meg tudunk határozni egy olyan utasítást vagy utasítás szekvenciát, amelyet nem minden esetben szeretnénk végrehajtani. A program ezen részei előre meghatározott feltételek esetén kerülnek végrehajtásra. Az eddigi programjaink olyanok voltak, hogy fentről lefelé haladva minden utasítás, egymás után sorban végrehajtásra került. Belátható, hogy ez nem túl dinamikus. Összetett programokat így nem tudunk írni. Ahhoz, hogy a programot dinamikussá tegyük, vezérlési szerkezeteket tudunk felhasználni. Ezek közül az első, amivel megismerkedünk az úgynevezett elágazás.\n",
    "\n",
    "### Egyirányú elágazás\n",
    "\n",
    "Az elágazás legegyszerűbb alakja a következő:\n",
    "\n",
    "```python\n",
    "if FELTÉTEL:\n",
    "    UTASÍTÁSOK\n",
    "```\n",
    "\n",
    "Ez a következőt jelenti. A ```FELTÉTEL```-nek logikai értéknek vagy logikai kifejezésnek kell lennie. Azaz olyan vizsgálatnak, aminek eredménye vagy igaz vagy hamis. Vagy egyszerűbben, olyan kérdés, amire igennel vagy nemmel lehet válaszolni. Amennyiben a kérdésre igen a válasz, akkor a kettőspont után következő ```UTASÍTÁSOK``` kerülnek végrehajtásra. Ez lehet csak egy utasítás is, de akár több egymás után. Ha a vizsgálat hamis eredményt ad, akkor ezek az utasítások nem kerülnek végrehajtásra. Az ```UTASÍTÁSOK``` szakaszt hívjuk az elágazás igaz ágának.\n",
    "\n",
    "Nagyon fontos, hogy az ```UTASÍTÁSOK``` résznek behúzással kell kezdődnie. Ezzel jelezzük, hogy az itt következő kódsorok az elágazáshoz tartoznak. Az elágazás utáni első kódsor, ami már nem az elágazás igaz ágához tartozik, azt már nem kezdjük behúzással. Például:\n",
    "\n",
    "```python\n",
    "if FELTÉTEL:\n",
    "    UTASÍTÁSOK_0\n",
    "UTASÍTÁSOK_1\n",
    "```\n",
    "\n",
    "Itt az ```UTASÍTÁSOK_0``` jelenti az elágazás igaz ágát. Az ```UTASÍTÁSOK_1``` már az elágazás után van. Ez már ismét egy olyan része a kódnak, ami mindenképp végrehajtódik, amikor az elágazás kiértékelése megtörtént.\n",
    "\n",
    "A behúzásokat két módon szokták jelölni:\n",
    "* 4 darab szóköz karakterrel vagy\n",
    "* 1 darab tab karakterrel.\n",
    "\n",
    "A [Python fejlesztői közösség](https://peps.python.org/pep-0008/#indentation) a 4 darab szóköz alkalmazását javasolja, így használjuk mi is ezt. De gyakorlatilag az összes fejlesztő eszköz gondoskodik arról, hogy a behúzások megtörténjenek, így ezzel általában túl nagy gondunk nincs. Ami nagyon fontos! Egy kódon belül nem szabad keverten használni a két módszert. Egy forráskód vagy csak szóközökkel vagy csak tab karakterekkel lehet tagolva.\n",
    "\n",
    "### Kétirányú elágazás\n",
    "\n",
    "Előfordulhat, hogy nem csak abban az esetben szeretnénk csinálni valamit, ha egy logikai vizsgálat eredménye igaz lett, hanem akkor is, ha hamis eredményt kaptunk. Ennek a felépítése a következő:\n",
    "\n",
    "```python\n",
    "if FELTÉTEL:\n",
    "    UTASÍTÁSOK_IGAZ\n",
    "else:\n",
    "    UTASÍTÁSOK_HAMIS\n",
    "```\n",
    "\n",
    "Ami azt jelenti, hogy az ```UTASÍTÁSOK_IGAZ``` akkor kerül végrehajtásra, ha a ```FELTÉTEL``` eredménye igaz. Az ```UTASÍTÁSOK_HAMIS``` pedig akkor kerül végrehajtásra, ha a ```FELTÉTEL``` eredménye hamis. Ez utóbbit nevezzük az elágazás hamis ágának.\n",
    "\n",
    "Az belátható, hogy a kettő közül mindig csak az egyik kerül végrehajtásra, hiszen egy eldöntendő kérdésre nem tudunk egyszerre igennel és nemmel is válaszolni. [A \"talán\", mint válaszlehetőség, itt most nem játszik.](https://en.wikipedia.org/wiki/Three-valued_logic)\n",
    "\n",
    "### Több irányú elágazás\n",
    "\n",
    "Készíthetünk olyan elágazásokat is, amelyek több logikai vizsgálatot tartalmaznak, melyeket egymás után vizsgálunk. Ennek a legegyszerűbb alakja a következő:\n",
    "\n",
    "```python\n",
    "if FELTÉTEL0:\n",
    "    UTASÍTÁSOK0\n",
    "elif FELTÉTEL1:\n",
    "    UTASÍTÁSOK1\n",
    "```\n",
    "\n",
    "Ebben az esetben először kiértékelésre kerül a ```FELTÉTEL0```. Ha az eredménye igaz, akkor végrehajtásra kerül az ```UTASÍTÁS0```. Ha az eredménye viszont hamis lesz, abban az esetben kiértékelésre kerül a ```FELTÉTEL1```. Ha ennek az eredménye lesz igaz, akkor az ```UTASÍTÁSOK1``` kerül végrehajtásra.\n",
    "\n",
    "Opcionálisan kiegészíthetjük egy ```else``` ággal:\n",
    "\n",
    "```python\n",
    "if FELTÉTEL0:\n",
    "    UTASÍTÁSOK0\n",
    "elif FELTÉTEL1:\n",
    "    UTASÍTÁSOK1\n",
    "else:\n",
    "    UTASÍTÁSOK2\n",
    "```\n",
    "\n",
    "Ez annyiban módosítja az előző esetet, hogy ha a ```FELTÉTEL1``` eredménye is hamis lesz, akkor az ```UTASÍTÁSOK2``` kerül végrehajtásra. Azt is mondhatjuk, hogy az ```else``` ág akkor kerül végrehajtásra, ha előtte sehol nem kaptunk igaz eredményt, semelyik ágat nem tudtuk végrehajtani.\n",
    "\n",
    "Az ```elif``` ágból pedig tetszőleges mennyiséget tartalmazhat az elágazás. Az előző példában egyet láthattunk. Most nézzük meg kettővel:\n",
    "\n",
    "```python\n",
    "if FELTÉTEL0:\n",
    "    UTASÍTÁSOK0\n",
    "elif FELTÉTEL1:\n",
    "    UTASÍTÁSOK1\n",
    "elif FELTÉTEL2:\n",
    "    UTASÍTÁSOK2\n",
    "else:\n",
    "    UTASÍTÁSOK3\n",
    "```\n",
    "\n",
    "A végrehajtás logikája most is ugyanaz. Először a ```FELTÉTEL0``` kiértékelése történik. Ha igaz az eredménye, akkor az ```UTASÍTÁSOK0``` kerül végrehajtásra. Ha hamis lesz az eredménye, de a ```FELTÉTEL1``` igaz, akkor az ```UTASÍTÁSOK1``` végrehajtása történik meg. Azonban, ha ennek is hamis az eredménye, akkor végül megvizsgálja a ```FELTÉTEL2``` kifejezést. Ha igazat mond, akkor az ```UTASÍTÁSOK2``` végrehajtása megtörténik. Ha ez a harmadik feltétel is hamis lesz, akkor az ```else``` részben található ```UTASÍTÁSOK3``` kerül végrehajtásra.\n",
    "\n",
    "Próbáljunk meg készíteni egy olyan programot, ami bekér a felhasználótól egy egész számot és kiírja a képernyőre, hogy a megadott szám páros vagy páratlan. Ezt az eddigi módszerekkel nem tudjuk megoldani, mert a programnak van egy pontja ahol vagy ezt vagy azt kell végrehajtania. Előre nem ismert, hogy melyik szövegnek a kiírása fog megtörténni. Ilyen esetben van szükségünk elágazásra."
   ]
  },
  {
   "cell_type": "code",
   "execution_count": 15,
   "id": "a400ed42-d79e-4bae-9b4b-6638d4ccd222",
   "metadata": {},
   "outputs": [
    {
     "name": "stdin",
     "output_type": "stream",
     "text": [
      "Adjon meg egy egész számot! 3\n"
     ]
    },
    {
     "name": "stdout",
     "output_type": "stream",
     "text": [
      "Páratlan.\n"
     ]
    }
   ],
   "source": [
    "n = int(input(\"Adjon meg egy egész számot!\"))\n",
    "if n % 2 == 0:\n",
    "    print(\"Páros.\")\n",
    "else:\n",
    "    print(\"Páratlan.\")"
   ]
  },
  {
   "attachments": {},
   "cell_type": "markdown",
   "id": "065bc94e-65e1-43c2-a8e8-362810808e40",
   "metadata": {},
   "source": [
    "Látható, hogy egy kétirányú elágazással megoldható ez a feladat. Muszáj a két darab irány, hiszen két eltérő eset van, amikor ki kell írnunk valamit: vagy ha páros a szám, vagy ha páratlan. Az elágazásban a ```n % 2 == 0``` logikai kifejezés szerepel. Itt először a maradékos osztás kerül végrehajtásra. Ennek nagyobb a precedenciája. Tehát megvizsgálja, hogy a bekért szám (```n```) 2-vel osztva mennyi maradékot ad. Ha egy tetszőleges egész számot 2-vel osztunk, akkor belátható, hogy a maradék vagy 0, vagy 1. Ha 0 a maradék, akkor a szám biztosan páros. Ha 1 a maradék, akkor kizárásos alapon páratlan.\n",
    "\n",
    "A feleslegesen nagyon biztosra akarunk menni, akkor a fenti példát megoldhattuk volna így is:"
   ]
  },
  {
   "cell_type": "code",
   "execution_count": 16,
   "id": "53979264-6da9-4ca4-8c58-e1227701832a",
   "metadata": {},
   "outputs": [
    {
     "name": "stdin",
     "output_type": "stream",
     "text": [
      "Adjon meg egy egész számot! 3\n"
     ]
    },
    {
     "name": "stdout",
     "output_type": "stream",
     "text": [
      "Páratlan.\n"
     ]
    }
   ],
   "source": [
    "n = int(input(\"Adjon meg egy egész számot!\"))\n",
    "if n % 2 == 0:\n",
    "    print(\"Páros.\")\n",
    "elif n % 2 == 1:\n",
    "    print(\"Páratlan.\")"
   ]
  },
  {
   "attachments": {},
   "cell_type": "markdown",
   "id": "1529a567-2a7b-4e90-b249-e18175cf14a1",
   "metadata": {},
   "source": [
    "A kimenet tekintetében a feladat ugyanaz lesz, ugyanazt a problémát oldottuk meg. De vegyük észre, hogy ebben a második esetben az ```elif``` ággal egy teljesen felesleges vizsgálatot hajtunk végre. Ha ehhez a vizsgálathoz jutunk, akkor biztosan kizártuk már azt az esetet, hogy az n osztva 2 maradéka 0. Tudjuk, hogy a maradék az csak 0 vagy 1 lehet. Ezért ha itt kiderült, hogy nem 0 a maradék, akkor már 100%, hogy 1 a maradék. Ezért felesleges ezt megvizsgálni, elegendő az ```else``` ág.\n",
    "\n",
    "És persze ha végképp tovább akarjuk bonyolítani, akkor csinálhatjuk ezt is (kizárólag a szemléltetés kedvéért):"
   ]
  },
  {
   "cell_type": "code",
   "execution_count": 17,
   "id": "9793580f-fe2b-4b85-bb3a-3f46f76c309a",
   "metadata": {},
   "outputs": [
    {
     "name": "stdin",
     "output_type": "stream",
     "text": [
      "Adjon meg egy egész számot! 3\n"
     ]
    },
    {
     "name": "stdout",
     "output_type": "stream",
     "text": [
      "Páratlan.\n"
     ]
    }
   ],
   "source": [
    "n = int(input(\"Adjon meg egy egész számot!\"))\n",
    "if n % 2 == 0:\n",
    "    print(\"Páros.\")\n",
    "elif n % 2 == 1:\n",
    "    print(\"Páratlan.\")\n",
    "else:\n",
    "    print(\"Egyiksem. ¯\\_(ツ)_/¯\")"
   ]
  },
  {
   "attachments": {},
   "cell_type": "markdown",
   "id": "0a15fcaa",
   "metadata": {},
   "source": [
    "Ezzel a megoldással lefedtük azt a nem létező esetet is, ami feltételezi, hogy a 0 és az 1 maradékon kívül előfordulhatna másik eset is. De persze tudjuk, hogy ez nincs így. Ebből következőleg azt is vegyük észre, hogy itt az ```else``` részbe soha nem fogunk belépni. Tehát ez a kód már nem csak felesleges számításokkal terheli a számítógépet (az ```elif``` során), de végrehajtásra soha nem kerülő utasításokkal hosszabbítja a forráskódot.\n",
    "\n",
    "Az elágazás különböző ágai bármilyen további utasítást tartalmazhatnak. Így például egy elágazásban szereplhet további elágazás. Ilyenkor is érvényben kell tartani a szabályt, hogy az egyes ágakhoz tartozó utasításokat egy behúzással kell kezdeni az adott blokkhoz képest. A szemléltetés végett nézzünk egy egyszerű feladatot. Tegyük fel, hogy be akarunk kérni egy egész számot és a végén kiírni, hogy azt elfogadjuk vagy sem. Ennek megfelelően pedig az ```OK``` vagy a ```NOK``` üzenetet jelenítjük meg a kimeneten. Mondjuk azt, hogy elfogadjuk 0-nál nagyobb és 10-nél nem nagyobb páros számokat, valamint a 10-nél nagyobb, de 20-nál kisebb páratlan számokat. Ezt megtehetjük a következő módon:"
   ]
  },
  {
   "cell_type": "code",
   "execution_count": 18,
   "id": "8eb0788f",
   "metadata": {},
   "outputs": [
    {
     "name": "stdin",
     "output_type": "stream",
     "text": [
      "Kérek egy egész számot! 13\n"
     ]
    },
    {
     "name": "stdout",
     "output_type": "stream",
     "text": [
      "OK\n"
     ]
    }
   ],
   "source": [
    "n = int(input(\"Kérek egy egész számot!\"))\n",
    "\n",
    "if n % 2 == 0:\n",
    "    if n > 0 and n <= 10:\n",
    "        print(\"OK\")\n",
    "    else:\n",
    "        print(\"NOK\")\n",
    "else:\n",
    "    if n > 10 and n < 20:\n",
    "        print(\"OK\")\n",
    "    else:\n",
    "        print(\"NOK\")"
   ]
  },
  {
   "attachments": {},
   "cell_type": "markdown",
   "id": "cf262e22",
   "metadata": {},
   "source": [
    "A 3. sorban kezdődik egy elágazás, ahol azt vizsgáljuk, hogy ```n``` értéke páros e. Ha igaz, akkor ennek az elágazásnak az igaz ágában rögtön egy újabb elágazás kezdődik a 4. sorban. Majd az 5. sorban ennek a második elágazásnak látjuk az igaz ágát. Látható, hogy ez előtt nem 4, hanem 8 szóköz található, hiszen ez a belső elágazáson belül helyezkedik el.\n",
    "\n",
    "Vannak olyan esetek, amikor az egymásba ágyazott elágazások kiiktathatók. Az előző példa is pont ilyen. Nézzük meg a következő kódot:\n"
   ]
  },
  {
   "cell_type": "code",
   "execution_count": 19,
   "id": "a1f2bd91",
   "metadata": {},
   "outputs": [
    {
     "name": "stdin",
     "output_type": "stream",
     "text": [
      "Kérek egy egész számot! 13\n"
     ]
    },
    {
     "name": "stdout",
     "output_type": "stream",
     "text": [
      "OK\n"
     ]
    }
   ],
   "source": [
    "n = int(input(\"Kérek egy egész számot!\"))\n",
    "\n",
    "if n % 2 == 0 and n > 0 and n <= 10 or n % 2 == 1 and n > 10 and n < 20:\n",
    "    print(\"OK\")\n",
    "else:\n",
    "    print(\"NOK\")"
   ]
  },
  {
   "attachments": {},
   "cell_type": "markdown",
   "id": "dfa87616",
   "metadata": {},
   "source": [
    "A fenti kód ugyanazt a feladatot végzi el, mint az előző példa, de csak egy darab kétirányú elágazással. Ez jól mutatja azt, hogy egészen összetett logikai kifejezéseket is megfogalmazhatunk, amivel akár a kód hosszát is jelentősen csökkenthetjük. Ugyanakkor érdemes szem előtt tartani, hogy ez a kód olvashatóságát nagy mértékben ronthatja. Az első esetben az egymásba ágyazott elágazások végett a kód ugyan hosszabb lett, de jobban tagolt és első ránézésre is könnyebben megérthető, hogy mit csinál.\n",
    "\n",
    "Amikor mindenképp rá vagyunk kényszerülve, hogy hosszú logikai kifejezéseket alkossunk, akkor érdemes a műveletek végrehajtási sorrendjére is ügyelni. Ezt könnyű eltéveszteni. Az ```and``` operátornak magasabb a precedenciája, így azt fogja előbb feldolgozni, majd az ```or``` művelet követekzik. Hasonlóan az aritmetikai operátorokhoz, zárójelekkel itt is van lehetőségünk módosítani a végrehajtás sorrendjén. Ha megnézzük, a fenti példa esetén erre nem volt szükségünk. Ugyanakkor az olvashatóság végett is célszerű lehet zárójelezni akár akkor is, amikor nincs rá szükség. Például:"
   ]
  },
  {
   "cell_type": "code",
   "execution_count": 20,
   "id": "e0596ee1",
   "metadata": {},
   "outputs": [
    {
     "name": "stdin",
     "output_type": "stream",
     "text": [
      "Kérek egy egész számot! 13\n"
     ]
    },
    {
     "name": "stdout",
     "output_type": "stream",
     "text": [
      "OK\n"
     ]
    }
   ],
   "source": [
    "n = int(input(\"Kérek egy egész számot!\"))\n",
    "\n",
    "if ((n % 2 == 0) and (n > 0) and (n <= 10)) or ((n % 2 == 1) and (n > 10) and (n < 20)):\n",
    "    print(\"OK\")\n",
    "else:\n",
    "    print(\"NOK\")"
   ]
  },
  {
   "attachments": {},
   "cell_type": "markdown",
   "id": "584c2c5f",
   "metadata": {},
   "source": [
    "Ez a kód tökéletesen ugyanazt teszi mint az előző, csupán \"felesleges\" zárójelezéseket helyeztünk el benne. Viszont a zárójelek a hosszú kifejezéseket tagoltabbá, az emberi szem számára átláthatóbbá teszik, ezért nyugodtan alkalmazzuk akkor is, ha a műveleti sorrend módosítás végett egyébként nincs rá szükség.\n",
    "\n",
    "#### Feladat: Dátum ellenőrzés\n",
    "\n",
    "Nézzünk egy összetetebb példát: egy bekért dátumról (év, hó, nap) határozzuk meg, hogy minden értéke megfelelő e vagy sem. Tekintsünk megfelelőnek minden 1900.01.01. és 2023.12.31. közötti dátumot. Néhány dolgot ellenőtizni kell:\n",
    "* az évszám legalább 1900, legfeljebb 2023,\n",
    "* a hónap értéke minimum 1 és maximum 12,\n",
    "* a nap értéke minimum 1, maximuma pedig a hónap függvényében 28, 29, 30 vagy 31. Itt gondoljunk a [szökőév](https://hu.wikipedia.org/wiki/Sz%C3%B6k%C5%91%C3%A9v)ekre is!\n"
   ]
  },
  {
   "cell_type": "code",
   "execution_count": 21,
   "id": "decf66f3",
   "metadata": {},
   "outputs": [
    {
     "name": "stdin",
     "output_type": "stream",
     "text": [
      "Év: 1970\n",
      "Hó: 1\n",
      "Nap: 1\n"
     ]
    },
    {
     "name": "stdout",
     "output_type": "stream",
     "text": [
      "OK\n"
     ]
    }
   ],
   "source": [
    "# Bekérjük az év (y), a hónap (m) és a nap (d) értékeket. Ezeket egyből int típusra konvertáljuk.\n",
    "y = int(input(\"Év:\"))\n",
    "m = int(input(\"Hó:\"))\n",
    "d = int(input(\"Nap:\"))\n",
    "\n",
    "# Először eldöntjük, hogy az évszám megfelelő e. Ha igen, akkor vizsgáljuk a többi tényezőt.\n",
    "if y >= 1900 and y <=2023:\n",
    "    # Ha január, március, május, július, augusztus, október vagy december hónap van és a nap az [1, 31] tartományba esik, akkor jó a dátum.\n",
    "    if (m == 1 or m == 3 or m == 5 or m == 7 or m == 8 or m == 10 or m == 12) and (d >= 1 and d <= 31):\n",
    "        print(\"OK\")\n",
    "    # Ha április, június, szeptember vagy november hónap van és a nap az [1, 30] tartományba esik, akkor jó a dátum.\n",
    "    elif (m == 4 or m == 6 or m == 9 or m == 11) and (d >= 1 and d <= 30):\n",
    "        print(\"OK\")\n",
    "    # Ha február hónap van és a nap az [1, 28] tartományba esik, akkor jó a dátum.\n",
    "    elif (m == 2) and (d >= 1 and d <= 28):\n",
    "        print(\"OK\")\n",
    "    # Ha február 29. van, akkor szökőévnek kell lennie. Az pedig két esetben lehet:\n",
    "    #  - az évszám 400-zal osztva 0 maradékot ad, vagy \n",
    "    #  - 4-gyel osztva 0 maradékot ad, de 100-zal osztva nem 0 maradékot ad.\n",
    "    elif (m == 2 and d == 29) and (y % 400 == 0 or (y % 4 == 0 and y % 100 != 0)):\n",
    "        print(\"OK\")"
   ]
  }
 ],
 "metadata": {
  "kernelspec": {
   "display_name": "Python 3 (ipykernel)",
   "language": "python",
   "name": "python3"
  },
  "language_info": {
   "codemirror_mode": {
    "name": "ipython",
    "version": 3
   },
   "file_extension": ".py",
   "mimetype": "text/x-python",
   "name": "python",
   "nbconvert_exporter": "python",
   "pygments_lexer": "ipython3",
   "version": "3.8.10"
  }
 },
 "nbformat": 4,
 "nbformat_minor": 5
}
