{
 "cells": [
  {
   "cell_type": "markdown",
   "id": "efc06c7c-2261-423a-be2d-927250868569",
   "metadata": {},
   "source": [
    "# 4. előadás"
   ]
  },
  {
   "cell_type": "markdown",
   "id": "fbc616d3-4f13-4d13-a084-045d39f1ef61",
   "metadata": {},
   "source": [
    "* tuple, list, set, különbségek\n",
    "* indexelés különféle módjai\n",
    "* in operátor (ciklus esetén és logikai vizsgálat esetén)\n",
    "* list: append, insert, pop, reverse, sort\n",
    "* string: split függvény listát készít\n",
    "* több dimenziós listák\n",
    "* for ciklus\n",
    "* range függvény\n"
   ]
  },
  {
   "cell_type": "markdown",
   "id": "91aaa3e9-9765-402e-b604-e137765bce57",
   "metadata": {},
   "source": [
    "## Alapvető adatszerkezetek"
   ]
  },
  {
   "cell_type": "markdown",
   "id": "05b9cdcd-328c-444e-a7ff-61a89630062b",
   "metadata": {},
   "source": [
    "Sokszor előfordul olyan szituáció, hogy egyszerre több adattal (szöveggel, számmal stb.) kell dolgoznunk. Például több adaton szeretnénk végrehajtani ugyanolyan műveleteket, ugyanazt a számítást. Arra is sokszor van példa, hogy több adatnak csak együttesen van értelme, külön-külön nem tudunk velük mit kezdeni.\n",
    "\n",
    "Ilyen helyzetekben szükség van arra, hogy ezeket az adatokat együttesen tudjuk kezelni, tárolni és felhasználni. Erre szolgálnak különféle adatszerkezetek. Ezekből 3 alapvetőt biztosít számunkra a Python, melyek elsőre nagyon hasonlónak tűnnek, de mindegyiknek megvan a maga szerepe. Ezek a következők:\n",
    "* lista (```list```),\n",
    "* rendezett n-es (```tuple```),\n",
    "* halmaz (```set```)."
   ]
  },
  {
   "cell_type": "code",
   "execution_count": null,
   "id": "216cff89-bbb7-419f-8a0b-7755c3d5aa23",
   "metadata": {},
   "outputs": [],
   "source": []
  }
 ],
 "metadata": {
  "kernelspec": {
   "display_name": "Python 3 (ipykernel)",
   "language": "python",
   "name": "python3"
  },
  "language_info": {
   "codemirror_mode": {
    "name": "ipython",
    "version": 3
   },
   "file_extension": ".py",
   "mimetype": "text/x-python",
   "name": "python",
   "nbconvert_exporter": "python",
   "pygments_lexer": "ipython3",
   "version": "3.8.10"
  }
 },
 "nbformat": 4,
 "nbformat_minor": 5
}
