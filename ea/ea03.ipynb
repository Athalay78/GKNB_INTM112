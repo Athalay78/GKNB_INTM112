{
 "cells": [
  {
   "attachments": {},
   "cell_type": "markdown",
   "id": "49477a8b-9eab-4fb9-a500-aa54c189de1c",
   "metadata": {},
   "source": [
    "# 3. előadás"
   ]
  },
  {
   "attachments": {},
   "cell_type": "markdown",
   "id": "08be204d-62ed-4296-9dd1-581045ec6d19",
   "metadata": {},
   "source": [
    "## Ciklusok\n",
    "\n",
    "Gyakran előfordul olyan helyzet, hogy a forráskód egy adott részét egymás után többször, akár nagyon sokszor végre szeretnénk hajtani. Nyilván nem tűnik a legjobb módszernek, ha ezt a kódrészletet egymás után sokszor bemásoljuk a forráskódba. Egyrészt ettől a kód nagyon hosszú és átláthatatlan lesz. Másrészt ehhez még mindig tudni kéne előre azt, hogy hányszor akarjuk egymás után futtatni azt a kódot. Tehát ez teljesen rossz megközelítés lenne. Helyette úgynevezett ciklusokat tudunk használni.\n",
    "\n",
    "### While ciklus\n",
    "\n",
    "Python nyelven a ciklusok egyik típusa a ```while``` ciklus, melynek a következő a felépítése:\n",
    "\n",
    "```python\n",
    "while FELTÉTEL:\n",
    "    UTASÍTÁSOK\n",
    "```\n",
    "\n",
    "Ránézésre nagyon hasonlóan néz ki, mint az egyirányú elágazás, gyakorlatilag csupán az ```if``` kulcsszó helyett ```while``` kulcsszó szerepel. Működése mégis más.\n",
    "\n",
    "A ```while``` ciklus először megvizsgálja a ```FELTÉTEL``` igazság tartalmát. Amennyiben értéke ```True```, akkor az ```UTASÍTÁSOK```, amit most ciklusmagnak nevezünk (megjegyzés: az elágazánál ez a rész volt az elágazás igaz ága), végrehajtásra kerül. Eddig a mozzanatig tökéletesen ugyanaz történt, mint egy elágazás esetén. A különbség ez után következik. Miután az ```UTASÍTÁSOK``` végrehajtása megtörtént, ismét megvizsgálja a ```FELTÉTEL``` értékét. Amennyiben ez megint igaz, akkor újra végrehajtja a ciklusmagban található kódsorokat. A ciklus ezt a két lépést ismételgeti egészen addig, amíg a ```ḞELTÉTEL``` hamis nem lesz.\n",
    "\n",
    "De hogyan lehet egy feltétel sokáig igaz, aztán egyszer csak hamis?\n",
    "\n",
    "Ciklusok esetén általában olyan feltételeket határozunk meg, amikről tudjuk, hogy időben változni fognak és előbb-utóbb hamis eredménnyel fognak szolgálni. Leegyszerűsítve ez az esetek jelentős részében azt jelenti, hogy a feltételben szerepel legalább egy változó érték, ami a ciklus magjában módosul vagy módosulhat. Ennek a módosulásnak köszönhetően pedig előbb-utóbb hamis kiértékelést fog kapni a ciklus, és így már nem fut tovább. De ez csak az esetek többsége. Ezen kívül még számtalan más felhasználási eset is előfordulhat, amikkel egyelőre még nem foglalkozunk.\n",
    "\n",
    "Első példánk legyen az a ciklus, amit általában próbálunk elkerülni, de akaratlanul is néha belefut az ember:"
   ]
  },
  {
   "cell_type": "code",
   "execution_count": 1,
   "id": "eff96e9d",
   "metadata": {},
   "outputs": [
    {
     "name": "stdout",
     "output_type": "stream",
     "text": [
      "Végtelen ciklus.\n",
      "Végtelen ciklus.\n",
      "Végtelen ciklus.\n",
      "Végtelen ciklus.\n",
      "Végtelen ciklus.\n",
      "Végtelen ciklus.\n",
      "Végtelen ciklus.\n",
      "Végtelen ciklus.\n",
      "Végtelen ciklus.\n"
     ]
    },
    {
     "ename": "KeyboardInterrupt",
     "evalue": "",
     "output_type": "error",
     "traceback": [
      "\u001b[0;31m---------------------------------------------------------------------------\u001b[0m",
      "\u001b[0;31mKeyboardInterrupt\u001b[0m                         Traceback (most recent call last)",
      "Input \u001b[0;32mIn [1]\u001b[0m, in \u001b[0;36m<cell line: 2>\u001b[0;34m()\u001b[0m\n\u001b[1;32m      1\u001b[0m \u001b[38;5;28;01mwhile\u001b[39;00m \u001b[38;5;28;01mTrue\u001b[39;00m:\n\u001b[0;32m----> 2\u001b[0m     \u001b[38;5;28;43mprint\u001b[39;49m\u001b[43m(\u001b[49m\u001b[38;5;124;43m\"\u001b[39;49m\u001b[38;5;124;43mVégtelen ciklus.\u001b[39;49m\u001b[38;5;124;43m\"\u001b[39;49m\u001b[43m)\u001b[49m\n",
      "File \u001b[0;32m~/.local/lib/python3.8/site-packages/ipykernel/iostream.py:635\u001b[0m, in \u001b[0;36mOutStream.write\u001b[0;34m(self, string)\u001b[0m\n\u001b[1;32m    633\u001b[0m     \u001b[38;5;28;01mraise\u001b[39;00m \u001b[38;5;167;01mValueError\u001b[39;00m(msg)\n\u001b[1;32m    634\u001b[0m \u001b[38;5;28;01melse\u001b[39;00m:\n\u001b[0;32m--> 635\u001b[0m     is_child \u001b[38;5;241m=\u001b[39m \u001b[38;5;129;01mnot\u001b[39;00m \u001b[38;5;28;43mself\u001b[39;49m\u001b[38;5;241;43m.\u001b[39;49m\u001b[43m_is_master_process\u001b[49m\u001b[43m(\u001b[49m\u001b[43m)\u001b[49m\n\u001b[1;32m    636\u001b[0m     \u001b[38;5;66;03m# only touch the buffer in the IO thread to avoid races\u001b[39;00m\n\u001b[1;32m    637\u001b[0m     \u001b[38;5;28;01mwith\u001b[39;00m \u001b[38;5;28mself\u001b[39m\u001b[38;5;241m.\u001b[39m_buffer_lock:\n",
      "File \u001b[0;32m~/.local/lib/python3.8/site-packages/ipykernel/iostream.py:506\u001b[0m, in \u001b[0;36mOutStream._is_master_process\u001b[0;34m(self)\u001b[0m\n\u001b[1;32m    505\u001b[0m \u001b[38;5;28;01mdef\u001b[39;00m \u001b[38;5;21m_is_master_process\u001b[39m(\u001b[38;5;28mself\u001b[39m):\n\u001b[0;32m--> 506\u001b[0m     \u001b[38;5;28;01mreturn\u001b[39;00m \u001b[43mos\u001b[49m\u001b[38;5;241;43m.\u001b[39;49m\u001b[43mgetpid\u001b[49m\u001b[43m(\u001b[49m\u001b[43m)\u001b[49m \u001b[38;5;241m==\u001b[39m \u001b[38;5;28mself\u001b[39m\u001b[38;5;241m.\u001b[39m_master_pid\n",
      "\u001b[0;31mKeyboardInterrupt\u001b[0m: "
     ]
    }
   ],
   "source": [
    "while True:\n",
    "    print(\"Végtelen ciklus.\")"
   ]
  },
  {
   "attachments": {},
   "cell_type": "markdown",
   "id": "de3875d5",
   "metadata": {},
   "source": [
    "Ezt nevezezzük végtelen ciklusnak. A végtelen ciklusnak elméletileg sosincs vége, azaz a logikai feltétel sosem fog hamis eredményt adni. A példánk esetén ez könnyen belátható, hiszen annyi a logikai feltételünk, hogy ```True```, ami nyilván mindig igaz marad. Az ilyen ciklusokat általában próbáljuk kerülni. Ennek ellenére vannak olyan helyzetek, amikor kifejezetten erre van szükség.\n",
    "\n",
    "Egy nagyon gyakori felhasználási esete a ```while``` ciklusnak:"
   ]
  },
  {
   "cell_type": "code",
   "execution_count": 2,
   "id": "3c99fa88",
   "metadata": {},
   "outputs": [
    {
     "name": "stdout",
     "output_type": "stream",
     "text": [
      "0\n",
      "1\n",
      "2\n",
      "3\n",
      "4\n",
      "5\n",
      "6\n",
      "7\n",
      "8\n",
      "9\n"
     ]
    }
   ],
   "source": [
    "i = 0 # az i változó a 0 kezdőértéket kapja.\n",
    "\n",
    "# A ciklus addig megy, amíg az i változó értéke kisebb, mint 10.\n",
    "while i < 10:\n",
    "    print(i) # Először kiírjuk az i változó értékét.\n",
    "    i = i + 1 # Majd az i változó értékét 1-gyel megnöveljük. Belátható, hogy így előbb-utóbb a logikai vizsgálatunk hamis lesz, hiszen az i el fogja érni a 10-nek az értékét."
   ]
  },
  {
   "attachments": {},
   "cell_type": "markdown",
   "id": "b6e8a0de",
   "metadata": {},
   "source": [
    "Ennél a példánál az egész számokat írtuk ki 0-tól 9-ig. Létrehoztuk az ```i``` változót, aminek a 0 kezdőértéket adtuk. Azt mondjuk, hogy a ciklussal addig megyünk, amíg az ```i``` értéke kisebb 10-nél. A ciklusmagunk két egyszerű sorból áll. Először kiírjuk az ```i``` változó értékét. Majd az ```i``` változó értékét megnöveljük 1-gyel. Amikor eljutunk az utolsó kiírásig, ami az ```i=9``` értéknek a megjelenítése, utána az ```i = i + 1``` sor megnöveli az ```i``` értékét 9-ről 10-re. Itt még visszamegyünk a ciklus elejére és megnézzük, hogy az ```i < 10``` állításnak mi az értéke. Az ```i``` értéke most 10, a 10 pedig nem kisebb 10-nél, ezért ez a vizsgálat hamis lesz. Ennek következtében nem lép be újra a ciklusmagba, hanem a ciklus után folytatódik a programunk végrehajtása.\n",
    "\n",
    "Amit az előző példában láttunk, az egy elég gyakori felhasználási módja a ciklusnak. Azaz van egy változónk, amiben (általában) egész számot tárolunk. Ennek a változónak adunk egy kezdőértéket. Ettől a kezdőértéktől kiindulva szeretnénk vele lépdesni. A ciklus feltételében megfogalmazzuk, hogy meddig, milyen határértékig akarunk ezzel a változóval lépkedni. A ciklusmagban elvégzünk valamilyen feladatot. Végül a változónkat valamekkora értékkel módosítjuk (általában növeljük, de persze csökkenteni is lehet). Ha ilyen módon használjuk fel a ciklust, akkor ezt a változót ciklusváltozónak nevezzük. Tehát a ciklus változóval valamilyen kezdőértéktől, valamilyen végértékig, valamilyen lépésközzel haladunk. Ez a séma számtalan feladatra, problémára ráhúzható és jól alkalmazható.\n",
    "\n",
    "#### Feladat: Képezzük n darab szám összegét\n",
    "\n",
    "Készítsünk egy programot, ami bekéri, hogy hány darab számot szeretnénk összegezni, majd bekér annyi darab számot és az összegüket kiírja a képernyőre."
   ]
  },
  {
   "cell_type": "code",
   "execution_count": 3,
   "id": "49484462",
   "metadata": {},
   "outputs": [
    {
     "name": "stdout",
     "output_type": "stream",
     "text": [
      "Hány számot szeretne összegezni? 3\n",
      "Kérem a(z) 1. számot! 5\n",
      "Kérem a(z) 2. számot! 1.23\n",
      "Kérem a(z) 3. számot! 9.064202\n"
     ]
    },
    {
     "name": "stdout",
     "output_type": "stream",
     "text": [
      "A(z) 3 darab bekért szám összege: 15.294202\n"
     ]
    }
   ],
   "source": [
    "# Az n változóba kérjük be, hogy hány darab számot szeretnénk szummázni. Mivel ez darabszám, ezért itt egész számot várunk.\n",
    "n = int(input(\"Hány számot szeretne összegezni?\"))\n",
    "\n",
    "i = 0 # ciklusváltozó.\n",
    "sum = 0 # Az összegzés tárolására szolgáló változó.\n",
    "\n",
    "# A klasszikus esetről van szó: a ciklus változóval valamettől, valameddig, valamilyen lépésközzel elszámolunk.\n",
    "# Jelen esetben 0-tól n-ig egyesével.\n",
    "# Ezt a sémát most arra húztuk rá, hogy n darab számot be tudjunk kérni.\n",
    "while i < n:\n",
    "    # Bekérjük a következő értéket. A tájékoztató szöveget okosítottuk, mindig megmondja, hogy hányadik számot várja.\n",
    "    # Itt most float típusra alakítunk, az összegzendő számok bármilyenek lehetnek.\n",
    "    next_num = float(input(\"Kérem a(z) \" + str(i + 1) + \". számot!\"))\n",
    "    # A sum változóban tároljuk az összegzés részeredményét, ami az utolsó ciklus után a végeredmény is lesz egyben.\n",
    "    # A sum változó aktuális értékét megnöveljük az imént bekért számmal.\n",
    "    sum = sum + next_num\n",
    "    # Eggyel növeljük a ciklusváltozó értékét.\n",
    "    i = i + 1\n",
    "\n",
    "print(\"A(z) \" + str(n) + \" darab bekért szám összege: \" + str(sum))\n"
   ]
  },
  {
   "attachments": {},
   "cell_type": "markdown",
   "id": "7be44e86",
   "metadata": {},
   "source": [
    "A fenti példában az ```n``` változóba kértük be a felhasználótól, hogy hány darab számot szeretne szummázni. Utána az ```i``` ciklusváltozó értékét beállítottuk 0-ra. A ```sum``` változóba fogjuk összegezni a bekért ```n``` darab számot. Ennek kezdőértéke szintén 0, hiszen kezdetban a 0 darab szám szummája 0. Majd indula ```while``` ciklus, amely mindig ```n``` darabszor fog lefutni. Ezt az ```n``` és az ```i``` változók segítségével garantáljuk. A ciklusmagban bekérjük a következő számot, amit rögtön ```int``` típusra alakítunk és ideiglenesen elmentünk a ```next_sum``` változóba. Majd a ```sum``` változó értékét megnöveljük az újonnan bekért értékkel. Végül a ciklusváltozó értékkel eggyel megnöveljük annak érdekében, hogy ne generáljunk végtelen ciklust, és a ciklus valóban ```n``` darab futás után megálljon. A végén kiírjuk a szummázás eredményét.\n",
    "\n",
    "### Ciklusváltozó inkrementálás, dekrementálás\n",
    "\n",
    "Gyakori, hogy egy ciklusváltozót használunk, aminek az értékét (általában) egyesével növeljük/csökkentjük. Ennek egyszerüsítésére az aritmetikai operátorok használatának létezik egy egyszerűsített alakja."
   ]
  },
  {
   "cell_type": "code",
   "execution_count": 4,
   "id": "c79b638d",
   "metadata": {},
   "outputs": [
    {
     "name": "stdout",
     "output_type": "stream",
     "text": [
      "0\n",
      "1\n",
      "2\n",
      "2\n"
     ]
    }
   ],
   "source": [
    "# Az i kezdőértéket kap.\n",
    "i = 0\n",
    "print(i)\n",
    "\n",
    "# Az i értékét eggyel növeljük az eddig ismert módon.\n",
    "i = i + 1\n",
    "print(i)\n",
    "\n",
    "# Az i értékét eggyel növeljük az egyszerűsített jelöléssel.\n",
    "i += 1\n",
    "print(i)\n",
    "\n",
    "i %= 10\n",
    "print(i)"
   ]
  },
  {
   "attachments": {},
   "cell_type": "markdown",
   "id": "f8fbfa3c",
   "metadata": {},
   "source": [
    "A fenti kódban az ```i``` változónak a 0 kezdőértékét adtuk, majd két különbőző módon megnöveltük értékét 1-gyel. Az első esetet már ismerjük, eddig is ezt használtuk. Az újdonság a második eset, de megjelenése elég beszédes. A ```+=``` operátor az előtte található változó értékét fogja az utána található értékkel megnövelni. Ezzel a technikával rövidebben tudjuk a ciklusváltozók értékét növelni (inkrementálni), vagy csökkenteni (dekrementálni). De persze számos más esetben is hasznos lehet. A korábbi feladatra visszatekintve a ```sum = sum + next_num``` utasítás helyett most már írhatjuk azt is, hogy ```sum += next_num```, ami rövidebb és átláthatóbb.\n",
    "\n",
    "Ezt az összes aritmetikai művelet esetén tudjuk alkalmazni:\n",
    "\n",
    "|Rövid jelölés|Hosszú jelölés  |\n",
    "|:-----------:|:--------------:|\n",
    "|```x += y``` |```x = x + y``` |\n",
    "|```x -= y``` |```x = x - y``` | \n",
    "|```x *= y``` |```x = x * y``` |\n",
    "|```x /= y``` |```x = x / y``` |\n",
    "|```x %= y``` |```x = x % y``` |\n",
    "|```x **= y```|```x = x ** y```|\n",
    "|```x //= y```|```x = x // y```|\n",
    "\n",
    "Ezt felhasználva az alábbi módon tudjuk a [0, 10] intervallumba eső egész számokat megjeleníteni:"
   ]
  },
  {
   "cell_type": "code",
   "execution_count": 5,
   "id": "ec05196e-fadb-41ed-aa25-a6bb1db67b88",
   "metadata": {},
   "outputs": [
    {
     "name": "stdout",
     "output_type": "stream",
     "text": [
      "0 1 2 3 4 5 6 7 8 9 10 "
     ]
    }
   ],
   "source": [
    "i = 0\n",
    "\n",
    "while i <= 10:\n",
    "    print(i, end=\" \")\n",
    "    i += 1"
   ]
  },
  {
   "attachments": {},
   "cell_type": "markdown",
   "id": "fb5cdfa0",
   "metadata": {},
   "source": [
    "Itt pedig fordított sorrendben, tehát 10-től visszafelé. Ügyeljünk rá, hogy a logikai vizsgálat megváltozott és ne felejtsük el, hogy a ciklusváltozót most nem inkrementáljuk, hanem dekrementáljuk, azaz csökkentjük az értékét!"
   ]
  },
  {
   "cell_type": "code",
   "execution_count": 6,
   "id": "4b7009c9",
   "metadata": {},
   "outputs": [
    {
     "name": "stdout",
     "output_type": "stream",
     "text": [
      "10 9 8 7 6 5 4 3 2 1 0 "
     ]
    }
   ],
   "source": [
    "i = 10\n",
    "\n",
    "while i >= 0:\n",
    "    print(i, end=\" \")\n",
    "    i -= 1"
   ]
  },
  {
   "attachments": {},
   "cell_type": "markdown",
   "id": "aaa07778",
   "metadata": {},
   "source": [
    "#### Feladat: Fizz buzz játék\n",
    "\n",
    "Valósítsunk meg [fizz buzz](https://en.wikipedia.org/wiki/Fizz_buzz) játékot! A játék lényege, hogy 1-től kezdve soroljuk az egész számokat, de\n",
    "* ha a következő szám osztható 3-mal, akkor a szám helyett \"fizz\"-t mondunk,\n",
    "* ha 5-tel osztható, akkor \"buzz\"-t mondunk,\n",
    "* viszont ha mindkettővel osztható, akkor \"fizzbuzz\"-t mondunk.\n",
    "\n",
    "Egy ilyen programot valósítson meg a gép, ahol szabályozható, hogy mettől meddig szeretnénk számolni."
   ]
  },
  {
   "cell_type": "code",
   "execution_count": 7,
   "id": "17640e8e",
   "metadata": {},
   "outputs": [
    {
     "name": "stdout",
     "output_type": "stream",
     "text": [
      "1\n",
      "2\n",
      "fizz\n",
      "4\n",
      "buzz\n",
      "fizz\n",
      "7\n",
      "8\n",
      "fizz\n",
      "buzz\n"
     ]
    }
   ],
   "source": [
    "# Fizz buzz játék\n",
    "\n",
    "FROM = 1 # Kezdőérték\n",
    "TO = 10 # Végérték\n",
    "\n",
    "i = FROM # Ciklusváltozó\n",
    "\n",
    "# Ciklus FROM-tól TO-ig számol egyesével.\n",
    "while i <= TO:\n",
    "    # Amikor mindkét számmal osztható.\n",
    "    if (i % 3 == 0) and (i % 5 == 0):\n",
    "        print(\"fizzbuzz\")\n",
    "    # Amikor csak a hárommal osztható.\n",
    "    elif i % 3 == 0:\n",
    "        print(\"fizz\")\n",
    "    # Amikor csak az öttel osztható.\n",
    "    elif i % 5 == 0:\n",
    "        print(\"buzz\")\n",
    "    # Itt már egyikkel sem osztható.\n",
    "    else:\n",
    "        print(i)\n",
    "    i += 1 # Ciklusváltozó inkrementálása."
   ]
  },
  {
   "attachments": {},
   "cell_type": "markdown",
   "id": "c54acc37",
   "metadata": {},
   "source": [
    "Látható, hogy most is konstansokat használtunk. A ```FROM``` és ```TO``` változók tárolják, hogy mi legyen az az intervallum, amin a számítást végre kell hajtani. Azért is célszerű, hogy ezek a program elején szerepelnek, mert így könnyen módosíthatóak, paraméterezhető a program. Ezt a feladatot már sok féle módon meg lehetne oldani. Itt most nem feltétlen a legrövidebb, inkább a leginkább átlátható megoldást néztük meg.\n",
    "\n",
    "### Beágyazott ciklus\n",
    "\n",
    "Ahogy azt már az elágazás esetén is láttuk, természetesen ciklusok esetén is lehetőség van arra, hogy egymásba ágyazzuk őket. A következő példa egy egyszerű szorzótáblát mutat be, két ```while``` ciklus segítségével:"
   ]
  },
  {
   "cell_type": "code",
   "execution_count": 1,
   "id": "eaf6f697-9eb3-4584-9387-0cae41c4d192",
   "metadata": {},
   "outputs": [
    {
     "name": "stdout",
     "output_type": "stream",
     "text": [
      "1\t2\t3\t4\t5\t6\t7\t8\t9\t10\t\n",
      "2\t4\t6\t8\t10\t12\t14\t16\t18\t20\t\n",
      "3\t6\t9\t12\t15\t18\t21\t24\t27\t30\t\n",
      "4\t8\t12\t16\t20\t24\t28\t32\t36\t40\t\n",
      "5\t10\t15\t20\t25\t30\t35\t40\t45\t50\t\n",
      "6\t12\t18\t24\t30\t36\t42\t48\t54\t60\t\n",
      "7\t14\t21\t28\t35\t42\t49\t56\t63\t70\t\n",
      "8\t16\t24\t32\t40\t48\t56\t64\t72\t80\t\n",
      "9\t18\t27\t36\t45\t54\t63\t72\t81\t90\t\n",
      "10\t20\t30\t40\t50\t60\t70\t80\t90\t100\t\n"
     ]
    }
   ],
   "source": [
    "i = 1 # Külső ciklus ciklusváltozója\n",
    "while i <= 10:\n",
    "    j = 1 # Belső ciklus ciklusváltozója\n",
    "    while j <= 10:\n",
    "        print(i*j, end=\"\\t\") # Az alapértelmezett sortörés végjel helyett tab karaktert használunk.\n",
    "        j += 1 # Belső ciklus ciklusváltozóját frissítjük.\n",
    "    print() # Ez csak a sorvégi sortörés végett kell. Nélküle az egész egy sorba kerülne.\n",
    "    i += 1 # Külső ciklus ciklusváltozóját frissítjük."
   ]
  },
  {
   "attachments": {},
   "cell_type": "markdown",
   "id": "ffa1cd5a-1240-42b5-9422-8e80b54eba5c",
   "metadata": {},
   "source": [
    "Vegyük észre, hogy a két ciklus esetén ugyanazt a sémát alkalmaztuk. Először a ciklusváltozó inicializálása, azaz kezdőértékkel ellátása történik. Utána indul a ```while``` ciklus fejléce. A ciklusmagban végrehajtuk a kívánt utasítást. Majd a ciklusváltozó értékét frissítjük. Célszerű ezt a sémát betartani. Különösen hosszú kódok esetén könnyű ezt eltéveszteni, ami ránézésre nehezen észrevehető, de nagy galibát okozhat.\n",
    "\n",
    "A szorzótáblás feladat mintájára nézzünk meg néhány tipikus hibát!\n",
    "\n",
    "Egy gyakori hiba, hogy mindkét ciklus ciklusváltozóját az első ciklus előtt inicializáljuk. Valahogy így:"
   ]
  },
  {
   "cell_type": "code",
   "execution_count": 2,
   "id": "69a7c0a3-57ae-456b-af6f-25a6ff07066d",
   "metadata": {},
   "outputs": [
    {
     "name": "stdout",
     "output_type": "stream",
     "text": [
      "1\t2\t3\t4\t5\t6\t7\t8\t9\t10\t\n",
      "\n",
      "\n",
      "\n",
      "\n",
      "\n",
      "\n",
      "\n",
      "\n",
      "\n"
     ]
    }
   ],
   "source": [
    "i = 1 # Külső ciklus ciklusváltozója\n",
    "j = 1 # Belső ciklus ciklusváltozója (Ez így nem lesz jó!)\n",
    "while i <= 10:\n",
    "    while j <= 10:\n",
    "        print(i*j, end=\"\\t\") # Az alapértelmezett sortörés végjel helyett tab karaktert használunk.\n",
    "        j += 1 # Belső ciklus ciklusváltozóját frissítjük.\n",
    "    print() # Ez csak a sorvégi sortörés végett kell. Nélküle az egész egy sorba kerülne.\n",
    "    i += 1 # Külső ciklus ciklusváltozóját frissítjük."
   ]
  },
  {
   "attachments": {},
   "cell_type": "markdown",
   "id": "ad63c6b1",
   "metadata": {},
   "source": [
    "Először úgy néz ki minden rendben. A belső ciklus egyszer tökéletesen le fog futni. Ezért is látjuk, hogy a szorzótábla első sora szépen megjelent. A gondok ez után következnek. Amikor újra indul a külső ciklus, akkor nem állítjuk vissza a ```j``` változót 1-re. Ha meggondoljuk, akkor itt most a ```j``` változónak 11 az értéke. Tehát amikor a külső ciklus másodszor fut, akkor a belső ciklus azt fogja ellenőrizni, hogy a ```11 <= 10``` állítás igaz e. Nyilván nem, ezért a belső ciklusba ebben a körben egyszer sem lépünk bele. És ugyanez történik a külső ciklus összes többi iterációja során.\n",
    "\n",
    "Egy másik gyakori hiba, hogy rossz helyen végezzük a ciklusváltozó frissítését. A program ugyanúgy lefut, hirtelen ránézésre jónak is gondolhatnánk. De persze látjuk, hogy nem az történik aminek kellene."
   ]
  },
  {
   "cell_type": "code",
   "execution_count": 3,
   "id": "6061bb0f",
   "metadata": {},
   "outputs": [
    {
     "name": "stdout",
     "output_type": "stream",
     "text": [
      "2\t3\t4\t5\t6\t7\t8\t9\t10\t11\t\n",
      "4\t6\t8\t10\t12\t14\t16\t18\t20\t22\t\n",
      "6\t9\t12\t15\t18\t21\t24\t27\t30\t33\t\n",
      "8\t12\t16\t20\t24\t28\t32\t36\t40\t44\t\n",
      "10\t15\t20\t25\t30\t35\t40\t45\t50\t55\t\n",
      "12\t18\t24\t30\t36\t42\t48\t54\t60\t66\t\n",
      "14\t21\t28\t35\t42\t49\t56\t63\t70\t77\t\n",
      "16\t24\t32\t40\t48\t56\t64\t72\t80\t88\t\n",
      "18\t27\t36\t45\t54\t63\t72\t81\t90\t99\t\n",
      "20\t30\t40\t50\t60\t70\t80\t90\t100\t110\t\n"
     ]
    }
   ],
   "source": [
    "i = 1 # Külső ciklus ciklusváltozója\n",
    "while i <= 10:\n",
    "    j = 1 # Belső ciklus ciklusváltozója\n",
    "    while j <= 10:\n",
    "        j += 1 # Belső ciklus ciklusváltozóját frissítjük. (Ez így nem lesz jó!)\n",
    "        print(i*j, end=\"\\t\") # Az alapértelmezett sortörés végjel helyett tab karaktert használunk.\n",
    "    print() # Ez csak a sorvégi sortörés végett kell. Nélküle az egész egy sorba kerülne.\n",
    "    i += 1 # Külső ciklus ciklusváltozóját frissítjük."
   ]
  },
  {
   "attachments": {},
   "cell_type": "markdown",
   "id": "40a76fd7",
   "metadata": {},
   "source": [
    "Látszik a kimenet alapján is, hogy mi a gond. A belső ciklusban először frissítettük a ciklusváltozót, majd ez után jött a szorzat számítása és kiírása. Vegyük észre, hogy így a ```print``` függvényben az ```i*j``` szorzatban a ```j``` változó értéke mindig eggyel több lesz, mint kellene. "
   ]
  },
  {
   "attachments": {},
   "cell_type": "markdown",
   "id": "59ea30aa",
   "metadata": {},
   "source": [
    "#### Feladat: Bemenet ellenőrzés ciklus segítségével\n",
    "\n",
    "Azt már tárgyaltuk, hogy a számoljunk el valahonnan valameddig valamilyen lépéssel séma sokszor ráhúzható a ciklusokra. De persze nem csak ilyen jellegű feladatoknál hasznos. Nézzünk most egy másik esetet. A felhasználótól bemenetet szeretnénk kérni. Egy kérdéssel eddig nem foglalkoztunk. Mi van, ha a felhasználó rossz bemenetet ad meg? Tudjuk minek kell történnie. Szólni kell a felhasználónak, hogy rossz a bemenet és adja meg újra! Fedezzük fel a ciklikusságot ebben a feladatban. A felhasználótól addig kérünk be egy adatot, amíg az jó nem lesz.\n",
    "\n",
    "Legyen a feladat a következő: Kérjük be a felhasználó születési évét. Tegyük fel, hogy 1900-nál régebben nem születhetett és legfeljebb 2023-ban született. Ha ezen tartományon kívül eső értéket ad meg, azt ne fogadjuk el, hanem kérjük be újra."
   ]
  },
  {
   "cell_type": "code",
   "execution_count": 4,
   "id": "2145621a",
   "metadata": {},
   "outputs": [
    {
     "name": "stdin",
     "output_type": "stream",
     "text": [
      "Adja meg a születési évét! 1899\n"
     ]
    },
    {
     "name": "stdout",
     "output_type": "stream",
     "text": [
      "A megadott érték nem elfogadható! 1900 és 2023 közötti évszámot adjon meg!\n"
     ]
    },
    {
     "name": "stdin",
     "output_type": "stream",
     "text": [
      "Adja meg a születési évét! 1999\n"
     ]
    },
    {
     "name": "stdout",
     "output_type": "stream",
     "text": [
      "Születési év: 1999\n"
     ]
    }
   ],
   "source": [
    "is_ok = False # Logikai változóban tároljuk el, hogy a születési év helyes (True) vagy sem (False). Kezdetben, mivel még nem lett megadav semmi, ezért az helyes sem lehet, tehát False.\n",
    "\n",
    "# Addig megy a ciklus, amíg NEM helyes. Tehát amíg az is_ok értéke False.\n",
    "while not is_ok:\n",
    "    # Bekérjük az évszámot és egésszé alakítjuk.\n",
    "    birth_year = int(input(\"Adja meg a születési évét!\"))\n",
    "    # Megnézzük, hogy a meghatározott intervallumba esik e. Ha igen, akkor az is_ok változó most már igaz értéket fog felvenni.\n",
    "    if birth_year >= 1900 and birth_year <= 2023:\n",
    "        is_ok = True\n",
    "    # Ha nem esik az intervallumba, akkor tájékoztató hibaüzenettel látjuk el a felhasználót. Még az ismételt bekérés előtt.\n",
    "    else:\n",
    "        print(\"A megadott érték nem elfogadható! 1900 és 2023 közötti évszámot adjon meg!\")\n",
    "\n",
    "# Ha jó évszámot adott meg, akkor kilép a ciklus és megjeleníti a bevitt adatot.\n",
    "print(\"Születési év: \" + str(birth_year))"
   ]
  },
  {
   "attachments": {},
   "cell_type": "markdown",
   "id": "92ce450c",
   "metadata": {},
   "source": [
    "Vegyük észre, hogy itt most nem egy klasszikus ciklusváltozóval számláltunk, mint pl. a fizzbuzz játéknál vagy a szorzótáblánál. Itt nem is tudjuk előre, hogy hány iteráción keresztül fog futni a ```while``` ciklus. Minden attól függ, hogy a felhasználó hányadik nekifutásra adja meg helyesen a kért adatot.\n",
    "\n",
    "#### Feladat: Jelszó kitaláló\n",
    "\n",
    "A következő feladata sémája nagyon hasonló az előzőhöz. A ciklus most is addig fut, amíg a felhasználó a megfelelő bemenetet meg nem adja. Viszont! Ebben az esetben maximalizáljuk a lehetséges próbálkozások számát. Legyen az a feladat, hogy a felhasználónak egy konstansként tárolt jelszót kell kitalálnia. Ha téved, akkor újra kérjük ugyanúgy, mint az előző esetben. De mondjuk azt, hogy maxmimum csak 3-szor próbálkozhat. Azaz itt most két esetben is le tud állni a ciklus:\n",
    "* vagy a felhasználó eltalálta a jelszót 3 próbálkozáson belül,\n",
    "* vagy háromszor tévesztett és nincs több lehetősége próbálkozni.\n"
   ]
  },
  {
   "cell_type": "code",
   "execution_count": 5,
   "id": "ee7dd3fc",
   "metadata": {},
   "outputs": [
    {
     "name": "stdin",
     "output_type": "stream",
     "text": [
      "Adja meg a jelszót! abcd\n"
     ]
    },
    {
     "name": "stdout",
     "output_type": "stream",
     "text": [
      "Téves jelszó! Próbálkozások száma: 1/3\n"
     ]
    },
    {
     "name": "stdin",
     "output_type": "stream",
     "text": [
      "Adja meg a jelszót! 1234\n"
     ]
    },
    {
     "name": "stdout",
     "output_type": "stream",
     "text": [
      "Téves jelszó! Próbálkozások száma: 2/3\n"
     ]
    },
    {
     "name": "stdin",
     "output_type": "stream",
     "text": [
      "Adja meg a jelszót! 123456\n"
     ]
    },
    {
     "name": "stdout",
     "output_type": "stream",
     "text": [
      "A jelszó helyes!\n"
     ]
    }
   ],
   "source": [
    "PSWRD = \"123456\" # A jelszót tároló konstans. (Valós szoftverek esetén így sosem tárolunk jelszót!)\n",
    "MAX_NUM_OF_ATTEMPTS = 3 # A lehetséges próbálkozások száma.\n",
    "\n",
    "num_of_attempts = 0 # A felhasználó próbálkozásainak számát tároló változó. Kezdetben nyilván nullaszor próbálkozott eddig.\n",
    "\n",
    "locked = True # Ez a logikai változó tárolja el, hogy a jelszó védve van (True), vagy már kitalálták (False).\n",
    "\n",
    "# Két dolog megléte esetén fut a ciklus: még nem értük el a három tippet és még véd a jelszó, azaz locked értéke True.\n",
    "while num_of_attempts < MAX_NUM_OF_ATTEMPTS and locked:\n",
    "    # Bekérjük a tippet. Most nem kell konvertálni. A jelszó tetszőleges szöveg és az input alapból str típust ad vissza.\n",
    "    x = input(\"Adja meg a jelszót!\")\n",
    "    # Összehasonlítjuk a bekért szöveget az eltárolt jelszóval.\n",
    "    if x == PSWRD:\n",
    "        # Ha eltalálta, akkor a locked értéke hamis lesz, nyitva a \"zár\".\n",
    "        locked = False\n",
    "        print(\"A jelszó helyes!\") # Erről tájékoztatjuk is a felhasználót.\n",
    "    # Ha nem talált a tipp.\n",
    "    else:\n",
    "        # Egy esélyt eljátszott a felhasználó, megnöveljük a számláló értékét.\n",
    "        num_of_attempts += 1\n",
    "        # Tájékoztatjuk a felhasználót a történtekről. Ki is jelezzük számára, hogy még hány dobása van.\n",
    "        print(\"Téves jelszó! Próbálkozások száma: \" + str(num_of_attempts) + \"/\" + str(MAX_NUM_OF_ATTEMPTS))\n",
    "\n",
    "# Így vagy úgy, de kiléptünk a ciklusból. A locked változó értékéből tudunk következtetni az okára is.\n",
    "if locked:\n",
    "    print(\"Nem sikerült kitalálni a jelszót! További próbálkozásra nincs lehetőség!\")\n"
   ]
  },
  {
   "attachments": {},
   "cell_type": "markdown",
   "id": "68aae072",
   "metadata": {},
   "source": [
    "A kitalálandó jelszót konstansként tároltuk, így ez könnyen módosítható a kód elején. Szintén konstansként került tárolásra a maximális próbálkozások száma. Ez szintén könnyen módosítható, ha arra lenne szükség.\n",
    "\n",
    "A ```while``` ciklus fejlécében most két vizsgálat szerepel, melyeket ```and``` logikai operátorral kapcsoltunk össze. Ez azt jelenti, hogy mindkét állításnak teljesülnie kell ahhoz, hogy a ciklus belépjen a ciklusmagba. Ha akár az egyik nem teljesül, akkor nem fut tovább a ciklus. De pont erre van szükségünk. Akár elértük a lehetséges próbálkozások számát, akár kitaláltuk a jelszót, a ciklusnak ki kell lépnie.\n",
    "\n",
    "Vegyük észre, hogy most, az eddigi feladatokkal ellentétben, olyan ciklust csináltunk, ami több esemény hatására is ki tud lépni. A ciklus futása után pedig nem mindegy, hogy az miért fejeződött be. Az egyik eset, hogy a felhasználó eltalálta a jelszót, a másik pedig, hogy kifutott a próbálkozásokból. Belátható, hogy a két eset nagyon más. Ha a ciklus után további kódsorokat szeretnénk elhelyezni, akkor más-más dologra van szükség a két esetben. Ilyen jellegű feladatoknál mindig ügyeljünk arra, hogy a ciklus után tisztában legyünk azzal, hogy melyik esemény hatására léptünk ki. Jelen esetben a ```locked``` változót tudjuk erre használni. Ha értéke ```False```, akkor tudjuk, hogy a felhasználó kinyitotta a zárat, eltalálta a jelszót. Ha értéke ```True```, akkor a felhasználó nem találta el a jelszót, a zár zárva van."
   ]
  }
 ],
 "metadata": {
  "kernelspec": {
   "display_name": "Python 3 (ipykernel)",
   "language": "python",
   "name": "python3"
  },
  "language_info": {
   "codemirror_mode": {
    "name": "ipython",
    "version": 3
   },
   "file_extension": ".py",
   "mimetype": "text/x-python",
   "name": "python",
   "nbconvert_exporter": "python",
   "pygments_lexer": "ipython3",
   "version": "3.8.10"
  }
 },
 "nbformat": 4,
 "nbformat_minor": 5
}
