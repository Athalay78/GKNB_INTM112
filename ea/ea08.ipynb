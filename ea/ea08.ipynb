{
 "cells": [
  {
   "cell_type": "markdown",
   "id": "a4bb637b-95bb-4748-8b2c-6dfdc3fbe23a",
   "metadata": {},
   "source": [
    "# 8. előadás\n",
    "\n",
    "## Tartalom\n",
    "* Az alulvonás (```_```) használata\n",
    "* Véletlenszámok generálása\n",
    "\n",
    "## Az alulvonás, mint változó\n",
    "\n",
    "Python nyelven a változók nevei az angol ábécé betűiből, számokból és alulvonásból (```_```) (angolul underscore) állhat. Ezen felül egy megkötés van csupán a változónévre: nem kezdődhet számmal. Ezek alapján azt mondhatjuk, hogy pusztán egy darab alulvonás elfogadható változónév. Teljesül, hogy számokon, betűkön és alulvonáson kívül mást nem tartalmaz, továbbá az is igaz, hogy nem számmal kezdődik. És ez így is van!"
   ]
  },
  {
   "cell_type": "code",
   "execution_count": 1,
   "id": "4693294f-89e1-4c52-a7f7-b3aa994d4657",
   "metadata": {},
   "outputs": [
    {
     "name": "stdout",
     "output_type": "stream",
     "text": [
      "42\n"
     ]
    }
   ],
   "source": [
    "_ = 42\n",
    "print(_)"
   ]
  },
  {
   "cell_type": "markdown",
   "id": "3ce63267-12b0-44a4-9bd2-b1174a7ac8f2",
   "metadata": {},
   "source": [
    "A fenti kód alapján látjuk, hogy ez valóban működik. Mindannak ellenére, hogy nagyon furán néz ki. Python programozási nyelven az alulvonás, mint változónév egy speciális változót takar, amit szabály szerint csak speciális esetekben alkalmazunk. De egyébként is tudjuk, hogy a változónév mindig beszédes legyen, a neve alapján derüljön ki, hogy az adott kontextusban milyen célt szolgálhat. Ilyen tekintetben pedig az alulvonás nem túl célszerű elnevezés, ezt könnyen beláthatjuk.\n",
    "\n",
    "Az alulvonást akkor használjuk változónévként, ha olyan értéket szeretnénk tárolni, amire nincs szükségünk. Ez elsőre furán hangzik, de van néhány szituáció, amikor ez nagyon hasznos. Nézzük meg ezeket!\n",
    "\n",
    "Találkoztunk már azzal, hogy egy ```tuple``` vagy egy ```list``` elemeit egy-egy változóba szeretnénk eltárolni a könnyebb feldolgozás érdekében. Ezt meg tudjuk tenni az alábbi módon:"
   ]
  },
  {
   "cell_type": "code",
   "execution_count": 2,
   "id": "6c5e472b-ceec-452f-b9bd-016011795eff",
   "metadata": {},
   "outputs": [
    {
     "name": "stdout",
     "output_type": "stream",
     "text": [
      "1 2 3 4 5\n"
     ]
    }
   ],
   "source": [
    "t = (1, 2, 3, 4, 5)\n",
    "a, b, c, d, e = t\n",
    "print(a, b, c, d, e)"
   ]
  },
  {
   "cell_type": "markdown",
   "id": "153d64b7-3f02-4505-8069-cf3903b0f000",
   "metadata": {},
   "source": [
    "A ```t``` változó egy 5 elemű ```tuple```-t tárol. Ezeket az értékeket rendre eltároljuk az ```a```, ```b```, ```c```, ```d``` és ```e``` változókba. Ilyet eddig tudtunk, nincs benne újdonság. Azonban, mi van akkor, ha nekünk nincs szükségünk a ```tuple``` összes elemére, csak mondjuk az első kettőre meg az utolsó előttire? Azaz, ha a fenti példát nézzük, akkor a ```c``` és az ```e``` változók tartalmát nem szeretnénk felhasználni, tegyük fel. Persze semmi nem kötelez minket arra, hogy felhasználjuk őket. De ezt a tényt nagyon szépen tudjuk jelezni, ha ilyen esetben az alulvonást használjuk változónévként. Ezzel ránézésre is látszik bárki számára, hogy azokkal az értékekkel biztosan nem fogunk számítást végezni. Ebben az esetben így járunk el:"
   ]
  },
  {
   "cell_type": "code",
   "execution_count": 3,
   "id": "e280f577-e9e1-47ca-ab99-cf1334f597a2",
   "metadata": {},
   "outputs": [
    {
     "name": "stdout",
     "output_type": "stream",
     "text": [
      "1 2 4\n"
     ]
    }
   ],
   "source": [
    "t = (1, 2, 3, 4, 5)\n",
    "a, b, _, d, _ = t\n",
    "print(a, b, d)"
   ]
  },
  {
   "cell_type": "markdown",
   "id": "edd56d13-ff8e-4dcf-9eb2-e0efa26ae682",
   "metadata": {},
   "source": [
    "A fenti kód ez alapján elég beszédes. Egyértelműen utal arra, hogy a ```t``` ```tuple```-ből a 2. és a 4. indexeken található elemeket nem fogjuk felhasználni az adott feladat, számítás során.\n",
    "\n",
    "Persze ettől az ```_``` változó még ugyanúgy funkcionál változóként. Ha például kiírjuk az értékét, akkor látjuk, hogy az ```5``` található benne, hiszen ezt az értéket (a ```t``` utolsó elemét) helyeztük el benne utoljára."
   ]
  },
  {
   "cell_type": "code",
   "execution_count": 4,
   "id": "0a7b6e55-413a-4c39-a88b-f4f103f0fe67",
   "metadata": {},
   "outputs": [
    {
     "name": "stdout",
     "output_type": "stream",
     "text": [
      "5\n"
     ]
    }
   ],
   "source": [
    "print(_)"
   ]
  },
  {
   "cell_type": "markdown",
   "id": "a1f6b99e-ba6a-4433-a84c-3b32ea177e24",
   "metadata": {},
   "source": [
    "Ugyanezen elven használhatjuk arra is, hogy ha egy függvénynek több visszatérési értéke van, de nekünk az adott helyzetben nincs szükségünk mindegyikre, akkor a feleslegeseket mindig az ```_``` nevű változóba tároljuk el.\n",
    "\n",
    "Nézzünk erre egy példát! Ehhez először készítsünk egy függvényt, amely bemenetként várja egy tetszőleges téglalap két különböző oldalhosszát (```w``` és ```l``` bemeneti változók). Ezek alapján határozzuk meg a téglalap\n",
    "* kerületét,\n",
    "* területét,\n",
    "* átlóját,\n",
    "* és annak tényét, hogy négyzet vagy sem.\n",
    "\n",
    "Ez a 4 tulajdonság, a fenti sorrendben legyen a visszatérési értéke a függvénynek."
   ]
  },
  {
   "cell_type": "code",
   "execution_count": 5,
   "id": "3a9caafc-3acd-4fbd-a1e4-983d6633c3f9",
   "metadata": {},
   "outputs": [
    {
     "name": "stdout",
     "output_type": "stream",
     "text": [
      "10, 6, 3.605551275463989, False\n",
      "48, 144, 16.97056274847714, True\n"
     ]
    }
   ],
   "source": [
    "def calcRectangleProperties(w, l):\n",
    "    perimeter = 2 * (w + l)\n",
    "    area = w * l\n",
    "    diagonal = (w**2 + l**2)**0.5\n",
    "    isSquare = w == l\n",
    "    return perimeter, area, diagonal, isSquare\n",
    "\n",
    "p, a, d, issq = calcRectangleProperties(2, 3)\n",
    "print(p, a, d, issq, sep=\", \")\n",
    "\n",
    "p, a, d, issq = calcRectangleProperties(12, 12)\n",
    "print(p, a, d, issq, sep=\", \")"
   ]
  },
  {
   "cell_type": "markdown",
   "id": "1f1bf223-4b82-4cd5-83f6-e7b19aacb44e",
   "metadata": {},
   "source": [
    "Tegyük fel, hogy számunkra most csak a téglalap területe az érdekes, a többi tulajdonságát most nem szeretnénk felhasználni. Nyilván megtehetjük azt, hogy a fenti kódban csak az ```a``` változóban található területet használjuk fel, és a ```p```, ```d``` valamint ```issq``` változókat nem használjuk fel sehol. Sokkal szemléletesebb és átláthatóbb a kód, ha ennek a tényét jelezzük azzal, hogy a számunkra éppen szükségtelen számítási eredményeket az ```_``` változóba helyezzük:"
   ]
  },
  {
   "cell_type": "code",
   "execution_count": 6,
   "id": "15584cc3-407d-4336-b615-02a489d73f9a",
   "metadata": {},
   "outputs": [
    {
     "name": "stdout",
     "output_type": "stream",
     "text": [
      "144\n"
     ]
    }
   ],
   "source": [
    "_, a, _, _ = calcRectangleProperties(12, 12)\n",
    "print(a)"
   ]
  },
  {
   "cell_type": "markdown",
   "id": "af9209c9-c7f0-4163-8071-ffeff17ed80c",
   "metadata": {},
   "source": [
    "Így ha valaki először látja a kódunkat, akkor is egyértelmű lesz számára, hogy az adott feladatban nekünk csak a területre volt szükségünk, a többi tulajdonság felhasználását ne is keressük a kód további részeiben."
   ]
  },
  {
   "cell_type": "markdown",
   "id": "52b83ef5-0fa1-461c-b6b5-ac95d2a1aae5",
   "metadata": {},
   "source": [
    "Egy másik nagyon gyakori esete az alulvonás, mint változónév alkalmazásának a ciklusok esetén jön elő. A ciklusokat sok esetben arra használjuk, hogy végig iteráljunk egy listán vagy egy rendezett n-esen, esetleg egy szótáron. Iterálás során pedig minden egyes elemen ugyanazt a műveletet szeretnénk végrehajtani. Egy másik gyakori esete a ciklusok használatának, amikor adott műveletet előre meghatározott mennyiségben végre szeretnénk hajtani. Mondjuk egy olyan programot akarunk írni, ami tetszőleges mennyiségű számot össze tud adni. Készítsük is ezt el és nézzük meg, hogy hol jöhet itt jól az alulvonás! Először kérjük be a felhasználótól, hogy hány darab számot szeretne összegezni, majd kérjük be tőle a számokat és írjuk ki az összegzés eredményét."
   ]
  },
  {
   "cell_type": "code",
   "execution_count": 7,
   "id": "81a20bf6-f2d5-4634-91b1-ae61cb33844a",
   "metadata": {},
   "outputs": [
    {
     "name": "stdin",
     "output_type": "stream",
     "text": [
      "Hány számot szeretne összegezni? 3\n",
      "Kérem a következő számot! 1\n",
      "Kérem a következő számot! 2\n",
      "Kérem a következő számot! 3\n"
     ]
    },
    {
     "name": "stdout",
     "output_type": "stream",
     "text": [
      "Az 3 darab szám szummája 6.0\n"
     ]
    }
   ],
   "source": [
    "n = int(input(\"Hány számot szeretne összegezni?\"))\n",
    "\n",
    "sum = 0\n",
    "\n",
    "for i in range(n):\n",
    "    sum += float(input(\"Kérem a következő számot!\"))\n",
    "\n",
    "print(f\"Az {n} darab szám szummája {sum}\")"
   ]
  },
  {
   "cell_type": "markdown",
   "id": "1c1c0164-2c66-44bf-9da9-626565a2ad3b",
   "metadata": {},
   "source": [
    "A fenti kódban a ```for``` ciklus ```n```-szer fog lefutni, ahol ```n``` értékét közvetlenül előtte a felhasználótól kérjük be. Az ```n``` darab futást egyszerűen kivitelezhetjük a ```range``` függvény segítségével, ezt már ismerjük. vegyük észre, hogy a ciklusváltozót (```i```) ebben a feladatban nem használtuk semmire, túl nagy jelentősége nincsen. Egyszerűen csak arra van szükségünk, hogy ```n```-szer értéket kérjünk a felhasználótól és azt mindig hozzáadjuk a ```sum``` változóhoz. Azaz itt megint van egy olyan értékünk amire nincs szükség, sehol nem használjuk fel. Ez az érték pedig a ciklusváltozó. Ha a ciklusváltozóra nincs szükségünk, akkor ennek a tényét szintén jelezhetjük azzal, ha a ciklusváltozó elnevezésére az alulvonást használjuk. A fenti feladatot ezzel a megközelítéssel így oldhatjuk meg:"
   ]
  },
  {
   "cell_type": "code",
   "execution_count": 8,
   "id": "fbeed833-b7fc-4844-9cb6-84c9c6805978",
   "metadata": {},
   "outputs": [
    {
     "name": "stdin",
     "output_type": "stream",
     "text": [
      "Hány számot szeretne összegezni? 3\n",
      "Kérem a következő számot! 1\n",
      "Kérem a következő számot! 2\n",
      "Kérem a következő számot! 3\n"
     ]
    },
    {
     "name": "stdout",
     "output_type": "stream",
     "text": [
      "Az 3 darab szám szummája 6.0\n"
     ]
    }
   ],
   "source": [
    "n = int(input(\"Hány számot szeretne összegezni?\"))\n",
    "\n",
    "sum = 0\n",
    "\n",
    "for _ in range(n):\n",
    "    sum += float(input(\"Kérem a következő számot!\"))\n",
    "\n",
    "print(f\"Az {n} darab szám szummája {sum}\")"
   ]
  },
  {
   "cell_type": "markdown",
   "id": "31eab900-aeba-4faf-8f04-06a8958c426b",
   "metadata": {},
   "source": [
    "Az egyetlen változás a kódban, hogy az ```i``` változó helyett ```_``` változó szerepel. A műküdés tekintetében semmilyen változás nem történt, pontosan ugyanazt csinálja a program. Viszont sokkal beszédesebb lett, mert ránézésre is látszik, hogy a ciklusváltozót nem fogjuk használni semmire, nincs neki kitüntetett szerepe.\n",
    "\n",
    "Találkoztunk már olyan esettel, amikor egy olyan ```list``` vagy ```tuple``` objektumon iteráltunk végig, melynek minden eleme egy-egy további azonos méretű ```list``` vagy ```tuple``` volt. Például a ```calcRectangleProperties``` függvényt felhasználva ```list comprehension``` módszerrel generáljunk egy listát, ami téglalapok tulajdonságait tartalmazza:"
   ]
  },
  {
   "cell_type": "code",
   "execution_count": 9,
   "id": "62568f20-ee07-4db2-9d70-138feabd8ac7",
   "metadata": {},
   "outputs": [],
   "source": [
    "rectangles = [calcRectangleProperties(i, i*2) for i in range(1, 20)]"
   ]
  },
  {
   "cell_type": "markdown",
   "id": "f3758ad1-d5df-4b4a-84de-e2ca8725ad78",
   "metadata": {},
   "source": [
    "Az így létrehozott ```rectangles``` nevű ```list```-et egy ```for``` ciklus segítségével könnyen be tudjuk járni:"
   ]
  },
  {
   "cell_type": "code",
   "execution_count": 10,
   "id": "8187c32e-e7bb-487c-90a1-b86b9154638d",
   "metadata": {},
   "outputs": [
    {
     "name": "stdout",
     "output_type": "stream",
     "text": [
      "6 2 2.23606797749979 False\n",
      "12 8 4.47213595499958 False\n",
      "18 18 6.708203932499369 False\n",
      "24 32 8.94427190999916 False\n",
      "30 50 11.180339887498949 False\n",
      "36 72 13.416407864998739 False\n",
      "42 98 15.652475842498529 False\n",
      "48 128 17.88854381999832 False\n",
      "54 162 20.12461179749811 False\n",
      "60 200 22.360679774997898 False\n",
      "66 242 24.596747752497688 False\n",
      "72 288 26.832815729997478 False\n",
      "78 338 29.068883707497267 False\n",
      "84 392 31.304951684997057 False\n",
      "90 450 33.54101966249684 False\n",
      "96 512 35.77708763999664 False\n",
      "102 578 38.01315561749642 False\n",
      "108 648 40.24922359499622 False\n",
      "114 722 42.485291572496 False\n"
     ]
    }
   ],
   "source": [
    "for p, a, d, issq in rectangles:\n",
    "    print(p, a, d, issq)"
   ]
  },
  {
   "cell_type": "markdown",
   "id": "6897cb52-b0db-4bb9-b7a3-f34e426f5cb0",
   "metadata": {},
   "source": [
    "Tegyük fel, hogy számunkra az iteráció során csak a téglalapok területére és kerületére, tehát az első két értékre van szükségünk. Az alávonás változó itt is jó szolgálatot tesz:"
   ]
  },
  {
   "cell_type": "code",
   "execution_count": 11,
   "id": "d507aff7-ab30-4f3f-86fc-fce826de745e",
   "metadata": {},
   "outputs": [
    {
     "name": "stdout",
     "output_type": "stream",
     "text": [
      "6 2\n",
      "12 8\n",
      "18 18\n",
      "24 32\n",
      "30 50\n",
      "36 72\n",
      "42 98\n",
      "48 128\n",
      "54 162\n",
      "60 200\n",
      "66 242\n",
      "72 288\n",
      "78 338\n",
      "84 392\n",
      "90 450\n",
      "96 512\n",
      "102 578\n",
      "108 648\n",
      "114 722\n"
     ]
    }
   ],
   "source": [
    "for p, a, _, _ in rectangles:\n",
    "    print(p, a)"
   ]
  },
  {
   "cell_type": "markdown",
   "id": "3365d8ca-cef9-4053-87c7-40c470549d0f",
   "metadata": {},
   "source": [
    "Az ```_``` változónév használatával egyértelműen jelezzük, hogy itt a feladatunk végrehajtása során nekünk csak az első két tulajdonságra, tehát a kerületre és a területre van szükségünk."
   ]
  },
  {
   "cell_type": "markdown",
   "id": "63c54c92-e981-4443-9b6f-1b22cde0c712",
   "metadata": {},
   "source": [
    "## Véletlenszám generálás\n",
    "\n",
    "Nagyon sok helyzetben szükségünk lehet arra, hogy véletlenszerű értékeket legyünk képesek generálni. Itt arra kell gondolni, hogy egy változónak olyan (jellemzően) szám értéket szeretnénk adni, amit előre nem ismerünk. Tesszük ezt valamilyen meghatározott intervallumban, meghatározott számok halmazán és meghatározott eloszlás mellett.\n",
    "\n",
    "Számtalan területen alkalmazzuk a véletlenszámokat. Ide tartoznak a játékok, ha például a klasszikus casino játékokra vagy a lottóra gondolunk. A számítógépes szimuláció területén véletlenszerű paraméterek generálásával és futtatásával vizsgálható az adott szimuláció minél változatosabb körülmények között. Szintén klasszikus példa a jelszó generálás, ahol valamilyen szabályrendszer szerint (pl. milyen jellegű karaktereket tartalmazzon) szeretnénk kellő erősségű jelszavakat előállítani. De ide tartozik a titkosítás is, ahol valamilyen üzenetből a titkosított és minél nehezebben visszafejthető jelsorozat előállításához véletlenszámok generálása elengedhetetlen.\n",
    "\n",
    "De nem csak a műszaki tudományok világában találkozunk véletlenszámokkal, az élet más területén is előfordul az alkalmazásuk, jelenlétük. Gondolhatunk akár a politikára, sportra, művészetre vagy a biológiára.\n",
    "\n",
    "A Python programozási nyelv beépítve tartalmaz lehetőséget véletlenszámok generálására. Ehhez a ```random``` modult kell importálnunk."
   ]
  },
  {
   "cell_type": "code",
   "execution_count": 12,
   "id": "3e0872cf-ee7a-4f8d-a1e9-2087cc645a11",
   "metadata": {},
   "outputs": [],
   "source": [
    "import random"
   ]
  },
  {
   "cell_type": "markdown",
   "id": "8cbaf970-20ba-4374-ab52-84f9e557f997",
   "metadata": {},
   "source": [
    "### Legfontosabb függvények\n",
    "\n",
    "A ```random``` modul importálása után lehetőségünk van használni számtalan függvényt, amik segítségével különféle módon tudunk véletlenszerű értékeket generálni. Nézzük meg ezek közül a legfontosabbakat!\n",
    "\n",
    "* ```random.random```\n",
    "\n",
    "Segítségével $[0, 1[$ intervallumba tartozó véletlen valós értékeket tudunk generálni. Ez a leggyakoribb formája a véletlenszám generálásnak."
   ]
  },
  {
   "cell_type": "code",
   "execution_count": 13,
   "id": "9b1d60d0-e4bf-4a9a-86d9-826e676c46f6",
   "metadata": {},
   "outputs": [
    {
     "name": "stdout",
     "output_type": "stream",
     "text": [
      "0.2662688168855437\n"
     ]
    }
   ],
   "source": [
    "print(random.random())"
   ]
  },
  {
   "cell_type": "markdown",
   "id": "c65b8b02-19d2-4bad-bbb2-f43025b0563c",
   "metadata": {},
   "source": [
    "Látjuk, hogy a függvény visszatérési értéke valóban egy 0 és 1 közötti valós érték, amely minden futtatásra más-más értéket fog generálni. Egy ciklussal generáljunk több értéket, hogy ezzel is szemléltessük a generált véletlenszámokat:"
   ]
  },
  {
   "cell_type": "code",
   "execution_count": 14,
   "id": "2a41662a-d4ad-4e62-93c1-a27cafa96170",
   "metadata": {},
   "outputs": [
    {
     "name": "stdout",
     "output_type": "stream",
     "text": [
      "0.03443042805986196\n",
      "0.9137627869847726\n",
      "0.42815629184260084\n",
      "0.8273646367024402\n",
      "0.01337312195133944\n",
      "0.4462544372677042\n",
      "0.6095776969121219\n",
      "0.5406742768854992\n",
      "0.5167452740400851\n",
      "0.599423772421407\n"
     ]
    }
   ],
   "source": [
    "for _ in range(10):\n",
    "    print(random.random())"
   ]
  },
  {
   "cell_type": "markdown",
   "id": "cdb5c6bd-8be4-4bde-9d21-fd85439efbbf",
   "metadata": {},
   "source": [
    "* ```random.randint```\n",
    "\n",
    "Paraméterként megadott minimum és maximum érték közötti egész számot fog véletlenszerűen generálni. Az intervallum mindkét oldalról zárt, tehát a végértékek is beletartoznak a generálható számok halmazába."
   ]
  },
  {
   "cell_type": "code",
   "execution_count": 15,
   "id": "36004fbf-c207-4d6f-b54d-03d9c3e2fac1",
   "metadata": {},
   "outputs": [
    {
     "name": "stdout",
     "output_type": "stream",
     "text": [
      "0\n"
     ]
    }
   ],
   "source": [
    "print(random.randint(0, 10))"
   ]
  },
  {
   "cell_type": "markdown",
   "id": "74dc5e91-4041-4b98-9d74-688ff00bda00",
   "metadata": {},
   "source": [
    "Segítségével egyszerűen tudunk hagyományos hatoldalú dobókocka dobást szimulálni:"
   ]
  },
  {
   "cell_type": "code",
   "execution_count": 16,
   "id": "85d6394e-4c83-4518-ac9e-ea544e8ab4f7",
   "metadata": {},
   "outputs": [
    {
     "name": "stdout",
     "output_type": "stream",
     "text": [
      "4\n",
      "1\n",
      "4\n",
      "5\n",
      "3\n",
      "6\n",
      "3\n",
      "1\n",
      "3\n",
      "6\n"
     ]
    }
   ],
   "source": [
    "for _ in range(10):\n",
    "    print(random.randint(1, 6))"
   ]
  },
  {
   "cell_type": "markdown",
   "id": "de561d0d-8d82-4d1b-894b-0d26ad472d0e",
   "metadata": {},
   "source": [
    "* ```random.uniform```\n",
    "\n",
    "A ```randint``` függvényhez hasonlóan egy megadott zárt intervallumból választ véletlenszámot. Azonban most nem egész, hanem valós szám lesz az eredmény. Ebből adódóan az intervallum végértékei is lehetnek valós számok."
   ]
  },
  {
   "cell_type": "code",
   "execution_count": 17,
   "id": "f536e5a5-bfe5-4281-a71f-e5745cdd4eaf",
   "metadata": {},
   "outputs": [
    {
     "name": "stdout",
     "output_type": "stream",
     "text": [
      "4.402720913131317\n",
      "0.00036648867573806386\n"
     ]
    }
   ],
   "source": [
    "print(random.uniform(0, 10)) # A [0, 10] intervallumból választ véletlenszámot.\n",
    "print(random.uniform(0, 0.001))  # A [0, 0,001] intervallumból választ véletlenszámot."
   ]
  },
  {
   "cell_type": "code",
   "execution_count": 18,
   "id": "326d9e0c-4a6f-4e3c-8051-5eaf1c3a4a32",
   "metadata": {},
   "outputs": [
    {
     "name": "stdout",
     "output_type": "stream",
     "text": [
      "100.83622808856201\n",
      "100.16763539533606\n",
      "100.80325596151165\n",
      "100.71123408688865\n",
      "100.40024012065037\n",
      "100.54265124517677\n",
      "100.10545151636313\n",
      "100.36844299909258\n",
      "100.30724184296118\n",
      "100.37142131589708\n"
     ]
    }
   ],
   "source": [
    "for _ in range(10):\n",
    "    print(random.uniform(100, 101))"
   ]
  },
  {
   "cell_type": "markdown",
   "id": "aeb291ed-519b-4aa8-8f22-8f8da79411a3",
   "metadata": {},
   "source": [
    "Ha belegondolunk, akkor a ```random``` és az ```uniform``` függvények kis csúsztatással, de helyettesíthetőek egymással. Ha az ```uniform``` függvényt a 0 és az 1 paraméterekkel látjuk el, akkor majdnem ugyanazt csinálja, mint a ```random``` függvény:"
   ]
  },
  {
   "cell_type": "code",
   "execution_count": 19,
   "id": "6656628b-b7a4-49f5-8a80-48d4b7a11178",
   "metadata": {},
   "outputs": [
    {
     "name": "stdout",
     "output_type": "stream",
     "text": [
      "0.18083132800796864\n",
      "0.7408183194692752\n",
      "0.8175068174063291\n",
      "0.3306286977597087\n",
      "0.9659636977693943\n",
      "0.025996159359840787\n",
      "0.266802416091535\n",
      "0.1275729483745438\n",
      "0.16876432894756876\n",
      "0.28410531746929313\n"
     ]
    }
   ],
   "source": [
    "for _ in range(10):\n",
    "    print(random.uniform(0, 1))"
   ]
  },
  {
   "cell_type": "markdown",
   "id": "0cd4c7f8-2bab-4c10-ad2a-38598dddb266",
   "metadata": {},
   "source": [
    "Azért csak majdnem, mert a ```random``` függvény a $[0, 1[$ tartományból fog generálni, az ```uniform``` függvény a fenti esetben viszont a $[0, 1]$ intervallummal dolgozik.\n",
    "\n",
    "Ugyanezen logika mentén a ```random``` függvényből is tudunk az ```uniform```-hoz nagyon hasonlót csinálni:"
   ]
  },
  {
   "cell_type": "code",
   "execution_count": 20,
   "id": "c3d388b7-9cc0-44da-8925-e32c7f38fe7c",
   "metadata": {},
   "outputs": [
    {
     "name": "stdout",
     "output_type": "stream",
     "text": [
      "4.112104693930173\n",
      "5.156139526826131\n",
      "4.969170614323135\n",
      "5.06138958731602\n",
      "4.508049341271967\n",
      "5.123778987445638\n",
      "3.8086386333119475\n",
      "4.351216843428348\n",
      "4.923430991117569\n",
      "5.100971744427274\n"
     ]
    }
   ],
   "source": [
    "min_value = 3.8\n",
    "max_value = 5.2\n",
    "\n",
    "for _ in range(10):\n",
    "    print(random.random() * (max_value - min_value) + min_value)"
   ]
  },
  {
   "cell_type": "markdown",
   "id": "43ce75e3-0463-4de7-b2b2-5588a85d7ff0",
   "metadata": {},
   "source": [
    "A fenti példában a ```min_value``` és ```max_value``` változókban tároltuk el az intervallum két végét. A ```random``` függvény önmagában 0 és 1 közötti számot fog generálni. Első körben ezt a tartományt \"szét kell nyújtani\" a ```min_value``` és a ```max_value``` intervallum hosszára. A hosszát pedig a két végérték különbsége fogja adni. Ha ezzel a különbséggel szorozzuk a generált számot, akkor ezzel a tartomány hosszát megváltoztattuk. Ez önmagában nem elég, mert ezzel a generálandó tartomány még mindig 0-tól indul. Ezzel még csak a tartomány hossza lett jó, ami most már nem 1, hanem 1,4 (az 5,2 és a 3,8 különbsége). Utolsó mozzanatként ezt a tartományt el kell \"tolni\", hogy ne 0-tól, hanem a ```min_value```-tól induljon. Azaz hozzáadjuk a ```min_value``` értékét."
   ]
  },
  {
   "cell_type": "markdown",
   "id": "768f8050-8961-4daa-ad2d-b06ed23e8f07",
   "metadata": {},
   "source": [
    "* ```random.choice```\n",
    "\n",
    "Egy bejárható szekvencia (pl. lista vagy rendezett n-es) elemi közül véletlenszerűen választ egyet és a választott érték lesz a visszatérési értéke.\n",
    "\n",
    "Például eldönthetjük, hogy a kedvenc filmjeink közül melyiket nézzük meg:"
   ]
  },
  {
   "cell_type": "code",
   "execution_count": 21,
   "id": "1ea41712-da8f-4490-aa91-c031d5b4e1bc",
   "metadata": {},
   "outputs": [
    {
     "name": "stdout",
     "output_type": "stream",
     "text": [
      "Home Alone\n"
     ]
    }
   ],
   "source": [
    "fav_movies = [\"Spaceballs\", \"The Legend of 1900\", \"Home Alone\", \"My Dog Skip\", \"Patch Adams\"]\n",
    "which = random.choice(fav_movies)\n",
    "print(which)"
   ]
  },
  {
   "cell_type": "markdown",
   "id": "dc65e35b-d988-48b8-bde5-fe4f38550066",
   "metadata": {},
   "source": [
    "De akár ilyen módon is használhatjuk. Most a ```range``` függvénnyel generálunk egy iterálható objektumot, ami a $[1, 7[$ tartományba eső egész számokat tartalmazza. Ezzel gyakorlatilag megint egy dobókocka szimulációt csinálhatunk:"
   ]
  },
  {
   "cell_type": "code",
   "execution_count": 22,
   "id": "3c302251-6e27-4c9b-8146-8470d4b7aea2",
   "metadata": {},
   "outputs": [
    {
     "name": "stdout",
     "output_type": "stream",
     "text": [
      "2\n",
      "6\n",
      "4\n",
      "4\n",
      "5\n",
      "2\n",
      "1\n",
      "3\n",
      "5\n",
      "2\n"
     ]
    }
   ],
   "source": [
    "for _ in range(10):\n",
    "    print(random.choice(range(1, 7)))"
   ]
  },
  {
   "cell_type": "markdown",
   "id": "ab88aa79-d318-4625-9fd5-164a7998ba2a",
   "metadata": {},
   "source": [
    "* ```random.shuffle```\n",
    "\n",
    "Szinten egy tetszőleges szekvenciát kell paraméterül adnunk számára, melynek elemeit véletlenszerűen össze fogja keverni. Fontos! Ennek eredményeként nem egy új ```list```-et vagy ```tuple```-t fog generálni, ami az összekevert adatokat tartalmazza! A keverést az eredeti objektumon belül fogja elvégezni. Ezért az eredeti rendezettség el fog veszni."
   ]
  },
  {
   "cell_type": "code",
   "execution_count": 23,
   "id": "b9bc2bd1-56c3-4a87-9611-a51a80931e79",
   "metadata": {},
   "outputs": [
    {
     "name": "stdout",
     "output_type": "stream",
     "text": [
      "[1, 2, 3, 4, 5, 6, 7, 8, 9, 10]\n",
      "[10, 4, 2, 6, 3, 1, 7, 8, 5, 9]\n"
     ]
    }
   ],
   "source": [
    "nums = list(range(1, 11))\n",
    "print(nums)\n",
    "random.shuffle(nums) # Nincs visszatérési érték! A keverés az eredeti nums lista értékeinek pozícióját módosította\n",
    "print(nums)"
   ]
  },
  {
   "cell_type": "markdown",
   "id": "72f951d8-7c57-4d7f-894f-bd6159166923",
   "metadata": {},
   "source": [
    "Ha olyan feladattal találjuk szembe magunkat, ahol szükségünk van arra, hogy az eredeti rendezettség is megmaradjon, akkor ezt úgy tudjuk kiküszöbölni, ha készítünk egy másolatot az eredeti objektumból és a másolaton végezzük el a véletlen keverést:"
   ]
  },
  {
   "cell_type": "code",
   "execution_count": 24,
   "id": "3785c3be-2bb3-4f13-b527-4609af387fe2",
   "metadata": {},
   "outputs": [
    {
     "name": "stdout",
     "output_type": "stream",
     "text": [
      "nums keverés előtt: [1, 2, 3, 4, 5, 6, 7, 8, 9, 10]\n",
      "nums keverés után: [1, 2, 3, 4, 5, 6, 7, 8, 9, 10]\n",
      "A kevert lista: [9, 2, 1, 8, 7, 5, 3, 10, 4, 6]\n"
     ]
    }
   ],
   "source": [
    "nums = list(range(1, 11))\n",
    "print(\"nums keverés előtt:\", nums)\n",
    "shuffled_nums = list(nums) # Új listát generálunk a régi alapján.\n",
    "random.shuffle(shuffled_nums) # Az új listán végezzük a keverést, így a régi érintetlen marad.\n",
    "print(\"nums keverés után:\", nums)\n",
    "print(\"A kevert lista:\", shuffled_nums)"
   ]
  },
  {
   "cell_type": "markdown",
   "id": "3720f08f-5e5f-4ce3-9b9a-1b1827ec8451",
   "metadata": {},
   "source": [
    "* ```random.seed```\n",
    "\n",
    "Mielőtt a függvény szerepére rátérnénk, egy nagyon fontos dolgot tisztázni kell a véletlenszámok generálásával kapcsolatban. A legtöbb programozási nyelv tartalmaz beépített lehetőséget véletlenszám generálásra, azonban ezek kívétel nélkül úgynevezett ál-véletlenszám generátorok, vagy pszeudó-random generátoroknak is szoktak nevezni. Ez azt jelenti, hogy a szó szoros értelmében a fent bemutatott funkciókkal a legkevésbé sem véletlenszerű értékeket generálunk. Sőt! A fenti kódsorok által generált, véletlennek kinéző számokat egytől egyig előre meg tudtuk volna jósolni. Ez azért van, mert valós, tényleges véletlenszerűséget előállítani nehéz és költséges, de tulajdonképpen az esetek nagy részében nincs is rá szükség. Ennek a tantárgynak a keretein belül pedig főleg nincs arra szükségünk, hogy valós véletlenséget tudjuk csinálni. Helyette egy olyan algoritmus fut a háttérben, amely képes előre generálni egy számsorozatot. Amikor kérünk egy véletlenszámot, akkor tulajdonképpen ennek az előre legenerált sorozatnak kapjuk meg a következő elemét. Ezt a sorozatot pedig egyszerű matematikai eszközökkel előre mi is ki tudnánk számítani, így előre mindig meg tudnánk mondani, hogy mi lesz a következő véletlenszerű érték. Ha pedig előre meg lehet mondani a következő értéket, akkor okafogyottá válik, hogy véletlennek nevezzük a számot, hiszen ebből kifolyólag nem az. Az algoritmus lényege, hogy olyan számokat generál, amik \"ránézésre\" véletlenszerűen hatnak. Azaz az algoritmus alkalmaz olyan szabályokat, amelynek köszönhetően a számok közelítik a kívánt eloszlást, a számok egymás utániságában szabályrendszert felfedezni nagyon nehéz, emberi mércével tekintve pedig gyakorlatilag lehetetlen. Ennek az okos algoritmusnak egyetlen bemenete van, ami mindent meghatároz. Tulajdonképpen ez az egy bemenet dönti el az adott véletlenszerűséget. Ezt a bemenetet hívjuk \"seed\"-nek és ennek a bemenetnek a meghatározására szolgál a ```random.seed``` függvény. A függvény bementként egy darab számot vár. Ez a szám lesz az ál-véletlen számok generálásának az alapja, mondhatni kezdőértéke. Ami azt jelenti, hogy ez az egy darab szám meghatározza bármelyik következő véletlenszámot. Tehát ha tudjuk, hogy mi a seed érték és ismerjük a számítás képletét, akkor mi is meg tudjuk \"jósolni\" előre, hogy mi lesz bármelyik következő véletlenszám.\n",
    "\n",
    "Viszont a ```random.seed``` függvénnyel eddig nem foglalkoztunk, nem adtuk meg a kezdő értéket. Felmerülhet a kérdés, hogy akkor eddig mi volt ez az érték? Ha nem adunk meg ilyen értéket, akkor sincs probléma. A legtöbb programozási nyelv, így a Python is, alapértelmezetten az aktuális időt használja seed értékként. Azért az időt, mert ez kellően gyakran változik, így minden futtatásra más-más véletlenszerűséget tud generálni.\n",
    "\n",
    "És itt jön be a képbe egy rettentően fontos tulajdonság! A seed érték alapból az idő. Az idő változik, ezért mindig változnak a véletlenszámok amikor újra futtatjuk a programot. Akkor ez azt kell jelentse, hogy ha kézzel megadunk egy fix, nem változó értéket a seed-nek, akkor az mindig ugyanaz lesz, tehát a véletlenszerűség is mindig ugyanaz marad. Azaz a véletlenszerűség reprodukálhatóvá válik! Nézzük meg!"
   ]
  },
  {
   "cell_type": "code",
   "execution_count": 25,
   "id": "d11cfa55-1318-4907-a53c-1762fdb84c23",
   "metadata": {},
   "outputs": [
    {
     "name": "stdout",
     "output_type": "stream",
     "text": [
      "0.6394267984578837\n",
      "0.025010755222666936\n",
      "0.27502931836911926\n",
      "0.22321073814882275\n",
      "0.7364712141640124\n",
      "0.6766994874229113\n",
      "0.8921795677048454\n",
      "0.08693883262941615\n",
      "0.4219218196852704\n",
      "0.029797219438070344\n"
     ]
    }
   ],
   "source": [
    "random.seed(42)\n",
    "\n",
    "for _ in range(10):\n",
    "    print(random.random())"
   ]
  },
  {
   "cell_type": "markdown",
   "id": "94ceada3-7578-43b3-952a-9bc29bf01674",
   "metadata": {},
   "source": [
    "A fenti kódban a ```random.random``` függvénnyel generáltunk 10 darab véletlen értéket. Ezek ránézésre továbbra is véletlenszerűnek hatnak. Viszont a kód elején beállítottuk a seed értékét a ```random.seed``` függvénnyel. Ami azt jelenti, hogy most nem a pontos idő lesz a seed. A pontos idő végett minden egyes futtatásra más-más véletlenszámok generálódnak, hiszen az idő változik és így változtatja az összes generált számot. Most a seed érték konstans 42. Tehát most akárhányszor futtatjuk le a fenti kódot, az mindig ugyanazt a számsorozatot fogja előállítani. Tehát az értékek egymáshoz képest továbbra is véletlenszerűek lesznek (vagy legalábbis annak hatnak), de ugyanazon a pozíción lévő érték mindig ugyanaz lesz.\n",
    "\n",
    "Itt a fontos tanulság, hogy ha a ```random.seed``` segítségével fix értéket állítunk be, akkor ugyanaz a véletlenszerűség megismételhető. Ez rengeteg gyakorlati esetben nagyon fontos. Például egy szimulációt szeretnénk futtatni véletlenszerű körülményekkel. De ugyanazt a véletlenszerű körülményt szeretnénk többször elérni, mert mondjuk több különböző algoritmust szeretnénk kipróbálni és összehasonlítani ugyanazon véletlenszerű körülmények között.\n",
    "\n",
    "A seed értéket menet közben többször is változtathatjuk. Bár a gyakorlatban ez ritka, de most a megértés végett nézzük meg:"
   ]
  },
  {
   "cell_type": "code",
   "execution_count": 26,
   "id": "8939ff73-885a-4184-be52-293c4377b4a8",
   "metadata": {},
   "outputs": [
    {
     "name": "stdout",
     "output_type": "stream",
     "text": [
      "seed: 0\n",
      "6\n",
      "6\n",
      "0\n",
      "4\n",
      "8\n",
      "7\n",
      "6\n",
      "4\n",
      "7\n",
      "5\n",
      "seed: 1\n",
      "2\n",
      "9\n",
      "1\n",
      "4\n",
      "1\n",
      "7\n",
      "7\n",
      "7\n",
      "10\n",
      "6\n"
     ]
    }
   ],
   "source": [
    "print(\"seed: 0\")\n",
    "random.seed(0)\n",
    "for _ in range(10):\n",
    "    print(random.randint(0, 10))\n",
    "\n",
    "print(\"seed: 1\")\n",
    "random.seed(1)\n",
    "for _ in range(10):\n",
    "    print(random.randint(0, 10))"
   ]
  },
  {
   "cell_type": "markdown",
   "id": "e3c35e75-d502-41bb-bde0-501ebe00aa32",
   "metadata": {},
   "source": [
    "A fenti kódban kétszer generáltunk 10-10 véletlen egészet 0 és 10 között. Az első esetben 0-ás, a másodikban 1-es seed értékkel. Látjuk, hogy a két \"lista\" különböző, hiszen két különböző seed értékkel generálódtak. De a kódot akárhányszor futtatjuk, azzal a listák értékei nem változnak, mert fix a seed.\n",
    "\n",
    "Most nézzük meg ugyanezt a kódot, de a seed értékadásokat vegyük ki:"
   ]
  },
  {
   "cell_type": "code",
   "execution_count": 27,
   "id": "7cbf0f8b-3836-4ba0-9a51-8c90a1af4d2a",
   "metadata": {},
   "outputs": [
    {
     "name": "stdout",
     "output_type": "stream",
     "text": [
      "Nincs fix seed:\n",
      "3\n",
      "1\n",
      "7\n",
      "0\n",
      "6\n",
      "6\n",
      "9\n",
      "0\n",
      "7\n",
      "4\n",
      "Itt se:\n",
      "3\n",
      "9\n",
      "1\n",
      "5\n",
      "0\n",
      "0\n",
      "0\n",
      "10\n",
      "8\n",
      "0\n"
     ]
    }
   ],
   "source": [
    "print(\"Nincs fix seed:\")\n",
    "for _ in range(10):\n",
    "    print(random.randint(0, 10))\n",
    "\n",
    "print(\"Itt se:\")\n",
    "for _ in range(10):\n",
    "    print(random.randint(0, 10))"
   ]
  },
  {
   "cell_type": "markdown",
   "id": "51834871-c6eb-4446-9c2e-b140306a7545",
   "metadata": {},
   "source": [
    "Ezt akárhányszor lefuttatjuk, mindig változni fognak az egyes értékek, mert most nem definiáltunk fix seed-et.\n",
    "\n",
    "A fentiek voltak a legfontosabb függvények, ami az esetek jelentős részében kielégítenek minden igényt. Ennek a tárgynak a keretein belül pedig más megoldásra nincs is szükségünk a fentieken kívül. Ettől függetlenül a ```random``` modul tartalmaz más lehetőségeket is, erről [itt](https://docs.python.org/3/library/random.html) lehet bővebben olvasni.\n",
    "\n",
    "### Valós véletlenszámok\n",
    "\n",
    "Vannak olyan magas szintű tudományos számítások, ahol elengedhetetlen, hogy valós véletlenszámokat legyünk képesek alkalmazni, de ez bőven túlmutat ennek a tantárgynak a keretein, így ezzekkel itt nem foglalkozunk, csak érdekességként teszünk rá utalást. Valós véletlenszámokat tudunk generálni például a [random.org](https://www.random.org/) szolgáltatás weboldalán keresztül, de a szolgáltatás felhasználható különféle népszerű programozási nyelveken, így Python alatt is. Python nyelven a [PyPI modulgyűjteményén megtaláljuk](https://pypi.org/project/randomdotorg/) a random.org külső modulját, amin keresztül valós véletlenszámokat is generálhatunk. Nem csak szoftveres megoldások léteznek, de vannak úgynevezett [hardveres valós véletlen generátorok is](https://en.wikipedia.org/wiki/Hardware_random_number_generator), bár ezek népszerűsége a távoli szolgáltatások növekvő népszerűsége (mint a random.org) miatt egyre csökken. És természetesen vannak egészen extrém, már-már művészi megoldásai a véletlen generálásnak is. Ilyen például az egykor népszerű [LavaRand](https://en.wikipedia.org/wiki/Lavarand), ahol polcokra rendezett lávalámpák aktuális állapotát dolgozták fel valós időben videókamera segítségével. A lámpák véletlennek tekinthető összállapota határozta a meg a seed értéket, ami ilyen formán kellően véletlenszerűnek tekinthető."
   ]
  },
  {
   "cell_type": "markdown",
   "id": "8c1ce4e2-0595-4a35-b259-cab24ce5b40a",
   "metadata": {},
   "source": [
    "#### Feladat: Monte-Carlo\n",
    "\n",
    "[Monte-Carlo módszernek](https://en.wikipedia.org/wiki/Monte_Carlo_method) nevezzük az olyan szimulációs megoldásokat, ahol valamilyen összetett, bonyolult számítás eredményét szeretnénk közelítő pontossággal becsülni véletlenszámok felhasználásának a segítségével. A módszer kidolgozása és elnevezése az egyik legismertebb [Marslakó](https://en.wikipedia.org/wiki/The_Martians_(scientists)), [Neumann János](https://en.wikipedia.org/wiki/John_von_Neumann) nevéhez köthető.\n",
    "\n",
    "A Monte-Carlo módszer egyik legegyszerűbb példája a $\\pi$ értékének közelítése pusztán véletlenszámok generálásának a segítségével. Nézzük meg a módszer lényegét és írjunk rá egy Python programot!\n",
    "\n",
    "A közelítés menete a következő. Képzeljünk el a síkon egy négyzetet, aminek oldalhossza 2, és képzeljünk el egy egység sugarú kört ennek a négyzetnek közepén. Generáljunk N darab véletlen síkbeli koordinátát, úgy, hogy azok a téglalap területén belül essenek. Belátható, hogy a generált pontok egy része nem csak a négyzetre fog esni, hanem egyúttal a négyzetben található kör területén is belül lesznek. Bizonyos pontok, a négyzet sarkainak a közelében pedig a körön kívül fognak maradni. Számoljuk össsze, hogy az N darab pontból hány darab esik a körön belül. A két szám hányadosával tudjuk közelíteni a $\\pi$ értékét.\n",
    "\n",
    "A generált pontok tulajdonképpen minél többen vannak, annál inkább lefedik a négyzet és a kör területét. Tulajdonképpen meghatározzák a két geometria területét. Tudjuk, hogy a kör sugara: $r=1$, a téglalap oldalai pedig $2r$ (vagy azt is mondhatnánk, hogy a kör átmérője). Ezek alapján a kör területe: $r^2\\pi$, a téglalap területe pedig: $2r\\times2r$, vagy kicsit egyszerűsítve: $4r^2$. Ha vesszük a kettő hányadosát, akkor azt kapjuk, hogy: $\\frac{r^2\\pi}{4r^2}$. Látjuk, hogy $r^2$ értékkel lehet egyszerüsíteni, azaz: $\\frac{\\pi}{4}$. Amiből a $\\pi$ értékét nyilván úgy kapjuk, ha beszorozzuk 4-gyel.\n",
    "\n",
    "Összegezve:\n",
    "* vegyük azon pontok darabszámát, amik a körre estek, ők képviselik a kör területét\n",
    "* vegyük azon pontok darabszámát, amik a négyzetre estek, de ezt meg sem kell számolni, tudjuk, hogy N darab pontot generálunk.\n",
    "* A két érték hányadosa 4-gyel szorozva megadja a $\\pi$ közelítését, ahol a közelítés pontossága N nagyságától függ.\n",
    "\n",
    "Lássuk!"
   ]
  },
  {
   "cell_type": "code",
   "execution_count": 19,
   "id": "f3326b5a-34e5-48f6-8f2e-d0d1a3a47b12",
   "metadata": {},
   "outputs": [
    {
     "name": "stdout",
     "output_type": "stream",
     "text": [
      "3.141676\n"
     ]
    }
   ],
   "source": [
    "# PI érték közelítés Monte-Carlo módszerrel.\n",
    "\n",
    "# Szükséges modulok importálása.\n",
    "import random # Véletlenszám generáláshoz.\n",
    "import math # Távolság számításhoz gyökvonás és hatványozás kell.\n",
    "\n",
    "# N darab véletlen síkbeli pontot fogunk generálni.\n",
    "# Az N érték módosításával tudjuk szabályozni a becslés pontosságát.\n",
    "N = 10000000\n",
    "\n",
    "# Itt tároljuk el, hogy az N darab pontból hány darab esett a körön belül.\n",
    "# Ez kezdetben nyilván 0.\n",
    "pts_in_circle = 0\n",
    "\n",
    "# Ciklussal N iterációt hajtunk végre.\n",
    "# Látjuk, hogy most a ciklusváltozót nem használjuk kifejezetten semmire, ezért ezt jelezhetjük a _ változóval.\n",
    "for _ in range(N):\n",
    "    # Az x és y értékek jelképezik az adott iterációban generált véletlen síkbeli pontot.\n",
    "    # Mindkét tag a [-1, 1] intervallumban keletkezik, tehát a síkon a téglalap és a kör közepe az origóra esik.\n",
    "    # A geometriák középpontját helyezhetnénk máshova is, de így a legegyszerűbb számítani a távolságot a következő lépésben.\n",
    "    x = random.uniform(-1, 1)\n",
    "    y = random.uniform(-1, 1)\n",
    "\n",
    "    # A dist eltárolja, hogy az (x, y) pont milyen távol van a (0, 0) ponttól.\n",
    "    # Azért a (0, 0) pontot nézzük, mert az a két geometria középpontja.\n",
    "    dist = math.sqrt(math.pow(x, 2) + math.pow(y, 2))\n",
    "\n",
    "    # El kell dönteni, hogy a körre esik e az (x, y) pont vagy sem.\n",
    "    # A kör sugara 1, tehát akkor esik rá, ha az origótól mért távolság nem nagyobb 1-nél.\n",
    "    if dist <= 1:\n",
    "        # A változóban összeszámoljuk, hogy az N-ből hány darab esett a körre.\n",
    "        pts_in_circle += 1\n",
    "\n",
    "    # A két érték hányadosa 4-gyel szorozva kiadja a PI közelítését.\n",
    "    pi = 4 * pts_in_circle / N\n",
    "\n",
    "# Kiírjuk a közelített értéket.\n",
    "print(pi)"
   ]
  },
  {
   "cell_type": "markdown",
   "id": "0c8b22f1-fa12-4ee4-9af4-ea6680158669",
   "metadata": {},
   "source": [
    "Érdemes különféle ```N``` értékekkel kísérletezni, jól látszódik, hogy a pontosítás növekszik, ha növeljük az értékét. Persze ezzel együtt a számítási idő is növekszik, ezt azért vegyük figyelembe. Hogy egyszerűbb legyen különféle ```N``` értékkel vízsgálódni, készítsünk az előző programból egy függvényt. A függvény bemenetként várja a kívánt darabszámot és a visszatérési értéke legyen a $\\pi$ közelített értéke."
   ]
  },
  {
   "cell_type": "code",
   "execution_count": 12,
   "id": "cc26c8f1-3bb8-42c5-822e-8ad2b1fd6135",
   "metadata": {},
   "outputs": [],
   "source": [
    "import random\n",
    "import math\n",
    "\n",
    "def calcPI(N):\n",
    "    pts_in_circle = 0\n",
    "    \n",
    "    for _ in range(N):\n",
    "        x = random.uniform(-1, 1)\n",
    "        y = random.uniform(-1, 1)\n",
    "    \n",
    "        dist = math.sqrt(math.pow(x, 2) + math.pow(y, 2))\n",
    "    \n",
    "        if dist <= 1:\n",
    "            pts_in_circle += 1\n",
    "    \n",
    "        pi = 4 * pts_in_circle / N\n",
    "    \n",
    "    return pi"
   ]
  },
  {
   "cell_type": "markdown",
   "id": "1db2fc87-60ce-4234-bc97-a727650193bd",
   "metadata": {},
   "source": [
    "A ```calcPI``` függvény bemenetként várja az ```N``` értékét és mindig az adott pontossággal becsli a $\\pi$ értékét. Így ezt a függvényt már többször fel tudjuk használni, könnyen meg tudjuk hívni különféle ```N``` értékekre. Az előző kódhoz képest túl nagy változás nincs, két fontos dolog van: A kód elejéről az ```N``` értékének megadása eltűnt, hiszen ez majd bemenetként fog érkezni, amikor a függvény felhasználásra kerül. Másrészt a kód végén most nem kiírjuk a közelített $\\pi$ értéket, hanem visszaadjuk. Ezzel megadva a függvény felhasználójának a lehetőséget arra, hogy szabadon kezelhesse a kapott eredményt.\n",
    "\n",
    "Nézzük meg a számítást egyre nagyobb ```N``` értékek esetén:"
   ]
  },
  {
   "cell_type": "code",
   "execution_count": 16,
   "id": "f563a19e-bec2-41eb-8aba-9382c5b85293",
   "metadata": {},
   "outputs": [
    {
     "name": "stdout",
     "output_type": "stream",
     "text": [
      "N=2, PI=2.0\n",
      "N=4, PI=4.0\n",
      "N=8, PI=3.0\n",
      "N=16, PI=2.75\n",
      "N=32, PI=2.75\n",
      "N=64, PI=3.3125\n",
      "N=128, PI=3.0625\n",
      "N=256, PI=2.84375\n",
      "N=512, PI=3.09375\n",
      "N=1024, PI=3.10546875\n",
      "N=2048, PI=3.16015625\n",
      "N=4096, PI=3.0966796875\n",
      "N=8192, PI=3.15771484375\n",
      "N=16384, PI=3.138671875\n",
      "N=32768, PI=3.1337890625\n",
      "N=65536, PI=3.1451416015625\n",
      "N=131072, PI=3.142852783203125\n",
      "N=262144, PI=3.1421356201171875\n",
      "N=524288, PI=3.1448593139648438\n",
      "N=1048576, PI=3.1414566040039062\n",
      "N=2097152, PI=3.1426219940185547\n",
      "N=4194304, PI=3.1415300369262695\n",
      "N=8388608, PI=3.141451358795166\n",
      "N=16777216, PI=3.14188289642334\n"
     ]
    }
   ],
   "source": [
    "for i in range(1, 25):\n",
    "    print(f\"N={2**i}, PI={calcPI(2**i)}\")"
   ]
  },
  {
   "cell_type": "markdown",
   "id": "dfb65519-8172-44e7-92b8-7d604d5d4d94",
   "metadata": {},
   "source": [
    "A fenti feladat kapcsán vegyünk észre egy egyszerű hatékonyság növelési elgondolást, amit ki tudunk használni. A távolság számításánál felesleges gyökvonást végezni. Ha ezt elhagyjuk, akkor természetesen nem kapjuk meg a pontos távolságot. De ha bele gondolunk, ebben az esetben nekünk erre nincs is szükségünk. A $(0, 0)$ pont körül generálunk véletlen síkbeli pontokat. Minden pont mindkét tagja a $[-1, 1]$ intervallumból kerül ki. Azaz a lehető legtávolabbi pont távolsága $\\sqrt{2}$ lesz, a legközelebbié pedig nyilván $0$. Amikor az $x^2+y^2$ eredménye $1$ lesz, akkor abból a gyökvonás által a $\\sqrt{1}=1$ távolságot kapjuk. Amikor a körön kívülre esik a pont, akkor a gyökvonás alá is $1$-nél nagyobb érték fog kerülni. Ha a körön belül vagyunk, akkor a gyökjel alá biztosan $1$ alatti számot találunk. Tehát az algoritmusból elhagyjuk a gyökvonást a ```dist``` változó meghatározása során, akkor továbbra is annak a feltételnek kell teljesülnie, hogy ha értéke 1-nél nem nagyobb, akkor a körre esik a pont. Érdemes megjegyezni, hogy a gyökvonás költséges művelet, ezért ha megtudjuk \"spórolni\" a használatát, akkor célszerű élni vele. Persze ez ismét egy hatékonysági kérdés, a kimenet tekintetében semmilyen változás nem lesz."
   ]
  },
  {
   "cell_type": "code",
   "execution_count": 14,
   "id": "76514100-0ac9-4db8-aacf-3110618a066e",
   "metadata": {},
   "outputs": [],
   "source": [
    "import random\n",
    "import math\n",
    "\n",
    "def calcPIButFaster(N):\n",
    "    pts_in_circle = 0\n",
    "    \n",
    "    for _ in range(N):\n",
    "        x = random.uniform(-1, 1)\n",
    "        y = random.uniform(-1, 1)\n",
    "    \n",
    "        dist = math.pow(x, 2) + math.pow(y, 2)\n",
    "    \n",
    "        if dist <= 1:\n",
    "            pts_in_circle += 1\n",
    "    \n",
    "        pi = 4 * pts_in_circle / N\n",
    "    \n",
    "    return pi"
   ]
  },
  {
   "cell_type": "markdown",
   "id": "b4f040b1-e7d1-4058-a021-b163e295e06e",
   "metadata": {},
   "source": [
    "A ```calcPIButFaster``` függvény majdnem ugyanaz, mint a ```calcPI``` függvény, egyedül a ```math.sqrt``` függvény használata hiányzik belőle. Próbáljuk ki!"
   ]
  },
  {
   "cell_type": "code",
   "execution_count": 21,
   "id": "a63a3ba0-99a0-45e3-a548-02a921f3cefa",
   "metadata": {},
   "outputs": [
    {
     "name": "stdout",
     "output_type": "stream",
     "text": [
      "N=2, PI=4.0\n",
      "N=4, PI=4.0\n",
      "N=8, PI=4.0\n",
      "N=16, PI=3.25\n",
      "N=32, PI=3.125\n",
      "N=64, PI=3.0\n",
      "N=128, PI=3.34375\n",
      "N=256, PI=3.078125\n",
      "N=512, PI=3.1640625\n",
      "N=1024, PI=3.125\n",
      "N=2048, PI=3.111328125\n",
      "N=4096, PI=3.125\n",
      "N=8192, PI=3.162109375\n",
      "N=16384, PI=3.171142578125\n",
      "N=32768, PI=3.144775390625\n",
      "N=65536, PI=3.13922119140625\n",
      "N=131072, PI=3.14312744140625\n",
      "N=262144, PI=3.1468505859375\n",
      "N=524288, PI=3.140045166015625\n",
      "N=1048576, PI=3.1390151977539062\n",
      "N=2097152, PI=3.141347885131836\n",
      "N=4194304, PI=3.141545295715332\n",
      "N=8388608, PI=3.1412854194641113\n",
      "N=16777216, PI=3.1417510509490967\n"
     ]
    }
   ],
   "source": [
    "for i in range(1, 25):\n",
    "    print(f\"N={2**i}, PI={calcPIButFaster(2**i)}\")"
   ]
  },
  {
   "cell_type": "markdown",
   "id": "18141d2a-6d07-4894-8951-0c4ad3b1fc46",
   "metadata": {},
   "source": [
    "Látjuk, hogy ezzel is valami hasonló eredményt értünk el. Viszont az lenne az igazi, ha a két függvényt (```calcPI``` és ```calcPIButFaster```) össze tudnánk hasonlítani ugyanolyan körülmények között. Így látnánk, hogy valóban teljesen ugyanazt a számítást végzik el. Ez egy tipikus esete annak, amikor a véletlenszerűséget meg szeretnénk ismételni! És ezt már tudjuk is, hogy hogyan kell:"
   ]
  },
  {
   "cell_type": "code",
   "execution_count": 22,
   "id": "f95ca730-191c-4027-be9b-c5018ce2fba9",
   "metadata": {},
   "outputs": [
    {
     "name": "stdout",
     "output_type": "stream",
     "text": [
      "Gyökvonással:\n",
      "4.0\n",
      "4.0\n",
      "3.0\n",
      "3.5\n",
      "3.25\n",
      "3.0625\n",
      "2.8125\n",
      "3.203125\n",
      "3.015625\n",
      "3.1171875\n",
      "3.169921875\n",
      "3.1015625\n",
      "3.15234375\n",
      "3.133056640625\n",
      "3.1341552734375\n",
      "3.13153076171875\n",
      "3.14654541015625\n",
      "3.1439056396484375\n",
      "3.1401901245117188\n",
      "3.140544891357422\n",
      "3.1414051055908203\n",
      "3.1418323516845703\n",
      "3.1409215927124023\n",
      "3.14119029045105\n",
      "Gyökvonás nélkül:\n",
      "4.0\n",
      "4.0\n",
      "3.0\n",
      "3.5\n",
      "3.25\n",
      "3.0625\n",
      "2.8125\n",
      "3.203125\n",
      "3.015625\n",
      "3.1171875\n",
      "3.169921875\n",
      "3.1015625\n",
      "3.15234375\n",
      "3.133056640625\n",
      "3.1341552734375\n",
      "3.13153076171875\n",
      "3.14654541015625\n",
      "3.1439056396484375\n",
      "3.1401901245117188\n",
      "3.140544891357422\n",
      "3.1414051055908203\n",
      "3.1418323516845703\n",
      "3.1409215927124023\n",
      "3.14119029045105\n"
     ]
    }
   ],
   "source": [
    "seed_value = 0\n",
    "\n",
    "random.seed(seed_value)\n",
    "print(\"Gyökvonással:\")\n",
    "for i in range(1, 25):\n",
    "    print(calcPI(2**i))\n",
    "\n",
    "random.seed(seed_value)\n",
    "print(\"Gyökvonás nélkül:\")\n",
    "for i in range(1, 25):\n",
    "    print(calcPIButFaster(2**i))"
   ]
  },
  {
   "cell_type": "markdown",
   "id": "da1a9a7e-e043-4873-85fe-83115a4ffc00",
   "metadata": {},
   "source": [
    "A fenti kódban azt látjuk, hogy egy-egy ciklussal futattuk előbb az egyik, majd a másik megoldást. Mindkét futás előtt a ```random.seed``` függvénnyel megadtuk a véletlengenerálás seed értékét. Azaz mindkét függvény teljesen ugyanazokat a véletlen koordinátákat kapta, ugyanaz volt a kiinduló érték. Látjuk is a kimeneten, hogy a generált $\\pi$ közelítések is teljesen megegyeznek. Tehát ez alapján kijelenthetjük, hogy a gyökvonás valóban elhagyható, ugyanazt az eredményt szolgáltatta a két algoritmus.\n",
    "\n",
    "Az érdekesség kedvéért nézzük meg ugyanezt, de most a seed beállítása nélkül:"
   ]
  },
  {
   "cell_type": "code",
   "execution_count": 23,
   "id": "14c3c4e2-fca7-4ddc-a37f-ad20b9c21184",
   "metadata": {},
   "outputs": [
    {
     "name": "stdout",
     "output_type": "stream",
     "text": [
      "Gyökvonással:\n",
      "2.0\n",
      "2.0\n",
      "3.5\n",
      "2.5\n",
      "3.0\n",
      "3.125\n",
      "2.96875\n",
      "3.171875\n",
      "3.125\n",
      "3.109375\n",
      "3.158203125\n",
      "3.107421875\n",
      "3.142578125\n",
      "3.15625\n",
      "3.1470947265625\n",
      "3.1514892578125\n",
      "3.140167236328125\n",
      "3.1414031982421875\n",
      "3.1428680419921875\n",
      "3.1423988342285156\n",
      "3.141904830932617\n",
      "3.141312599182129\n",
      "3.140562057495117\n",
      "3.142007350921631\n",
      "Gyökvonás nélkül:\n",
      "4.0\n",
      "4.0\n",
      "3.5\n",
      "3.25\n",
      "3.0\n",
      "2.875\n",
      "3.4375\n",
      "3.1875\n",
      "3.2890625\n",
      "3.140625\n",
      "3.166015625\n",
      "3.2021484375\n",
      "3.12451171875\n",
      "3.131591796875\n",
      "3.1358642578125\n",
      "3.1473388671875\n",
      "3.14404296875\n",
      "3.1423492431640625\n",
      "3.1437911987304688\n",
      "3.1454620361328125\n",
      "3.139993667602539\n",
      "3.143000602722168\n",
      "3.141350269317627\n",
      "3.141309976577759\n"
     ]
    }
   ],
   "source": [
    "print(\"Gyökvonással:\")\n",
    "for i in range(1, 25):\n",
    "    print(calcPI(2**i))\n",
    "\n",
    "print(\"Gyökvonás nélkül:\")\n",
    "for i in range(1, 25):\n",
    "    print(calcPIButFaster(2**i))"
   ]
  },
  {
   "cell_type": "markdown",
   "id": "f22b8450-d20c-461f-8818-b038fe8dede5",
   "metadata": {},
   "source": [
    "A fenti kód esetén látjuk, hogy nem ugyanazok a véletlen koordináták generálódtak a két függvény során, hiszen nem mondtuk meg, hogy ugyanazzal a seed kezdőértékkel dolgozzanak."
   ]
  },
  {
   "cell_type": "markdown",
   "id": "1b37bab6-819e-4644-9e5d-5e4c2b935638",
   "metadata": {},
   "source": [
    "#### Feladat: Monty Hall\n",
    "\n",
    "A [Monty Hall probléma](https://en.wikipedia.org/wiki/Monty_Hall_problem), vagy Monty Hall paradoxon egy valószínűségi feladvány, amely az emberi gondolkodásmód logikája szerint valótlannak tűnik, azonban egyszerű szimuláció segítségével bizonyítható az igazsága. A [Let's Make a Deal](https://en.wikipedia.org/wiki/Let%27s_Make_a_Deal) című tévés vetélkedő műsorvezetője [Monty Hall](https://en.wikipedia.org/wiki/Monty_Hall) volt, akiről a matematikai probléma el lett nevezve. Ennek a tévé műsornak az utolsó feladványa volt a következő.\n",
    "\n",
    "Adott három csukott ajtó. Két ajtó mögött egy-egy kecske van, a harmadik ajtó mögött viszont egy új személyautó. A játékos választhat egy ajtót és a mögötte található nyeremény az övé. A játékban azonban van egy csavar. Először a játékos ajtót választ, de ekkor még nem fedik fel, hogy mi van mögötte. Előbb a műsorvezető a maradék két ajtó közül felfed egy olyat, ami mögött biztosan kecske van. Ezután a játékos dönthet: vagy azt az ajtót választja, amelyet elsőnek kijelölt, vagy választhatja a másik megmaradt ajtót is. Az emberi agy gondolkodásmódja azt diktálja, hogy ez teljesen mindegy. Hiszen három ajtó van, bármelyik mögött lehet az autó ugyanakkora valószínűséggel. Tehát hiába fedik fel az egyik ajtót, attól még a másik két ajtó mögöt fele-fele arányban ott lehet a nyereményautó. Ez azonban téves. Érdemes ilyenkor ajtót cserélni, mert a másik ajtó mögött dupla akkora valószínűséggel lesz a nyeremény.\n",
    "\n",
    "Egy egyszerű program segítségével be tudjuk bizonyítani, hogy ez valóban így van. A következőkre van szükségünk:\n",
    "* Véletlenszerűen generáljuk le, hogy melyik ajtó mögött van a nyeremény.\n",
    "* Véletlenszerűen generáljuk le, hogy a két kecskét rejtő ajtó közül melyiket fedi fel a műsorvezető.\n",
    "* Jegyezzük fel, hogy nyerne e a játékos, ha nem cserél ajtót.\n",
    "* Végül jegyezzük fel, hogy nyerne e, ha cserél ajtót.\n",
    "\n",
    "Ezekkkel a lépésekkel gyakorlatilag elvégeztük a játék szimulációját. Ha ezt kellően sokszor lefuttatjuk, akkor látnunk kell, hogy az esetek többségében mikor nyer a játékos:\n",
    "* Ha cserél ajtót?\n",
    "* Ha nem cserél ajtót?\n",
    "* Vagy teljesen mindegy, ugyanannyi a valószínűsége?\n",
    "\n"
   ]
  },
  {
   "cell_type": "code",
   "execution_count": 33,
   "id": "b4400ff3-8aaa-4519-acb2-713a8a694bbc",
   "metadata": {},
   "outputs": [
    {
     "name": "stdout",
     "output_type": "stream",
     "text": [
      "A játékok száma 1000.\n",
      "A játokos 322 esetben nyert volna, ha az elsőnek megjelölt ajtót választja.\n",
      "A játokos 678 esetben nyert volna, ha cserél a megmaradt ajtóra.\n"
     ]
    }
   ],
   "source": [
    "# Monty Hall probléma bizonyítása\n",
    "\n",
    "import random\n",
    "\n",
    "# Ennyi játékot fogunk játszani összesen.\n",
    "# Minél több a játékok száma, annál jobban meg fog mutatkozni, hogy melyik esetben nyer többször a játékos.\n",
    "NUM_OF_GAMES = 1000\n",
    "\n",
    "# Eltároljuk, hogy a NUM_OF_GAMES esetből hányszor nyert volna a játékos, ha az első ajtót választja\n",
    "# és ha a második ajtót választja.\n",
    "win_with_first = 0\n",
    "win_with_second = 0\n",
    "\n",
    "# Lehetséges ajtók sorszáma\n",
    "doors = [0, 1, 2]\n",
    "\n",
    "# A ciklussal a megadott mennyiségszer szimuláljuk a játékot.\n",
    "for _ in range(NUM_OF_GAMES):\n",
    "    # Véletlenszerűen választunk egy ajtót, ahol a nyeremény lesz.\n",
    "    prize = random.choice(doors)\n",
    "    # Véletlenszerűen választ egy ajtót a játékos.\n",
    "    first_choice = random.choice(doors)\n",
    "    # Az opened változóba fogjuk eltárolni azt az ajtót, amelyet a műsorvezető felfed.\n",
    "    # Először eltároljuk benne az összes ajtó listáját.\n",
    "    opened = doors.copy()\n",
    "    # Majd eltávolítjuk azt, amely mögött a nyeremény van.\n",
    "    opened.remove(prize)\n",
    "    # Végül azt is, amelyet a felhasználó választott.\n",
    "    # De ezt már lehet töröltük, hogy ha pont azt választotta, amelyik a nyereményt takarja.\n",
    "    # Emiatt szükséges ezt eldönteni, máskülönban a remove hívása hibát adhat.\n",
    "    if first_choice in opened:\n",
    "        opened.remove(first_choice)\n",
    "    # A megmaradt felfedhető ajtókból választunk egyet.\n",
    "    opened = random.choice(opened)\n",
    "    # A csere ajtó meghatározásához előbb vesszük az  összes ajtót.\n",
    "    second_choice = doors.copy()\n",
    "    # Eltávolítjuk belőle az első választást.\n",
    "    second_choice.remove(first_choice)\n",
    "    # Majd amelyik már nyitva van.\n",
    "    second_choice.remove(opened)\n",
    "    # Belátható, hogy így végül egy darab ajtó maradt a listán, az lesz a csere ajtó.\n",
    "    second_choice = second_choice[0]\n",
    "    # Megnézzük, hogy nyert volna a játékos, ha az első ajtónál marad.\n",
    "    if first_choice == prize:\n",
    "        # Ha igen, akkor feljegyezzük, hogy ebben az esetben nyert volna.\n",
    "        win_with_first += 1\n",
    "    # Ha nem, akkor megnézzük, hogy cserével nyert e volna.\n",
    "    elif second_choice == prize:\n",
    "        # Ha igen, akkor ezt jegyezzük fel.\n",
    "        win_with_second += 1\n",
    "\n",
    "# A végén kiírjuk, hogy hányszor nyert volna, ha az első ajtánál marad, és hányszor, ha cserél.\n",
    "print(f\"A játékok száma {NUM_OF_GAMES}.\")\n",
    "print(f\"A játokos {win_with_first} esetben nyert volna, ha az elsőnek megjelölt ajtót választja.\")\n",
    "print(f\"A játokos {win_with_second} esetben nyert volna, ha cserél a megmaradt ajtóra.\")"
   ]
  },
  {
   "cell_type": "markdown",
   "id": "52c7adfd-cf4d-4867-8c36-01de739485b9",
   "metadata": {},
   "source": [
    "Ha a fenti kódot többször lefuttatjuk, akkor látszik, hogy a véletlenszerűség miatt a nyerések számai változnak. De azt is látjuk, hogy nagyságrendi változás nincs az egyes futtatások között. Ez a változás annál kisebb lesz, minél több játékra futtatjuk le a szimulációt. Azaz minél nagyobb a ```NUM_OF_GAMES``` értéke. A játék elején minden ajtó egyenlő eséllyel indul, azaz mindegyik esetén $1/3$ a valószínűsége a nyerésnek. Miután ajtót választott a játékos, a maradék két ajtó közül egyet felfednek. Ennek a két ajtónak az együttes nyerési valószínűsége $2/3$. Az által, hogy a két ajtóból az egyiket felfedték, a nyerési valószínűség nem változik, de most már egy ajtóra koncentrálódik. Ezt látjuk a szimuláció eredményőből is, hiszen minél nagyobb értéket adunk meg a ```NUM_OF_GAMES``` változónak, annál inkább közelíteni fogja a két érték az $1/3$ - $2/3$ arányt.\n",
    "\n",
    "Könnyebben tudjuk különféle játékmenet számra tesztelni a szimulációt, ha egy önálló függvénybe szervezzük. A függvény bemenete legyen a ```NUM_OF_GAMES``` érték, azaz, hogy hány darab játékot szeretnénk leszimulálni. A függvénynek legyen két visszatérési értéke: hányszor nyerne az első ajtóval és hányszor nyerne a csere ajtóval."
   ]
  },
  {
   "cell_type": "code",
   "execution_count": 19,
   "id": "655363a0-8fc8-44a5-a650-8a1bd57f3690",
   "metadata": {},
   "outputs": [],
   "source": [
    "import random\n",
    "\n",
    "def simulateMontyHall(NUM_OF_GAMES):\n",
    "    win_with_first = 0\n",
    "    win_with_second = 0\n",
    "    \n",
    "    doors = [0, 1, 2]\n",
    "    \n",
    "    for _ in range(NUM_OF_GAMES):\n",
    "        prize = random.choice(doors)\n",
    "        first_choice = random.choice(doors)\n",
    "        opened = doors.copy()\n",
    "        opened.remove(prize)\n",
    "        if first_choice in opened:\n",
    "            opened.remove(first_choice)\n",
    "        opened = random.choice(opened)\n",
    "        second_choice = doors.copy()\n",
    "        second_choice.remove(first_choice)\n",
    "        second_choice.remove(opened)\n",
    "        second_choice = second_choice[0]\n",
    "        if first_choice == prize:\n",
    "            win_with_first += 1\n",
    "        elif second_choice == prize:\n",
    "            win_with_second += 1\n",
    "    \n",
    "    return win_with_first, win_with_second"
   ]
  },
  {
   "cell_type": "markdown",
   "id": "3f7e4a2f-b58f-42ec-8c8e-97aecb8b0e2a",
   "metadata": {},
   "source": [
    "Így már könnyen tudjuk futtatni különböző értékekre. Nézzük meg, hogy ha egyre több játékra futtatjuk a szimulációt, akkor hogyan változik az eredmény."
   ]
  },
  {
   "cell_type": "code",
   "execution_count": 20,
   "id": "4fcf11d2-84c6-4e11-9678-3d09424f1c17",
   "metadata": {},
   "outputs": [
    {
     "name": "stdout",
     "output_type": "stream",
     "text": [
      "0.50000 0.50000\n",
      "0.50000 0.50000\n",
      "0.25000 0.75000\n",
      "0.37500 0.62500\n",
      "0.53125 0.46875\n",
      "0.45312 0.54688\n",
      "0.31250 0.68750\n",
      "0.26562 0.73438\n",
      "0.32617 0.67383\n",
      "0.34277 0.65723\n",
      "0.35010 0.64990\n",
      "0.32666 0.67334\n",
      "0.33215 0.66785\n",
      "0.33264 0.66736\n",
      "0.33408 0.66592\n",
      "0.33281 0.66719\n",
      "0.33423 0.66577\n",
      "0.33131 0.66869\n",
      "0.33215 0.66785\n",
      "0.33405 0.66595\n",
      "0.33325 0.66675\n",
      "0.33372 0.66628\n",
      "0.33317 0.66683\n",
      "0.33344 0.66656\n"
     ]
    }
   ],
   "source": [
    "for i in range(1, 25):\n",
    "    n = 2**i\n",
    "    win_with_first, win_with_second = simulateMontyHall(n)\n",
    "    print(f\"{(win_with_first / n):.5f} {(win_with_second / n):.5f}\")"
   ]
  },
  {
   "cell_type": "markdown",
   "id": "48e8ebb3-1251-4207-9f04-c661f92105e3",
   "metadata": {},
   "source": [
    "A fenti példa kimenetén a bal oszlopban látjuk az első ajtó választása esetén a nyerés valószínűségét, míg a jobb oszlop a cserével történő nyerés valószínűségét takarja. Látjuk, hogy a játékok számának növelésével az érték egyre inkább közelíti az elméleti $1/3$ és $2/3$ arányt."
   ]
  },
  {
   "cell_type": "markdown",
   "id": "6bb70da6-a063-41b5-9d1d-186a82dc0504",
   "metadata": {},
   "source": [
    "#### Feladat: Számkitaláló"
   ]
  },
  {
   "cell_type": "code",
   "execution_count": 22,
   "id": "0d3bcf8a-e81c-4b2e-ad02-5f59c2ce1161",
   "metadata": {},
   "outputs": [
    {
     "name": "stdout",
     "output_type": "stream",
     "text": [
      "Gondoltam egy egész számra a [0, 100[ interallumból. Találd ki!\n",
      "Kérem a tippet!\n"
     ]
    },
    {
     "name": "stdin",
     "output_type": "stream",
     "text": [
      " 50\n"
     ]
    },
    {
     "name": "stdout",
     "output_type": "stream",
     "text": [
      "Nem talált!\n",
      "A gondolt szám nagyobb, mint 50.\n",
      "Kérem a tippet!\n"
     ]
    },
    {
     "name": "stdin",
     "output_type": "stream",
     "text": [
      " 75\n"
     ]
    },
    {
     "name": "stdout",
     "output_type": "stream",
     "text": [
      "Nem talált!\n",
      "A gondolt szám kisebb, mint 75.\n",
      "Kérem a tippet!\n"
     ]
    },
    {
     "name": "stdin",
     "output_type": "stream",
     "text": [
      " 65\n"
     ]
    },
    {
     "name": "stdout",
     "output_type": "stream",
     "text": [
      "Nem talált!\n",
      "A gondolt szám kisebb, mint 65.\n",
      "Kérem a tippet!\n"
     ]
    },
    {
     "name": "stdin",
     "output_type": "stream",
     "text": [
      " 60\n"
     ]
    },
    {
     "name": "stdout",
     "output_type": "stream",
     "text": [
      "Nem talált!\n",
      "A gondolt szám kisebb, mint 60.\n",
      "Kérem a tippet!\n"
     ]
    },
    {
     "name": "stdin",
     "output_type": "stream",
     "text": [
      " 55\n"
     ]
    },
    {
     "name": "stdout",
     "output_type": "stream",
     "text": [
      "Nem talált!\n",
      "A gondolt szám kisebb, mint 55.\n",
      "Kérem a tippet!\n"
     ]
    },
    {
     "name": "stdin",
     "output_type": "stream",
     "text": [
      " 53\n"
     ]
    },
    {
     "name": "stdout",
     "output_type": "stream",
     "text": [
      "Nem talált!\n",
      "A gondolt szám nagyobb, mint 53.\n",
      "Kérem a tippet!\n"
     ]
    },
    {
     "name": "stdin",
     "output_type": "stream",
     "text": [
      " 55\n"
     ]
    },
    {
     "name": "stdout",
     "output_type": "stream",
     "text": [
      "Nem talált!\n",
      "A gondolt szám kisebb, mint 55.\n",
      "Kérem a tippet!\n"
     ]
    },
    {
     "name": "stdin",
     "output_type": "stream",
     "text": [
      " 54\n"
     ]
    },
    {
     "name": "stdout",
     "output_type": "stream",
     "text": [
      "Talált!\n"
     ]
    }
   ],
   "source": [
    "import random\n",
    "\n",
    "# A gép az n számra gondolt.\n",
    "n = random.randint(0, 100)\n",
    "\n",
    "print(\"Gondoltam egy egész számra a [0, 100[ interallumból. Találd ki!\")\n",
    "\n",
    "# A ciklussal folyamatosan kérjük a tippeket.\n",
    "# A ciklus ugyan végtelen, de majd a helyes tipp esetén egy break utasítással kilépünk.\n",
    "while True:\n",
    "    # Kérjük a következő tippet.\n",
    "    print(\"Kérem a tippet!\")\n",
    "    t = int(input())\n",
    "    # Ha a tipp jó.\n",
    "    if t == n:\n",
    "        print(\"Talált!\")\n",
    "        break # Kilépünk a ciklusból, mert eltalálta a számot.\n",
    "    # Ha a tipp nem jó, akkor segítsünk a felhasználónak.\n",
    "    # Mondjuk meg, hogy a gondolt szám kisebb vagy nagyobb, mint a tipp.\n",
    "    else:\n",
    "        print(\"Nem talált!\")\n",
    "        if n > t:\n",
    "            print(f\"A gondolt szám nagyobb, mint {t}.\")\n",
    "        else:\n",
    "            print(f\"A gondolt szám kisebb, mint {t}.\")"
   ]
  },
  {
   "cell_type": "code",
   "execution_count": 17,
   "id": "fc822f6f-0429-4cdc-92b0-5dc0bded9b7f",
   "metadata": {},
   "outputs": [],
   "source": [
    "import random\n",
    "\n",
    "\n",
    "def game(logic):\n",
    "    min_value = 0\n",
    "    max_value = 1000\n",
    "    n = random.randint(min_value, max_value)\n",
    "    c = 0    \n",
    "    while True:\n",
    "        t = logic(min_value, max_value)\n",
    "        c += 1\n",
    "        if t == n:\n",
    "            return c\n",
    "        else:\n",
    "            if n > t:\n",
    "                min_value = t\n",
    "            else:\n",
    "                max_value = t\n",
    "\n",
    "def l0(min_value, max_value):\n",
    "    return random.randint(min_value, max_value)\n",
    "\n",
    "def l1(min_value, max_value):\n",
    "    return int((max_value + min_value) / 2)"
   ]
  },
  {
   "cell_type": "code",
   "execution_count": 41,
   "id": "ec969913-7ee3-494f-b584-30140afba3aa",
   "metadata": {},
   "outputs": [
    {
     "name": "stdout",
     "output_type": "stream",
     "text": [
      "[24, 9, 11, 12, 14, 14, 6, 16, 17, 17, 20, 15, 14, 16, 2, 11, 11, 11, 11, 14, 6, 20, 24, 20, 15, 11, 11, 16, 17, 15, 13, 13, 27, 12, 15, 11, 9, 19, 16, 13, 15, 10, 7, 13, 7, 28, 17, 21, 12, 22, 15, 12, 14, 11, 12, 13, 12, 19, 7, 10, 10, 9, 4, 26, 17, 11, 11, 10, 26, 16, 13, 4, 16, 12, 11, 15, 17, 10, 23, 13, 12, 22, 16, 19, 14, 11, 13, 15, 19, 26, 20, 6, 8, 10, 13, 12, 10, 15, 14, 20]\n",
      "2\n",
      "28\n"
     ]
    }
   ],
   "source": [
    "random.seed(1)\n",
    "results = [game(l0) for _ in range(100)]\n",
    "best = min(results)\n",
    "worst = max(results)\n",
    "print(results)\n",
    "print(best)\n",
    "print(worst)"
   ]
  },
  {
   "cell_type": "code",
   "execution_count": 42,
   "id": "fedeb43e-fdd7-45d2-8ff7-9ff67929e699",
   "metadata": {},
   "outputs": [
    {
     "name": "stdout",
     "output_type": "stream",
     "text": [
      "[10, 10, 7, 9, 9, 10, 8, 10, 7, 9, 7, 10, 8, 9, 10, 8, 10, 10, 9, 10, 8, 10, 10, 10, 10, 10, 10, 9, 8, 10, 8, 9, 6, 8, 10, 10, 9, 9, 5, 10, 10, 9, 7, 9, 10, 8, 6, 6, 10, 7, 10, 10, 9, 9, 10, 9, 8, 10, 7, 10, 8, 9, 9, 10, 9, 9, 9, 10, 6, 8, 10, 10, 9, 9, 7, 7, 9, 10, 8, 8, 10, 9, 10, 9, 10, 10, 8, 8, 8, 9, 10, 9, 9, 10, 8, 9, 10, 10, 7, 9]\n",
      "5\n",
      "10\n"
     ]
    }
   ],
   "source": [
    "random.seed(1)\n",
    "results = [game(l1) for _ in range(100)]\n",
    "best = min(results)\n",
    "worst = max(results)\n",
    "print(results)\n",
    "print(best)\n",
    "print(worst)"
   ]
  },
  {
   "cell_type": "code",
   "execution_count": null,
   "id": "ac8810f4-ee18-4ad2-b005-07e724e6ad18",
   "metadata": {},
   "outputs": [],
   "source": []
  }
 ],
 "metadata": {
  "kernelspec": {
   "display_name": "Python 3 (ipykernel)",
   "language": "python",
   "name": "python3"
  },
  "language_info": {
   "codemirror_mode": {
    "name": "ipython",
    "version": 3
   },
   "file_extension": ".py",
   "mimetype": "text/x-python",
   "name": "python",
   "nbconvert_exporter": "python",
   "pygments_lexer": "ipython3",
   "version": "3.8.10"
  }
 },
 "nbformat": 4,
 "nbformat_minor": 5
}
