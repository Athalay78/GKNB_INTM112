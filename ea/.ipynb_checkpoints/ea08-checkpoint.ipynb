{
 "cells": [
  {
   "cell_type": "markdown",
   "id": "a4bb637b-95bb-4748-8b2c-6dfdc3fbe23a",
   "metadata": {},
   "source": [
    "# 8. előadás\n",
    "\n",
    "## Tartalom\n",
    "* Az alulvonás (```_```) használata\n",
    "* Véletlenszámok generálása\n",
    "\n",
    "## Az alulvonás, mint változó\n",
    "\n",
    "Python nyelven a változók nevei az angol ábécé betűiből, számokból és alulvonásból (```_```) (angolul underscore) állhat. Ezen felül egy megkötés van csupán a változónévre: nem kezdődhet számmal. Ezek alapján azt mondhatjuk, hogy pusztán egy darab alulvonás elfogadható változónév. Teljesül, hogy számokon, betűkön és alulvonáson kívül mást nem tartalmaz, továbbá az is igaz, hogy nem számmal kezdődik. És ez így is van!"
   ]
  },
  {
   "cell_type": "code",
   "execution_count": 9,
   "id": "4693294f-89e1-4c52-a7f7-b3aa994d4657",
   "metadata": {},
   "outputs": [
    {
     "name": "stdout",
     "output_type": "stream",
     "text": [
      "42\n"
     ]
    }
   ],
   "source": [
    "_ = 42\n",
    "print(_)"
   ]
  },
  {
   "cell_type": "markdown",
   "id": "3ce63267-12b0-44a4-9bd2-b1174a7ac8f2",
   "metadata": {},
   "source": [
    "A fenti kód alapján látjuk, hogy ez valóban működik. Mindannak ellenére, hogy nagyon furán néz ki. Python programozási nyelven az alulvonás, mint változónév egy speciális változót takar, amit szabály szerint csak speciális esetekben alkalmazunk. De egyébként is tudjuk, hogy a változónév mindig beszédes legyen, a neve alapján derüljön ki, hogy az adott kontextusban milyen célt szolgálhat. Ilyen tekintetben pedig az alulvonás nem túl célszerű elnevezés, ezt könnyen beláthatjuk.\n",
    "\n",
    "Az alulvonást akkor használjuk változónévként, ha olyan értéket szeretnénk tárolni, amire nincs szükségünk. Ez elsőre furán hangzik, de van néhány szituáció, amikor ez nagyon hasznos. Nézzük meg ezeket!\n",
    "\n",
    "Találkoztunk már azzal, hogy egy ```tuple``` vagy egy ```list``` elemeit egy-egy változóba szeretnénk eltárolni a könnyebb feldolgozás érdekében. Ezt meg tudjuk tenni az alábbi módon:"
   ]
  },
  {
   "cell_type": "code",
   "execution_count": 10,
   "id": "6c5e472b-ceec-452f-b9bd-016011795eff",
   "metadata": {},
   "outputs": [
    {
     "name": "stdout",
     "output_type": "stream",
     "text": [
      "1 2 3 4 5\n"
     ]
    }
   ],
   "source": [
    "t = (1, 2, 3, 4, 5)\n",
    "a, b, c, d, e = t\n",
    "print(a, b, c, d, e)"
   ]
  },
  {
   "cell_type": "markdown",
   "id": "153d64b7-3f02-4505-8069-cf3903b0f000",
   "metadata": {},
   "source": [
    "A ```t``` változó egy 5 elemű ```tuple```-t tárol. Ezeket az értékeket rendre eltároljuk az ```a```, ```b```, ```c```, ```d``` és ```e``` változókba. Ilyet eddig tudtunk, nincs benne újdonság. Azonban, mi van akkor, ha nekünk nincs szükségünk a ```tuple``` összes elemére, csak mondjuk az első kettőre meg az utolsó előttire? Azaz, ha a fenti példát nézzük, akkor a ```c``` és az ```e``` változók tartalmát nem szeretnénk felhasználni, tegyük fel. Persze semmi nem kötelez minket arra, hogy felhasználjuk őket. De ezt a tényt nagyon szépen tudjuk jelezni, ha ilyen esetben az alulvonást használjuk változónévként. Ezzel ránézésre is látszik bárki számára, hogy azokkal az értékekkel biztosan nem fogunk számítást végezni. Ebben az esetben így járunk el:"
   ]
  },
  {
   "cell_type": "code",
   "execution_count": 11,
   "id": "e280f577-e9e1-47ca-ab99-cf1334f597a2",
   "metadata": {},
   "outputs": [
    {
     "name": "stdout",
     "output_type": "stream",
     "text": [
      "1 2 4\n"
     ]
    }
   ],
   "source": [
    "t = (1, 2, 3, 4, 5)\n",
    "a, b, _, d, _ = t\n",
    "print(a, b, d)"
   ]
  },
  {
   "cell_type": "markdown",
   "id": "edd56d13-ff8e-4dcf-9eb2-e0efa26ae682",
   "metadata": {},
   "source": [
    "A fenti kód ez alapján elég beszédes. Egyértelműen utal arra, hogy a ```t``` ```tuple```-ből a 2. és a 4. indexeken található elemeket nem fogjuk felhasználni az adott feladat, számítás során.\n",
    "\n",
    "Persze ettől az ```_``` változó még ugyanúgy funkcionál változóként. Ha például kiírjuk az értékét, akkor látjuk, hogy az ```5``` található benne, hiszen ezt az értéket (a ```t``` utolsó elemét) helyeztük el benne utoljára."
   ]
  },
  {
   "cell_type": "code",
   "execution_count": 12,
   "id": "0a7b6e55-413a-4c39-a88b-f4f103f0fe67",
   "metadata": {},
   "outputs": [
    {
     "name": "stdout",
     "output_type": "stream",
     "text": [
      "5\n"
     ]
    }
   ],
   "source": [
    "print(_)"
   ]
  },
  {
   "cell_type": "markdown",
   "id": "a1f6b99e-ba6a-4433-a84c-3b32ea177e24",
   "metadata": {},
   "source": [
    "Ugyanezen elven használhatjuk arra is, hogy ha egy függvénynek több visszatérési értéke van, de nekünk az adott helyzetben nincs szükségünk mindegyikre, akkor a feleslegeseket mindig az ```_``` nevű változóba tároljuk el.\n",
    "\n",
    "Nézzünk erre egy példát! Ehhez először készítsünk egy függvényt, amely bemenetként várja egy tetszőleges téglalap két különböző oldalhosszát (```w``` és ```l``` bemeneti változók). Ezek alapján határozzuk meg a téglalap\n",
    "* kerületét,\n",
    "* területét,\n",
    "* átlóját,\n",
    "* és annak tényét, hogy négyzet vagy sem.\n",
    "\n",
    "Ez a 4 tulajdonság, a fenti sorrendben legyen a visszatérési értéke a függvénynek."
   ]
  },
  {
   "cell_type": "code",
   "execution_count": 20,
   "id": "3a9caafc-3acd-4fbd-a1e4-983d6633c3f9",
   "metadata": {},
   "outputs": [
    {
     "name": "stdout",
     "output_type": "stream",
     "text": [
      "10, 6, 3.605551275463989, False\n",
      "48, 144, 16.97056274847714, True\n"
     ]
    }
   ],
   "source": [
    "def calcRectangleProperties(w, l):\n",
    "    perimeter = 2 * (w + l)\n",
    "    area = w * l\n",
    "    diagonal = (w**2 + l**2)**0.5\n",
    "    isSquare = w == l\n",
    "    return perimeter, area, diagonal, isSquare\n",
    "\n",
    "p, a, d, issq = calcRectangleProperties(2, 3)\n",
    "print(p, a, d, issq, sep=\", \")\n",
    "\n",
    "p, a, d, issq = calcRectangleProperties(12, 12)\n",
    "print(p, a, d, issq, sep=\", \")"
   ]
  },
  {
   "cell_type": "markdown",
   "id": "1f1bf223-4b82-4cd5-83f6-e7b19aacb44e",
   "metadata": {},
   "source": [
    "Tegyük fel, hogy számunkra most csak a téglalap területe az érdekes, a többi tulajdonságát most nem szeretnénk felhasználni. Nyilván megtehetjük azt, hogy a fenti kódban csak az ```a``` változóban található területet használjuk fel, és a ```p```, ```d``` valamint ```issq``` változókat nem használjuk fel sehol. Sokkal szemléletesebb és átláthatóbb a kód, ha ennek a tényét jelezzük azzal, hogy a számunkra éppen szükségtelen számítási eredményeket az ```_``` változóba helyezzük:"
   ]
  },
  {
   "cell_type": "code",
   "execution_count": 21,
   "id": "15584cc3-407d-4336-b615-02a489d73f9a",
   "metadata": {},
   "outputs": [
    {
     "name": "stdout",
     "output_type": "stream",
     "text": [
      "144\n"
     ]
    }
   ],
   "source": [
    "_, a, _, _ = calcRectangleProperties(12, 12)\n",
    "print(a)"
   ]
  },
  {
   "cell_type": "markdown",
   "id": "af9209c9-c7f0-4163-8071-ffeff17ed80c",
   "metadata": {},
   "source": [
    "Így ha valaki először látja a kódunkat, akkor is egyértelmű lesz számára, hogy az adott feladatban nekünk csak a területre volt szükségünk, a többi tulajdonság felhasználását ne is keressük a kód további részeiben."
   ]
  },
  {
   "cell_type": "markdown",
   "id": "52b83ef5-0fa1-461c-b6b5-ac95d2a1aae5",
   "metadata": {},
   "source": [
    "Egy másik nagyon gyakori esete az alulvonás, mint változónév alkalmazásának a ciklusok esetén jön elő. A ciklusokat sok esetben arra használjuk, hogy végig iteráljunk egy listán vagy egy rendezett n-esen, esetleg egy szótáron. Iterálás során pedig minden egyes elemen ugyanazt a műveletet szeretnénk végrehajtani. Egy másik gyakori esete a ciklusok használatának, amikor adott műveletet előre meghatározott mennyiségben végre szeretnénk hajtani. Mondjuk egy olyan programot akarunk írni, ami tetszőleges mennyiségű számot össze tud adni. Készítsük is ezt el és nézzük meg, hogy hol jöhet itt jól az alulvonás! Először kérjük be a felhasználótól, hogy hány darab számot szeretn eösszegezni, majd kérjük be tőle a számokat és írjuk ki az összegzés eredményét."
   ]
  },
  {
   "cell_type": "code",
   "execution_count": 23,
   "id": "81a20bf6-f2d5-4634-91b1-ae61cb33844a",
   "metadata": {},
   "outputs": [
    {
     "name": "stdin",
     "output_type": "stream",
     "text": [
      "Hány számot szeretne összegezni? 3\n",
      "Kérem a következő számot! 10\n",
      "Kérem a következő számot! 20\n",
      "Kérem a következő számot! 30\n"
     ]
    },
    {
     "name": "stdout",
     "output_type": "stream",
     "text": [
      "Az 3 darab szám szummája 60.0\n"
     ]
    }
   ],
   "source": [
    "n = int(input(\"Hány számot szeretne összegezni?\"))\n",
    "\n",
    "sum = 0\n",
    "\n",
    "for i in range(n):\n",
    "    sum += float(input(\"Kérem a következő számot!\"))\n",
    "\n",
    "print(f\"Az {n} darab szám szummája {sum}\")"
   ]
  },
  {
   "cell_type": "markdown",
   "id": "1c1c0164-2c66-44bf-9da9-626565a2ad3b",
   "metadata": {},
   "source": [
    "A fenti kódban a ```for``` ciklus ```n```-szer fog lefutni, ahol ```n``` értékét közvetlenül előtte a felhasználótól kérjük be."
   ]
  },
  {
   "cell_type": "code",
   "execution_count": null,
   "id": "fbeed833-b7fc-4844-9cb6-84c9c6805978",
   "metadata": {},
   "outputs": [],
   "source": []
  }
 ],
 "metadata": {
  "kernelspec": {
   "display_name": "Python 3 (ipykernel)",
   "language": "python",
   "name": "python3"
  },
  "language_info": {
   "codemirror_mode": {
    "name": "ipython",
    "version": 3
   },
   "file_extension": ".py",
   "mimetype": "text/x-python",
   "name": "python",
   "nbconvert_exporter": "python",
   "pygments_lexer": "ipython3",
   "version": "3.8.10"
  }
 },
 "nbformat": 4,
 "nbformat_minor": 5
}
