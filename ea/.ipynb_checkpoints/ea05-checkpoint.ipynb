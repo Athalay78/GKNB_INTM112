{
 "cells": [
  {
   "cell_type": "markdown",
   "id": "aa43399a-0b44-4946-ae21-f5ffa45277ef",
   "metadata": {},
   "source": [
    "# 5. előadás\n",
    "\n",
    "* Külső könyvtárak használata, math könyvtár bevezetése\n",
    "* dict\n",
    "* enumerate\n",
    "* zip\n",
    "* comprehension"
   ]
  },
  {
   "cell_type": "markdown",
   "id": "eafc4a4d-6e40-4495-a715-f0790c6fef6d",
   "metadata": {},
   "source": [
    "## Modulok\n",
    "\n",
    "A modulok segítségével lehetőségünk van arra, hogy szorosan összekapcsolódó funkcionalitásokat, programrészleteket összekapcsoljunk és egy egységként legyünk képesek kezelni. Számos feladatra, problémára léteznek ma már kész modulok, amiket csak fel kell használnunk. Ilyen modulokat beépítve is tartalmaz a Python, de külső fejlesztők által létrehozott modulok is elérhetők. Melyek közül bizonyos modulok adott feladat tekintetében széles körben elfogadott standardként kezelhetők. A későbbiek során ilyen külső könyvtárakkal meg fogunk ismerkedni. Egyelőre nézzünk meg egy beépített modult, ami sok feladat esetén hasznos.\n",
    "\n",
    "## A math modul\n",
    "\n",
    "A ```math``` modul segítségével alapvető matematikai állandókhoz, gyakorta használt matematikai függvényekhez férünk hozzá. Először nézzük meg mit kell tennünk, ha használni szeretnénk a ```math``` modult!"
   ]
  },
  {
   "cell_type": "code",
   "execution_count": 2,
   "id": "6b952589-e4ce-4880-aa62-384f53a95626",
   "metadata": {},
   "outputs": [],
   "source": [
    "import math"
   ]
  },
  {
   "cell_type": "markdown",
   "id": "8207e3f5-97a4-409c-afe7-df58b5afd471",
   "metadata": {},
   "source": [
    "Ha egy modult használni szeretnénk, akkor azt mindenek előtt importálni szükséges. Ehhez a fent látható utasítást kell kiadnunk. Az ```import math``` utasítás utántól kezdve a ```math``` modulhoz hozzáférünk, fel tudjuk használni. Nézzük meg, hogy milyen, gyakran használt lehetőségeket nyújt számunkra!\n",
    "\n",
    "Konstansként tartalmazza a [$\\pi$](https://en.wikipedia.org/wiki/Pi) értékét 15 tizedesjegy pontosságig, amit a ```pi``` változóban találunk. Mivel a ```pi``` változó most a ```math``` modulon belül van, ezért ezt jelezni kell azzal, hogy elé írjuk a modul nevet és egy pontot."
   ]
  },
  {
   "cell_type": "code",
   "execution_count": 5,
   "id": "81921a6d-9fdc-4f59-a804-4a4f3caeadf2",
   "metadata": {},
   "outputs": [
    {
     "name": "stdout",
     "output_type": "stream",
     "text": [
      "3.141592653589793\n"
     ]
    }
   ],
   "source": [
    "print(math.pi)"
   ]
  },
  {
   "cell_type": "markdown",
   "id": "d324c1f0-7444-457f-b5c4-77c5da40acd3",
   "metadata": {},
   "source": [
    "Hasonló módon az [$e$](https://en.wikipedia.org/wiki/E_(mathematical_constant)) értékét is megtaláljuk a ```math``` modulban."
   ]
  },
  {
   "cell_type": "code",
   "execution_count": 6,
   "id": "be5feb8e-2639-410c-9cc6-d463ec2d0334",
   "metadata": {},
   "outputs": [
    {
     "name": "stdout",
     "output_type": "stream",
     "text": [
      "2.718281828459045\n"
     ]
    }
   ],
   "source": [
    "print(math.e)"
   ]
  },
  {
   "cell_type": "markdown",
   "id": "b878b76c-f48f-4b2b-9d2b-a195e86a9aae",
   "metadata": {},
   "source": [
    "Természetesen nem csak matematikai konstansok, de számos funkció is elérhető a ```math``` könyvtáron keresztül. Nézzünk meg ezek közül néhány fontosabbat!\n",
    "\n",
    "* ```math.ceil```\n",
    "\n",
    "A paraméterül kapott számot egészre felfelé kerekíti."
   ]
  },
  {
   "cell_type": "code",
   "execution_count": 11,
   "id": "0f96e800-73a2-4aee-9ed6-70b0e11f2804",
   "metadata": {},
   "outputs": [
    {
     "name": "stdout",
     "output_type": "stream",
     "text": [
      "2\n",
      "3\n",
      "3\n"
     ]
    }
   ],
   "source": [
    "print(math.ceil(2.0))\n",
    "print(math.ceil(2.1))\n",
    "print(math.ceil(2.9))"
   ]
  },
  {
   "cell_type": "markdown",
   "id": "656073b7-f778-45d2-a492-240601c13864",
   "metadata": {},
   "source": [
    "* ```math.floor```\n",
    "\n",
    "A paraméterül kapott számot egészre lefelé kerekíti."
   ]
  },
  {
   "cell_type": "code",
   "execution_count": 14,
   "id": "32322c06-aea0-450c-a7e1-075322d8db20",
   "metadata": {},
   "outputs": [
    {
     "name": "stdout",
     "output_type": "stream",
     "text": [
      "2\n",
      "2\n",
      "2\n"
     ]
    }
   ],
   "source": [
    "print(math.floor(2.0))\n",
    "print(math.floor(2.1))\n",
    "print(math.floor(2.9))"
   ]
  },
  {
   "cell_type": "markdown",
   "id": "ced2feb9-11b9-4c79-b2c5-dc7f78b47da2",
   "metadata": {},
   "source": [
    "* ```math.pow```\n",
    "\n",
    "Hatványozni tudunk vele. Első paraméter az alap, második paraméter a kitevő. A visszatérési értéke lesz a hatványozás eredménye."
   ]
  },
  {
   "cell_type": "code",
   "execution_count": 16,
   "id": "d3ad1839-1d68-4a97-aaca-e9f26adc8cdd",
   "metadata": {},
   "outputs": [
    {
     "name": "stdout",
     "output_type": "stream",
     "text": [
      "Három a hetediken eredménye: 2187.0\n"
     ]
    }
   ],
   "source": [
    "x = math.pow(3, 7)\n",
    "print(\"Három a hetediken eredménye:\", x)"
   ]
  },
  {
   "cell_type": "markdown",
   "id": "a04dc3e3-75f1-452a-8a29-8caeaf0c0abb",
   "metadata": {},
   "source": [
    "* ```math.sqrt```\n",
    "\n",
    "A megadott számt gyökét kapjuk visszatérési értékül."
   ]
  },
  {
   "cell_type": "code",
   "execution_count": 19,
   "id": "5baae8cd-b23e-42de-ae40-9d0842cd27ff",
   "metadata": {},
   "outputs": [
    {
     "name": "stdout",
     "output_type": "stream",
     "text": [
      "3.0\n"
     ]
    }
   ],
   "source": [
    "x = math.sqrt(9)\n",
    "print(x)"
   ]
  },
  {
   "cell_type": "markdown",
   "id": "5cbde070-1499-4361-b9ee-2dbcfc62f1a5",
   "metadata": {},
   "source": [
    "Fontos! A komplex számok halmazán nem tudunk ennek segítségével számolni!"
   ]
  },
  {
   "cell_type": "code",
   "execution_count": 20,
   "id": "319cda2e-027e-40e0-be38-f1f416783d95",
   "metadata": {},
   "outputs": [
    {
     "ename": "ValueError",
     "evalue": "math domain error",
     "output_type": "error",
     "traceback": [
      "\u001b[0;31m---------------------------------------------------------------------------\u001b[0m",
      "\u001b[0;31mValueError\u001b[0m                                Traceback (most recent call last)",
      "Cell \u001b[0;32mIn[20], line 1\u001b[0m\n\u001b[0;32m----> 1\u001b[0m \u001b[38;5;28mprint\u001b[39m(\u001b[43mmath\u001b[49m\u001b[38;5;241;43m.\u001b[39;49m\u001b[43msqrt\u001b[49m\u001b[43m(\u001b[49m\u001b[38;5;241;43m-\u001b[39;49m\u001b[38;5;241;43m1\u001b[39;49m\u001b[43m)\u001b[49m)\n",
      "\u001b[0;31mValueError\u001b[0m: math domain error"
     ]
    }
   ],
   "source": [
    "print(math.sqrt(-1))"
   ]
  },
  {
   "cell_type": "markdown",
   "id": "f20b92b1-6ec5-4e83-973b-ff8a81181ccc",
   "metadata": {},
   "source": [
    "[Bővebben a ```math``` modulról.](https://docs.python.org/3/library/math.html)"
   ]
  },
  {
   "cell_type": "markdown",
   "id": "26112f85-a3db-43a1-8bbb-cdeaa752ce6f",
   "metadata": {},
   "source": [
    "* ```math.sin```\n",
    "\n",
    "Megadott érték szinuszát kapjuk vissza. A bemenetet radiánban kell értelmezni."
   ]
  },
  {
   "cell_type": "code",
   "execution_count": 4,
   "id": "0285aefe-c59f-4a1c-bb89-12873b46a6fd",
   "metadata": {},
   "outputs": [
    {
     "name": "stdout",
     "output_type": "stream",
     "text": [
      "1.2246467991473532e-16\n"
     ]
    }
   ],
   "source": [
    "print(math.sin(0))"
   ]
  },
  {
   "cell_type": "markdown",
   "id": "87bc844a-2aab-49e9-b824-5ab20e81d08d",
   "metadata": {},
   "source": [
    "* ```math.cos```\n",
    "\n",
    "A megadott érték koszinuszát kapjuk vissza. Itt is radián kell legyen a bemenet."
   ]
  },
  {
   "cell_type": "markdown",
   "id": "29f76ea6-931b-4c03-a9ae-5272c04a826a",
   "metadata": {},
   "source": [
    "* ```math.degrees```"
   ]
  },
  {
   "cell_type": "markdown",
   "id": "1874810c-ebf6-4a7f-b6e3-69aac735a47a",
   "metadata": {},
   "source": [
    "* ```math.radians```"
   ]
  },
  {
   "cell_type": "markdown",
   "id": "08b0cc00-f306-4a30-91eb-25fcda7ebb20",
   "metadata": {},
   "source": [
    "* ```math.inf```"
   ]
  },
  {
   "cell_type": "markdown",
   "id": "fab6c5a6-68c3-450c-8ea8-4081028c3389",
   "metadata": {},
   "source": [
    "* ```math.nan```"
   ]
  },
  {
   "cell_type": "markdown",
   "id": "81c7b339-8bce-42a6-9b24-7d22d0669c9c",
   "metadata": {},
   "source": [
    "## Szótár (```dict```)"
   ]
  },
  {
   "cell_type": "code",
   "execution_count": null,
   "id": "1f348c09-602f-43e7-83c4-2d929cbd224f",
   "metadata": {},
   "outputs": [],
   "source": []
  }
 ],
 "metadata": {
  "kernelspec": {
   "display_name": "Python 3 (ipykernel)",
   "language": "python",
   "name": "python3"
  },
  "language_info": {
   "codemirror_mode": {
    "name": "ipython",
    "version": 3
   },
   "file_extension": ".py",
   "mimetype": "text/x-python",
   "name": "python",
   "nbconvert_exporter": "python",
   "pygments_lexer": "ipython3",
   "version": "3.8.10"
  }
 },
 "nbformat": 4,
 "nbformat_minor": 5
}
