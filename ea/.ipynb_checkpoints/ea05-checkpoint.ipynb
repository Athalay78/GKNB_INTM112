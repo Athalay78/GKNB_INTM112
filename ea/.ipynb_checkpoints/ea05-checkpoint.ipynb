{
 "cells": [
  {
   "cell_type": "markdown",
   "id": "aa43399a-0b44-4946-ae21-f5ffa45277ef",
   "metadata": {},
   "source": [
    "# 5. előadás\n",
    "\n",
    "* Külső könyvtárak használata, math könyvtár bevezetése\n",
    "* dict\n",
    "* enumerate\n",
    "* zip\n",
    "* comprehension"
   ]
  },
  {
   "cell_type": "code",
   "execution_count": null,
   "id": "987cfed7-6aae-4c8e-b3c0-9e0822ba2a79",
   "metadata": {},
   "outputs": [],
   "source": []
  }
 ],
 "metadata": {
  "kernelspec": {
   "display_name": "Python 3 (ipykernel)",
   "language": "python",
   "name": "python3"
  },
  "language_info": {
   "codemirror_mode": {
    "name": "ipython",
    "version": 3
   },
   "file_extension": ".py",
   "mimetype": "text/x-python",
   "name": "python",
   "nbconvert_exporter": "python",
   "pygments_lexer": "ipython3",
   "version": "3.8.10"
  }
 },
 "nbformat": 4,
 "nbformat_minor": 5
}
