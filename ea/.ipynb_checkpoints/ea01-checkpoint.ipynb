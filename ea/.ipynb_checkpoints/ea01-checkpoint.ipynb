{
 "cells": [
  {
   "cell_type": "markdown",
   "id": "e21c7688-bc3c-4621-9e82-cb6895d4668c",
   "metadata": {},
   "source": [
    "# 1. előadás"
   ]
  },
  {
   "cell_type": "markdown",
   "id": "f3afd41b-b4ae-40c9-87bc-e054e33de82b",
   "metadata": {},
   "source": [
    "_TODO: Bevezetés, technikai tudnivalók_\n",
    "\n",
    " * print függvény\n",
    " * alapvető aritmetikai műveletek\n",
    " * int, float és string típusok\n",
    " * megjegyzés"
   ]
  },
  {
   "cell_type": "markdown",
   "id": "f1ba0d35-9214-47a8-b944-2dbf7e7f7be4",
   "metadata": {},
   "source": [
    "## Helló, Világ!\n",
    "\n",
    "Első programunk a \"Helló, Világ!\" üzenetet jelenti meg a képenyőn. [Régi szokás szerint a legtöbb tankönyv, tananyag ezzel az egyszerű programmal indít.](https://en.wikipedia.org/wiki/%22Hello,_World!%22_program)\n",
    "\n"
   ]
  },
  {
   "cell_type": "code",
   "execution_count": 1,
   "id": "37dd55ec-73a9-4f8c-8286-3e549af45da7",
   "metadata": {},
   "outputs": [
    {
     "name": "stdout",
     "output_type": "stream",
     "text": [
      "Helló, Világ!\n"
     ]
    }
   ],
   "source": [
    "print(\"Helló, Világ!\")"
   ]
  },
  {
   "cell_type": "markdown",
   "id": "f1483f17-a245-40bc-a49a-37f460417bc9",
   "metadata": {},
   "source": [
    "A programunk a ```print``` kulcsszóval kezdődik, ami egy függvénynek a neve. A függvények kerek zárójelpár között várnak meghatározott paramétereket. A ```print``` függvény számára azt kell megadni, hogy mit írjon a kimenetre.\n",
    "\n",
    "[Bővebben a ```print``` függvényről.](https://www.w3schools.com/python/ref_func_print.asp)\n",
    "\n",
    "Bármilyen tetszőleges szöveget megadhatunk idézőjelek (```\"```) vagy aposztrófok (```'```) között. Mindegy, hogy melyik használjuk, nincs különbség."
   ]
  },
  {
   "cell_type": "code",
   "execution_count": 2,
   "id": "65c23add-7003-4729-9be4-d7c6cc32e26a",
   "metadata": {},
   "outputs": [
    {
     "name": "stdout",
     "output_type": "stream",
     "text": [
      "Rendőr, postás, pék is lennék, / kertésznek is vígan mennék, / de leginkább azért főleg / machine learning szakértőnek.\n"
     ]
    }
   ],
   "source": [
    "print(\"Rendőr, postás, pék is lennék, / kertésznek is vígan mennék, / de leginkább azért főleg / machine learning szakértőnek.\")"
   ]
  },
  {
   "cell_type": "code",
   "execution_count": 3,
   "id": "3940b71c-f0b1-452d-89a5-f2ec5286642d",
   "metadata": {},
   "outputs": [
    {
     "name": "stdout",
     "output_type": "stream",
     "text": [
      "Rendőr, postás, pék is lennék, / kertésznek is vígan mennék, / de leginkább azért főleg / machine learning szakértőnek.\n"
     ]
    }
   ],
   "source": [
    "print('Rendőr, postás, pék is lennék, / kertésznek is vígan mennék, / de leginkább azért főleg / machine learning szakértőnek.')"
   ]
  },
  {
   "cell_type": "markdown",
   "id": "dc5e9105-d1ff-491d-b7ae-56c322d2ea51",
   "metadata": {},
   "source": [
    "Természetesen egy program nem csak egy sorból állhat. Lehetőségünk van arra is, hogy egymás után több utasítást adjunk meg. Például több ```print``` függvényt írunk egymás utáni sorokba.\n",
    "\n",
    "Ilyenkor az egyes utasítások egymás után, fentről lefelé haladva kerülnek végrehajtása. Ezt nevezzük szekvenciális végrehajtásnak. A kimeneten is ennek megfelelően jelennek meg egymás után (egymás alatt) az üzenetek.\n",
    "\n",
    "Így [Varró Dániel](https://hu.wikipedia.org/wiki/Varr%C3%B3_D%C3%A1niel) versét törtvonalak nélkül, több sorban is megjeleníthetjük:"
   ]
  },
  {
   "cell_type": "code",
   "execution_count": 4,
   "id": "0230351d-61f1-43dc-9f78-398b002abce9",
   "metadata": {},
   "outputs": [
    {
     "name": "stdout",
     "output_type": "stream",
     "text": [
      "Rendőr, postás, pék is lennék,\n",
      "kertésznek is vígan mennék,\n",
      "de leginkább azért főleg\n",
      "machine learning szakértőnek.\n"
     ]
    }
   ],
   "source": [
    "print(\"Rendőr, postás, pék is lennék,\")\n",
    "print(\"kertésznek is vígan mennék,\")\n",
    "print(\"de leginkább azért főleg\")\n",
    "print(\"machine learning szakértőnek.\")"
   ]
  },
  {
   "cell_type": "markdown",
   "id": "9242bf00-b3f4-44bb-973e-76f5413dcd9f",
   "metadata": {},
   "source": [
    "## Aritmetikai műveletek\n",
    "\n",
    "\n",
    "A ```print``` függvény segítségével nem csak konstans szövegeket, de matematikai kifejezéseket is lehetőségünk van megjeleníteni. Ilyenkor a fordító kiértékeli a kifejezést, kiszámítja annak eredményét, majd az eredményt fogja a ```print``` függvény a kimeneten megjeleníteni.\n",
    "\n",
    "A következő 7 alapvető aritmetikai műveletet használhatjuk Python nyelven:\n",
    "\n",
    "* Összeadás: ```+```"
   ]
  },
  {
   "cell_type": "code",
   "execution_count": 5,
   "id": "bf98f76f-aa37-43ac-aebd-96641f6f501f",
   "metadata": {},
   "outputs": [
    {
     "name": "stdout",
     "output_type": "stream",
     "text": [
      "5\n"
     ]
    }
   ],
   "source": [
    "print(2+3)"
   ]
  },
  {
   "cell_type": "markdown",
   "id": "35c69b63-3503-4e42-940f-1c8634b18c73",
   "metadata": {},
   "source": [
    " - Kivonás: ```-```"
   ]
  },
  {
   "cell_type": "code",
   "execution_count": 6,
   "id": "256700b8-1801-4fbe-890b-ff188de36395",
   "metadata": {},
   "outputs": [
    {
     "name": "stdout",
     "output_type": "stream",
     "text": [
      "-1\n"
     ]
    }
   ],
   "source": [
    "print(2-3)"
   ]
  },
  {
   "cell_type": "markdown",
   "id": "7dc16b41-bafd-4870-9d20-a3775a964208",
   "metadata": {},
   "source": [
    " - Szorzás: ```*```"
   ]
  },
  {
   "cell_type": "code",
   "execution_count": 7,
   "id": "2ee3bff8-076c-4381-a243-a39545454611",
   "metadata": {},
   "outputs": [
    {
     "name": "stdout",
     "output_type": "stream",
     "text": [
      "6\n"
     ]
    }
   ],
   "source": [
    "print(2*3)"
   ]
  },
  {
   "cell_type": "markdown",
   "id": "8b63d70b-e831-4401-9309-8deb08ecdec8",
   "metadata": {},
   "source": [
    " - Osztás: ```/```"
   ]
  },
  {
   "cell_type": "code",
   "execution_count": 8,
   "id": "f7179443-3b7e-4cb3-a42f-14333dca0460",
   "metadata": {},
   "outputs": [
    {
     "name": "stdout",
     "output_type": "stream",
     "text": [
      "0.6666666666666666\n"
     ]
    }
   ],
   "source": [
    "print(2/3)"
   ]
  },
  {
   "cell_type": "markdown",
   "id": "a4263ebc-3cf0-44bc-95e9-e71b93f7b16b",
   "metadata": {},
   "source": [
    " - Maradékos osztás: ```%```\n",
    "\n",
    "Az osztás maradékát fogja megadni. A példában: kettőben a három megvan nulla egésszer, és maradék a kettő."
   ]
  },
  {
   "cell_type": "code",
   "execution_count": 9,
   "id": "fef0b7ad-582e-4e95-bcbb-afe74182135c",
   "metadata": {},
   "outputs": [
    {
     "name": "stdout",
     "output_type": "stream",
     "text": [
      "2\n"
     ]
    }
   ],
   "source": [
    "print(2%3)"
   ]
  },
  {
   "cell_type": "markdown",
   "id": "3bdfe97c-5619-4d86-b8f0-cc92fdded64b",
   "metadata": {},
   "source": [
    " - Hatványozás: ```**```\n",
    "\n",
    "Az ```**``` operátor elé kerül az alap, utána pedig a kitevő. A példában: kettő a harmadik hatványon."
   ]
  },
  {
   "cell_type": "code",
   "execution_count": 10,
   "id": "e765ee68-3aed-4d82-97e5-03b28e42d582",
   "metadata": {},
   "outputs": [
    {
     "name": "stdout",
     "output_type": "stream",
     "text": [
      "8\n"
     ]
    }
   ],
   "source": [
    "print(2**3)"
   ]
  },
  {
   "cell_type": "markdown",
   "id": "26a85b43-d5de-49cc-a5fc-086785b7c7f0",
   "metadata": {},
   "source": [
    "- Egészosztás: ```//```\n",
    "\n",
    "Megadja lefelé kerekítve az osztás eredményét. A példában: a három a kettőben nulla egésszer van meg."
   ]
  },
  {
   "cell_type": "code",
   "execution_count": 11,
   "id": "e2af82d4-0b53-4fdf-a6e3-fc3c1a3a164c",
   "metadata": {},
   "outputs": [
    {
     "name": "stdout",
     "output_type": "stream",
     "text": [
      "0\n"
     ]
    }
   ],
   "source": [
    "print(2//3)"
   ]
  },
  {
   "cell_type": "markdown",
   "id": "e79a6a7b-d277-4a2a-89e3-47a5a589c608",
   "metadata": {},
   "source": [
    "Lehetőségünk van összetettebb kifejezések megfogalmazására is. A végrehajtás tekintetében a matematikában megszokott szabályok érvényesülnek."
   ]
  },
  {
   "cell_type": "code",
   "execution_count": 12,
   "id": "59edcca1-c3e9-46cd-a408-e037e69f694b",
   "metadata": {},
   "outputs": [
    {
     "name": "stdout",
     "output_type": "stream",
     "text": [
      "5\n"
     ]
    }
   ],
   "source": [
    "print(2*3-1)"
   ]
  },
  {
   "cell_type": "code",
   "execution_count": 13,
   "id": "bc22cfad-ad84-413d-9367-181b83308523",
   "metadata": {},
   "outputs": [
    {
     "name": "stdout",
     "output_type": "stream",
     "text": [
      "81\n"
     ]
    }
   ],
   "source": [
    "print(3**3*3)"
   ]
  },
  {
   "cell_type": "markdown",
   "id": "9967b151-1b5d-435c-8dfb-230c41576ee7",
   "metadata": {},
   "source": [
    "Zárójelek segítségével tudjuk szabályozni a végrehajtás sorrendjét."
   ]
  },
  {
   "cell_type": "code",
   "execution_count": 14,
   "id": "34dccb5c-55c9-48f7-b046-476b615e778e",
   "metadata": {},
   "outputs": [
    {
     "name": "stdout",
     "output_type": "stream",
     "text": [
      "4\n"
     ]
    }
   ],
   "source": [
    "print(2*(3-1))"
   ]
  },
  {
   "cell_type": "code",
   "execution_count": 15,
   "id": "8e68389a-57dc-4907-b6a4-ffff770baa2a",
   "metadata": {},
   "outputs": [
    {
     "name": "stdout",
     "output_type": "stream",
     "text": [
      "19683\n"
     ]
    }
   ],
   "source": [
    "print(3**(3*3))"
   ]
  },
  {
   "cell_type": "markdown",
   "id": "125345bc-57c0-43ef-890a-2f319e0b1942",
   "metadata": {},
   "source": [
    "## Összetett üzenetek kiírása\n",
    "\n",
    "Lehetőségünk van arra is, hogy a ```print``` segítségével összetett, több üzenetből álló kiírásokat hajtsunk végre. Például szeretnénk megjeleníteni egy szöveget, majd utána egy számítási eredményt is."
   ]
  },
  {
   "cell_type": "code",
   "execution_count": 16,
   "id": "ebfac4e7-b85e-42d9-a9bd-1727f1a249b0",
   "metadata": {},
   "outputs": [
    {
     "name": "stdout",
     "output_type": "stream",
     "text": [
      "A kettő és a három szorzatának eredménye: 6\n"
     ]
    }
   ],
   "source": [
    "print(\"A kettő és a három szorzatának eredménye:\", 2*3)"
   ]
  },
  {
   "cell_type": "markdown",
   "id": "08154540-5374-43f5-a175-2a76d2365f29",
   "metadata": {},
   "source": [
    "Ilyenkor az egyes üzeneteket vesszővel elválasztva soroljuk fel a zárójelen belül. Az előző példában először egy szöveget, majd egy matematikai kifejezés eredményét jelenítjük meg.\n",
    "\n",
    "Természetesen kettőnél több paraméter is állhat itt, mindig vesszővel elválasztva egymástól."
   ]
  },
  {
   "cell_type": "code",
   "execution_count": 17,
   "id": "816717dc-2259-4985-bb82-8ee7af819a02",
   "metadata": {},
   "outputs": [
    {
     "name": "stdout",
     "output_type": "stream",
     "text": [
      "Ada Lovelace 1815-ben született, 208 évvel ezelőtt. 1852-ben ( 37 . évében) hunyt el.\n"
     ]
    }
   ],
   "source": [
    "print(\"Ada Lovelace 1815-ben született,\", 2023-1815, \"évvel ezelőtt. 1852-ben (\", 1852-1815, \". évében) hunyt el.\")"
   ]
  },
  {
   "cell_type": "markdown",
   "id": "936156a8-7cc2-4968-9022-dfc4aae5d81e",
   "metadata": {},
   "source": [
    "Látható, hogy a vesszővel elválasztott elemek közé automatikusan egy-egy szóköz kerül a kimeneten. Ezért van az, hogy a ```2023-1815``` kifejezés előtti szövegrész végére és utáni szövegrész elejére nem raktunk szóköz karaktert. Viszont az ```1852-1815``` kifejezés esetén más a helyzet. Itt is láthatjuk az automatikus szóközeket, viszont itt egyik oldalra sem kellene.\n",
    "\n",
    "Hogyan lehet ezt orvosolni?\n",
    "\n",
    "A ```print``` függvény rendelkezik több opcionális paraméterrel. Az egyik ilyen a ```sep``` nevezetű, amely a \"separator\" szó rövidítéséből ered. Ennek segítségével megadható, hogy szóköz helyett milyen karaktert (vagy karaktersorozatot) illesszen be az egyes kiírandó elemek közé. Például megadhatjuk azt, a fenti szöveg esetén, hogy ne szerepeljen semmilyen elválasztó szöveg. Ehhez üres karaktersorozatot (```\"\"```) kell értékül adni a ```sep``` paraméternek a következő módon:"
   ]
  },
  {
   "cell_type": "code",
   "execution_count": 18,
   "id": "be12a338-aa79-4530-827b-b4f875c2b7b1",
   "metadata": {},
   "outputs": [
    {
     "name": "stdout",
     "output_type": "stream",
     "text": [
      "Ada Lovelace 1815-ben született,208évvel ezelőtt. 1852-ben (37. évében) hunyt el.\n"
     ]
    }
   ],
   "source": [
    "print(\"Ada Lovelace 1815-ben született,\", 2023-1815, \"évvel ezelőtt. 1852-ben (\", 1852-1815, \". évében) hunyt el.\", sep=\"\")"
   ]
  },
  {
   "cell_type": "markdown",
   "id": "f9fdc89a-b59b-44f6-886a-23cdbb8f7bb0",
   "metadata": {},
   "source": [
    "Látható, hogy az elválasztó szóközök eltűntek. Ezzel a zárójelbe írt életkor problémája megoldódott. Viszont a \"208\" előtt és után sincs így már szóköz, pedig ott szükség van rá. Ezért egyszerűbb, ha az előtte és utána található szövegrész végére és elejére fűzzük hozzá a kívánt elválasztó szóközöket. Így már megfelelő formában kapjuk meg a szöveget:"
   ]
  },
  {
   "cell_type": "code",
   "execution_count": 19,
   "id": "ee937d73-f850-483a-acd5-a602a8023190",
   "metadata": {},
   "outputs": [
    {
     "name": "stdout",
     "output_type": "stream",
     "text": [
      "Ada Lovelace 1815-ben született, 208 évvel ezelőtt. 1852-ben (37. évében) hunyt el.\n"
     ]
    }
   ],
   "source": [
    "print(\"Ada Lovelace 1815-ben született, \", 2023-1815, \" évvel ezelőtt. 1852-ben (\", 1852-1815, \". évében) hunyt el.\", sep=\"\")"
   ]
  },
  {
   "cell_type": "markdown",
   "id": "0ef8f834-a9bc-4a70-aaa2-dbeee83473fc",
   "metadata": {},
   "source": [
    "A ```sep``` paraméter értéke bármilyen más tetszőleges szöveg lehet, amit az adott feladat, elérendő cél megkíván. Például kifejezések eredményét pontosvesszővel tagoltan szeretnénk megjeleníteni. Ezt a következő módon tehetjük:"
   ]
  },
  {
   "cell_type": "code",
   "execution_count": 20,
   "id": "5283ac7f-85d3-4f96-b824-8dc2532b7cdf",
   "metadata": {},
   "outputs": [
    {
     "name": "stdout",
     "output_type": "stream",
     "text": [
      "1;2;4;8;16;32;64;128\n"
     ]
    }
   ],
   "source": [
    "print(2**0, 2**1, 2**2, 2**3, 2**4, 2**5, 2**6, 2**7, sep=\";\")"
   ]
  },
  {
   "cell_type": "markdown",
   "id": "c6b25e73-2e31-4058-8283-d919add830f4",
   "metadata": {},
   "source": [
    "A ```print``` függvény másik opcionális paramétere az ```end```. Ennek is egy karaktert vagy karaktersorozatot adhatunk meg. Ami az ```end``` értéke, azt a szöveget fogja az adott kiírás végére elhelyezni a ```print``` függvény. Ahogy a ```sep``` alapértelmezett értéke a szóköz, úgy az ```end``` alapértelmezett értéke a sortörés karakter. Ennek köszönhető, hogy ha egymás után több ```print``` függvényt hívunk meg, akkor az egyes kiírások egymás alatt, és nem egymás mellett fognak megjelenni a kimeneten.\n",
    "\n",
    "Az előző példa alapján, ha az utolsó kifejezés után is szeretnénk pontosvesszőt megjeleníteni, akkor azt a következő módon tehetjük meg:"
   ]
  },
  {
   "cell_type": "code",
   "execution_count": 21,
   "id": "e519d531-6de1-4d15-9f39-0165bafe6940",
   "metadata": {},
   "outputs": [
    {
     "name": "stdout",
     "output_type": "stream",
     "text": [
      "1;2;4;8;16;32;64;128;"
     ]
    }
   ],
   "source": [
    "print(2**0, 2**1, 2**2, 2**3, 2**4, 2**5, 2**6, 2**7, sep=\";\", end=\";\")"
   ]
  },
  {
   "cell_type": "markdown",
   "id": "6baf7749-2065-4b4c-9190-9bafccacb8fd",
   "metadata": {},
   "source": [
    "## Változók, típusok"
   ]
  },
  {
   "cell_type": "markdown",
   "id": "f2b899dd-6058-40a4-bfab-ef02352a1fe4",
   "metadata": {},
   "source": [
    "A változó egy egyedi névvel rendelkező memóriaterület, ahol tetszőleges értéket tárolhatunk és felhasználhatjuk azt. Az értéknek mindig meghatározott típusa van (pl. egész szám, szöveg). A változók bármilyen érték tárolására képeseket, de egy időben mindig egy értéket tudnak tárolni.\n",
    "\n",
    "### Int és float típusok, értékadás\n",
    "\n",
    "Például létrehozhatunk egy változót azért, hogy egy számot tároljunk benne:"
   ]
  },
  {
   "cell_type": "code",
   "execution_count": 22,
   "id": "1d9803e8-9192-46bd-b11f-73c731dc7593",
   "metadata": {},
   "outputs": [],
   "source": [
    "a = 42"
   ]
  },
  {
   "cell_type": "markdown",
   "id": "230347cc-08a3-4697-bc99-fb423a90287a",
   "metadata": {},
   "source": [
    "Most létezik egy ```a``` nevű változó, aminek az értéke 42. Ezt most már fel tudjuk használni. Például kiírhatjuk az értékét a ```print``` függvény segítségével."
   ]
  },
  {
   "cell_type": "code",
   "execution_count": 23,
   "id": "29fb790b-409f-40fc-9f17-5e5a4b0b1bc8",
   "metadata": {},
   "outputs": [
    {
     "name": "stdout",
     "output_type": "stream",
     "text": [
      "42\n"
     ]
    }
   ],
   "source": [
    "print(a)"
   ]
  },
  {
   "cell_type": "markdown",
   "id": "be83ab54-4c8d-4212-9225-ce9ad6aedcc9",
   "metadata": {},
   "source": [
    "De adhatunk hozzá tájékoztató szöveget is:"
   ]
  },
  {
   "cell_type": "code",
   "execution_count": 24,
   "id": "92ea1aeb-c11a-424e-9e82-a6709646f435",
   "metadata": {},
   "outputs": [
    {
     "name": "stdout",
     "output_type": "stream",
     "text": [
      "Az a nevű változó értéke: 42\n"
     ]
    }
   ],
   "source": [
    "print(\"Az a nevű változó értéke:\", a)"
   ]
  },
  {
   "cell_type": "markdown",
   "id": "a251a63f-85e5-4218-9fdf-d0c8989f1e3f",
   "metadata": {},
   "source": [
    "Egy változó értékét bármikor megváltoztathatjuk. Mindig az utoljára elhelyezett érték marad érvényben, a korábbi elvész."
   ]
  },
  {
   "cell_type": "code",
   "execution_count": 25,
   "id": "feb7329c-03d0-44f9-8095-1f0c3827e5c2",
   "metadata": {},
   "outputs": [
    {
     "name": "stdout",
     "output_type": "stream",
     "text": [
      "42\n",
      "9\n"
     ]
    }
   ],
   "source": [
    "print(a)\n",
    "a = 9\n",
    "print(a)"
   ]
  },
  {
   "cell_type": "markdown",
   "id": "91829865-14e7-4260-ab9b-e79002803023",
   "metadata": {},
   "source": [
    "Fontos, hogy csak olyan változót használhatunk fel, ami már létezik. Tehát legalább egyszer már adtunk neki értéket."
   ]
  },
  {
   "cell_type": "code",
   "execution_count": 26,
   "id": "186d3b40-268d-43a8-8f41-364e0ae7042d",
   "metadata": {},
   "outputs": [
    {
     "ename": "NameError",
     "evalue": "name 'b' is not defined",
     "output_type": "error",
     "traceback": [
      "\u001b[0;31m---------------------------------------------------------------------------\u001b[0m",
      "\u001b[0;31mNameError\u001b[0m                                 Traceback (most recent call last)",
      "Cell \u001b[0;32mIn[26], line 1\u001b[0m\n\u001b[0;32m----> 1\u001b[0m \u001b[38;5;28mprint\u001b[39m(\u001b[43mb\u001b[49m)\n",
      "\u001b[0;31mNameError\u001b[0m: name 'b' is not defined"
     ]
    }
   ],
   "source": [
    "print(b)"
   ]
  },
  {
   "cell_type": "markdown",
   "id": "966a5611-0d6c-4596-b662-4223165633fe",
   "metadata": {},
   "source": [
    "A ```b``` változó értékét nem tudjuk kiírnik, hiszen az jelenleg nem létezik."
   ]
  },
  {
   "cell_type": "markdown",
   "id": "4155d49e-33dc-468e-bbcd-050a20b98b1a",
   "metadata": {},
   "source": [
    "Egy változónak nem csak konstans számértéket adhatunk. Lehet az értéke matematikai kifejezés is. Itt ugyanaz van érvényben, mint a ```print``` függvény esetén. A kifejezés kiértékelésre kerül, majd annak az eredménye kerül a változóban eltárolásra."
   ]
  },
  {
   "cell_type": "code",
   "execution_count": 27,
   "id": "ebca2b41-1be2-4f5e-bf9f-6b1d2836ed01",
   "metadata": {},
   "outputs": [
    {
     "name": "stdout",
     "output_type": "stream",
     "text": [
      "72\n"
     ]
    }
   ],
   "source": [
    "b = 9 * 8\n",
    "print(b)"
   ]
  },
  {
   "cell_type": "markdown",
   "id": "2165175a-e433-4542-82cb-617456e99df6",
   "metadata": {},
   "source": [
    "Azt is megtehetjük, hogy egy változónak egy másik változó értékét adjuk át."
   ]
  },
  {
   "cell_type": "code",
   "execution_count": 28,
   "id": "d328c945-9205-44b2-9d94-42295edf079d",
   "metadata": {},
   "outputs": [
    {
     "name": "stdout",
     "output_type": "stream",
     "text": [
      "9\n",
      "9\n"
     ]
    }
   ],
   "source": [
    "b = a\n",
    "print(a)\n",
    "print(b)"
   ]
  },
  {
   "cell_type": "markdown",
   "id": "15609a8a-34e1-457d-98d7-63002f0285fc",
   "metadata": {},
   "source": [
    "Ilyenkor, ha az ```a``` értékét változtatjuk, akkor a ```b``` értéke továbbra is az marad, ami legutoljára belekerült."
   ]
  },
  {
   "cell_type": "code",
   "execution_count": 29,
   "id": "4739e45f-3aa0-4070-9993-54438022bb9e",
   "metadata": {},
   "outputs": [
    {
     "name": "stdout",
     "output_type": "stream",
     "text": [
      "2\n",
      "9\n"
     ]
    }
   ],
   "source": [
    "a = 2\n",
    "print(a)\n",
    "print(b)"
   ]
  },
  {
   "cell_type": "markdown",
   "id": "509c6c44-f8e9-4743-9312-7d9232b75ca8",
   "metadata": {},
   "source": [
    "Akár egészen összetett kifejezéseket is megadhatunk, amiben változó(k) is szerepel(nek)."
   ]
  },
  {
   "cell_type": "code",
   "execution_count": 30,
   "id": "3a570712-d378-47a6-a744-e92c1d2029ec",
   "metadata": {},
   "outputs": [
    {
     "name": "stdout",
     "output_type": "stream",
     "text": [
      "-3.8\n"
     ]
    }
   ],
   "source": [
    "b = a/10-2**a\n",
    "print(b)"
   ]
  },
  {
   "cell_type": "markdown",
   "id": "a7eeb6c9-2fd0-4f38-b244-9349b4e38868",
   "metadata": {},
   "source": [
    "Sőt, az is megengedett, hogy önmaga szerepeljen a kifejezésben. Ilyenkor a legutoljára elhelyezett érték kerül felhasználásra a képletben."
   ]
  },
  {
   "cell_type": "code",
   "execution_count": 31,
   "id": "2eb1ee3e-4a29-44c1-aee5-ead4384243cc",
   "metadata": {},
   "outputs": [
    {
     "name": "stdout",
     "output_type": "stream",
     "text": [
      "-7.6\n"
     ]
    }
   ],
   "source": [
    "b = b * 2\n",
    "print(b)"
   ]
  },
  {
   "cell_type": "markdown",
   "id": "67d61ed5-63c4-4abe-a84f-6530dc3b6425",
   "metadata": {},
   "source": [
    "A két utóbbi példából látható, hogy változóban nem csak egész számot, hanem valós számokat is el tudunk tárolni és műveletek tudunk rajtuk végezni. Az ilyen értékek tárolását a [lebegőpontos számábrázolás](https://en.wikipedia.org/wiki/Floating-point_arithmetic) teszi lehetővé. A Python nyelv, sok más nyelvhez hasonlóan, az [IEEE 754](https://en.wikipedia.org/wiki/IEEE_754)-es szabványát használja ehhez.\n",
    "\n",
    "Ügyeljünk rá, hogy Python nyelven, mint a legtöbb programozás nyelv esetén is, tizedespontot használunk az égész rész és a tizedes törtek elválasztására. Például:"
   ]
  },
  {
   "cell_type": "code",
   "execution_count": 32,
   "id": "e28a3bbe-a11c-4d0b-b05a-61de9e7a2d8c",
   "metadata": {},
   "outputs": [],
   "source": [
    "c = 0.5"
   ]
  },
  {
   "cell_type": "markdown",
   "id": "7dafd4b9-f767-4756-96bd-04d74d602d0b",
   "metadata": {},
   "source": [
    "### Type függvény"
   ]
  },
  {
   "cell_type": "markdown",
   "id": "cdd409b9-e7a9-445c-93c9-60a93323069f",
   "metadata": {},
   "source": [
    "A ```type``` függvény segítségével egy változóról megtudhatjuk, hogy az éppen benne szereplő érték milyen típust képvisel. Eddig 3 fajta típusú értékekkel találkoztunk: szöveggel, egész számokkal és valós számokkal.\n",
    "\n",
    "Az ```a``` változó értéke jelenleg 2. Azaz típusa egész szám. Ezt láthatjuk ha lekérdezzük a ```type``` függvénnyel a típusát és azt rögtön ki is íratjuk a ```print``` függvény segítségével."
   ]
  },
  {
   "cell_type": "code",
   "execution_count": 33,
   "id": "7d374fb0-4f0e-4e19-904c-2edb15d2498d",
   "metadata": {},
   "outputs": [
    {
     "name": "stdout",
     "output_type": "stream",
     "text": [
      "2\n",
      "<class 'int'>\n"
     ]
    }
   ],
   "source": [
    "print(a)\n",
    "print(type(a))"
   ]
  },
  {
   "cell_type": "markdown",
   "id": "db7363d6-22cd-4718-98a9-d78cf924d48d",
   "metadata": {},
   "source": [
    "A ```<class 'int'>``` szöveg arra utal, hogy az ```a``` változó az ```int``` osztályba tartozik, azaz a jelenlegi értéke egy egész szám.\n",
    "\n",
    "A ```b``` változónak jelenleg -7,6 az értéke, ami egy valós szám. Ezt látható, ha lekérdezzük az ő esetében is a típusát."
   ]
  },
  {
   "cell_type": "code",
   "execution_count": 34,
   "id": "e5c5c10b-2b6d-43ef-a6fe-e41978e06ad9",
   "metadata": {},
   "outputs": [
    {
     "name": "stdout",
     "output_type": "stream",
     "text": [
      "-7.6\n",
      "<class 'float'>\n"
     ]
    }
   ],
   "source": [
    "print(b)\n",
    "print(type(b))"
   ]
  },
  {
   "cell_type": "markdown",
   "id": "01ce1396-8dfe-4763-98ec-3e2e3d3138ac",
   "metadata": {},
   "source": [
    "Hasonló módon a ```c``` változó is ```float``` típusú, azaz valós szám lesz, hiszen a 0,5 értéket adtuk neki legutoljára."
   ]
  },
  {
   "cell_type": "code",
   "execution_count": 35,
   "id": "63def21b-e8a1-4e16-906b-4557b4628001",
   "metadata": {},
   "outputs": [
    {
     "name": "stdout",
     "output_type": "stream",
     "text": [
      "0.5\n",
      "<class 'float'>\n"
     ]
    }
   ],
   "source": [
    "print(c)\n",
    "print(type(c))"
   ]
  },
  {
   "cell_type": "markdown",
   "id": "5046f1bf-f3df-471f-952f-5cdfd014dbe7",
   "metadata": {},
   "source": [
    "A változó típusa mindig a benne található értéktől függ. Például az ```a``` változó értéke 2, ezért ő ```int``` típusú. De ha megváltoztatjuk 0,1-re az értékét, akkor már ```float``` lesz a típusa."
   ]
  },
  {
   "cell_type": "code",
   "execution_count": 36,
   "id": "fb405f15-77ed-4be2-bb36-2bb29a66df24",
   "metadata": {},
   "outputs": [
    {
     "name": "stdout",
     "output_type": "stream",
     "text": [
      "2\n",
      "<class 'int'>\n",
      "0.1\n",
      "<class 'float'>\n"
     ]
    }
   ],
   "source": [
    "print(a)\n",
    "print(type(a))\n",
    "a = 0.1\n",
    "print(a)\n",
    "print(type(a))"
   ]
  },
  {
   "cell_type": "markdown",
   "id": "d209401c-bfef-4d6f-84e9-6a82eac83214",
   "metadata": {},
   "source": [
    "### String típus használata\n",
    "\n",
    "Változóknak tetszőleges szöveget is adhatunk értékül. Látható, hogy a típusa ```str``` lesz, ami a string szó rövidítéséből ered."
   ]
  },
  {
   "cell_type": "code",
   "execution_count": 37,
   "id": "0bbded5a-2d37-4ffc-b7b8-420f99df16d1",
   "metadata": {},
   "outputs": [
    {
     "name": "stdout",
     "output_type": "stream",
     "text": [
      "Helló\n",
      "<class 'str'>\n"
     ]
    }
   ],
   "source": [
    "a = \"Helló\"\n",
    "print(a)\n",
    "print(type(a))"
   ]
  },
  {
   "cell_type": "markdown",
   "id": "beebc94a-5a3b-4917-8e0c-8ebd34615c11",
   "metadata": {},
   "source": [
    "Ha ```a``` és ```b``` változók számok, akkor tudjuk az összegüket képezni ```c``` változóba. Ez mostanra már egyértelmű."
   ]
  },
  {
   "cell_type": "code",
   "execution_count": 38,
   "id": "36f0549c-65c9-456d-b73f-30060d2ef2c9",
   "metadata": {},
   "outputs": [
    {
     "name": "stdout",
     "output_type": "stream",
     "text": [
      "2 3 5\n"
     ]
    }
   ],
   "source": [
    "a = 2\n",
    "b = 3\n",
    "c = a + b\n",
    "print(a, b ,c)"
   ]
  },
  {
   "cell_type": "markdown",
   "id": "c42c7cd0-488e-430a-a58c-8adf998f04c5",
   "metadata": {},
   "source": [
    "De mi a helyzet akkor, ha ```a``` és ```b``` szöveget tartalmaz? Nézzük meg!"
   ]
  },
  {
   "cell_type": "code",
   "execution_count": 39,
   "id": "d448fd8c-5a77-49c5-b395-fa9f3a0f98c4",
   "metadata": {},
   "outputs": [
    {
     "name": "stdout",
     "output_type": "stream",
     "text": [
      "Helló,\n",
      " hogy vagy?\n",
      "Helló, hogy vagy?\n"
     ]
    }
   ],
   "source": [
    "a = \"Helló,\"\n",
    "print(a)\n",
    "b = \" hogy vagy?\"\n",
    "print(b)\n",
    "c = a + b\n",
    "print(c)"
   ]
  },
  {
   "cell_type": "markdown",
   "id": "726792c7-4920-4d69-8306-738539676469",
   "metadata": {},
   "source": [
    "Szövegek (```str```) esetén értelmezett a összeadás művelete, ami az úgynevezett konkatenációt fogja végrehajtani, azaz a két szöveget összefűzi.\n",
    "\n",
    "Persze, mindez szám és szöveg között nem fog működni. Látható a lenti hibaüzenetből, hogy az ```int``` és a ```str``` típusok között az összeadás művelete nem értelmezett."
   ]
  },
  {
   "cell_type": "code",
   "execution_count": 40,
   "id": "87729679-754d-40e8-8a5f-3aef6ccb9f35",
   "metadata": {},
   "outputs": [
    {
     "ename": "TypeError",
     "evalue": "unsupported operand type(s) for +: 'int' and 'str'",
     "output_type": "error",
     "traceback": [
      "\u001b[0;31m---------------------------------------------------------------------------\u001b[0m",
      "\u001b[0;31mTypeError\u001b[0m                                 Traceback (most recent call last)",
      "Cell \u001b[0;32mIn[40], line 3\u001b[0m\n\u001b[1;32m      1\u001b[0m a \u001b[38;5;241m=\u001b[39m \u001b[38;5;241m3\u001b[39m\n\u001b[1;32m      2\u001b[0m b \u001b[38;5;241m=\u001b[39m \u001b[38;5;124m\"\u001b[39m\u001b[38;5;124ma\u001b[39m\u001b[38;5;124m\"\u001b[39m\n\u001b[0;32m----> 3\u001b[0m c \u001b[38;5;241m=\u001b[39m \u001b[43ma\u001b[49m\u001b[43m \u001b[49m\u001b[38;5;241;43m+\u001b[39;49m\u001b[43m \u001b[49m\u001b[43mb\u001b[49m\n\u001b[1;32m      4\u001b[0m \u001b[38;5;28mprint\u001b[39m(c)\n",
      "\u001b[0;31mTypeError\u001b[0m: unsupported operand type(s) for +: 'int' and 'str'"
     ]
    }
   ],
   "source": [
    "a = 3\n",
    "b = \"a\"\n",
    "c = a + b\n",
    "print(c)"
   ]
  },
  {
   "cell_type": "markdown",
   "id": "97fb6b22-54a8-4b77-bd7d-138e24c4fde0",
   "metadata": {},
   "source": [
    "Ellenben a szorzást tudjuk értelmezni, mivel azt vissza tudjuk vezetni szövegek összeadására. Az összeadás pedig értelmezett, ezért a szorzás is. A példában a ```3 * \"a\"``` gyakorlatilag azt jelenti, mintha azt mondanánk, hogy ```\"a\" + \"a\" + \"a\"```. Azaz háromszor konkatenálja egymáshoz a megadott szöveget."
   ]
  },
  {
   "cell_type": "code",
   "execution_count": 41,
   "id": "edbf7054-06ce-48fa-ad50-679f33d65336",
   "metadata": {},
   "outputs": [
    {
     "name": "stdout",
     "output_type": "stream",
     "text": [
      "aaa\n"
     ]
    }
   ],
   "source": [
    "a = 3\n",
    "b = \"a\"\n",
    "c = a * b\n",
    "print(c)"
   ]
  },
  {
   "cell_type": "markdown",
   "id": "e9835482-9de7-4edb-ab3b-17237b63d8de",
   "metadata": {},
   "source": [
    "### Típus konverzió"
   ]
  },
  {
   "cell_type": "markdown",
   "id": "ea50f2b2-1987-468b-899d-b29d59a0930c",
   "metadata": {},
   "source": [
    "Mi történik akkor, ha két különböző típusú számból szeretnénk egyet képezni? Például összeadunk egy egész és egy valós számot. Nézzük meg!"
   ]
  },
  {
   "cell_type": "code",
   "execution_count": 42,
   "id": "afb417d9-aaf1-4f4b-9fab-4fac7b2fc640",
   "metadata": {},
   "outputs": [
    {
     "name": "stdout",
     "output_type": "stream",
     "text": [
      "0.1 1 1.1\n",
      "<class 'float'> <class 'int'> <class 'float'>\n"
     ]
    }
   ],
   "source": [
    "a = 0.1\n",
    "b = 1\n",
    "c = a + b\n",
    "print(a, b, c)\n",
    "print(type(a), type(b), type(c))"
   ]
  },
  {
   "cell_type": "markdown",
   "id": "0538fecd-bbd8-4f9a-948f-4f62ea63979b",
   "metadata": {},
   "source": [
    "Látható, hogy az összeadás eredményeként a ```c``` változóba ```float``` érték került. Ilyenkor mindig a bővebb, nagyobb tartományt lefedő típus irányába történik a konverzió. Jelen esetben a 0,1 és az 1 összege 1,1 lett. Ezt ```int``` típusban nem tudjuk tárolni, legfeljebb csak az 1 értéket. Ezért a ```c``` változó ```float``` típusú lett. Ezt nevezzük implicit típus konverziónak.\n",
    "\n",
    "A típus konverzió másik módja, ha szándékosan, \"kézzel\" jelezzük, hogy konverziót szeretnénk végrehajtani. Ilyen lehet például, ha az előző esetén maradva azt szeretnénk mondani, hogy az eredményül kapott 1,1 értékből mégis csak ```int``` típust csináljon, a pontosság vesztés ellenére is. Ehhez az ```int``` függvényt tudjuk használni, ami a paraméter kapott értékből egész számot fog készíteni."
   ]
  },
  {
   "cell_type": "code",
   "execution_count": 43,
   "id": "326c5508-ca9b-442c-9c88-d3ef565c1f8d",
   "metadata": {},
   "outputs": [
    {
     "name": "stdout",
     "output_type": "stream",
     "text": [
      "0.1 1 1\n",
      "<class 'float'> <class 'int'> <class 'int'>\n"
     ]
    }
   ],
   "source": [
    "a = 0.1\n",
    "b = 1\n",
    "c = int(a + b)\n",
    "print(a, b, c)\n",
    "print(type(a), type(b), type(c))"
   ]
  },
  {
   "cell_type": "markdown",
   "id": "19e99f7e-dcd8-4bbe-b3d1-9c44145a121a",
   "metadata": {},
   "source": [
    "Hasonló módon használhatjuk a ```float``` függvényt is."
   ]
  },
  {
   "cell_type": "code",
   "execution_count": 44,
   "id": "e73eec94-1f07-47d8-b889-8b25dcf9817e",
   "metadata": {},
   "outputs": [
    {
     "name": "stdout",
     "output_type": "stream",
     "text": [
      "3 3.0\n",
      "<class 'int'> <class 'float'>\n"
     ]
    }
   ],
   "source": [
    "a = 3\n",
    "b = float(a)\n",
    "print(a, b)\n",
    "print(type(a), type(b))"
   ]
  },
  {
   "cell_type": "markdown",
   "id": "276fa317-99d4-4af1-9224-bd45823f28d3",
   "metadata": {},
   "source": [
    "Illetve létezik az ```str``` függvény is, amivel számból tudunk szöveget előállítani."
   ]
  },
  {
   "cell_type": "code",
   "execution_count": 45,
   "id": "331c8e9f-791b-4228-88ce-5a9fb5d10cd3",
   "metadata": {},
   "outputs": [
    {
     "name": "stdout",
     "output_type": "stream",
     "text": [
      "42\n",
      "42\n",
      "420\n",
      "42424242424242424242\n"
     ]
    }
   ],
   "source": [
    "a = 42\n",
    "b = str(a)\n",
    "print(a)\n",
    "print(b)\n",
    "print(a*10)\n",
    "print(b*10)"
   ]
  },
  {
   "cell_type": "markdown",
   "id": "3b13e245-d788-4404-bc45-d36b5a51f26c",
   "metadata": {},
   "source": [
    "Az ```a``` változóban ```int``` típust tárolunk. Ennek az értékéből csinálunk ```str``` típust és ez kerül a ```b``` változóba. \"Ránézésre\" a kettő ugyanúgy jelenik meg. Mindkét esetben megjelenik a kimeneten a 42-es érték. De az egyik esetben, mint egész szám, a másik esetben pedig mint szöveg. A különbség jól látszik, hogy ha a szorzás műveletet alkalmazzuk. Az ```a``` változó esetén két egész számot, a 42-t és a 10-t szorozzuk össze a matimatikában megszokott szabályok szerint. A ```b``` változó esetén azonban konkatenációt hajtunk végre. Azaz a \"42\" szöveget 10-szer fűztük egymás után."
   ]
  },
  {
   "cell_type": "markdown",
   "id": "a508672a-76be-4353-9d0a-ab732033e470",
   "metadata": {},
   "source": [
    "Az ```int``` és a ```float``` függvényeket arra is használhatjuk, hogy szövegként tárolt számot alakítsunk át számmá. Így lehetővé válik, hogy műveleteket hajtsunk végre rajta."
   ]
  },
  {
   "cell_type": "code",
   "execution_count": 46,
   "id": "c6159c02-797e-40ec-896c-3de024f3199a",
   "metadata": {},
   "outputs": [
    {
     "name": "stdout",
     "output_type": "stream",
     "text": [
      "42 42 42.0\n",
      "<class 'str'> <class 'int'> <class 'float'>\n"
     ]
    }
   ],
   "source": [
    "a = \"42\"\n",
    "b = int(a)\n",
    "c = float(a)\n",
    "print(a, b, c)\n",
    "print(type(a), type(b), type(c))"
   ]
  },
  {
   "cell_type": "markdown",
   "id": "53718040-a9b5-409e-a54e-85e84f2d1992",
   "metadata": {},
   "source": [
    "### Megjegyzések\n",
    "\n",
    "A programkódban lehetőség van úgynevezett megjegyzések (comment) elhelyezésére. Ezek olyan részei a kódnak, melyek nem kerülnek végrehajtásra, ezért bármilyen tetszőleges szöveget tartalmazhatnak.\n",
    "\n",
    "A megjegyzéseket két esetben használjuk:\n",
    " * Elsődlegesen segítségükkel a forráskódhoz magyarázó szövegeket tudunk hozzáfűzni. Ez által a kód átláthatóbb, könnyebben megérthető lesz.\n",
    " * Másodsorban ideiglenesen ki tudunk iktatni kódsorokat, ami a fejlesztés és tesztelés során sok esetben hasznos.\n",
    "\n",
    "A megjegyzésnek két fajtáját használjuk Python nyelven:\n",
    "  * egy soros megjegyzés és\n",
    "  * több soros megjegyzés.\n",
    "\n",
    "Az egy soros megjegyzés számjel (#) karakterrel kezdődik, amit tetszőleges szöveg követ:"
   ]
  },
  {
   "cell_type": "code",
   "execution_count": 47,
   "id": "13193942-f70f-4bad-b19f-8fe5c615c45c",
   "metadata": {},
   "outputs": [],
   "source": [
    "# Ez itt egy egysoros megjegyzés. Bármit írhatok ide! ;-)"
   ]
  },
  {
   "cell_type": "markdown",
   "id": "cd9c7148-1f2c-4fc1-b58b-530e9644b3d0",
   "metadata": {},
   "source": [
    "Általában úgy használjuk, hogy az értelmező, magyarázó szöveggel kiegészítendő kódsor vagy kódrészlet felett helyezzük el:"
   ]
  },
  {
   "cell_type": "code",
   "execution_count": 48,
   "id": "405bd773-daf0-4cd5-ba61-225f1744d121",
   "metadata": {},
   "outputs": [
    {
     "name": "stdout",
     "output_type": "stream",
     "text": [
      "Szia!\n"
     ]
    }
   ],
   "source": [
    "# Ez a print függvény egy üdvözlő szöveget ír a képernyőre.\n",
    "print(\"Szia!\")"
   ]
  },
  {
   "cell_type": "markdown",
   "id": "cee6c7f9-80fb-4ae8-a859-b600fec5c162",
   "metadata": {},
   "source": [
    "De lehetőség van arra is, hogy közvetlen egy utasítás után helyezzük el:\n"
   ]
  },
  {
   "cell_type": "code",
   "execution_count": 49,
   "id": "e967634d-c21b-49e5-94dc-7a0e72dc1eb8",
   "metadata": {},
   "outputs": [
    {
     "name": "stdout",
     "output_type": "stream",
     "text": [
      "2023\n"
     ]
    }
   ],
   "source": [
    "year = 2023 # Az aktuális év tárolására szolgáló változó\n",
    "print(year)"
   ]
  },
  {
   "cell_type": "markdown",
   "id": "093203a8-19cd-4a42-84e4-0234e4280476",
   "metadata": {},
   "source": [
    "Előfordulhat, hogy egy hosszas kódrészlet kifejtő szövege túl hosszú és szeretnénk több sorban megjeleníteni, tördelni. Erre is van lehetőségünk, ezt nevezzük többsoros megjegyzésnek. Több soros megjegyzést egyrészt tudunk csinálni az eddig megismert egysoros megjegyzés alapján is:"
   ]
  },
  {
   "cell_type": "code",
   "execution_count": 50,
   "id": "4076336c-6dc2-46aa-911b-2904403a94bf",
   "metadata": {},
   "outputs": [],
   "source": [
    "# Ha egymás alá több számjel karaktert írunk,\n",
    "# akkor több sorban,\n",
    "# rendezetten,\n",
    "# megjegyzéseket tudunk elhelyezni."
   ]
  },
  {
   "cell_type": "markdown",
   "id": "275488ff-4147-45fe-bbfd-b7ee973dc42d",
   "metadata": {},
   "source": [
    "A legtöbb programozási nyelv fenn tart egy külön jelölésmódot a többsoros megjegyzések esetére. Ilyenkor általában csak a megjegyzés szakasz legelején és legvégén kell jeleznünk, hogy hol kezdődik és hol végződik a megjegyzés. Tehát nem kell minden egyes sor elején feltüntetni azt.\n",
    "\n",
    "Szigorúan véve Python nyelven nincs lehetőség ilyen módon többsoros megjegyzéseket elhelyezni. Azonban mégis létezik erre egy megoldás, ami hivatalosan nem minősül megjegyzésnek, de a nemzetközi közösség által is elfogadott és használt módja ez a többsoros megjegyzésnek. Ebben az esetben a megjegyzés három darab idézőjel (```\"```) vagy három darab aposztróf (```'```) karakterrel kezdődik. Ez után tetszőleges mennyiségű sorban írhatunk megjegyzéseket. A megjegyzés szakasz végét szintén három idézőjel vagy három aposztróf zárja. Fontos, hogy a nyitó és a záró karakterhármas ugyanolyan karakter legyen. Ezt a következő módon néz ki:"
   ]
  },
  {
   "cell_type": "code",
   "execution_count": 51,
   "id": "598f0046-86c6-4e26-ae08-9bccf6e25969",
   "metadata": {},
   "outputs": [
    {
     "name": "stdout",
     "output_type": "stream",
     "text": [
      "1970 és 2023 között 53 év telt el.\n"
     ]
    }
   ],
   "source": [
    "\"\"\"\n",
    "Ez a program kiszámítja két évszám között eltelt évek számát.\n",
    "A számítás eredményét a képernyőre írja formázott szövegként.\n",
    "\n",
    "A változók jelentése:\n",
    " y0: Az egyik évszám, ennek kell a korábbinak lennie.\n",
    " y1: A másik évszám, ami a későbbi.\n",
    "\"\"\"\n",
    "y0 = 1970\n",
    "y1 = 2023\n",
    "print(y0, \"és\", y1, \"között\", y1 - y0, \"év telt el.\")"
   ]
  },
  {
   "cell_type": "markdown",
   "id": "535c91c7-3bc4-445f-b8d4-4c70c4f03205",
   "metadata": {},
   "source": [
    "De ez miért nem minősül megjegyzésnek? Ezzel a módszerrel tulajdonképpen nem megjegyzést írunk, hanem többsoros karakterláncot (string-et). Ezt a módszert tudjuk alkalmazni olyan helyeken is, ahol string-re van szükségünk, de azokat több sorba szeretnénk rendezni:"
   ]
  },
  {
   "cell_type": "code",
   "execution_count": 52,
   "id": "3f9bc312-3da1-4268-b7cd-ad7c9a081fb1",
   "metadata": {},
   "outputs": [
    {
     "name": "stdout",
     "output_type": "stream",
     "text": [
      "\n",
      "ez most egy\n",
      "több soros\n",
      "szöveg\n",
      "\n"
     ]
    }
   ],
   "source": [
    "a = \"\"\"\n",
    "ez most egy\n",
    "több soros\n",
    "szöveg\n",
    "\"\"\"\n",
    "print(a)"
   ]
  },
  {
   "cell_type": "markdown",
   "id": "1a58e777-7a2c-4c14-9883-1c54fb71e516",
   "metadata": {},
   "source": [
    "Nagyon ritka, hogy a fenti módon több soros szöveget akarunk változóba helyezni, vagy bármi mást csinálni vele. De fontos érteni, hogy a megjegyzésnek ez a módszere szigorúan véve nem megjegyzés, hanem egy többsoros szöveg.\n",
    "\n",
    "De akkor mitől lesz ez mégis megjegyzés?\n",
    "\n",
    "A kódban bárhol elhelyezhetünk karaktersorozatot úgy, hogy azt semmi nem kapja bemenetként, vagy értékként, csupán a karaktersorozatot tartalmazza a kód adott része. Ilyenkor a fordító ugyan feldolgozza, de mivel nincs teendő vele (pl. nem kell egy változóban eltárolni), így nem csinál vele semmit. Olyan, mintha figyelmen kívül hagyná. Ebből adódóan ezt a hagyományos, egysoros string-el is megtehetjük, azonban ennek használata nem elfogadott a közösség által:"
   ]
  },
  {
   "cell_type": "code",
   "execution_count": 53,
   "id": "013592c8-90b0-4199-9954-af4cbce884d2",
   "metadata": {},
   "outputs": [
    {
     "name": "stdout",
     "output_type": "stream",
     "text": [
      "blabla\n"
     ]
    }
   ],
   "source": [
    "\"A pring függvény kiírja az üzenetet a képernyőre.\"\n",
    "print(\"blabla\")"
   ]
  },
  {
   "cell_type": "markdown",
   "id": "b4828058-ff63-4470-916d-b72457291d00",
   "metadata": {},
   "source": [
    "Tehát a fenti példa ugyan működik, de nem elfogadott a használata. Kizárólag többsoros megjegyzés esetén, tripla idézőjellel/aposztróffal megengedett és elfogadott ennek a használata. A fenti példát számjellel oldjuk meg, a következő módon:"
   ]
  },
  {
   "cell_type": "code",
   "execution_count": 54,
   "id": "6b56d582-79d7-4629-8939-00595a1a0424",
   "metadata": {},
   "outputs": [
    {
     "name": "stdout",
     "output_type": "stream",
     "text": [
      "blabla\n"
     ]
    }
   ],
   "source": [
    "# A pring függvény kiírja az üzenetet a képernyőre.\n",
    "print(\"blabla\")"
   ]
  }
 ],
 "metadata": {
  "kernelspec": {
   "display_name": "Python 3 (ipykernel)",
   "language": "python",
   "name": "python3"
  },
  "language_info": {
   "codemirror_mode": {
    "name": "ipython",
    "version": 3
   },
   "file_extension": ".py",
   "mimetype": "text/x-python",
   "name": "python",
   "nbconvert_exporter": "python",
   "pygments_lexer": "ipython3",
   "version": "3.8.10"
  }
 },
 "nbformat": 4,
 "nbformat_minor": 5
}
