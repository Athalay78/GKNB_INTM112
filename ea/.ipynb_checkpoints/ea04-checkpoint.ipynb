{
 "cells": [
  {
   "cell_type": "markdown",
   "id": "efc06c7c-2261-423a-be2d-927250868569",
   "metadata": {},
   "source": [
    "# 4. előadás"
   ]
  },
  {
   "cell_type": "markdown",
   "id": "fbc616d3-4f13-4d13-a084-045d39f1ef61",
   "metadata": {},
   "source": [
    "* tuple, list, set, különbségek\n",
    "* indexelés különféle módjai\n",
    "* in operátor (ciklus esetén és logikai vizsgálat esetén)\n",
    "* list: append, insert, pop, reverse, sort\n",
    "* string: split függvény listát készít\n",
    "* több dimenziós listák\n",
    "* for ciklus\n",
    "* range függvény\n"
   ]
  },
  {
   "cell_type": "markdown",
   "id": "91aaa3e9-9765-402e-b604-e137765bce57",
   "metadata": {},
   "source": [
    "## Alapvető adatszerkezetek"
   ]
  },
  {
   "cell_type": "markdown",
   "id": "05b9cdcd-328c-444e-a7ff-61a89630062b",
   "metadata": {},
   "source": [
    "Sokszor előfordul olyan szituáció, hogy egyszerre több adattal (szöveggel, számmal stb.) kell dolgoznunk. Például több adaton szeretnénk végrehajtani ugyanolyan műveleteket, ugyanazt a számítást. Arra is sokszor van példa, hogy több adatnak csak együttesen van értelme, külön-külön nem tudunk velük mit kezdeni.\n",
    "\n",
    "Ilyen helyzetekben szükség van arra, hogy ezeket az adatokat együttesen tudjuk kezelni, tárolni és felhasználni. Erre szolgálnak különféle adatszerkezetek. Ezekből 3 alapvetőt biztosít számunkra a Python, melyek elsőre nagyon hasonlónak tűnnek, de mindegyiknek megvan a maga szerepe. Ezek a következők:\n",
    "* lista (```list```),\n",
    "* rendezett n-es (```tuple```),\n",
    "* halmaz (```set```).\n",
    "\n",
    "### Lista (```list```)\n",
    "\n",
    "A lista segítségével adatok rendezett gyűjteményét érjük el. Ez azt jelenti, hogy tetszőleges adatokat tudunk benne tárolni. A változóknál megtanultuk, hogy azok minig csak egy értéket képesek tárolni. A lista egy időben több érték tárolására is alkalmas, és az értékeket rendezetten tárolja. Azaz minden egyes elemnek megvan a pozíciója a sorban.\n",
    "\n",
    "Nézzünk egy egyszerű példát. Készítsünk egy listát, ami a kedvenc gyümölcseinket tartalmazza!"
   ]
  },
  {
   "cell_type": "code",
   "execution_count": 11,
   "id": "216cff89-bbb7-419f-8a0b-7755c3d5aa23",
   "metadata": {},
   "outputs": [],
   "source": [
    "fruits = [\"maracuja\", \"szilva\", \"földicseresznye\"]"
   ]
  },
  {
   "cell_type": "markdown",
   "id": "098ade56-d0cd-42ad-90b4-61ee56347f69",
   "metadata": {},
   "source": [
    "A ```fruits``` változó most egy listát tárol el. Egy olyan listát, amelynek három eleme van, mindhárom eleme egy-egy ```str``` típusú adat.\n",
    "A listát mindig szögletes zárójelpár jelöli. A zárójelpár között soroljuk fel a lista elemeit. A lista elemei bármilyen típusú adatok lehetnek.\n",
    "\n",
    "Nézzük meg miket tudunk csinálni egy ilyen egyszerű listával!\n",
    "\n",
    "A ```print``` függvény segítségével, más változókhoz hasonlóan ki tudjuk írni a kimenetre. Lista esetén egy felsorolást fogunk kapni annak tartalmáról."
   ]
  },
  {
   "cell_type": "code",
   "execution_count": 12,
   "id": "0d91e2f8-e4dc-4ad9-9f06-63fd477ba101",
   "metadata": {},
   "outputs": [
    {
     "name": "stdout",
     "output_type": "stream",
     "text": [
      "['maracuja', 'szilva', 'földicseresznye']\n"
     ]
    }
   ],
   "source": [
    "print(fruits)"
   ]
  },
  {
   "cell_type": "markdown",
   "id": "97a478fd-7d99-4f5f-966a-5ec7060a387f",
   "metadata": {},
   "source": [
    "A listákat ugyanolyan módon tudjuk indexelni, mint az ```str``` típusú szövegeket!\n",
    "\n",
    "Lekérhetjük egy adott indexen található elemét:"
   ]
  },
  {
   "cell_type": "code",
   "execution_count": 13,
   "id": "72c8b995-6802-45d3-a8c5-a6d51471b0ae",
   "metadata": {},
   "outputs": [
    {
     "name": "stdout",
     "output_type": "stream",
     "text": [
      "maracuja\n"
     ]
    }
   ],
   "source": [
    "print(fruits[0])"
   ]
  },
  {
   "cell_type": "markdown",
   "id": "e12505f4-78f5-43e1-bf8d-9ebe491dd5ea",
   "metadata": {},
   "source": [
    "De a slicing művelet is ugyanúgy működik. Kérjük le az első két elemét:"
   ]
  },
  {
   "cell_type": "code",
   "execution_count": 14,
   "id": "aab5f474-5199-4c10-94de-13972bcc82dc",
   "metadata": {},
   "outputs": [
    {
     "name": "stdout",
     "output_type": "stream",
     "text": [
      "['maracuja', 'szilva']\n"
     ]
    }
   ],
   "source": [
    "print(fruits[0:2])"
   ]
  },
  {
   "cell_type": "markdown",
   "id": "503971e5-eb33-4f2e-9472-050297c80553",
   "metadata": {},
   "source": [
    "A már ismert ```len``` függvénnyel lekérdezhetjük egy lista elemszámát:"
   ]
  },
  {
   "cell_type": "code",
   "execution_count": 15,
   "id": "5d595d88-fbe2-43e1-b9fa-2760dbcf98d2",
   "metadata": {},
   "outputs": [
    {
     "name": "stdout",
     "output_type": "stream",
     "text": [
      "3\n"
     ]
    }
   ],
   "source": [
    "print(len(fruits))"
   ]
  },
  {
   "cell_type": "markdown",
   "id": "b33c8a41-6341-410b-bb5d-7155aeba6d54",
   "metadata": {},
   "source": [
    "Mindezek alapján már meg tudjuk tenni azt, hogy egy ```while``` ciklus segítségével végig indexeljünk egy lista elemein. A ciklusváltozóval (```i```) a lista elemszámáig iterálunk, minden iterációban kiírjuk az ```i```-edik elemet, majd nem felejtkezünk el a ciklusváltozó inkrementálásáról sem."
   ]
  },
  {
   "cell_type": "code",
   "execution_count": 16,
   "id": "d4a2b9e2-4259-4201-8fdb-d0cf0a2e4250",
   "metadata": {},
   "outputs": [
    {
     "name": "stdout",
     "output_type": "stream",
     "text": [
      "maracuja\n",
      "szilva\n",
      "földicseresznye\n"
     ]
    }
   ],
   "source": [
    "i = 0\n",
    "while i < len(fruits):\n",
    "    print(fruits[i])\n",
    "    i += 1"
   ]
  },
  {
   "cell_type": "markdown",
   "id": "02afac14-ca9a-4c1a-ba38-23f656567874",
   "metadata": {},
   "source": [
    "A szemléltetés kedvéért próbáljuk meg bejárni a listát a végétól az elejéig:"
   ]
  },
  {
   "cell_type": "code",
   "execution_count": 17,
   "id": "a12b640f-02e4-4fd3-8bca-8885b3b8eb68",
   "metadata": {},
   "outputs": [
    {
     "name": "stdout",
     "output_type": "stream",
     "text": [
      "földicseresznye\n",
      "szilva\n",
      "maracuja\n"
     ]
    }
   ],
   "source": [
    "i = len(fruits) - 1\n",
    "while i >= 0:\n",
    "    print(fruits[i])\n",
    "    i -= 1"
   ]
  },
  {
   "cell_type": "markdown",
   "id": "8e9c66aa-3f8c-469e-a3be-f5558910f16c",
   "metadata": {},
   "source": [
    "Az ```in``` operátort listák esetén is tudjuk alkalmazni, működése nagyon hasonló, mint a string-ek esetén már láttuk! Lista esetén az ```in``` operátor megadja, hogy az operátor előtti adat szerepel e az operátor utáni listán:"
   ]
  },
  {
   "cell_type": "code",
   "execution_count": 19,
   "id": "dd114afe-5b8d-4a6f-bf79-1eb0d73cdf66",
   "metadata": {},
   "outputs": [
    {
     "name": "stdout",
     "output_type": "stream",
     "text": [
      "Nem szereted a banánt.\n"
     ]
    }
   ],
   "source": [
    "if \"banán\" in fruits:\n",
    "    print(\"Szereted a banánt!\")\n",
    "else:\n",
    "    print(\"Nem szereted a banánt.\")"
   ]
  },
  {
   "cell_type": "markdown",
   "id": "36e99683-ea32-4a41-8cc9-8925b258f042",
   "metadata": {},
   "source": [
    "Egy lista keverten tartalmazhat több féle adatot:"
   ]
  },
  {
   "cell_type": "code",
   "execution_count": 21,
   "id": "76188baa-4159-412b-9024-d98237032890",
   "metadata": {},
   "outputs": [
    {
     "name": "stdout",
     "output_type": "stream",
     "text": [
      "['alma', 42, False, 1.1428571428571428]\n"
     ]
    }
   ],
   "source": [
    "l = [\"alma\", 42, False, 1*2**3/7]\n",
    "print(l)"
   ]
  },
  {
   "cell_type": "markdown",
   "id": "3b1e283a-d3da-4988-9116-945b4b27f97f",
   "metadata": {},
   "source": [
    "Ritka, hogy ilyen módon használjuk a listákat, de bizonyos esetekben hasznos lehet ez a tulajdonsága.\n",
    "\n",
    "Természetesen, ha egy lista bármit tartalmazhat, akkor ebbe maga a lista is beletartozik. Tehát egy lista tartalmazhat egy másik listát:"
   ]
  },
  {
   "cell_type": "code",
   "execution_count": 22,
   "id": "183b48fc-06cd-48dc-94ea-e127c76dde31",
   "metadata": {},
   "outputs": [
    {
     "name": "stdout",
     "output_type": "stream",
     "text": [
      "1\n",
      "[2, 3]\n",
      "[4, [5, 6]]\n"
     ]
    }
   ],
   "source": [
    "l = [1, [2, 3], [4, [5, 6]]]\n",
    "\n",
    "i = 0\n",
    "while i < len(l):\n",
    "    print(l[i])\n",
    "    i += 1"
   ]
  },
  {
   "cell_type": "markdown",
   "id": "7475a9b4-d504-410f-89db-1d0c3bfe0bf5",
   "metadata": {},
   "source": [
    "A fenti példában ```l``` egy 3 elemű lista. Az első eleme egy ```int```. A második eleme egy ```list```, ami 2 darab ```int``` értéket tartalmaz. A harmadik eleme ismét egy ```list``` típus, melynek szintén két eleme van. Az első eleme egy ```int```, a második azonban egy ```list```, ami további két ```int``` értékből áll."
   ]
  },
  {
   "cell_type": "markdown",
   "id": "da519a90-cf57-482b-811a-f44a64094b18",
   "metadata": {},
   "source": [
    "#### Feladat: Listában tárolt számok szummázása\n",
    "\n",
    "Legyen egy listánk számokkal. Azt szeretnénk, hogy összegezzük a pozitív értékeket és ennek eredményét jelenítsük meg a kimeneten."
   ]
  },
  {
   "cell_type": "code",
   "execution_count": 26,
   "id": "1e585b5c-c527-4da2-b5a2-12e25e12d170",
   "metadata": {},
   "outputs": [
    {
     "name": "stdout",
     "output_type": "stream",
     "text": [
      "440\n"
     ]
    }
   ],
   "source": [
    "# A values lista tárolja az értékeket. Ezek alapján szeretnénk a szummát képezni.\n",
    "values = [-2, 34, -61, 34, -50, -25, -4, -59, 98, 43, 46, 16, 23, -34, 0, 75, 63, -23, -40, 8]\n",
    "\n",
    "# Ciklusváltozó\n",
    "i = 0\n",
    "\n",
    "# A szumma tárolására szolgál.\n",
    "sum = 0\n",
    "\n",
    "# A while ciklussal végig iterálunk a values lista minden elemén.\n",
    "while i < len(values):\n",
    "    # Eldöntjük, hogy az aktuális elem pozitív előjelű vagy sem.\n",
    "    if values[i] > 0:\n",
    "        # Ha pozitív az i-edik érték, akkor hozzáadjuk a sum változóhoz.\n",
    "        sum += values[i]\n",
    "    # Nem felejtjük el inkrementálni a ciklusváltozót.\n",
    "    i += 1\n",
    "\n",
    "# Megjelenítjük a szummázás eredményét.\n",
    "print(sum)"
   ]
  },
  {
   "cell_type": "code",
   "execution_count": null,
   "id": "41e74266-c864-46ce-a624-cd77ba6133ab",
   "metadata": {},
   "outputs": [],
   "source": []
  }
 ],
 "metadata": {
  "kernelspec": {
   "display_name": "Python 3 (ipykernel)",
   "language": "python",
   "name": "python3"
  },
  "language_info": {
   "codemirror_mode": {
    "name": "ipython",
    "version": 3
   },
   "file_extension": ".py",
   "mimetype": "text/x-python",
   "name": "python",
   "nbconvert_exporter": "python",
   "pygments_lexer": "ipython3",
   "version": "3.8.10"
  }
 },
 "nbformat": 4,
 "nbformat_minor": 5
}
