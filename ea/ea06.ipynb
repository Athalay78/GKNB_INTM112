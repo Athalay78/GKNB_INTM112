{
 "cells": [
  {
   "cell_type": "markdown",
   "id": "2868ec9b-a569-4cee-aa03-e5b3796999c2",
   "metadata": {},
   "source": [
    "# 6. előadás"
   ]
  },
  {
   "cell_type": "markdown",
   "id": "1fbd4bf4-3f8a-4d9c-8462-20e3f31d3744",
   "metadata": {},
   "source": [
    "## Az ```enumerate``` függvény\n",
    "\n",
    "Korábban láttuk már, hogy listákon és rendezett n-eseken ```for``` ciklus segítségével szépen végig tudunk iterálni. Például legyen a lenti  ```tuple``` objektumunk, amit egy ```for``` ciklussal bejárunk és minden iteráció során kiírjuk a következő elem nevét:"
   ]
  },
  {
   "cell_type": "code",
   "execution_count": 17,
   "id": "18afe433-74fc-4ac7-bd56-dd818e153ec4",
   "metadata": {},
   "outputs": [
    {
     "name": "stdout",
     "output_type": "stream",
     "text": [
      "2\n",
      "3\n",
      "5\n",
      "7\n",
      "11\n",
      "13\n",
      "17\n",
      "19\n",
      "23\n",
      "29\n",
      "31\n",
      "37\n",
      "41\n",
      "43\n",
      "47\n",
      "53\n",
      "59\n",
      "61\n",
      "67\n",
      "71\n",
      "73\n",
      "79\n",
      "83\n",
      "89\n",
      "97\n"
     ]
    }
   ],
   "source": [
    "prime_numbers = (2, 3, 5, 7, 11, 13, 17, 19, 23, 29, 31, 37, 41, 43, 47, 53, 59, 61, 67, 71, 73, 79, 83, 89, 97)\n",
    "\n",
    "for prime in prime_numbers:\n",
    "    print(prime)"
   ]
  },
  {
   "cell_type": "markdown",
   "id": "30eb159e-6dc8-4424-a393-fbeae49208d1",
   "metadata": {},
   "source": [
    "Ebben eddig újdonság nincs. Viszont, mi van akkor, ha valamiért nekünk nem csak a ```tuple``` aktuális elemére van szükségünk az adott iteráción belül, hanem tudni szeretnénk annak az indexét is. Tulajdonképpen erre is van már megoldásunk az eddigi ismereteink alapján. Mégpedig:"
   ]
  },
  {
   "cell_type": "code",
   "execution_count": 18,
   "id": "0787a73b-da2e-4a39-89fb-64e579013889",
   "metadata": {},
   "outputs": [
    {
     "name": "stdout",
     "output_type": "stream",
     "text": [
      "Az 1. prím szám a(z) 2.\n",
      "Az 2. prím szám a(z) 3.\n",
      "Az 3. prím szám a(z) 5.\n",
      "Az 4. prím szám a(z) 7.\n",
      "Az 5. prím szám a(z) 11.\n",
      "Az 6. prím szám a(z) 13.\n",
      "Az 7. prím szám a(z) 17.\n",
      "Az 8. prím szám a(z) 19.\n",
      "Az 9. prím szám a(z) 23.\n",
      "Az 10. prím szám a(z) 29.\n",
      "Az 11. prím szám a(z) 31.\n",
      "Az 12. prím szám a(z) 37.\n",
      "Az 13. prím szám a(z) 41.\n",
      "Az 14. prím szám a(z) 43.\n",
      "Az 15. prím szám a(z) 47.\n",
      "Az 16. prím szám a(z) 53.\n",
      "Az 17. prím szám a(z) 59.\n",
      "Az 18. prím szám a(z) 61.\n",
      "Az 19. prím szám a(z) 67.\n",
      "Az 20. prím szám a(z) 71.\n",
      "Az 21. prím szám a(z) 73.\n",
      "Az 22. prím szám a(z) 79.\n",
      "Az 23. prím szám a(z) 83.\n",
      "Az 24. prím szám a(z) 89.\n",
      "Az 25. prím szám a(z) 97.\n"
     ]
    }
   ],
   "source": [
    "prime_numbers = (2, 3, 5, 7, 11, 13, 17, 19, 23, 29, 31, 37, 41, 43, 47, 53, 59, 61, 67, 71, 73, 79, 83, 89, 97)\n",
    "\n",
    "for i in range(len(prime_numbers)):\n",
    "    print(f\"Az {i+1}. prím szám a(z) {prime_numbers[i]}.\")"
   ]
  },
  {
   "cell_type": "markdown",
   "id": "637a5d44-ef53-4366-9e98-f434899c8ed4",
   "metadata": {},
   "source": [
    "A fenti kóddal megadtuk a választ a kérdésre, de vegyük észre, hogy túl hosszú és bonyolult, sok a hibázási lehetőség a ```range``` és a ```len``` függvények miatt.\n",
    "\n",
    "Az olyan helyzetekre, amikor valamiért szükségünk van a következő elemre is és annak az  indexére is, bevezetésre került az ```enumerate``` függvény. Az ```enumerate``` függvény a ```range``` függvényhez hasonlóan működik. Ezzel is egy iterálható objektumot tudunk létrehozni, amit egy ```for``` ciklus segítségével végig lehet járni. Vagy például a ```list``` függvénnyel listát és a ```tuple``` függvénnyel rendezett n-es objektumot lehet belőle generálni.\n",
    "\n",
    "A prím számokat tartalmazó ```prime_numbers``` ```tuple``` alapján generáljunk egy iterálható objektumot az ```enumerate``` függvénnyel. Majd ebből készítsünk egy listát és nézzük meg, hogy mit fog ez tartalmazni."
   ]
  },
  {
   "cell_type": "code",
   "execution_count": 19,
   "id": "060cf3d0-144e-4a14-af54-b24ac1318d2e",
   "metadata": {},
   "outputs": [
    {
     "name": "stdout",
     "output_type": "stream",
     "text": [
      "[(0, 2), (1, 3), (2, 5), (3, 7), (4, 11), (5, 13), (6, 17), (7, 19), (8, 23), (9, 29), (10, 31), (11, 37), (12, 41), (13, 43), (14, 47), (15, 53), (16, 59), (17, 61), (18, 67), (19, 71), (20, 73), (21, 79), (22, 83), (23, 89), (24, 97)]\n"
     ]
    }
   ],
   "source": [
    "prime_numbers = (2, 3, 5, 7, 11, 13, 17, 19, 23, 29, 31, 37, 41, 43, 47, 53, 59, 61, 67, 71, 73, 79, 83, 89, 97)\n",
    "\n",
    "prime_enum = enumerate(prime_numbers)\n",
    "\n",
    "print(list(prime_enum))"
   ]
  },
  {
   "cell_type": "markdown",
   "id": "aab5a62f-d694-44a4-b15f-1733670d4657",
   "metadata": {},
   "source": [
    "Eredményként egy olyan listát kaptunk, aminek minden eleme egy-egy ```tuple```. Pont annyi eleme van, mint ahány eleme az eredeti ```prime_numbers```-nek van. A különbség szembeötlő: minden elem egy két elemű ```tuple```, ahol az első elem egy indexérték, a második pedig az ```enumerate``` függvénynek bemenetként adott ```tuple``` egyes elemei.\n",
    "\n",
    "Ilyen szerkezeten könnyen tudunk iterálni. Emlékezzünk vissza a szótárakra! Egy ```dict``` esetén az ```items``` függvénnyel nagyon hasonló iterációt hajtottunk végre. Ott is minden elem egy-egy két-elemű ```tuple``` volt, ahol az egyik elem a kulcs, a másik az érték volt. Ugyanazzal a módszerrel tudunk az ```enumerate``` függvény által generált objektumon végig iterálni. Nézzük meg!"
   ]
  },
  {
   "cell_type": "code",
   "execution_count": 20,
   "id": "53b3e350-3265-4387-b8d9-00d1baaada02",
   "metadata": {},
   "outputs": [
    {
     "name": "stdout",
     "output_type": "stream",
     "text": [
      "Az 1. prím szám a(z) 2.\n",
      "Az 2. prím szám a(z) 3.\n",
      "Az 3. prím szám a(z) 5.\n",
      "Az 4. prím szám a(z) 7.\n",
      "Az 5. prím szám a(z) 11.\n",
      "Az 6. prím szám a(z) 13.\n",
      "Az 7. prím szám a(z) 17.\n",
      "Az 8. prím szám a(z) 19.\n",
      "Az 9. prím szám a(z) 23.\n",
      "Az 10. prím szám a(z) 29.\n",
      "Az 11. prím szám a(z) 31.\n",
      "Az 12. prím szám a(z) 37.\n",
      "Az 13. prím szám a(z) 41.\n",
      "Az 14. prím szám a(z) 43.\n",
      "Az 15. prím szám a(z) 47.\n",
      "Az 16. prím szám a(z) 53.\n",
      "Az 17. prím szám a(z) 59.\n",
      "Az 18. prím szám a(z) 61.\n",
      "Az 19. prím szám a(z) 67.\n",
      "Az 20. prím szám a(z) 71.\n",
      "Az 21. prím szám a(z) 73.\n",
      "Az 22. prím szám a(z) 79.\n",
      "Az 23. prím szám a(z) 83.\n",
      "Az 24. prím szám a(z) 89.\n",
      "Az 25. prím szám a(z) 97.\n"
     ]
    }
   ],
   "source": [
    "prime_numbers = (2, 3, 5, 7, 11, 13, 17, 19, 23, 29, 31, 37, 41, 43, 47, 53, 59, 61, 67, 71, 73, 79, 83, 89, 97)\n",
    "\n",
    "for idx, prime in enumerate(prime_numbers):\n",
    "    print(f\"Az {idx+1}. prím szám a(z) {prime}.\")"
   ]
  }
 ],
 "metadata": {
  "kernelspec": {
   "display_name": "Python 3 (ipykernel)",
   "language": "python",
   "name": "python3"
  },
  "language_info": {
   "codemirror_mode": {
    "name": "ipython",
    "version": 3
   },
   "file_extension": ".py",
   "mimetype": "text/x-python",
   "name": "python",
   "nbconvert_exporter": "python",
   "pygments_lexer": "ipython3",
   "version": "3.8.10"
  }
 },
 "nbformat": 4,
 "nbformat_minor": 5
}
