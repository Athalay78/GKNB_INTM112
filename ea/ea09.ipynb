{
 "cells": [
  {
   "cell_type": "markdown",
   "id": "7ce2638c-88f4-4bc9-869b-ba6f425786f0",
   "metadata": {},
   "source": [
    "# 9. előadás\n",
    "\n",
    "## Tartalom\n",
    "* Szöveges fájlok létrehozása, megnyitása, írása, olvasása\n",
    "\n",
    "Szöveges fájlokat megnyitni az ```open``` függvény segítségével tudunnk, függetlenül attól, hogy milyen műveletet szeretnénk végrehajtani:\n",
    "* új fájl létrehozása,\n",
    "* meglévő fájl felülírása,\n",
    "* meglévő fájlhoz hozzáfűzés,\n",
    "* vagy meglévő fájl olvasása.\n",
    "\n",
    "Az ```open``` függvénynek két paramétert szükséges megadnunk: az első a fájl neve, a második egy karakter, ami meghatározza, hogy milyen műveletet szeretnénk végrehajtani:\n",
    "* ```\"w\"```: Írásra megnyitjuk a fájlt. Ha már létezik, akkor a tartalma törlésre kerül. Ha még nem létezik, akkor új fájlt hoz létre.\n",
    "* ```\"a\"```: Meglévő fájlt nyitunk meg írásra a tartalma törlése nélkül. Ezt hozzáfűzésnek nevezzük. Ha a fájl nem létezik, akkor új fájlt hoz létre.\n",
    "* ```\"r\"```: Meglévő fájlt olvasásra nyitunk meg. Ha a fájl nem létezik, akkor hibát kapunk.\n",
    "\n",
    "Nézzünk ezekre példákat!"
   ]
  },
  {
   "cell_type": "code",
   "execution_count": 1,
   "id": "b8dd7c34-e167-4445-ab56-48538bdd2296",
   "metadata": {},
   "outputs": [],
   "source": [
    "f = open(\"f0.txt\", \"w\")"
   ]
  },
  {
   "cell_type": "markdown",
   "id": "50f0f4f4-e2b5-4a4b-ae93-a8aaaae9311d",
   "metadata": {},
   "source": [
    "A fenti kódban megnyitottuk az ```f0.txt``` nevű fájlt írásra. Mivel ez még nem létezett, ezért létrehozásra került, tartalma teljesen üres.\n",
    "\n",
    "Ez után van lehetőségünk arra, hogy tartalommal töltsük fel."
   ]
  },
  {
   "cell_type": "code",
   "execution_count": 2,
   "id": "b7fe2191-745d-461e-8a24-ed3bc6d8eaae",
   "metadata": {},
   "outputs": [
    {
     "data": {
      "text/plain": [
       "6"
      ]
     },
     "execution_count": 2,
     "metadata": {},
     "output_type": "execute_result"
    }
   ],
   "source": [
    "f.write(\"Hello!\")"
   ]
  },
  {
   "cell_type": "markdown",
   "id": "6d202433-9786-42c7-a39b-b701c23a47b7",
   "metadata": {},
   "source": [
    "A ```write``` függvénnyel tetszőleges szöveget helyezhetünk el a fájlban. Mindig a végéhez fogja illeszteni az új szöveget, így többször is írhatunk a fájlba segítségével:"
   ]
  },
  {
   "cell_type": "code",
   "execution_count": 3,
   "id": "ca2f3bfc-90f2-46a1-ba57-3ffb0057e33e",
   "metadata": {},
   "outputs": [],
   "source": [
    "for i in range(10):\n",
    "    f.write(str(i))"
   ]
  },
  {
   "cell_type": "markdown",
   "id": "abf8704c-9550-4630-b994-ceee0d123189",
   "metadata": {},
   "source": [
    "Arra ügyelni kell, hogy csak ```str``` típust írhatunk a fájlba. Ha más jellegű adatunk van, akkor azt előbb szöveggé kell alakítani, mint azt fent is láthatjuk.\n",
    "\n",
    "Jelen pillanatban ez található az ```f0.txt``` fájlban:\n",
    "\n",
    "```Hello!0123456789```"
   ]
  },
  {
   "cell_type": "markdown",
   "id": "b5ebb84a-cdb8-4892-bb67-988b47fc4a6b",
   "metadata": {},
   "source": [
    "Látható, hogy a ```write``` függvény sosem fog új sort kezdeni. Ha szeretnénk mégis, akkor ezt sortörés karakterrel kell jeleznünk."
   ]
  },
  {
   "cell_type": "code",
   "execution_count": 4,
   "id": "9bb0d750-a419-4912-89bf-6d0b08a79e90",
   "metadata": {},
   "outputs": [
    {
     "data": {
      "text/plain": [
       "24"
      ]
     },
     "execution_count": 4,
     "metadata": {},
     "output_type": "execute_result"
    }
   ],
   "source": [
    "f.write(\"\\nEz most új sorban lesz.\")"
   ]
  },
  {
   "cell_type": "markdown",
   "id": "2bd51df8-6b68-4cc8-a4a4-bb04c58df2be",
   "metadata": {},
   "source": [
    "Így a fájl tartalma a következő:\n",
    "\n",
    "```Hello!0123456789```\n",
    "\n",
    "```Ez most új sorban lesz.```\n",
    "\n",
    "Nagyon fontos! Ha a fájl írásával végeztünk, akkor ezt jeleznünk kell a ```close``` függvény hívásával:"
   ]
  },
  {
   "cell_type": "code",
   "execution_count": 5,
   "id": "8189f242-164f-43b0-8d5d-7c78871f9fb0",
   "metadata": {},
   "outputs": [],
   "source": [
    "f.close()"
   ]
  },
  {
   "cell_type": "markdown",
   "id": "b04e0d62-12b1-4035-89fb-757ed1938528",
   "metadata": {},
   "source": [
    "Most nyissuk meg újra az ```f0.txt``` fájlt írásra (```\"w\"```) és egy ciklus segítségével írjuk be az egész számokat a $[0, 5[$ intervallumból:"
   ]
  },
  {
   "cell_type": "code",
   "execution_count": 6,
   "id": "a042f858-64ba-491d-ba21-56e3227ab8c5",
   "metadata": {},
   "outputs": [],
   "source": [
    "f = open(\"f0.txt\", \"w\")\n",
    "\n",
    "for i in range(5):\n",
    "    f.write(f\"{i}\\n\")\n",
    "\n",
    "f.close()"
   ]
  },
  {
   "cell_type": "markdown",
   "id": "799b862b-2aee-4198-938e-f554f3b574fb",
   "metadata": {},
   "source": [
    "A fájl tartalma most a következő lett:\n",
    "\n",
    "```0```\n",
    "\n",
    "```1```\n",
    "\n",
    "```2```\n",
    "\n",
    "```3```\n",
    "\n",
    "```4```\n",
    "\n",
    "\n",
    "Fontos, hogy a ```\"w\"``` paraméter miatt a korábban beleírt tartalom elveszett. Ha azt szeretnénk, hogy a korábbi tartalom ne vesszen el, hanem ahhoz szeretnénk további sorokat fűzni, akkor az ```\"a\"``` paraméterrel tehetjük ezt meg:"
   ]
  },
  {
   "cell_type": "code",
   "execution_count": 7,
   "id": "8c5b6b94-71ce-45be-9907-b5176ceda3f0",
   "metadata": {},
   "outputs": [],
   "source": [
    "f = open(\"f0.txt\", \"a\")\n",
    "\n",
    "numbers = (\"nulla\", \"egy\", \"kettő\", \"három\", \"négy\")\n",
    "\n",
    "for number in numbers:\n",
    "    f.write(number + \"\\n\")\n",
    "\n",
    "f.close()"
   ]
  },
  {
   "cell_type": "markdown",
   "id": "2a091e33-c3d6-4a63-98de-1ea11b1fb8db",
   "metadata": {},
   "source": [
    "Ennek hatására a fájl tartalma a következő lett:\n",
    "\n",
    "```0```\n",
    "\n",
    "```1```\n",
    "\n",
    "```2```\n",
    "\n",
    "```3```\n",
    "\n",
    "```4```\n",
    "\n",
    "```nulla```\n",
    "\n",
    "```egy```\n",
    "\n",
    "```kettő```\n",
    "\n",
    "```három```\n",
    "\n",
    "```négy```"
   ]
  },
  {
   "cell_type": "markdown",
   "id": "277d61fb-0721-43ae-a6ac-78bebffa5427",
   "metadata": {},
   "source": [
    "A ```write``` függvényel kívül a ```writelines``` függvény segítségével is tudunk fájlba írni. Bemenetként egy szövegeket tartalmazó listát vár és a lista elemeit fogja egymás után a fájlba írni."
   ]
  },
  {
   "cell_type": "code",
   "execution_count": 8,
   "id": "38f4768b-ea26-4f89-90ea-136b771d91eb",
   "metadata": {},
   "outputs": [],
   "source": [
    "f = open(\"f0.txt\", \"w\")\n",
    "\n",
    "numbers = (\"nulla\", \"egy\", \"kettő\", \"három\", \"négy\")\n",
    "\n",
    "f.writelines(numbers)\n",
    "\n",
    "f.close()"
   ]
  },
  {
   "cell_type": "markdown",
   "id": "e6748e32-7c6e-4217-bdd7-f87bee272d8f",
   "metadata": {},
   "source": [
    "Fontos, hogy itt sem fog automatikusan sortöréseket elhelyezni. Így a fájl tartalma a következő módon alakul:\n",
    "\n",
    "```nullaegykettőháromnégy```\n",
    "\n",
    "Ennél az esetnél csinálhatjuk például azt, hogy list comprehension módszerrel generálunk egy új listát, ahol minden elemhez hozzáfűzűnk még egy sortörést. Ezt rögtön át is adjuk bemenetként a ```writelines``` függvénynek."
   ]
  },
  {
   "cell_type": "code",
   "execution_count": 9,
   "id": "f8b84d47-089e-4ba1-a3f6-770d84066d95",
   "metadata": {},
   "outputs": [],
   "source": [
    "f = open(\"f0.txt\", \"w\")\n",
    "\n",
    "numbers = (\"nulla\", \"egy\", \"kettő\", \"három\", \"négy\")\n",
    "\n",
    "f.writelines([number + \"\\n\" for number in numbers])\n",
    "\n",
    "f.close()"
   ]
  },
  {
   "cell_type": "markdown",
   "id": "0e62d17b-97b5-4ca8-9fe2-1550e083fe0e",
   "metadata": {},
   "source": [
    "így már a következő tartalmat kapjuk:\n",
    "\n",
    "```nulla```\n",
    "\n",
    "```egy```\n",
    "\n",
    "```kettő```\n",
    "\n",
    "```három```\n",
    "\n",
    "```négy```"
   ]
  },
  {
   "cell_type": "markdown",
   "id": "86315bb4-0000-49df-811d-37b449d1a3e6",
   "metadata": {},
   "source": [
    "#### Feladat:\n",
    "\n",
    "Készítsünk egy programot, amivel bevásárlólistát tudunk generálni. A listán el szeretnénk tárolni a vásárlandó termékek nevét (```str```) és mennyiségét (```int```). A mértékegységtől most eltekintünk. A felhasználótól folyamatosan kérjük be előbb a következő termék nevét, majd annak a mennyiségét. Ezeket egy szótárba tároljuk el. A bekérést úgy lehessen megszakítani, ha a termék nevének ```0``` értéket ad meg. Ez után hozzunk létre egy ```MyShoppingList.txt``` nevű fájlt és ebbe mentsük el a lista tartalmát, soronként az egyes elemeket. Minden sor előbb a termék nevét tartalmazza, majd kettősponttal és szóközzel elválasztva a mennyiséget."
   ]
  },
  {
   "cell_type": "code",
   "execution_count": 10,
   "id": "ccabd14c-6189-4a99-b6da-ac96c1c9d620",
   "metadata": {},
   "outputs": [
    {
     "name": "stdin",
     "output_type": "stream",
     "text": [
      "Mit szeretne a listához adni? alma\n",
      "Mekkora mennyiséget szeretnél venni ebből: alma? 10\n",
      "Mit szeretne a listához adni? ásványvíz\n",
      "Mekkora mennyiséget szeretnél venni ebből: ásványvíz? 6\n",
      "Mit szeretne a listához adni? liszt\n",
      "Mekkora mennyiséget szeretnél venni ebből: liszt? 1\n",
      "Mit szeretne a listához adni? 0\n"
     ]
    }
   ],
   "source": [
    "# Bevásárlólista generálása és fájlba írása\n",
    "\n",
    "# A listát egy szótárban tároljuk el\n",
    "shopping_list = {}\n",
    "\n",
    "# Végtelen ciklussal folyamatosan kérjük be a felhasználótól a termék nevét és mennyiségét.\n",
    "# Kilépni akkor tudunk, ha terméknévnek 0-t ad meg.\n",
    "while True:\n",
    "    # Először kérjük a termék nevét, ami mindenképp szöveg.\n",
    "    item = str(input(\"Mit szeretne a listához adni?\"))\n",
    "    # Megnézzük, hogy ki kell e lépni.\n",
    "    # Ha igen, akkor a break utasítással zárjuk a ciklust.\n",
    "    if item == \"0\":\n",
    "        break\n",
    "    # Ha nem léptünk ki, akkor jöhet a kívánt termék mennyisége. Feltételezzük, hogy egész számot ad meg a felhasználó.\n",
    "    count = int(input(f\"Mekkora mennyiséget szeretnél venni ebből: {item}?\"))\n",
    "    # A megadott értékek alapján frissítjük a szótár tartalmát.\n",
    "    shopping_list[item] = count\n",
    "\n",
    "# Létrehozzuk a fájlt írásra. Ha korábban létezett, akkor az eddigi tartalma törlődik.\n",
    "f = open(\"MyShoppingList.txt\", \"w\")\n",
    "\n",
    "# Végig iterálunk a szótár kulcs-érték párjain.\n",
    "# Most a kulcs (item) a termék neve, és az érték (count) a vásárlandó mennyiség.\n",
    "for item, count in shopping_list.items():\n",
    "    # A kívánt módon a  fájlba írjuk. Ügyelünk rá, hogy a végén egy sortörést is elhelyezzünk.\n",
    "    f.write(f\"{item}: {count}\\n\")\n",
    "\n",
    "# Ha végeztünk a fájl írásával, akkor bezárjuk a fájlt.\n",
    "f.close()"
   ]
  },
  {
   "cell_type": "markdown",
   "id": "7b6d6407-6467-467e-b585-fc4047adcb6f",
   "metadata": {},
   "source": [
    "Ha mindent jól csináltunk, akkor a ```MyShoppingList.txt``` fájl tartalma a következő:\n",
    "\n",
    "```alma: 10```\n",
    "\n",
    "```ásványvíz: 6```\n",
    "\n",
    "```liszt: 1```"
   ]
  }
 ],
 "metadata": {
  "kernelspec": {
   "display_name": "Python 3 (ipykernel)",
   "language": "python",
   "name": "python3"
  },
  "language_info": {
   "codemirror_mode": {
    "name": "ipython",
    "version": 3
   },
   "file_extension": ".py",
   "mimetype": "text/x-python",
   "name": "python",
   "nbconvert_exporter": "python",
   "pygments_lexer": "ipython3",
   "version": "3.8.10"
  }
 },
 "nbformat": 4,
 "nbformat_minor": 5
}
