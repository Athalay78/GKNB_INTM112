{
 "cells": [
  {
   "cell_type": "markdown",
   "id": "09cb20e6-a7ec-499c-a1c9-9c13258977cd",
   "metadata": {},
   "source": [
    "# 7. előadás\n",
    "\n",
    "Tartalom\n",
    "* Függvények létrehozása és használata"
   ]
  },
  {
   "cell_type": "code",
   "execution_count": null,
   "id": "db7aa6d2-5827-4897-8d4f-8698e2bf6ce2",
   "metadata": {},
   "outputs": [],
   "source": [
    "## "
   ]
  }
 ],
 "metadata": {
  "kernelspec": {
   "display_name": "Python 3 (ipykernel)",
   "language": "python",
   "name": "python3"
  },
  "language_info": {
   "codemirror_mode": {
    "name": "ipython",
    "version": 3
   },
   "file_extension": ".py",
   "mimetype": "text/x-python",
   "name": "python",
   "nbconvert_exporter": "python",
   "pygments_lexer": "ipython3",
   "version": "3.8.10"
  }
 },
 "nbformat": 4,
 "nbformat_minor": 5
}
