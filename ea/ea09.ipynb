{
 "cells": [
  {
   "cell_type": "markdown",
   "id": "7ce2638c-88f4-4bc9-869b-ba6f425786f0",
   "metadata": {},
   "source": [
    "# 9. előadás\n",
    "\n",
    "## Tartalom\n",
    "* Szöveges fájlok létrehozása, megnyitása, írása, olvasása\n",
    "\n",
    "Szöveges fájlokat megnyitni az ```open``` függvény segítségével tudunnk, függetlenül attól, hogy milyen műveletet szeretnénk végrehajtani:\n",
    "* új fájl létrehozása,\n",
    "* meglévő fájl felülírása,\n",
    "* meglévő fájlhoz hozzáfűzés,\n",
    "* vagy meglévő fájl olvasása.\n",
    "\n",
    "Az ```open``` függvénynek két paramétert szükséges megadnunk: az első a fájl neve, a második egy karakter, ami meghatározza, hogy milyen műveletet szeretnénk végrehajtani:\n",
    "* ```\"w\"```: Írásra megnyitjuk a fájlt. Ha már létezik, akkor a tartalma törlésre kerül. Ha még nem létezik, akkor új fájlt hoz létre.\n",
    "* ```\"a\"```: Meglévő fájlt nyitunk meg írásra a tartalma törlése nélkül. Ezt hozzáfűzésnek nevezzük. Ha a fájl nem létezik, akkor új fájlt hoz létre.\n",
    "* ```\"r\"```: Meglévő fájlt olvasásra nyitunk meg. Ha a fájl nem létezik, akkor hibát kapunk.\n",
    "\n",
    "Nézzünk ezekre példákat!"
   ]
  },
  {
   "cell_type": "code",
   "execution_count": 9,
   "id": "b8dd7c34-e167-4445-ab56-48538bdd2296",
   "metadata": {},
   "outputs": [],
   "source": [
    "f = open(\"f0.txt\", \"w\")"
   ]
  },
  {
   "cell_type": "markdown",
   "id": "50f0f4f4-e2b5-4a4b-ae93-a8aaaae9311d",
   "metadata": {},
   "source": [
    "A fenti kódban megnyitottuk az ```f0.txt``` nevű fájlt írásra. Mivel ez még nem létezett, ezért létrehozásra került, tartalma teljesen üres.\n",
    "\n",
    "Ez után van lehetőségünk arra, hogy tartalommal töltsük fel."
   ]
  },
  {
   "cell_type": "code",
   "execution_count": null,
   "id": "b7fe2191-745d-461e-8a24-ed3bc6d8eaae",
   "metadata": {},
   "outputs": [],
   "source": []
  }
 ],
 "metadata": {
  "kernelspec": {
   "display_name": "Python 3 (ipykernel)",
   "language": "python",
   "name": "python3"
  },
  "language_info": {
   "codemirror_mode": {
    "name": "ipython",
    "version": 3
   },
   "file_extension": ".py",
   "mimetype": "text/x-python",
   "name": "python",
   "nbconvert_exporter": "python",
   "pygments_lexer": "ipython3",
   "version": "3.8.10"
  }
 },
 "nbformat": 4,
 "nbformat_minor": 5
}
