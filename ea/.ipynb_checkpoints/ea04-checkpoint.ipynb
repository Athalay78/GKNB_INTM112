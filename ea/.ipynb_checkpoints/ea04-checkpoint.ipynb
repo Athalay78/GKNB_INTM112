{
 "cells": [
  {
   "cell_type": "markdown",
   "id": "efc06c7c-2261-423a-be2d-927250868569",
   "metadata": {},
   "source": [
    "# 4. előadás"
   ]
  },
  {
   "cell_type": "markdown",
   "id": "fbc616d3-4f13-4d13-a084-045d39f1ef61",
   "metadata": {},
   "source": [
    "* tuple, list, set, különbségek\n",
    "* indexelés különféle módjai\n",
    "* in operátor (ciklus esetén és logikai vizsgálat esetén)\n",
    "* list: append, insert, pop, reverse, sort\n",
    "* string: split függvény listát készít\n",
    "* több dimenziós listák\n",
    "* for ciklus\n",
    "* range függvény\n"
   ]
  },
  {
   "cell_type": "markdown",
   "id": "91aaa3e9-9765-402e-b604-e137765bce57",
   "metadata": {},
   "source": [
    "## Alapvető adatszerkezetek"
   ]
  },
  {
   "cell_type": "markdown",
   "id": "05b9cdcd-328c-444e-a7ff-61a89630062b",
   "metadata": {},
   "source": [
    "Sokszor előfordul olyan szituáció, hogy egyszerre több adattal (szöveggel, számmal stb.) kell dolgoznunk. Például több adaton szeretnénk végrehajtani ugyanolyan műveleteket, ugyanazt a számítást. Arra is sokszor van példa, hogy több adatnak csak együttesen van értelme, külön-külön nem tudunk velük mit kezdeni.\n",
    "\n",
    "Ilyen helyzetekben szükség van arra, hogy ezeket az adatokat együttesen tudjuk kezelni, tárolni és felhasználni. Erre szolgálnak különféle adatszerkezetek. Ezekből 3 alapvetőt biztosít számunkra a Python, melyek elsőre nagyon hasonlónak tűnnek, de mindegyiknek megvan a maga szerepe. Ezek a következők:\n",
    "* lista (```list```),\n",
    "* rendezett n-es (```tuple```),\n",
    "* halmaz (```set```).\n",
    "\n",
    "### Lista (```list```)\n",
    "\n",
    "A lista segítségével adatok rendezett gyűjteményét érjük el. Ez azt jelenti, hogy tetszőleges adatokat tudunk benne tárolni. A változóknál megtanultuk, hogy azok minig csak egy értéket képesek tárolni. A lista egy időben több érték tárolására is alkalmas, és az értékeket rendezetten tárolja. Azaz minden egyes elemnek megvan a pozíciója a sorban.\n",
    "\n",
    "Nézzünk egy egyszerű példát. Készítsünk egy listát, ami a kedvenc gyümölcseinket tartalmazza!"
   ]
  },
  {
   "cell_type": "code",
   "execution_count": 1,
   "id": "216cff89-bbb7-419f-8a0b-7755c3d5aa23",
   "metadata": {},
   "outputs": [],
   "source": [
    "fruits = [\"maracuja\", \"szilva\", \"földicseresznye\"]"
   ]
  },
  {
   "cell_type": "markdown",
   "id": "098ade56-d0cd-42ad-90b4-61ee56347f69",
   "metadata": {},
   "source": [
    "A ```fruits``` változó most egy listát tárol el. Egy olyan listát, amelynek három eleme van, mindhárom eleme egy-egy ```str``` típusú adat.\n",
    "A listát mindig szögletes zárójelpár jelöli. A zárójelpár között soroljuk fel a lista elemeit. A lista elemei bármilyen típusú adatok lehetnek.\n",
    "\n",
    "Nézzük meg miket tudunk csinálni egy ilyen egyszerű listával!\n",
    "\n",
    "A ```print``` függvény segítségével, más változókhoz hasonlóan ki tudjuk írni a kimenetre. Lista esetén egy felsorolást fogunk kapni annak tartalmáról."
   ]
  },
  {
   "cell_type": "code",
   "execution_count": 2,
   "id": "0d91e2f8-e4dc-4ad9-9f06-63fd477ba101",
   "metadata": {},
   "outputs": [
    {
     "name": "stdout",
     "output_type": "stream",
     "text": [
      "['maracuja', 'szilva', 'földicseresznye']\n"
     ]
    }
   ],
   "source": [
    "print(fruits)"
   ]
  },
  {
   "cell_type": "markdown",
   "id": "97a478fd-7d99-4f5f-966a-5ec7060a387f",
   "metadata": {},
   "source": [
    "A listákat ugyanolyan módon tudjuk indexelni, mint az ```str``` típusú szövegeket. Ügyeljünk rá, hogy az első elem indexe most is 0!\n",
    "\n",
    "Lekérhetjük egy adott indexen található elemét:"
   ]
  },
  {
   "cell_type": "code",
   "execution_count": 3,
   "id": "72c8b995-6802-45d3-a8c5-a6d51471b0ae",
   "metadata": {},
   "outputs": [
    {
     "name": "stdout",
     "output_type": "stream",
     "text": [
      "maracuja\n"
     ]
    }
   ],
   "source": [
    "print(fruits[0])"
   ]
  },
  {
   "cell_type": "markdown",
   "id": "7e629759-36fb-4cc1-9072-f53d2405094d",
   "metadata": {},
   "source": [
    "Negatív értékekkel is indexelhetünk, a módszer ugyanaz:"
   ]
  },
  {
   "cell_type": "markdown",
   "id": "89d59403-644d-4841-a1cd-c529b35e6e06",
   "metadata": {},
   "source": [
    "print(fruits[-1])"
   ]
  },
  {
   "cell_type": "markdown",
   "id": "e12505f4-78f5-43e1-bf8d-9ebe491dd5ea",
   "metadata": {},
   "source": [
    "De a slicing művelet is ugyanúgy működik. Kérjük le az első két elemét:"
   ]
  },
  {
   "cell_type": "code",
   "execution_count": 4,
   "id": "aab5f474-5199-4c10-94de-13972bcc82dc",
   "metadata": {},
   "outputs": [
    {
     "name": "stdout",
     "output_type": "stream",
     "text": [
      "['maracuja', 'szilva']\n"
     ]
    }
   ],
   "source": [
    "print(fruits[0:2])"
   ]
  },
  {
   "cell_type": "markdown",
   "id": "503971e5-eb33-4f2e-9472-050297c80553",
   "metadata": {},
   "source": [
    "A már ismert ```len``` függvénnyel lekérdezhetjük egy lista elemszámát:"
   ]
  },
  {
   "cell_type": "code",
   "execution_count": 5,
   "id": "5d595d88-fbe2-43e1-b9fa-2760dbcf98d2",
   "metadata": {},
   "outputs": [
    {
     "name": "stdout",
     "output_type": "stream",
     "text": [
      "3\n"
     ]
    }
   ],
   "source": [
    "print(len(fruits))"
   ]
  },
  {
   "cell_type": "markdown",
   "id": "b33c8a41-6341-410b-bb5d-7155aeba6d54",
   "metadata": {},
   "source": [
    "Mindezek alapján már meg tudjuk tenni azt, hogy egy ```while``` ciklus segítségével végig indexeljünk egy lista elemein. A ciklusváltozóval (```i```) a lista elemszámáig iterálunk, minden iterációban kiírjuk az ```i```-edik elemet, majd nem felejtkezünk el a ciklusváltozó inkrementálásáról sem."
   ]
  },
  {
   "cell_type": "code",
   "execution_count": 6,
   "id": "d4a2b9e2-4259-4201-8fdb-d0cf0a2e4250",
   "metadata": {},
   "outputs": [
    {
     "name": "stdout",
     "output_type": "stream",
     "text": [
      "maracuja\n",
      "szilva\n",
      "földicseresznye\n"
     ]
    }
   ],
   "source": [
    "i = 0\n",
    "while i < len(fruits):\n",
    "    print(fruits[i])\n",
    "    i += 1"
   ]
  },
  {
   "cell_type": "markdown",
   "id": "02afac14-ca9a-4c1a-ba38-23f656567874",
   "metadata": {},
   "source": [
    "A szemléltetés kedvéért próbáljuk meg bejárni a listát a végétól az elejéig:"
   ]
  },
  {
   "cell_type": "code",
   "execution_count": 7,
   "id": "a12b640f-02e4-4fd3-8bca-8885b3b8eb68",
   "metadata": {},
   "outputs": [
    {
     "name": "stdout",
     "output_type": "stream",
     "text": [
      "földicseresznye\n",
      "szilva\n",
      "maracuja\n"
     ]
    }
   ],
   "source": [
    "i = len(fruits) - 1\n",
    "while i >= 0:\n",
    "    print(fruits[i])\n",
    "    i -= 1"
   ]
  },
  {
   "cell_type": "markdown",
   "id": "8e9c66aa-3f8c-469e-a3be-f5558910f16c",
   "metadata": {},
   "source": [
    "Az ```in``` operátort listák esetén is tudjuk alkalmazni, működése nagyon hasonló, mint a string-ek esetén már láttuk! Lista esetén az ```in``` operátor megadja, hogy az operátor előtti adat szerepel e az operátor utáni listán:"
   ]
  },
  {
   "cell_type": "code",
   "execution_count": 8,
   "id": "dd114afe-5b8d-4a6f-bf79-1eb0d73cdf66",
   "metadata": {},
   "outputs": [
    {
     "name": "stdout",
     "output_type": "stream",
     "text": [
      "Nem szereted a banánt.\n"
     ]
    }
   ],
   "source": [
    "if \"banán\" in fruits:\n",
    "    print(\"Szereted a banánt!\")\n",
    "else:\n",
    "    print(\"Nem szereted a banánt.\")"
   ]
  },
  {
   "cell_type": "markdown",
   "id": "36e99683-ea32-4a41-8cc9-8925b258f042",
   "metadata": {},
   "source": [
    "Egy lista keverten tartalmazhat több féle adatot:"
   ]
  },
  {
   "cell_type": "code",
   "execution_count": 9,
   "id": "76188baa-4159-412b-9024-d98237032890",
   "metadata": {},
   "outputs": [
    {
     "name": "stdout",
     "output_type": "stream",
     "text": [
      "['alma', 42, False, 1.1428571428571428]\n"
     ]
    }
   ],
   "source": [
    "l = [\"alma\", 42, False, 1*2**3/7]\n",
    "print(l)"
   ]
  },
  {
   "cell_type": "markdown",
   "id": "3b1e283a-d3da-4988-9116-945b4b27f97f",
   "metadata": {},
   "source": [
    "Ritka, hogy ilyen módon használjuk a listákat, de bizonyos esetekben hasznos lehet ez a tulajdonsága.\n",
    "\n",
    "Természetesen, ha egy lista bármit tartalmazhat, akkor ebbe maga a lista is beletartozik. Tehát egy lista tartalmazhat egy másik listát:"
   ]
  },
  {
   "cell_type": "code",
   "execution_count": 10,
   "id": "183b48fc-06cd-48dc-94ea-e127c76dde31",
   "metadata": {},
   "outputs": [
    {
     "name": "stdout",
     "output_type": "stream",
     "text": [
      "1\n",
      "[2, 3]\n",
      "[4, [5, 6]]\n"
     ]
    }
   ],
   "source": [
    "l = [1, [2, 3], [4, [5, 6]]]\n",
    "\n",
    "i = 0\n",
    "while i < len(l):\n",
    "    print(l[i])\n",
    "    i += 1"
   ]
  },
  {
   "cell_type": "markdown",
   "id": "7475a9b4-d504-410f-89db-1d0c3bfe0bf5",
   "metadata": {},
   "source": [
    "A fenti példában ```l``` egy 3 elemű lista. Az első eleme egy ```int```. A második eleme egy ```list```, ami 2 darab ```int``` értéket tartalmaz. A harmadik eleme ismét egy ```list``` típus, melynek szintén két eleme van. Az első eleme egy ```int```, a második azonban egy ```list```, ami további két ```int``` értékből áll."
   ]
  },
  {
   "cell_type": "markdown",
   "id": "da519a90-cf57-482b-811a-f44a64094b18",
   "metadata": {},
   "source": [
    "#### Feladat: Listában tárolt számok szummázása\n",
    "\n",
    "Legyen egy listánk számokkal. Azt szeretnénk, hogy összegezzük a pozitív értékeket és ennek eredményét jelenítsük meg a kimeneten."
   ]
  },
  {
   "cell_type": "code",
   "execution_count": 11,
   "id": "1e585b5c-c527-4da2-b5a2-12e25e12d170",
   "metadata": {},
   "outputs": [
    {
     "name": "stdout",
     "output_type": "stream",
     "text": [
      "440\n"
     ]
    }
   ],
   "source": [
    "# A values lista tárolja az értékeket. Ezek alapján szeretnénk a szummát képezni.\n",
    "values = [-2, 34, -61, 34, -50, -25, -4, -59, 98, 43, 46, 16, 23, -34, 0, 75, 63, -23, -40, 8]\n",
    "\n",
    "# Ciklusváltozó\n",
    "i = 0\n",
    "\n",
    "# A szumma tárolására szolgál.\n",
    "sum = 0\n",
    "\n",
    "# A while ciklussal végig iterálunk a values lista minden elemén.\n",
    "while i < len(values):\n",
    "    # Eldöntjük, hogy az aktuális elem pozitív előjelű vagy sem.\n",
    "    if values[i] > 0:\n",
    "        # Ha pozitív az i-edik érték, akkor hozzáadjuk a sum változóhoz.\n",
    "        sum += values[i]\n",
    "    # Nem felejtjük el inkrementálni a ciklusváltozót.\n",
    "    i += 1\n",
    "\n",
    "# Megjelenítjük a szummázás eredményét.\n",
    "print(sum)"
   ]
  },
  {
   "cell_type": "markdown",
   "id": "5a4209c9-6d72-4aae-8afe-897c305d4a63",
   "metadata": {},
   "source": [
    "Listák esetén értelmezett az összeadás és a szorzás művelete is. Nézzük meg előbb az összeadást! Két tetszőleges listát össze tudunk adni, ami azt jelenti, hogy a két listát egymáshoz fűzi és eredményül egy új listát kapunk, amely mindkét lista elemeit tartalmazza."
   ]
  },
  {
   "cell_type": "code",
   "execution_count": 12,
   "id": "80ae12b4-d33c-4430-88b5-3bd8d32841bb",
   "metadata": {},
   "outputs": [
    {
     "name": "stdout",
     "output_type": "stream",
     "text": [
      "a [1, 2, 3]\n",
      "b [5, 6, 7, 8]\n",
      "c [1, 2, 3, 5, 6, 7, 8]\n"
     ]
    }
   ],
   "source": [
    "a = [1, 2, 3]\n",
    "b = [5, 6, 7, 8]\n",
    "c = a + b\n",
    "print(\"a\", a)\n",
    "print(\"b\", b)\n",
    "print(\"c\", c)"
   ]
  },
  {
   "cell_type": "markdown",
   "id": "5861aaab-90ea-424f-b79d-d94a2c05acff",
   "metadata": {},
   "source": [
    "Láthatjuk, hogy az ősszefűzés során a két lista elemei nem keverednek. Az eredményül kapott lista elején az összeadás operátor bal oldalán álló lista elemei szerepelnek, majd ez után következnek az operátor jobb oldalán álló lista elemei."
   ]
  },
  {
   "cell_type": "markdown",
   "id": "83c743d4-f2d0-44ae-a594-808a22833c26",
   "metadata": {},
   "source": [
    "A szorzás művelet logikája ugyanaz, mint a string-ek esetén már láttuk. Szorzást egy lista és egy egész között tudunk megfeleltetni, ami visszavezethető összeadás műveletre. Azt pedig már tudjuk, hogy mit csinál. A szorzásban szereplő listát a szorzásban szereplő egész darabszor fogja egymás után fűzni."
   ]
  },
  {
   "cell_type": "code",
   "execution_count": 15,
   "id": "73a99f1d-36a1-4d58-a50a-ebbb3c1a824e",
   "metadata": {},
   "outputs": [
    {
     "name": "stdout",
     "output_type": "stream",
     "text": [
      "d [1, 2, 3, 1, 2, 3]\n",
      "e [5, 6, 7, 8, 5, 6, 7, 8, 5, 6, 7, 8, 5, 6, 7, 8]\n"
     ]
    }
   ],
   "source": [
    "d = a * 2\n",
    "e = b * 4\n",
    "print(\"d\", d)\n",
    "print(\"e\", e)"
   ]
  },
  {
   "cell_type": "markdown",
   "id": "12c6f3cb-7ab4-4b11-a90d-7e5cf8d0c855",
   "metadata": {},
   "source": [
    "Ahogy az ```str``` típusnál is láttuk, úgy a ```list``` típusnak is vannak beépített függvényei. Ezek közül nézzü meg a legfontosabbakat.\n",
    "\n",
    "* ```append```\n",
    "Segítségével egy létező listához tudunk új elemet fűzni. Az új elem mindig a lista végére fog kerülni."
   ]
  },
  {
   "cell_type": "code",
   "execution_count": 22,
   "id": "2eb777fd-42e9-4a08-831d-8a5dd33216d4",
   "metadata": {},
   "outputs": [
    {
     "name": "stdout",
     "output_type": "stream",
     "text": [
      "['maracuja', 'szilva', 'földicseresznye']\n",
      "['maracuja', 'szilva', 'földicseresznye', 'körte']\n"
     ]
    }
   ],
   "source": [
    "print(fruits)\n",
    "fruits.append(\"körte\")\n",
    "print(fruits)"
   ]
  },
  {
   "cell_type": "markdown",
   "id": "85abb45b-c6bb-42e1-962c-d75c2b8cb2d8",
   "metadata": {},
   "source": [
    "Ezt gyakran alkalmazzuk úgy, hogy kezdetben egy üres listát hozzukn létre, majd azt bővítjük (pl. felhasználói bemenet által). Ha üres szögletes zárójelpárt adunnk meg, akkor az 0 elemű listát eredményez."
   ]
  },
  {
   "cell_type": "code",
   "execution_count": 25,
   "id": "1564ce1e-a7ee-471e-b2ff-5245da8ac99e",
   "metadata": {},
   "outputs": [
    {
     "name": "stdout",
     "output_type": "stream",
     "text": [
      "data elemszáma: 0\n",
      "data elemei: []\n",
      "data elemszáma: 2\n",
      "data elemei: [-1, 12]\n"
     ]
    }
   ],
   "source": [
    "data = []\n",
    "\n",
    "print(\"data elemszáma:\", len(data))\n",
    "print(\"data elemei:\", data)\n",
    "\n",
    "data.append(-1)\n",
    "data.append(12)\n",
    "\n",
    "print(\"data elemszáma:\", len(data))\n",
    "print(\"data elemei:\", data)"
   ]
  },
  {
   "cell_type": "markdown",
   "id": "59b66dd3-d6ee-40f1-8ff2-e64918cef093",
   "metadata": {},
   "source": [
    "* ```clear```\n",
    "\n",
    "A lista összes elemét törli, üres listát kapunk."
   ]
  },
  {
   "cell_type": "code",
   "execution_count": 26,
   "id": "cd4e4df2-9ceb-421e-9c6f-316721ce4be6",
   "metadata": {},
   "outputs": [
    {
     "name": "stdout",
     "output_type": "stream",
     "text": [
      "[-1, 12]\n",
      "[]\n"
     ]
    }
   ],
   "source": [
    "print(data)\n",
    "\n",
    "data.clear()\n",
    "\n",
    "print(data)"
   ]
  },
  {
   "cell_type": "markdown",
   "id": "b3c1a7c1-2e14-40ce-b9c3-fd4b4ec62710",
   "metadata": {},
   "source": [
    "* ```copy```\n",
    "\n",
    "Másolatot készít a listából, visszatérési értékként kapjuk meg a lista másolatát."
   ]
  },
  {
   "cell_type": "code",
   "execution_count": 29,
   "id": "e5a6914f-eeee-460c-a488-05da9c547e6f",
   "metadata": {},
   "outputs": [
    {
     "name": "stdout",
     "output_type": "stream",
     "text": [
      "[1, 2, 3]\n",
      "[1, 2, 3]\n"
     ]
    }
   ],
   "source": [
    "a = [1, 2, 3]\n",
    "b = a.copy()\n",
    "\n",
    "print(a)\n",
    "print(b)"
   ]
  },
  {
   "cell_type": "markdown",
   "id": "bf768fb1-8961-4f48-b761-f6bd63d2d999",
   "metadata": {},
   "source": [
    "Itt egy nagyon fontos dolgot meg kell nézni! Amikor a számok (```int```, ```float```) tárolását és használatát tanultuk, akkor megnéztük, hogy számok esetén tudunk ilyet csinálni:"
   ]
  },
  {
   "cell_type": "code",
   "execution_count": 32,
   "id": "cef35556-6c12-45fb-b228-1fc24a13204a",
   "metadata": {},
   "outputs": [
    {
     "name": "stdout",
     "output_type": "stream",
     "text": [
      "10\n",
      "10\n"
     ]
    }
   ],
   "source": [
    "x = 10\n",
    "y = x\n",
    "\n",
    "print(x)\n",
    "print(y)"
   ]
  },
  {
   "cell_type": "markdown",
   "id": "2725d748-1df8-4a37-8b52-0c53984185b2",
   "metadata": {},
   "source": [
    "Ezzel gyakorlatilag az ```x``` tartalmát átmásoltuk az ```y``` változóba. Felmerülhet a kérdés, hogy lista esetén ugyanez a mechanizmus nem működhet? Nézzük meg!"
   ]
  },
  {
   "cell_type": "code",
   "execution_count": 33,
   "id": "8978ced4-48f3-4051-8d0f-28c3daa77186",
   "metadata": {},
   "outputs": [
    {
     "name": "stdout",
     "output_type": "stream",
     "text": [
      "[1, 2, 3]\n",
      "[1, 2, 3]\n"
     ]
    }
   ],
   "source": [
    "a = [1, 2, 3]\n",
    "b = a\n",
    "\n",
    "print(a)\n",
    "print(b)"
   ]
  },
  {
   "cell_type": "markdown",
   "id": "d8702c38-b06c-4ae5-a1dd-c89cbac33db4",
   "metadata": {},
   "source": [
    "Látszólag működik, de csak látszólag! Itt egy nagyon fontos különbség van az előbbi ```y = x``` és a mostani ```b = a``` értékadások között. Amikor az ```y = x``` értékadást hajtottuk végre, akkor az ```x``` tartalmából egy másolat készült, ez lett az ```y```. Listák esetén ez nem így történik. A ```b = a``` értékadásnál nem készül másolat az ```a``` listáról, hanem ```b``` változó fizikailag is ugyanazt a listát fogja tartalmazni, mint az ```a``` változó. Gyakorlatilag egy olyan listánk lett, amit két névvel (két változóval) is elérünk.\n",
    "\n",
    "Ezt a legegyszerűbb a következő kóddal tudjuk szemléltetni:"
   ]
  },
  {
   "cell_type": "code",
   "execution_count": 34,
   "id": "8c5a87f7-5e58-471c-8fc1-734bc56030d1",
   "metadata": {},
   "outputs": [
    {
     "name": "stdout",
     "output_type": "stream",
     "text": [
      "a [1, 2, 3]\n",
      "b [1, 2, 3]\n",
      "a [100, 2, 3]\n",
      "b [100, 2, 3]\n"
     ]
    }
   ],
   "source": [
    "print(\"a\", a)\n",
    "print(\"b\", b)\n",
    "\n",
    "a[0] = 100\n",
    "\n",
    "print(\"a\", a)\n",
    "print(\"b\", b)"
   ]
  },
  {
   "cell_type": "markdown",
   "id": "59d47053-826e-4ce1-8192-94e49ce0fa3c",
   "metadata": {},
   "source": [
    "Azt látjuk, hogy az ```a``` listának az 0. indexű elemét átírtuk 100-ra. Azonban ez a változás a ```b``` listán is érvényben van, hiszen a két név (```a``` és ```b```) ugyanarra a fizikai listára mutat.\n",
    "\n",
    "Ezzel szemben a ```copy``` művelet készít egy másolatot a listából, így a két lista valóban különböző lesz:"
   ]
  },
  {
   "cell_type": "code",
   "execution_count": 35,
   "id": "fcda34fe-c8d2-4b4f-a218-71a304e288b4",
   "metadata": {},
   "outputs": [
    {
     "name": "stdout",
     "output_type": "stream",
     "text": [
      "a [1, 2, 3]\n",
      "b [1, 2, 3]\n",
      "a [100, 2, 3]\n",
      "b [1, 2, 3]\n"
     ]
    }
   ],
   "source": [
    "a = [1, 2, 3]\n",
    "b = a.copy()\n",
    "\n",
    "print(\"a\", a)\n",
    "print(\"b\", b)\n",
    "\n",
    "a[0] = 100\n",
    "\n",
    "print(\"a\", a)\n",
    "print(\"b\", b)"
   ]
  },
  {
   "cell_type": "markdown",
   "id": "7ef3c6c3-740f-43fb-9db8-f81708766b90",
   "metadata": {},
   "source": [
    "Látható, hogy miután módosítottuk az ```a``` lista 0. indexű elemét, ez semmilyen kihatással nem volt a ```b``` listára, hiszen az most valóban egy fizikailag különálló, önálló lista."
   ]
  },
  {
   "cell_type": "markdown",
   "id": "ee64cccf-d193-46ce-8850-a7565c5f3cfa",
   "metadata": {},
   "source": [
    "* ```index```\n",
    "\n",
    "Paraméterül adott érték jobbról az első előfordulásának indexét adja eredményül."
   ]
  },
  {
   "cell_type": "code",
   "execution_count": 40,
   "id": "4741b01f-f7e2-4ddb-b824-4f76d26723ce",
   "metadata": {},
   "outputs": [
    {
     "name": "stdout",
     "output_type": "stream",
     "text": [
      "['maracuja', 'szilva', 'földicseresznye', 'körte']\n",
      "1\n"
     ]
    }
   ],
   "source": [
    "print(fruits)\n",
    "\n",
    "print(fruits.index(\"szilva\"))"
   ]
  },
  {
   "cell_type": "markdown",
   "id": "00a22b84-009c-45f0-838b-e452be69d8a9",
   "metadata": {},
   "source": [
    "Ha olyan elem indexét kérjük le, ami nem szerepel a listán, akkor hibát fogunk kapni."
   ]
  },
  {
   "cell_type": "code",
   "execution_count": 41,
   "id": "daa9b04a-45c6-451e-a943-1ca69c6d9c59",
   "metadata": {},
   "outputs": [
    {
     "ename": "ValueError",
     "evalue": "'alma' is not in list",
     "output_type": "error",
     "traceback": [
      "\u001b[0;31m---------------------------------------------------------------------------\u001b[0m",
      "\u001b[0;31mValueError\u001b[0m                                Traceback (most recent call last)",
      "Cell \u001b[0;32mIn[41], line 1\u001b[0m\n\u001b[0;32m----> 1\u001b[0m \u001b[38;5;28mprint\u001b[39m(\u001b[43mfruits\u001b[49m\u001b[38;5;241;43m.\u001b[39;49m\u001b[43mindex\u001b[49m\u001b[43m(\u001b[49m\u001b[38;5;124;43m\"\u001b[39;49m\u001b[38;5;124;43malma\u001b[39;49m\u001b[38;5;124;43m\"\u001b[39;49m\u001b[43m)\u001b[49m)\n",
      "\u001b[0;31mValueError\u001b[0m: 'alma' is not in list"
     ]
    }
   ],
   "source": [
    "print(fruits.index(\"alma\"))"
   ]
  },
  {
   "cell_type": "markdown",
   "id": "5948a419-b21a-4932-adec-462ea55b33da",
   "metadata": {},
   "source": [
    "Egy elágazással és az ```in``` művelettek kombinálva jól használható olyan esetben is, ha nem tudjuk, hogy a keresett elem biztosan szerepel e a listán."
   ]
  },
  {
   "cell_type": "code",
   "execution_count": 46,
   "id": "9a5603bb-b2b5-47d7-85fa-81542929aa34",
   "metadata": {},
   "outputs": [
    {
     "name": "stdout",
     "output_type": "stream",
     "text": [
      "alma nincs a listán!\n"
     ]
    }
   ],
   "source": [
    "fruit = \"alma\"\n",
    "\n",
    "if fruit in fruits:\n",
    "    print(fruits.index(fruit))\n",
    "else:\n",
    "    print(fruit, \"nincs a listán!\")"
   ]
  },
  {
   "cell_type": "markdown",
   "id": "ed1df954-7c8a-4628-9651-4af0379df232",
   "metadata": {},
   "source": [
    "* ```insert```\n",
    "\n",
    "Meghatározott pozícióra helyezi a megadott új elemet."
   ]
  },
  {
   "cell_type": "code",
   "execution_count": 48,
   "id": "9bf6869d-38b5-4b7b-b33e-42d261857196",
   "metadata": {},
   "outputs": [
    {
     "name": "stdout",
     "output_type": "stream",
     "text": [
      "['maracuja', 'szilva', 'földicseresznye', 'körte']\n",
      "['maracuja', 'eper', 'szilva', 'földicseresznye', 'körte']\n"
     ]
    }
   ],
   "source": [
    "print(fruits)\n",
    "fruits.insert(1, \"eper\")\n",
    "print(fruits)"
   ]
  },
  {
   "cell_type": "markdown",
   "id": "c889013e-d697-43ab-9b9c-647ef4125b4c",
   "metadata": {},
   "source": [
    "* ```pop```\n",
    "\n",
    "A paraméterként megadott indexen található elemet kiveszi a listáról és ez az elem lesz a visszatérési értéke. Ha paraméter nélkül hívjuk, akkor mindig az utolsó elemet veszi ki a listáról. Ez a művelet a [verem (stack)](https://en.wikipedia.org/wiki/Stack_(abstract_data_type)) adatszerkezet megvalósításához szükséges."
   ]
  },
  {
   "cell_type": "code",
   "execution_count": null,
   "id": "12b6da6f-df5f-4914-b7e0-f3bb9f5d73d9",
   "metadata": {},
   "outputs": [],
   "source": []
  }
 ],
 "metadata": {
  "kernelspec": {
   "display_name": "Python 3 (ipykernel)",
   "language": "python",
   "name": "python3"
  },
  "language_info": {
   "codemirror_mode": {
    "name": "ipython",
    "version": 3
   },
   "file_extension": ".py",
   "mimetype": "text/x-python",
   "name": "python",
   "nbconvert_exporter": "python",
   "pygments_lexer": "ipython3",
   "version": "3.8.10"
  }
 },
 "nbformat": 4,
 "nbformat_minor": 5
}
