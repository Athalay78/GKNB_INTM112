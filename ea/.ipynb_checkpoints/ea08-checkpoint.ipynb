{
 "cells": [
  {
   "cell_type": "markdown",
   "id": "a4bb637b-95bb-4748-8b2c-6dfdc3fbe23a",
   "metadata": {},
   "source": [
    "# 8. előadás\n",
    "\n",
    "## Tartalom\n",
    "* Az alulvonás (```_```) használata\n",
    "* Véletlenszámok generálása\n",
    "\n",
    "## Az alulvonás, mint változó\n",
    "\n",
    "Python nyelven a változók nevei az angol ábécé betűiből, számokból és alulvonásból (```_```) (angolul underscore) állhat. Ezen felül egy megkötés van csupán a változónévre: nem kezdődhet számmal. Ezek alapján azt mondhatjuk, hogy pusztán egy darab alulvonás elfogadható változónév. Teljesül, hogy számokon, betűkön és alulvonáson kívül mást nem tartalmaz, továbbá az is igaz, hogy nem számmal kezdődik. És ez így is van!"
   ]
  },
  {
   "cell_type": "code",
   "execution_count": 1,
   "id": "4693294f-89e1-4c52-a7f7-b3aa994d4657",
   "metadata": {},
   "outputs": [
    {
     "name": "stdout",
     "output_type": "stream",
     "text": [
      "42\n"
     ]
    }
   ],
   "source": [
    "_ = 42\n",
    "print(_)"
   ]
  },
  {
   "cell_type": "markdown",
   "id": "3ce63267-12b0-44a4-9bd2-b1174a7ac8f2",
   "metadata": {},
   "source": [
    "A fenti kód alapján látjuk, hogy ez valóban működik. Mindannak ellenére, hogy nagyon furán néz ki. Python programozási nyelven az alulvonás, mint változónév egy speciális változót takar, amit szabály szerint csak speciális esetekben alkalmazunk. De egyébként is tudjuk, hogy a változónév mindig beszédes legyen, a neve alapján derüljön ki, hogy az adott kontextusban milyen célt szolgálhat. Ilyen tekintetben pedig az alulvonás nem túl célszerű elnevezés, ezt könnyen beláthatjuk.\n",
    "\n",
    "Az alulvonást akkor használjuk változónévként, ha olyan értéket szeretnénk tárolni, amire nincs szükségünk. Ez elsőre furán hangzik, de van néhány szituáció, amikor ez nagyon hasznos. Nézzük meg ezeket!\n",
    "\n",
    "Találkoztunk már azzal, hogy egy ```tuple``` vagy egy ```list``` elemeit egy-egy változóba szeretnénk eltárolni a könnyebb feldolgozás érdekében. Ezt meg tudjuk tenni az alábbi módon:"
   ]
  },
  {
   "cell_type": "code",
   "execution_count": 2,
   "id": "6c5e472b-ceec-452f-b9bd-016011795eff",
   "metadata": {},
   "outputs": [
    {
     "name": "stdout",
     "output_type": "stream",
     "text": [
      "1 2 3 4 5\n"
     ]
    }
   ],
   "source": [
    "t = (1, 2, 3, 4, 5)\n",
    "a, b, c, d, e = t\n",
    "print(a, b, c, d, e)"
   ]
  },
  {
   "cell_type": "markdown",
   "id": "153d64b7-3f02-4505-8069-cf3903b0f000",
   "metadata": {},
   "source": [
    "A ```t``` változó egy 5 elemű ```tuple```-t tárol. Ezeket az értékeket rendre eltároljuk az ```a```, ```b```, ```c```, ```d``` és ```e``` változókba. Ilyet eddig tudtunk, nincs benne újdonság. Azonban, mi van akkor, ha nekünk nincs szükségünk a ```tuple``` összes elemére, csak mondjuk az első kettőre meg az utolsó előttire? Azaz, ha a fenti példát nézzük, akkor a ```c``` és az ```e``` változók tartalmát nem szeretnénk felhasználni, tegyük fel. Persze semmi nem kötelez minket arra, hogy felhasználjuk őket. De ezt a tényt nagyon szépen tudjuk jelezni, ha ilyen esetben az alulvonást használjuk változónévként. Ezzel ránézésre is látszik bárki számára, hogy azokkal az értékekkel biztosan nem fogunk számítást végezni. Ebben az esetben így járunk el:"
   ]
  },
  {
   "cell_type": "code",
   "execution_count": 3,
   "id": "e280f577-e9e1-47ca-ab99-cf1334f597a2",
   "metadata": {},
   "outputs": [
    {
     "name": "stdout",
     "output_type": "stream",
     "text": [
      "1 2 4\n"
     ]
    }
   ],
   "source": [
    "t = (1, 2, 3, 4, 5)\n",
    "a, b, _, d, _ = t\n",
    "print(a, b, d)"
   ]
  },
  {
   "cell_type": "markdown",
   "id": "edd56d13-ff8e-4dcf-9eb2-e0efa26ae682",
   "metadata": {},
   "source": [
    "A fenti kód ez alapján elég beszédes. Egyértelműen utal arra, hogy a ```t``` ```tuple```-ből a 2. és a 4. indexeken található elemeket nem fogjuk felhasználni az adott feladat, számítás során.\n",
    "\n",
    "Persze ettől az ```_``` változó még ugyanúgy funkcionál változóként. Ha például kiírjuk az értékét, akkor látjuk, hogy az ```5``` található benne, hiszen ezt az értéket (a ```t``` utolsó elemét) helyeztük el benne utoljára."
   ]
  },
  {
   "cell_type": "code",
   "execution_count": 4,
   "id": "0a7b6e55-413a-4c39-a88b-f4f103f0fe67",
   "metadata": {},
   "outputs": [
    {
     "name": "stdout",
     "output_type": "stream",
     "text": [
      "5\n"
     ]
    }
   ],
   "source": [
    "print(_)"
   ]
  },
  {
   "cell_type": "markdown",
   "id": "a1f6b99e-ba6a-4433-a84c-3b32ea177e24",
   "metadata": {},
   "source": [
    "Ugyanezen elven használhatjuk arra is, hogy ha egy függvénynek több visszatérési értéke van, de nekünk az adott helyzetben nincs szükségünk mindegyikre, akkor a feleslegeseket mindig az ```_``` nevű változóba tároljuk el.\n",
    "\n",
    "Nézzünk erre egy példát! Ehhez először készítsünk egy függvényt, amely bemenetként várja egy tetszőleges téglalap két különböző oldalhosszát (```w``` és ```l``` bemeneti változók). Ezek alapján határozzuk meg a téglalap\n",
    "* kerületét,\n",
    "* területét,\n",
    "* átlóját,\n",
    "* és annak tényét, hogy négyzet vagy sem.\n",
    "\n",
    "Ez a 4 tulajdonság, a fenti sorrendben legyen a visszatérési értéke a függvénynek."
   ]
  },
  {
   "cell_type": "code",
   "execution_count": 5,
   "id": "3a9caafc-3acd-4fbd-a1e4-983d6633c3f9",
   "metadata": {},
   "outputs": [
    {
     "name": "stdout",
     "output_type": "stream",
     "text": [
      "10, 6, 3.605551275463989, False\n",
      "48, 144, 16.97056274847714, True\n"
     ]
    }
   ],
   "source": [
    "def calcRectangleProperties(w, l):\n",
    "    perimeter = 2 * (w + l)\n",
    "    area = w * l\n",
    "    diagonal = (w**2 + l**2)**0.5\n",
    "    isSquare = w == l\n",
    "    return perimeter, area, diagonal, isSquare\n",
    "\n",
    "p, a, d, issq = calcRectangleProperties(2, 3)\n",
    "print(p, a, d, issq, sep=\", \")\n",
    "\n",
    "p, a, d, issq = calcRectangleProperties(12, 12)\n",
    "print(p, a, d, issq, sep=\", \")"
   ]
  },
  {
   "cell_type": "markdown",
   "id": "1f1bf223-4b82-4cd5-83f6-e7b19aacb44e",
   "metadata": {},
   "source": [
    "Tegyük fel, hogy számunkra most csak a téglalap területe az érdekes, a többi tulajdonságát most nem szeretnénk felhasználni. Nyilván megtehetjük azt, hogy a fenti kódban csak az ```a``` változóban található területet használjuk fel, és a ```p```, ```d``` valamint ```issq``` változókat nem használjuk fel sehol. Sokkal szemléletesebb és átláthatóbb a kód, ha ennek a tényét jelezzük azzal, hogy a számunkra éppen szükségtelen számítási eredményeket az ```_``` változóba helyezzük:"
   ]
  },
  {
   "cell_type": "code",
   "execution_count": 6,
   "id": "15584cc3-407d-4336-b615-02a489d73f9a",
   "metadata": {},
   "outputs": [
    {
     "name": "stdout",
     "output_type": "stream",
     "text": [
      "144\n"
     ]
    }
   ],
   "source": [
    "_, a, _, _ = calcRectangleProperties(12, 12)\n",
    "print(a)"
   ]
  },
  {
   "cell_type": "markdown",
   "id": "af9209c9-c7f0-4163-8071-ffeff17ed80c",
   "metadata": {},
   "source": [
    "Így ha valaki először látja a kódunkat, akkor is egyértelmű lesz számára, hogy az adott feladatban nekünk csak a területre volt szükségünk, a többi tulajdonság felhasználását ne is keressük a kód további részeiben."
   ]
  },
  {
   "cell_type": "markdown",
   "id": "52b83ef5-0fa1-461c-b6b5-ac95d2a1aae5",
   "metadata": {},
   "source": [
    "Egy másik nagyon gyakori esete az alulvonás, mint változónév alkalmazásának a ciklusok esetén jön elő. A ciklusokat sok esetben arra használjuk, hogy végig iteráljunk egy listán vagy egy rendezett n-esen, esetleg egy szótáron. Iterálás során pedig minden egyes elemen ugyanazt a műveletet szeretnénk végrehajtani. Egy másik gyakori esete a ciklusok használatának, amikor adott műveletet előre meghatározott mennyiségben végre szeretnénk hajtani. Mondjuk egy olyan programot akarunk írni, ami tetszőleges mennyiségű számot össze tud adni. Készítsük is ezt el és nézzük meg, hogy hol jöhet itt jól az alulvonás! Először kérjük be a felhasználótól, hogy hány darab számot szeretne összegezni, majd kérjük be tőle a számokat és írjuk ki az összegzés eredményét."
   ]
  },
  {
   "cell_type": "code",
   "execution_count": 7,
   "id": "81a20bf6-f2d5-4634-91b1-ae61cb33844a",
   "metadata": {},
   "outputs": [
    {
     "name": "stdin",
     "output_type": "stream",
     "text": [
      "Hány számot szeretne összegezni? 3\n",
      "Kérem a következő számot! 1\n",
      "Kérem a következő számot! 2\n",
      "Kérem a következő számot! 3\n"
     ]
    },
    {
     "name": "stdout",
     "output_type": "stream",
     "text": [
      "Az 3 darab szám szummája 6.0\n"
     ]
    }
   ],
   "source": [
    "n = int(input(\"Hány számot szeretne összegezni?\"))\n",
    "\n",
    "sum = 0\n",
    "\n",
    "for i in range(n):\n",
    "    sum += float(input(\"Kérem a következő számot!\"))\n",
    "\n",
    "print(f\"Az {n} darab szám szummája {sum}\")"
   ]
  },
  {
   "cell_type": "markdown",
   "id": "1c1c0164-2c66-44bf-9da9-626565a2ad3b",
   "metadata": {},
   "source": [
    "A fenti kódban a ```for``` ciklus ```n```-szer fog lefutni, ahol ```n``` értékét közvetlenül előtte a felhasználótól kérjük be. Az ```n``` darab futást egyszerűen kivitelezhetjük a ```range``` függvény segítségével, ezt már ismerjük. vegyük észre, hogy a ciklusváltozót (```i```) ebben a feladatban nem használtuk semmire, túl nagy jelentősége nincsen. Egyszerűen csak arra van szükségünk, hogy ```n```-szer értéket kérjünk a felhasználótól és azt mindig hozzáadjuk a ```sum``` változóhoz. Azaz itt megint van egy olyan értékünk amire nincs szükség, sehol nem használjuk fel. Ez az érték pedig a ciklusváltozó. Ha a ciklusváltozóra nincs szükségünk, akkor ennek a tényét szintén jelezhetjük azzal, ha a ciklusváltozó elnevezésére az alulvonást használjuk. A fenti feladatot ezzel a megközelítéssel így oldhatjuk meg:"
   ]
  },
  {
   "cell_type": "code",
   "execution_count": 8,
   "id": "fbeed833-b7fc-4844-9cb6-84c9c6805978",
   "metadata": {},
   "outputs": [
    {
     "name": "stdin",
     "output_type": "stream",
     "text": [
      "Hány számot szeretne összegezni? 3\n",
      "Kérem a következő számot! 1\n",
      "Kérem a következő számot! 2\n",
      "Kérem a következő számot! 3\n"
     ]
    },
    {
     "name": "stdout",
     "output_type": "stream",
     "text": [
      "Az 3 darab szám szummája 6.0\n"
     ]
    }
   ],
   "source": [
    "n = int(input(\"Hány számot szeretne összegezni?\"))\n",
    "\n",
    "sum = 0\n",
    "\n",
    "for _ in range(n):\n",
    "    sum += float(input(\"Kérem a következő számot!\"))\n",
    "\n",
    "print(f\"Az {n} darab szám szummája {sum}\")"
   ]
  },
  {
   "cell_type": "markdown",
   "id": "31eab900-aeba-4faf-8f04-06a8958c426b",
   "metadata": {},
   "source": [
    "Az egyetlen változás a kódban, hogy az ```i``` változó helyett ```_``` változó szerepel. A műküdés tekintetében semmilyen változás nem történt, pontosan ugyanazt csinálja a program. Viszont sokkal beszédesebb lett, mert ránézésre is látszik, hogy a ciklusváltozót nem fogjuk használni semmire, nincs neki kitüntetett szerepe.\n",
    "\n",
    "Találkoztunk már olyan esettel, amikor egy olyan ```list``` vagy ```tuple``` objektumon iteráltunk végig, melynek minden eleme egy-egy további azonos méretű ```list``` vagy ```tuple``` volt. Például a ```calcRectangleProperties``` függvényt felhasználva ```list comprehension``` módszerrel generáljunk egy listát, ami téglalapok tulajdonságait tartalmazza:"
   ]
  },
  {
   "cell_type": "code",
   "execution_count": 9,
   "id": "62568f20-ee07-4db2-9d70-138feabd8ac7",
   "metadata": {},
   "outputs": [],
   "source": [
    "rectangles = [calcRectangleProperties(i, i*2) for i in range(1, 20)]"
   ]
  },
  {
   "cell_type": "markdown",
   "id": "f3758ad1-d5df-4b4a-84de-e2ca8725ad78",
   "metadata": {},
   "source": [
    "Az így létrehozott ```rectangles``` nevű ```list```-et egy ```for``` ciklus segítségével könnyen be tudjuk járni:"
   ]
  },
  {
   "cell_type": "code",
   "execution_count": 10,
   "id": "8187c32e-e7bb-487c-90a1-b86b9154638d",
   "metadata": {},
   "outputs": [
    {
     "name": "stdout",
     "output_type": "stream",
     "text": [
      "6 2 2.23606797749979 False\n",
      "12 8 4.47213595499958 False\n",
      "18 18 6.708203932499369 False\n",
      "24 32 8.94427190999916 False\n",
      "30 50 11.180339887498949 False\n",
      "36 72 13.416407864998739 False\n",
      "42 98 15.652475842498529 False\n",
      "48 128 17.88854381999832 False\n",
      "54 162 20.12461179749811 False\n",
      "60 200 22.360679774997898 False\n",
      "66 242 24.596747752497688 False\n",
      "72 288 26.832815729997478 False\n",
      "78 338 29.068883707497267 False\n",
      "84 392 31.304951684997057 False\n",
      "90 450 33.54101966249684 False\n",
      "96 512 35.77708763999664 False\n",
      "102 578 38.01315561749642 False\n",
      "108 648 40.24922359499622 False\n",
      "114 722 42.485291572496 False\n"
     ]
    }
   ],
   "source": [
    "for p, a, d, issq in rectangles:\n",
    "    print(p, a, d, issq)"
   ]
  },
  {
   "cell_type": "markdown",
   "id": "6897cb52-b0db-4bb9-b7a3-f34e426f5cb0",
   "metadata": {},
   "source": [
    "Tegyük fel, hogy számunkra az iteráció során csak a téglalapok területére és kerületére, tehát az első két értékre van szükségünk. Az alávonás változó itt is jó szolgálatot tesz:"
   ]
  },
  {
   "cell_type": "code",
   "execution_count": 11,
   "id": "d507aff7-ab30-4f3f-86fc-fce826de745e",
   "metadata": {},
   "outputs": [
    {
     "name": "stdout",
     "output_type": "stream",
     "text": [
      "6 2\n",
      "12 8\n",
      "18 18\n",
      "24 32\n",
      "30 50\n",
      "36 72\n",
      "42 98\n",
      "48 128\n",
      "54 162\n",
      "60 200\n",
      "66 242\n",
      "72 288\n",
      "78 338\n",
      "84 392\n",
      "90 450\n",
      "96 512\n",
      "102 578\n",
      "108 648\n",
      "114 722\n"
     ]
    }
   ],
   "source": [
    "for p, a, _, _ in rectangles:\n",
    "    print(p, a)"
   ]
  },
  {
   "cell_type": "markdown",
   "id": "3365d8ca-cef9-4053-87c7-40c470549d0f",
   "metadata": {},
   "source": [
    "Az ```_``` változónév használatával egyértelműen jelezzük, hogy itt a feladatunk végrehajtása során nekünk csak az első két tulajdonságra, tehát a kerületre és a területre van szükségünk."
   ]
  },
  {
   "cell_type": "markdown",
   "id": "63c54c92-e981-4443-9b6f-1b22cde0c712",
   "metadata": {},
   "source": [
    "## Véletlenszám generálás\n",
    "\n",
    "Nagyon sok helyzetben szükségünk lehet arra, hogy véletlenszerű értékeket legyünk képesek generálni. Itt arra kell gondolni, hogy egy változónak olyan (jellemzően) szám értéket szeretnénk adni, amit előre nem ismerünk. Tesszük ezt valamilyen meghatározott intervallumban, meghatározott számok halmazán és meghatározott eloszlás mellett.\n",
    "\n",
    "Számtalan területen alkalmazzuk a véletlenszámokat. Ide tartoznak a játékok, ha például a klasszikus casino játékokra vagy a lottóra gondolunk. A számítógépes szimuláció területén véletlenszerű paraméterek generálásával és futtatásával vizsgálható az adott szimuláció minél változatosabb körülmények között. Szintén klasszikus példa a jelszó generálás, ahol valamilyen szabályrendszer szerint (pl. milyen jellegű karaktereket tartalmazzon) szeretnénk kellő erősségű jelszavakat előállítani. De ide tartozik a titkosítás is, ahol valamilyen üzenetből a titkosított és minél nehezebben visszafejthető jelsorozat előállításához véletlenszámok generálása elengedhetetlen.\n",
    "\n",
    "De nem csak a műszaki tudományok világában találkozunk véletlenszámokkal, az élet más területén is előfordul az alkalmazásuk, jelenlétük. Gondolhatunk akár a politikára, sportra, művészetre vagy a biológiára.\n",
    "\n",
    "A Python programozási nyelv beépítve tartalmaz lehetőséget véletlenszámok generálására. Ehhez a ```random``` modult kell importálnunk."
   ]
  },
  {
   "cell_type": "code",
   "execution_count": 12,
   "id": "3e0872cf-ee7a-4f8d-a1e9-2087cc645a11",
   "metadata": {},
   "outputs": [],
   "source": [
    "import random"
   ]
  },
  {
   "cell_type": "markdown",
   "id": "8cbaf970-20ba-4374-ab52-84f9e557f997",
   "metadata": {},
   "source": [
    "### Legfontosabb függvények\n",
    "\n",
    "A ```random``` modul importálása után lehetőségünk van használni számtalan függvényt, amik segítségével különféle módon tudunk véletlenszerű értékeket generálni. Nézzük meg ezek közül a legfontosabbakat!\n",
    "\n",
    "* ```random.random```\n",
    "\n",
    "Segítségével $[0, 1[$ intervallumba tartozó véletlen valós értékeket tudunk generálni. Ez a leggyakoribb formája a véletlenszám generálásnak."
   ]
  },
  {
   "cell_type": "code",
   "execution_count": 13,
   "id": "9b1d60d0-e4bf-4a9a-86d9-826e676c46f6",
   "metadata": {},
   "outputs": [
    {
     "name": "stdout",
     "output_type": "stream",
     "text": [
      "0.2662688168855437\n"
     ]
    }
   ],
   "source": [
    "print(random.random())"
   ]
  },
  {
   "cell_type": "markdown",
   "id": "c65b8b02-19d2-4bad-bbb2-f43025b0563c",
   "metadata": {},
   "source": [
    "Látjuk, hogy a függvény visszatérési értéke valóban egy 0 és 1 közötti valós érték, amely minden futtatásra más-más értéket fog generálni. Egy ciklussal generáljunk több értéket, hogy ezzel is szemléltessük a generált véletlenszámokat:"
   ]
  },
  {
   "cell_type": "code",
   "execution_count": 14,
   "id": "2a41662a-d4ad-4e62-93c1-a27cafa96170",
   "metadata": {},
   "outputs": [
    {
     "name": "stdout",
     "output_type": "stream",
     "text": [
      "0.03443042805986196\n",
      "0.9137627869847726\n",
      "0.42815629184260084\n",
      "0.8273646367024402\n",
      "0.01337312195133944\n",
      "0.4462544372677042\n",
      "0.6095776969121219\n",
      "0.5406742768854992\n",
      "0.5167452740400851\n",
      "0.599423772421407\n"
     ]
    }
   ],
   "source": [
    "for _ in range(10):\n",
    "    print(random.random())"
   ]
  },
  {
   "cell_type": "markdown",
   "id": "cdb5c6bd-8be4-4bde-9d21-fd85439efbbf",
   "metadata": {},
   "source": [
    "* ```random.randint```\n",
    "\n",
    "Paraméterként megadott minimum és maximum érték közötti egész számot fog véletlenszerűen generálni. Az intervallum mindkét oldalról zárt, tehát a végértékek is beletartoznak a generálható számok halmazába."
   ]
  },
  {
   "cell_type": "code",
   "execution_count": 15,
   "id": "36004fbf-c207-4d6f-b54d-03d9c3e2fac1",
   "metadata": {},
   "outputs": [
    {
     "name": "stdout",
     "output_type": "stream",
     "text": [
      "0\n"
     ]
    }
   ],
   "source": [
    "print(random.randint(0, 10))"
   ]
  },
  {
   "cell_type": "markdown",
   "id": "74dc5e91-4041-4b98-9d74-688ff00bda00",
   "metadata": {},
   "source": [
    "Segítségével egyszerűen tudunk hagyományos hatoldalú dobókocka dobást szimulálni:"
   ]
  },
  {
   "cell_type": "code",
   "execution_count": 16,
   "id": "85d6394e-4c83-4518-ac9e-ea544e8ab4f7",
   "metadata": {},
   "outputs": [
    {
     "name": "stdout",
     "output_type": "stream",
     "text": [
      "4\n",
      "1\n",
      "4\n",
      "5\n",
      "3\n",
      "6\n",
      "3\n",
      "1\n",
      "3\n",
      "6\n"
     ]
    }
   ],
   "source": [
    "for _ in range(10):\n",
    "    print(random.randint(1, 6))"
   ]
  },
  {
   "cell_type": "markdown",
   "id": "de561d0d-8d82-4d1b-894b-0d26ad472d0e",
   "metadata": {},
   "source": [
    "* ```random.uniform```\n",
    "\n",
    "A ```randint``` függvényhez hasonlóan egy megadott zárt intervallumból választ véletlenszámot. Azonban most nem egész, hanem valós szám lesz az eredmény. Ebből adódóan az intervallum végértékei is lehetnek valós számok."
   ]
  },
  {
   "cell_type": "code",
   "execution_count": 17,
   "id": "f536e5a5-bfe5-4281-a71f-e5745cdd4eaf",
   "metadata": {},
   "outputs": [
    {
     "name": "stdout",
     "output_type": "stream",
     "text": [
      "4.402720913131317\n",
      "0.00036648867573806386\n"
     ]
    }
   ],
   "source": [
    "print(random.uniform(0, 10)) # A [0, 10] intervallumból választ véletlenszámot.\n",
    "print(random.uniform(0, 0.001))  # A [0, 0,001] intervallumból választ véletlenszámot."
   ]
  },
  {
   "cell_type": "code",
   "execution_count": 18,
   "id": "326d9e0c-4a6f-4e3c-8051-5eaf1c3a4a32",
   "metadata": {},
   "outputs": [
    {
     "name": "stdout",
     "output_type": "stream",
     "text": [
      "100.83622808856201\n",
      "100.16763539533606\n",
      "100.80325596151165\n",
      "100.71123408688865\n",
      "100.40024012065037\n",
      "100.54265124517677\n",
      "100.10545151636313\n",
      "100.36844299909258\n",
      "100.30724184296118\n",
      "100.37142131589708\n"
     ]
    }
   ],
   "source": [
    "for _ in range(10):\n",
    "    print(random.uniform(100, 101))"
   ]
  },
  {
   "cell_type": "markdown",
   "id": "aeb291ed-519b-4aa8-8f22-8f8da79411a3",
   "metadata": {},
   "source": [
    "Ha belegondolunk, akkor a ```random``` és az ```uniform``` függvények kis csúsztatással, de helyettesíthetőek egymással. Ha az ```uniform``` függvényt a 0 és az 1 paraméterekkel látjuk el, akkor majdnem ugyanazt csinálja, mint a ```random``` függvény:"
   ]
  },
  {
   "cell_type": "code",
   "execution_count": 19,
   "id": "6656628b-b7a4-49f5-8a80-48d4b7a11178",
   "metadata": {},
   "outputs": [
    {
     "name": "stdout",
     "output_type": "stream",
     "text": [
      "0.18083132800796864\n",
      "0.7408183194692752\n",
      "0.8175068174063291\n",
      "0.3306286977597087\n",
      "0.9659636977693943\n",
      "0.025996159359840787\n",
      "0.266802416091535\n",
      "0.1275729483745438\n",
      "0.16876432894756876\n",
      "0.28410531746929313\n"
     ]
    }
   ],
   "source": [
    "for _ in range(10):\n",
    "    print(random.uniform(0, 1))"
   ]
  },
  {
   "cell_type": "markdown",
   "id": "0cd4c7f8-2bab-4c10-ad2a-38598dddb266",
   "metadata": {},
   "source": [
    "Azért csak majdnem, mert a ```random``` függvény a $[0, 1[$ tartományból fog generálni, az ```uniform``` függvény a fenti esetben viszont a $[0, 1]$ intervallummal dolgozik.\n",
    "\n",
    "Ugyanezen logika mentén a ```random``` függvényből is tudunk az ```uniform```-hoz nagyon hasonlót csinálni:"
   ]
  },
  {
   "cell_type": "code",
   "execution_count": 20,
   "id": "c3d388b7-9cc0-44da-8925-e32c7f38fe7c",
   "metadata": {},
   "outputs": [
    {
     "name": "stdout",
     "output_type": "stream",
     "text": [
      "4.112104693930173\n",
      "5.156139526826131\n",
      "4.969170614323135\n",
      "5.06138958731602\n",
      "4.508049341271967\n",
      "5.123778987445638\n",
      "3.8086386333119475\n",
      "4.351216843428348\n",
      "4.923430991117569\n",
      "5.100971744427274\n"
     ]
    }
   ],
   "source": [
    "min_value = 3.8\n",
    "max_value = 5.2\n",
    "\n",
    "for _ in range(10):\n",
    "    print(random.random() * (max_value - min_value) + min_value)"
   ]
  },
  {
   "cell_type": "markdown",
   "id": "43ce75e3-0463-4de7-b2b2-5588a85d7ff0",
   "metadata": {},
   "source": [
    "A fenti példában a ```min_value``` és ```max_value``` változókban tároltuk el az intervallum két végét. A ```random``` függvény önmagában 0 és 1 közötti számot fog generálni. Első körben ezt a tartományt \"szét kell nyújtani\" a ```min_value``` és a ```max_value``` intervallum hosszára. A hosszát pedig a két végérték különbsége fogja adni. Ha ezzel a különbséggel szorozzuk a generált számot, akkor ezzel a tartomány hosszát megváltoztattuk. Ez önmagában nem elég, mert ezzel a generálandó tartomány még mindig 0-tól indul. Ezzel még csak a tartomány hossza lett jó, ami most már nem 1, hanem 1,4 (az 5,2 és a 3,8 különbsége). Utolsó mozzanatként ezt a tartományt el kell \"tolni\", hogy ne 0-tól, hanem a ```min_value```-tól induljon. Azaz hozzáadjuk a ```min_value``` értékét."
   ]
  },
  {
   "cell_type": "markdown",
   "id": "768f8050-8961-4daa-ad2d-b06ed23e8f07",
   "metadata": {},
   "source": [
    "* ```random.choice```\n",
    "\n",
    "Egy bejárható szekvencia (pl. lista vagy rendezett n-es) elemi közül véletlenszerűen választ egyet és a választott érték lesz a visszatérési értéke.\n",
    "\n",
    "Például eldönthetjük, hogy a kedvenc filmjeink közül melyiket nézzük meg:"
   ]
  },
  {
   "cell_type": "code",
   "execution_count": 21,
   "id": "1ea41712-da8f-4490-aa91-c031d5b4e1bc",
   "metadata": {},
   "outputs": [
    {
     "name": "stdout",
     "output_type": "stream",
     "text": [
      "Home Alone\n"
     ]
    }
   ],
   "source": [
    "fav_movies = [\"Spaceballs\", \"The Legend of 1900\", \"Home Alone\", \"My Dog Skip\", \"Patch Adams\"]\n",
    "which = random.choice(fav_movies)\n",
    "print(which)"
   ]
  },
  {
   "cell_type": "markdown",
   "id": "dc65e35b-d988-48b8-bde5-fe4f38550066",
   "metadata": {},
   "source": [
    "De akár ilyen módon is használhatjuk. Most a ```range``` függvénnyel generálunk egy iterálható objektumot, ami a $[1, 7[$ tartományba eső egész számokat tartalmazza. Ezzel gyakorlatilag megint egy dobókocka szimulációt csinálhatunk:"
   ]
  },
  {
   "cell_type": "code",
   "execution_count": 22,
   "id": "3c302251-6e27-4c9b-8146-8470d4b7aea2",
   "metadata": {},
   "outputs": [
    {
     "name": "stdout",
     "output_type": "stream",
     "text": [
      "2\n",
      "6\n",
      "4\n",
      "4\n",
      "5\n",
      "2\n",
      "1\n",
      "3\n",
      "5\n",
      "2\n"
     ]
    }
   ],
   "source": [
    "for _ in range(10):\n",
    "    print(random.choice(range(1, 7)))"
   ]
  },
  {
   "cell_type": "markdown",
   "id": "ab88aa79-d318-4625-9fd5-164a7998ba2a",
   "metadata": {},
   "source": [
    "* ```random.shuffle```\n",
    "\n",
    "Szinten egy tetszőleges szekvenciát kell paraméterül adnunk számára, melynek elemeit véletlenszerűen össze fogja keverni. Fontos! Ennek eredményeként nem egy új ```list```-et vagy ```tuple```-t fog generálni, ami az összekevert adatokat tartalmazza! A keverést az eredeti objektumon belül fogja elvégezni. Ezért az eredeti rendezettség el fog veszni."
   ]
  },
  {
   "cell_type": "code",
   "execution_count": 23,
   "id": "b9bc2bd1-56c3-4a87-9611-a51a80931e79",
   "metadata": {},
   "outputs": [
    {
     "name": "stdout",
     "output_type": "stream",
     "text": [
      "[1, 2, 3, 4, 5, 6, 7, 8, 9, 10]\n",
      "[10, 4, 2, 6, 3, 1, 7, 8, 5, 9]\n"
     ]
    }
   ],
   "source": [
    "nums = list(range(1, 11))\n",
    "print(nums)\n",
    "random.shuffle(nums) # Nincs visszatérési érték! A keverés az eredeti nums lista értékeinek pozícióját módosította\n",
    "print(nums)"
   ]
  },
  {
   "cell_type": "markdown",
   "id": "72f951d8-7c57-4d7f-894f-bd6159166923",
   "metadata": {},
   "source": [
    "Ha olyan feladattal találjuk szembe magunkat, ahol szükségünk van arra, hogy az eredeti rendezettség is megmaradjon, akkor ezt úgy tudjuk kiküszöbölni, ha készítünk egy másolatot az eredeti objektumból és a másolaton végezzük el a véletlen keverést:"
   ]
  },
  {
   "cell_type": "code",
   "execution_count": 24,
   "id": "3785c3be-2bb3-4f13-b527-4609af387fe2",
   "metadata": {},
   "outputs": [
    {
     "name": "stdout",
     "output_type": "stream",
     "text": [
      "nums keverés előtt: [1, 2, 3, 4, 5, 6, 7, 8, 9, 10]\n",
      "nums keverés után: [1, 2, 3, 4, 5, 6, 7, 8, 9, 10]\n",
      "A kevert lista: [9, 2, 1, 8, 7, 5, 3, 10, 4, 6]\n"
     ]
    }
   ],
   "source": [
    "nums = list(range(1, 11))\n",
    "print(\"nums keverés előtt:\", nums)\n",
    "shuffled_nums = list(nums) # Új listát generálunk a régi alapján.\n",
    "random.shuffle(shuffled_nums) # Az új listán végezzük a keverést, így a régi érintetlen marad.\n",
    "print(\"nums keverés után:\", nums)\n",
    "print(\"A kevert lista:\", shuffled_nums)"
   ]
  },
  {
   "cell_type": "markdown",
   "id": "3720f08f-5e5f-4ce3-9b9a-1b1827ec8451",
   "metadata": {},
   "source": [
    "* ```random.seed```\n",
    "\n",
    "Mielőtt a függvény szerepére rátérnénk, egy nagyon fontos dolgot tisztázni kell a véletlenszámok generálásával kapcsolatban. A legtöbb programozási nyelv tartalmaz beépített lehetőséget véletlenszám generálásra, azonban ezek kívétel nélkül úgynevezett ál-véletlenszám generátorok, vagy pszeudó-random generátoroknak is szoktak nevezni. Ez azt jelenti, hogy a szó szoros értelmében a fent bemutatott funkciókkal a legkevésbé sem véletlenszerű értékeket generálunk. Sőt! A fenti kódsorok által generált, véletlennek kinéző számokat egytől egyig előre meg tudtuk volna jósolni. Ez azért van, mert valós, tényleges véletlenszerűséget előállítani nehéz és költséges, de tulajdonképpen az esetek nagy részében nincs is rá szükség. Ennek a tantárgynak a keretein belül pedig főleg nincs arra szükségünk, hogy valós véletlenséget tudjuk csinálni. Helyette egy olyan algoritmus fut a háttérben, amely képes előre generálni egy számsorozatot. Amikor kérünk egy véletlenszámot, akkor tulajdonképpen ennek az előre legenerált sorozatnak kapjuk meg a következő elemét. Ezt a sorozatot pedig egyszerű matematikai eszközökkel előre mi is ki tudnánk számítani, így előre mindig meg tudnánk mondani, hogy mi lesz a következő véletlenszerű érték. Ha pedig előre meg lehet mondani a következő értéket, akkor okafogyottá válik, hogy véletlennek nevezzük a számot, hiszen ebből kifolyólag nem az. Az algoritmus lényege, hogy olyan számokat generál, amik \"ránézésre\" véletlenszerűen hatnak. Azaz az algoritmus alkalmaz olyan szabályokat, amelynek köszönhetően a számok közelítik a kívánt eloszlást, a számok egymás utániságában szabályrendszert felfedezni nagyon nehéz, emberi mércével tekintve pedig gyakorlatilag lehetetlen. Ennek az okos algoritmusnak egyetlen bemenete van, ami mindent meghatároz. Tulajdonképpen ez az egy bemenet dönti el az adott véletlenszerűséget. Ezt a bemenetet hívjuk \"seed\"-nek és ennek a bemenetnek a meghatározására szolgál a ```random.seed``` függvény. A függvény bementként egy darab számot vár. Ez a szám lesz az ál-véletlen számok generálásának az alapja, mondhatni kezdőértéke. Ami azt jelenti, hogy ez az egy darab szám meghatározza bármelyik következő véletlenszámot. Tehát ha tudjuk, hogy mi a seed érték és ismerjük a számítás képletét, akkor mi is meg tudjuk \"jósolni\" előre, hogy mi lesz bármelyik következő véletlenszám.\n",
    "\n",
    "Viszont a ```random.seed``` függvénnyel eddig nem foglalkoztunk, nem adtuk meg a kezdő értéket. Felmerülhet a kérdés, hogy akkor eddig mi volt ez az érték? Ha nem adunk meg ilyen értéket, akkor sincs probléma. A legtöbb programozási nyelv, így a Python is, alapértelmezetten az aktuális időt használja seed értékként. Azért az időt, mert ez kellően gyakran változik, így minden futtatásra más-más véletlenszerűséget tud generálni.\n",
    "\n",
    "És itt jön be a képbe egy rettentően fontos tulajdonság! A seed érték alapból az idő. Az idő változik, ezért mindig változnak a véletlenszámok amikor újra futtatjuk a programot. Akkor ez azt kell jelentse, hogy ha kézzel megadunk egy fix, nem változó értéket a seed-nek, akkor az mindig ugyanaz lesz, tehát a véletlenszerűség is mindig ugyanaz marad. Azaz a véletlenszerűség reprodukálhatóvá válik! Nézzük meg!"
   ]
  },
  {
   "cell_type": "code",
   "execution_count": 25,
   "id": "d11cfa55-1318-4907-a53c-1762fdb84c23",
   "metadata": {},
   "outputs": [
    {
     "name": "stdout",
     "output_type": "stream",
     "text": [
      "0.6394267984578837\n",
      "0.025010755222666936\n",
      "0.27502931836911926\n",
      "0.22321073814882275\n",
      "0.7364712141640124\n",
      "0.6766994874229113\n",
      "0.8921795677048454\n",
      "0.08693883262941615\n",
      "0.4219218196852704\n",
      "0.029797219438070344\n"
     ]
    }
   ],
   "source": [
    "random.seed(42)\n",
    "\n",
    "for _ in range(10):\n",
    "    print(random.random())"
   ]
  },
  {
   "cell_type": "markdown",
   "id": "94ceada3-7578-43b3-952a-9bc29bf01674",
   "metadata": {},
   "source": [
    "A fenti kódban a ```random.random``` függvénnyel generáltunk 10 darab véletlen értéket. Ezek ránézésre továbbra is véletlenszerűnek hatnak. Viszont a kód elején beállítottuk a seed értékét a ```random.seed``` függvénnyel. Ami azt jelenti, hogy most nem a pontos idő lesz a seed. A pontos idő végett minden egyes futtatásra más-más véletlenszámok generálódnak, hiszen az idő változik és így változtatja az összes generált számot. Most a seed érték konstans 42. Tehát most akárhányszor futtatjuk le a fenti kódot, az mindig ugyanazt a számsorozatot fogja előállítani. Tehát az értékek egymáshoz képest továbbra is véletlenszerűek lesznek (vagy legalábbis annak hatnak), de ugyanazon a pozíción lévő érték mindig ugyanaz lesz.\n",
    "\n",
    "Itt a fontos tanulság, hogy ha a ```random.seed``` segítségével fix értéket állítunk be, akkor ugyanaz a véletlenszerűség megismételhető. Ez rengeteg gyakorlati esetben nagyon fontos. Például egy szimulációt szeretnénk futtatni véletlenszerű körülményekkel. De ugyanazt a véletlenszerű körülményt szeretnénk többször elérni, mert mondjuk több különböző algoritmust szeretnénk kipróbálni és összehasonlítani ugyanazon véletlenszerű körülmények között.\n",
    "\n",
    "A seed értéket menet közben többször is változtathatjuk. Bár a gyakorlatban ez ritka, de most a megértés végett nézzük meg:"
   ]
  },
  {
   "cell_type": "code",
   "execution_count": 26,
   "id": "8939ff73-885a-4184-be52-293c4377b4a8",
   "metadata": {},
   "outputs": [
    {
     "name": "stdout",
     "output_type": "stream",
     "text": [
      "seed: 0\n",
      "6\n",
      "6\n",
      "0\n",
      "4\n",
      "8\n",
      "7\n",
      "6\n",
      "4\n",
      "7\n",
      "5\n",
      "seed: 1\n",
      "2\n",
      "9\n",
      "1\n",
      "4\n",
      "1\n",
      "7\n",
      "7\n",
      "7\n",
      "10\n",
      "6\n"
     ]
    }
   ],
   "source": [
    "print(\"seed: 0\")\n",
    "random.seed(0)\n",
    "for _ in range(10):\n",
    "    print(random.randint(0, 10))\n",
    "\n",
    "print(\"seed: 1\")\n",
    "random.seed(1)\n",
    "for _ in range(10):\n",
    "    print(random.randint(0, 10))"
   ]
  },
  {
   "cell_type": "markdown",
   "id": "e3c35e75-d502-41bb-bde0-501ebe00aa32",
   "metadata": {},
   "source": [
    "A fenti kódban kétszer generáltunk 10-10 véletlen egészet 0 és 10 között. Az első esetben 0-ás, a másodikban 1-es seed értékkel. Látjuk, hogy a két \"lista\" különböző, hiszen két különböző seed értékkel generálódtak. De a kódot akárhányszor futtatjuk, azzal a listák értékei nem változnak, mert fix a seed.\n",
    "\n",
    "Most nézzük meg ugyanezt a kódot, de a seed értékadásokat vegyük ki:"
   ]
  },
  {
   "cell_type": "code",
   "execution_count": 27,
   "id": "7cbf0f8b-3836-4ba0-9a51-8c90a1af4d2a",
   "metadata": {},
   "outputs": [
    {
     "name": "stdout",
     "output_type": "stream",
     "text": [
      "Nincs fix seed:\n",
      "3\n",
      "1\n",
      "7\n",
      "0\n",
      "6\n",
      "6\n",
      "9\n",
      "0\n",
      "7\n",
      "4\n",
      "Itt se:\n",
      "3\n",
      "9\n",
      "1\n",
      "5\n",
      "0\n",
      "0\n",
      "0\n",
      "10\n",
      "8\n",
      "0\n"
     ]
    }
   ],
   "source": [
    "print(\"Nincs fix seed:\")\n",
    "for _ in range(10):\n",
    "    print(random.randint(0, 10))\n",
    "\n",
    "print(\"Itt se:\")\n",
    "for _ in range(10):\n",
    "    print(random.randint(0, 10))"
   ]
  },
  {
   "cell_type": "markdown",
   "id": "51834871-c6eb-4446-9c2e-b140306a7545",
   "metadata": {},
   "source": [
    "Ezt akárhányszor lefuttatjuk, mindig változni fognak az egyes értékek, mert most nem definiáltunk fix seed-et.\n",
    "\n",
    "A fentiek voltak a legfontosabb függvények, ami az esetek jelentős részében kielégítenek minden igényt. Ennek a tárgynak a keretein belül pedig más megoldásra nincs is szükségünk a fentieken kívül. Ettől függetlenül a ```random``` modul tartalmaz más lehetőségeket is, erről [itt](https://docs.python.org/3/library/random.html) lehet bővebben olvasni.\n",
    "\n",
    "### Valós véletlenszámok\n",
    "\n",
    "Vannak olyan magas szintű tudmányos számítások, ahol elengedhetetlen, hogy valós véletlenszámokat legyünk képesek alkalmazni, de ez bőven túlmutat ennek a tantárgynak a keretein, így ezzekkel itt nem foglalkozunk, csak érdekességként teszünk rá utalást. Valós véletlenszámokat tudunk generálni például a [random.org](https://www.random.org/) szolgáltatás weboldalán keresztül, de a szolgáltatás felhasználható különféle népszerű programozási nyelveken, így Python alatt is. Python nyelven a [PyPI modulgyűjteményén megtaláljuk](https://pypi.org/project/randomdotorg/) a random.org külső modulját, amin keresztül valós véletlenszámokat is generálhatunk. Nem csak szoftveres megoldások léteznek, de vannak úgynevezett [hardveres valós véletlen generátorok is](https://en.wikipedia.org/wiki/Hardware_random_number_generator), bár ezek népszerűsége a távoli szolgáltatások növekvő népszerűsége (mint a random.org) miatt egyre csökken. És természetesen vannak egészen extrém, már-már művészi megoldásai a véletlen generálásnak is. Ilyen például az egykor népszerű [LavaRand](https://en.wikipedia.org/wiki/Lavarand), ahol polcokra rendezett lávalámpák aktuális állapotát dolgozták fel valós időben videókamera segítségével. A lámpák véletlennek tekinthető összállapota határozta a meg a seed értéket, ami ilyen formán kellően véletlenszerűnek tekinthető."
   ]
  },
  {
   "cell_type": "markdown",
   "id": "8c1ce4e2-0595-4a35-b259-cab24ce5b40a",
   "metadata": {},
   "source": [
    "#### Feladat: Monte-Carlo\n",
    "\n",
    "[Monte-Carlo módszernek](https://en.wikipedia.org/wiki/Monte_Carlo_method) nevezzük az olyan szimulációs megoldásokat, ahol valamilyen összetett, bonyolult számítás eredményét szeretnénk közelítő pontossággal becsülni véletlenszámok felhasználásának a segítségével. A módszer kidolgozása és elnevezése az egyik legismertebb [Marslakó](https://en.wikipedia.org/wiki/The_Martians_(scientists)), [Neumann János](https://en.wikipedia.org/wiki/John_von_Neumann) nevéhez köthető.\n",
    "\n",
    "A Monte-Carlo módszer egyik legegyszerűbb példája a $\\pi$ értékének közelítése pusztán véletlenszámok generálásának a segítségével. Nézzük meg a módszer lényegét és írjunk rá egy Python programot!\n",
    "\n",
    "A közelítés menete a következő. Képzeljünk el a síkon egy négyzetet, aminek oldalhossza 2, és képzeljünk el egy egység sugarú kört ennek a négyzetnek közepén. Generáljunk N darab véletlen síkbeli koordinátát, úgy, hogy azok a téglalap területén belül essenek. Belátható, hogy a generált pontok egy része nem csak a négyzetre fog esni, hanem egyúttal a négyzetben található kör területén is belül lesznek. Bizonyos pontok, a négyzet sarkainak a közelében pedig a körön kívül fognak maradni. Számoljuk össsze, hogy az N darab pontból hány darab esik a körön belül. A két szám hányadosával tudjuk közelíteni a $\\pi$ értékét.\n",
    "\n",
    "A generált pontok tulajdonképpen minél többen vannak, annál inkább lefedik a négyzet és a kör területét. Tulajdonképpen meghatározzák a két geometria területét. Tudjuk, hogy a kör sugara: $r=1$, a téglalap oldalai pedig $2r$ (vagy azt is mondhatnánk, hogy a kör átmérője). Ezek alapján a kör területe: $r^2\\pi$, a téglalap területe pedig: $2r\\times2r$, vagy kicsit egyszerűsítve: $4r^2$. Ha vesszük a kettő hányadosát, akkor azt kapjuk, hogy: $\\frac{r^2\\pi}{4r^2}$. Látjuk, hogy $r^2$ értékkel lehet egyszerüsíteni, azaz: $\\frac{\\pi}{4}$. Amiből a $\\pi$ értékét nyilván úgy kapjuk, ha beszorozzuk 4-gyel.\n",
    "\n",
    "Összegezve:\n",
    "* vegyük azon pontok darabszámát, amik a körre estek, ők képviselik a kör területét\n",
    "* vegyük azon pontok darabszámát, amik a négyzetre estek, de ezt meg sem kell számolni, tudjuk, hogy N darab pontot generálunk.\n",
    "* A két érték hányadosa 4-gyel szorozva megadja a $\\pi$ közelítését, ahol a közelítés pontossága N nagyságától függ.\n",
    "\n",
    "Lássuk!"
   ]
  },
  {
   "cell_type": "code",
   "execution_count": 19,
   "id": "f3326b5a-34e5-48f6-8f2e-d0d1a3a47b12",
   "metadata": {},
   "outputs": [
    {
     "name": "stdout",
     "output_type": "stream",
     "text": [
      "3.141676\n"
     ]
    }
   ],
   "source": [
    "# PI érték közelítés Monte-Carlo módszerrel.\n",
    "\n",
    "# Szükséges modulok importálása.\n",
    "import random # Véletlenszám generáláshoz.\n",
    "import math # Távolság számításhoz gyökvonás és hatványozás kell.\n",
    "\n",
    "# N darab véletlen síkbeli pontot fogunk generálni.\n",
    "# Az N érték módosításával tudjuk szabályozni a becslés pontosságát.\n",
    "N = 10000000\n",
    "\n",
    "# Itt tároljuk el, hogy az N darab pontból hány darab esett a körön belül.\n",
    "# Ez kezdetben nyilván 0.\n",
    "pts_in_circle = 0\n",
    "\n",
    "# Ciklussal N iterációt hajtunk végre.\n",
    "# Látjuk, hogy most a ciklusváltozót nem használjuk kifejezetten semmire, ezért ezt jelezhetjük a _ változóval.\n",
    "for _ in range(N):\n",
    "    # Az x és y értékek jelképezik az adott iterációban generált véletlen síkbeli pontot.\n",
    "    # Mindkét tag a [-1, 1] intervallumban keletkezik, tehát a síkon a téglalap és a kör közepe az origóra esik.\n",
    "    # A geometriák középpontját helyezhetnénk máshova is, de így a legegyszerűbb számítani a távolságot a következő lépésben.\n",
    "    x = random.uniform(-1, 1)\n",
    "    y = random.uniform(-1, 1)\n",
    "\n",
    "    # A dist eltárolja, hogy az (x, y) pont milyen távol van a (0, 0) ponttól.\n",
    "    # Azért a (0, 0) pontot nézzük, mert az a két geometria középpontja.\n",
    "    dist = math.sqrt(math.pow(x, 2) + math.pow(y, 2))\n",
    "\n",
    "    # El kell dönteni, hogy a körre esik e az (x, y) pont vagy sem.\n",
    "    # A kör sugara 1, tehát akkor esik rá, ha az origótól mért távolság nem nagyobb 1-nél.\n",
    "    if dist <= 1:\n",
    "        # A változóban összeszámoljuk, hogy az N-ből hány darab esett a körre.\n",
    "        pts_in_circle += 1\n",
    "\n",
    "    # A két érték hányadosa 4-gyel szorozva kiadja a PI közelítését.\n",
    "    pi = 4 * pts_in_circle / N\n",
    "\n",
    "# Kiírjuk a közelített értéket.\n",
    "print(pi)"
   ]
  },
  {
   "cell_type": "markdown",
   "id": "0c8b22f1-fa12-4ee4-9af4-ea6680158669",
   "metadata": {},
   "source": [
    "Érdemes különféle ```N``` értékekkel kísérletezni, jól látszódik, hogy a pontosítás növekszik, ha növeljük az értékét. Persze ezzel együtt a számítási idő is növekszik, ezt azért vegyük figyelembe."
   ]
  },
  {
   "cell_type": "markdown",
   "id": "1b37bab6-819e-4644-9e5d-5e4c2b935638",
   "metadata": {},
   "source": [
    "#### Feladat: Monty Hall"
   ]
  },
  {
   "cell_type": "code",
   "execution_count": null,
   "id": "a0955399-377d-4321-8e99-2317ded50008",
   "metadata": {},
   "outputs": [],
   "source": []
  },
  {
   "cell_type": "code",
   "execution_count": null,
   "id": "1d3ca0f2-b0d8-478c-8543-e88a279b8510",
   "metadata": {},
   "outputs": [],
   "source": []
  }
 ],
 "metadata": {
  "kernelspec": {
   "display_name": "Python 3 (ipykernel)",
   "language": "python",
   "name": "python3"
  },
  "language_info": {
   "codemirror_mode": {
    "name": "ipython",
    "version": 3
   },
   "file_extension": ".py",
   "mimetype": "text/x-python",
   "name": "python",
   "nbconvert_exporter": "python",
   "pygments_lexer": "ipython3",
   "version": "3.8.10"
  }
 },
 "nbformat": 4,
 "nbformat_minor": 5
}
