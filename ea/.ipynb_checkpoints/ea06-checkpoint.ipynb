{
 "cells": [
  {
   "cell_type": "markdown",
   "id": "2868ec9b-a569-4cee-aa03-e5b3796999c2",
   "metadata": {},
   "source": [
    "# 6. előadás\n",
    "\n",
    "## Tartalom\n",
    "* Az ```enumerate``` függvény\n",
    "* A ```zip``` függvény\n",
    "* A ```comprehension```"
   ]
  },
  {
   "cell_type": "markdown",
   "id": "1fbd4bf4-3f8a-4d9c-8462-20e3f31d3744",
   "metadata": {},
   "source": [
    "## Az ```enumerate``` függvény\n",
    "\n",
    "Korábban láttuk már, hogy listákon és rendezett n-eseken ```for``` ciklus segítségével szépen végig tudunk iterálni. Például legyen a lenti  ```tuple``` objektumunk, amit egy ```for``` ciklussal bejárunk és minden iteráció során kiírjuk a következő elem értékét:"
   ]
  },
  {
   "cell_type": "code",
   "execution_count": 1,
   "id": "18afe433-74fc-4ac7-bd56-dd818e153ec4",
   "metadata": {},
   "outputs": [
    {
     "name": "stdout",
     "output_type": "stream",
     "text": [
      "2\n",
      "3\n",
      "5\n",
      "7\n",
      "11\n",
      "13\n",
      "17\n",
      "19\n",
      "23\n",
      "29\n",
      "31\n",
      "37\n",
      "41\n",
      "43\n",
      "47\n",
      "53\n",
      "59\n",
      "61\n",
      "67\n",
      "71\n",
      "73\n",
      "79\n",
      "83\n",
      "89\n",
      "97\n"
     ]
    }
   ],
   "source": [
    "prime_numbers = (2, 3, 5, 7, 11, 13, 17, 19, 23, 29, 31, 37, 41, 43, 47, 53, 59, 61, 67, 71, 73, 79, 83, 89, 97)\n",
    "\n",
    "for prime in prime_numbers:\n",
    "    print(prime)"
   ]
  },
  {
   "cell_type": "markdown",
   "id": "30eb159e-6dc8-4424-a393-fbeae49208d1",
   "metadata": {},
   "source": [
    "Ebben eddig újdonság nincs. Viszont, mi van akkor, ha valamiért nekünk nem csak a ```tuple``` aktuális elemére van szükségünk az adott iteráción belül, hanem tudni szeretnénk annak az indexét is. Tulajdonképpen erre is van már megoldásunk az eddigi ismereteink alapján. Mégpedig:"
   ]
  },
  {
   "cell_type": "code",
   "execution_count": 2,
   "id": "0787a73b-da2e-4a39-89fb-64e579013889",
   "metadata": {},
   "outputs": [
    {
     "name": "stdout",
     "output_type": "stream",
     "text": [
      "Az 1. prím szám a(z) 2.\n",
      "Az 2. prím szám a(z) 3.\n",
      "Az 3. prím szám a(z) 5.\n",
      "Az 4. prím szám a(z) 7.\n",
      "Az 5. prím szám a(z) 11.\n",
      "Az 6. prím szám a(z) 13.\n",
      "Az 7. prím szám a(z) 17.\n",
      "Az 8. prím szám a(z) 19.\n",
      "Az 9. prím szám a(z) 23.\n",
      "Az 10. prím szám a(z) 29.\n",
      "Az 11. prím szám a(z) 31.\n",
      "Az 12. prím szám a(z) 37.\n",
      "Az 13. prím szám a(z) 41.\n",
      "Az 14. prím szám a(z) 43.\n",
      "Az 15. prím szám a(z) 47.\n",
      "Az 16. prím szám a(z) 53.\n",
      "Az 17. prím szám a(z) 59.\n",
      "Az 18. prím szám a(z) 61.\n",
      "Az 19. prím szám a(z) 67.\n",
      "Az 20. prím szám a(z) 71.\n",
      "Az 21. prím szám a(z) 73.\n",
      "Az 22. prím szám a(z) 79.\n",
      "Az 23. prím szám a(z) 83.\n",
      "Az 24. prím szám a(z) 89.\n",
      "Az 25. prím szám a(z) 97.\n"
     ]
    }
   ],
   "source": [
    "prime_numbers = (2, 3, 5, 7, 11, 13, 17, 19, 23, 29, 31, 37, 41, 43, 47, 53, 59, 61, 67, 71, 73, 79, 83, 89, 97)\n",
    "\n",
    "for i in range(len(prime_numbers)):\n",
    "    print(f\"Az {i+1}. prím szám a(z) {prime_numbers[i]}.\")"
   ]
  },
  {
   "cell_type": "markdown",
   "id": "637a5d44-ef53-4366-9e98-f434899c8ed4",
   "metadata": {},
   "source": [
    "A fenti kóddal megadtuk a választ a kérdésre, de vegyük észre, hogy túl hosszú és bonyolult, sok a hibázási lehetőség a ```range``` és a ```len``` függvények miatt.\n",
    "\n",
    "Az olyan helyzetekre, amikor valamiért szükségünk van a következő elemre is és annak az  indexére is, bevezetésre került az ```enumerate``` függvény. Az ```enumerate``` függvény a ```range``` függvényhez hasonlóan működik. Ezzel is egy iterálható objektumot tudunk létrehozni, amit egy ```for``` ciklus segítségével végig lehet járni. Vagy például a ```list``` függvénnyel listát és a ```tuple``` függvénnyel rendezett n-es objektumot lehet belőle generálni.\n",
    "\n",
    "A prím számokat tartalmazó ```prime_numbers``` ```tuple``` alapján generáljunk egy iterálható objektumot az ```enumerate``` függvénnyel. Majd ebből készítsünk egy listát és nézzük meg, hogy mit fog ez tartalmazni."
   ]
  },
  {
   "cell_type": "code",
   "execution_count": 3,
   "id": "060cf3d0-144e-4a14-af54-b24ac1318d2e",
   "metadata": {},
   "outputs": [
    {
     "name": "stdout",
     "output_type": "stream",
     "text": [
      "[(0, 2), (1, 3), (2, 5), (3, 7), (4, 11), (5, 13), (6, 17), (7, 19), (8, 23), (9, 29), (10, 31), (11, 37), (12, 41), (13, 43), (14, 47), (15, 53), (16, 59), (17, 61), (18, 67), (19, 71), (20, 73), (21, 79), (22, 83), (23, 89), (24, 97)]\n"
     ]
    }
   ],
   "source": [
    "prime_numbers = (2, 3, 5, 7, 11, 13, 17, 19, 23, 29, 31, 37, 41, 43, 47, 53, 59, 61, 67, 71, 73, 79, 83, 89, 97)\n",
    "\n",
    "prime_enum = enumerate(prime_numbers)\n",
    "\n",
    "print(list(prime_enum))"
   ]
  },
  {
   "cell_type": "markdown",
   "id": "aab5a62f-d694-44a4-b15f-1733670d4657",
   "metadata": {},
   "source": [
    "Eredményként egy olyan listát kaptunk, aminek minden eleme egy-egy ```tuple```. Pont annyi eleme van, mint ahány eleme az eredeti ```prime_numbers```-nek van. A különbség szembeötlő: minden elem egy két elemű ```tuple```, ahol az első elem egy indexérték, a második pedig az ```enumerate``` függvénynek bemenetként adott ```tuple``` egyes elemei.\n",
    "\n",
    "Ilyen szerkezeten könnyen tudunk iterálni. Emlékezzünk vissza a szótárakra! Egy ```dict``` esetén az ```items``` függvénnyel nagyon hasonló iterációt hajtottunk végre. Ott is minden elem egy-egy két-elemű ```tuple``` volt, ahol az egyik elem a kulcs, a másik az érték volt. Ugyanazzal a módszerrel tudunk az ```enumerate``` függvény által generált objektumon végig iterálni. Nézzük meg!"
   ]
  },
  {
   "cell_type": "code",
   "execution_count": 4,
   "id": "53b3e350-3265-4387-b8d9-00d1baaada02",
   "metadata": {},
   "outputs": [
    {
     "name": "stdout",
     "output_type": "stream",
     "text": [
      "Az 1. prím szám a(z) 2.\n",
      "Az 2. prím szám a(z) 3.\n",
      "Az 3. prím szám a(z) 5.\n",
      "Az 4. prím szám a(z) 7.\n",
      "Az 5. prím szám a(z) 11.\n",
      "Az 6. prím szám a(z) 13.\n",
      "Az 7. prím szám a(z) 17.\n",
      "Az 8. prím szám a(z) 19.\n",
      "Az 9. prím szám a(z) 23.\n",
      "Az 10. prím szám a(z) 29.\n",
      "Az 11. prím szám a(z) 31.\n",
      "Az 12. prím szám a(z) 37.\n",
      "Az 13. prím szám a(z) 41.\n",
      "Az 14. prím szám a(z) 43.\n",
      "Az 15. prím szám a(z) 47.\n",
      "Az 16. prím szám a(z) 53.\n",
      "Az 17. prím szám a(z) 59.\n",
      "Az 18. prím szám a(z) 61.\n",
      "Az 19. prím szám a(z) 67.\n",
      "Az 20. prím szám a(z) 71.\n",
      "Az 21. prím szám a(z) 73.\n",
      "Az 22. prím szám a(z) 79.\n",
      "Az 23. prím szám a(z) 83.\n",
      "Az 24. prím szám a(z) 89.\n",
      "Az 25. prím szám a(z) 97.\n"
     ]
    }
   ],
   "source": [
    "prime_numbers = (2, 3, 5, 7, 11, 13, 17, 19, 23, 29, 31, 37, 41, 43, 47, 53, 59, 61, 67, 71, 73, 79, 83, 89, 97)\n",
    "\n",
    "for idx, prime in enumerate(prime_numbers):\n",
    "    print(f\"Az {idx+1}. prím szám a(z) {prime}.\")"
   ]
  },
  {
   "cell_type": "markdown",
   "id": "0d34d604-9057-4239-bbff-1bde192f7feb",
   "metadata": {},
   "source": [
    "Az ```enumerate``` függvény rendelkezik egy opcionális nevesített paraméterrel. Ilyet már láttunk a ```print``` függvény esetén, ahol a ```sep``` és az ```end``` tagokkkal tudtuk módosítani a szeparátor karaktert és a sorzáró karaktert. Az ```enumerate``` esetén találunk egy ```start``` elnevezésű paramétert, ami egészként várja, hogy mi legyen az első elem indexe. Ennek alapértelmezetten 0 az értéke, hiszen láttuk a fenti példában is, hogy az első prímszámhoztartozott a 0, a másodikhoz az 1, és így tovább. Ha szintén a fenti példánkat nézzük, akkor látjuk, hogy nekünk sokkal jobb lett volna, ha nem 0-tól hanem 1-től indulna az index, hiszen akkor nem kellene feleslegesen mindegyikhez 1-et hozzáadni. Pont az ilyen helyzetekre ad megoldást a ```start``` paraméter. Nézzük meg!"
   ]
  },
  {
   "cell_type": "code",
   "execution_count": 5,
   "id": "a0588127-478b-427e-a2af-7bae6ecefb8a",
   "metadata": {},
   "outputs": [
    {
     "name": "stdout",
     "output_type": "stream",
     "text": [
      "Az 1. prím szám a(z) 2.\n",
      "Az 2. prím szám a(z) 3.\n",
      "Az 3. prím szám a(z) 5.\n",
      "Az 4. prím szám a(z) 7.\n",
      "Az 5. prím szám a(z) 11.\n",
      "Az 6. prím szám a(z) 13.\n",
      "Az 7. prím szám a(z) 17.\n",
      "Az 8. prím szám a(z) 19.\n",
      "Az 9. prím szám a(z) 23.\n",
      "Az 10. prím szám a(z) 29.\n",
      "Az 11. prím szám a(z) 31.\n",
      "Az 12. prím szám a(z) 37.\n",
      "Az 13. prím szám a(z) 41.\n",
      "Az 14. prím szám a(z) 43.\n",
      "Az 15. prím szám a(z) 47.\n",
      "Az 16. prím szám a(z) 53.\n",
      "Az 17. prím szám a(z) 59.\n",
      "Az 18. prím szám a(z) 61.\n",
      "Az 19. prím szám a(z) 67.\n",
      "Az 20. prím szám a(z) 71.\n",
      "Az 21. prím szám a(z) 73.\n",
      "Az 22. prím szám a(z) 79.\n",
      "Az 23. prím szám a(z) 83.\n",
      "Az 24. prím szám a(z) 89.\n",
      "Az 25. prím szám a(z) 97.\n"
     ]
    }
   ],
   "source": [
    "prime_numbers = (2, 3, 5, 7, 11, 13, 17, 19, 23, 29, 31, 37, 41, 43, 47, 53, 59, 61, 67, 71, 73, 79, 83, 89, 97)\n",
    "\n",
    "for idx, prime in enumerate(prime_numbers, start=1):\n",
    "    print(f\"Az {idx}. prím szám a(z) {prime}.\")"
   ]
  },
  {
   "cell_type": "markdown",
   "id": "ca977017-c0f8-4bdd-bef8-c3750f23b199",
   "metadata": {},
   "source": [
    "Látjuk, hogy a kimenet tekintetében nem történt változás. A különbség, hogy most a ```print``` függvényben az első behelyettesített értékünk nem az ```idx+1```, hanem egyszerűen csak az ```idx```. A ```start=1``` végett az indexelés 1-től indult, nem 0-ról. Ezért nem volt szükség arra, hogy az ```idx```-hez 1-et hozzáadjunk.\n",
    "\n",
    "A szemléltetés végett nézzünk még 1-2 példát a ```start``` használatára. A ```tuple``` függvény segítségével generáljunk rendezett n-eseket az ```enumerate``` függvény visszatérési értékéből, és írjuk őket a kimenetre, hogy lássuk az egyes indexeket."
   ]
  },
  {
   "cell_type": "code",
   "execution_count": 6,
   "id": "b35a9457-ab2b-40c6-aa11-a135642eb0d9",
   "metadata": {},
   "outputs": [
    {
     "name": "stdout",
     "output_type": "stream",
     "text": [
      "((0, 'banán'), (1, 'cseresznye'), (2, 'körte'), (3, 'alma'))\n",
      "((10, 'banán'), (11, 'cseresznye'), (12, 'körte'), (13, 'alma'))\n",
      "((-100, 'banán'), (-99, 'cseresznye'), (-98, 'körte'), (-97, 'alma'))\n"
     ]
    }
   ],
   "source": [
    "fruits = (\"banán\", \"cseresznye\", \"körte\", \"alma\")\n",
    "fruits_enum0 = enumerate(fruits)\n",
    "fruits_enum1 = enumerate(fruits, start=10)\n",
    "fruits_enum2 = enumerate(fruits, start=-100)\n",
    "\n",
    "print(tuple(fruits_enum0))\n",
    "print(tuple(fruits_enum1))\n",
    "print(tuple(fruits_enum2))"
   ]
  },
  {
   "cell_type": "markdown",
   "id": "0e57c464-507b-42a8-b367-5668687fe177",
   "metadata": {},
   "source": [
    "## A ```zip``` függvény\n",
    "\n",
    "Sokszor szükségünk van arra, hogy egyszerre több iterálható objektumon menjünk végig. Klasszikus példa: van két vektorunk és szeretnénk a [skaláris szorzatukat](https://hu.wikipedia.org/wiki/Skal%C3%A1ris_szorzat) kiszámítani. A vektorokat eltárolhatjuk egy-egy ```list```-ben vagy ```tuple```-ban. Mind a két vektoron végig kell iterálni egy időben és az aktuális elemüket mindig össze kell szorozni, majd ezeket a szorzatokat szummázni. A szummázás eredménye lesz a skaláris szorzat értéke.\n",
    "\n",
    "Az eddigi ismereteink alapján ezt már persze végre tudjuk hajtani:"
   ]
  },
  {
   "cell_type": "code",
   "execution_count": 7,
   "id": "7f549f1f-0fe2-422f-904d-ee24671f4a4d",
   "metadata": {},
   "outputs": [
    {
     "name": "stdout",
     "output_type": "stream",
     "text": [
      "Az A=(1, 2, 3) és a B=(4, 5, 6) vektorok skaláris szorzata 32.\n"
     ]
    }
   ],
   "source": [
    "A = (1, 2, 3)\n",
    "B = (4, 5, 6)\n",
    "\n",
    "dp = 0\n",
    "\n",
    "i = 0\n",
    "\n",
    "while i < len(A):\n",
    "    dp += A[i] * B[i]\n",
    "    i += 1\n",
    "\n",
    "print(f\"Az A={A} és a B={B} vektorok skaláris szorzata {dp}.\")    "
   ]
  },
  {
   "cell_type": "markdown",
   "id": "9fa880cc-736b-4b75-a8a8-03de2e3bb592",
   "metadata": {},
   "source": [
    "Előfeltételként garantálnunk kell, hogy a két vektor hossza ugyanaz. Azt is mondhatnánk, hogy ```len(B) == len(A)``` állításnak ```True``` eredményt kell adnia. Emiatt mindegy is, hogy a ```while``` ciklus fejlécében a ```len(A)``` vagy a ```len(B)``` kifejezést használjuk. \n",
    "\n",
    "Sokszor előfordul olyan helyzet, hogy két vagy akár még több objektumon kell egyszerre végig iterálni. Emiatt került bevezetésre a ```zip``` függvény. A ```zip``` függvénynek paraméterül tetszőleges mennyiségű iterálható objektumot megadhatunk. Hasonlóan az ```enumerate``` függvényhez, ez is egy olyan iterálható objektumot fog generálni, amiben minden elem egy-egy tuple. Az i-edik ```tuple``` mindig a bemenetként megadott iterálható objektumok i-edik elemét fogja tartalmazni. Nézzünk egy egyszerű szemléltető példát! Az ```A``` és ```B``` rendezett n-esekből generálunk egy iterálható objektumot a ```zip``` függvénnyel. Majd az így kapott ```zipped``` objektumból listát generálunk a ```list``` függvény segítségével, amit már meg tudunk jeleníteni a ```print``` függvény segítségével."
   ]
  },
  {
   "cell_type": "code",
   "execution_count": 8,
   "id": "b80ea89a-8fdb-4d18-b3f6-187c93047b89",
   "metadata": {},
   "outputs": [
    {
     "name": "stdout",
     "output_type": "stream",
     "text": [
      "[(1, 4), (2, 5), (3, 6)]\n"
     ]
    }
   ],
   "source": [
    "A = (1, 2, 3)\n",
    "B = (4, 5, 6)\n",
    "\n",
    "zipped = zip(A, B)\n",
    "\n",
    "print(list(zipped))"
   ]
  },
  {
   "cell_type": "markdown",
   "id": "a27cc66a-c576-4d83-a9ea-53d38c040520",
   "metadata": {},
   "source": [
    "A ```zipped``` objektum most olyan ```tuple```-ket tartalmaz, ahol a bemeneti ```A``` és ```B``` ```tuple```-k elemei vannak párba rendezve. Az első ```tuple``` az ```A``` és a ```B``` első elemét tartalmazza, a második ```tuple``` a második elemeit, és így tovább. A már ismert módon ezen végig tudunk iterálni egy ```for``` ciklus segítségével. Nézzük meg így az előző skaláris szorzást!"
   ]
  },
  {
   "cell_type": "code",
   "execution_count": 9,
   "id": "ffa3279e-cf83-42c3-aa3c-30e298ef9705",
   "metadata": {},
   "outputs": [
    {
     "name": "stdout",
     "output_type": "stream",
     "text": [
      "Az A=(1, 2, 3) és a B=(4, 5, 6) vektorok skaláris szorzata 32.\n"
     ]
    }
   ],
   "source": [
    "A = (1, 2, 3)\n",
    "B = (4, 5, 6)\n",
    "\n",
    "dp = 0\n",
    "\n",
    "for ai, bi in zip(A, B):\n",
    "    dp += ai * bi\n",
    "\n",
    "print(f\"Az A={A} és a B={B} vektorok skaláris szorzata {dp}.\")"
   ]
  },
  {
   "cell_type": "markdown",
   "id": "ac2ad92c-8922-4c3f-8c24-3fe57480ee4b",
   "metadata": {},
   "source": [
    "Látható, hogy a ```zip``` függvénynek köszönhetően sokkal egyszerűbben, átláthatóbban meg tudjuk valósítani több elem iterálását.\n",
    "\n",
    "A skaláris szorzáshoz persze szükséges, hogy a két vektor ugyanolyan hosszú legyen. Logikus lenne, hogy a ```zip``` függvény is eleve csak ugyanolyan hosszú objektumok esetén működik, de nem így van. Nézzük meg mi történik, ha két eltérő hosszú listát adunk meg neki!"
   ]
  },
  {
   "cell_type": "code",
   "execution_count": 10,
   "id": "e47469f1-3337-4f12-b004-ede0a0b99f59",
   "metadata": {},
   "outputs": [
    {
     "name": "stdout",
     "output_type": "stream",
     "text": [
      "A(z) alma ára 650 ft/kg.\n",
      "A(z) banán ára 400 ft/kg.\n"
     ]
    }
   ],
   "source": [
    "fruits = [\"alma\", \"banán\", \"körte\"]\n",
    "prices = [650, 400]\n",
    "\n",
    "for fruit, price in zip(fruits, prices):\n",
    "    print(f\"A(z) {fruit} ára {price} ft/kg.\")"
   ]
  },
  {
   "cell_type": "markdown",
   "id": "77fa8f38-3ade-4749-a353-a99e2885f249",
   "metadata": {},
   "source": [
    "A fenti példában a ```fruits``` lista 3 elemű, de a ```prices``` lista csak 2 értéket tartalmaz. Ilyen esetben is működik a ```zip``` függvény. A visszatérési értéke annyi elemet fog tartalmazni, mint a legrövidebb bemenete. A több elemű bemenetének a fentmaradó elemeit figyelmen kívül hagyja. Tehét a példában az ```\"alma\"```-hoz rendelte a ```650```-et, a ```\"banán\"```-hoz rendelte a ```400```-at. A ```fruits``` listában van még egy ```\"körte\"``` elem,  de ennek már nincs párja a ```prices``` listában, ezért ez a ```zip``` függvény visszatérési értékeként kapott iterálható objektumban sem szerepel.\n",
    "\n",
    "A ```zip```-et felhasználva akár egy szótárat (```dict```) is tudunk generálni két listából:"
   ]
  },
  {
   "cell_type": "code",
   "execution_count": 11,
   "id": "09f1a8d6-e55f-4825-902a-5eacb815e42e",
   "metadata": {},
   "outputs": [
    {
     "name": "stdout",
     "output_type": "stream",
     "text": [
      "{'alma': 650, 'banán': 400}\n"
     ]
    }
   ],
   "source": [
    "fruits = [\"alma\", \"banán\", \"körte\"]\n",
    "prices = [650, 400]\n",
    "\n",
    "store = {}\n",
    "\n",
    "for fruit, price in zip(fruits, prices):\n",
    "    store[fruit] = price\n",
    "\n",
    "print(store)"
   ]
  },
  {
   "cell_type": "markdown",
   "id": "c04c11ca-9111-4080-ac65-f2ef2d1f20e5",
   "metadata": {},
   "source": [
    "#### Feladat: Szavak helyének meghatározása\n",
    "\n",
    "Készítsünk egy programot ami képes meghatározni, hogy [Rick Astley](https://en.wikipedia.org/wiki/Rick_Astley) a [Never Gonna Give You Up](https://www.youtube.com/watch?v=dQw4w9WgXcQ) c. slágerében hányszor énekli a \"never\" szót. A program azt is határozza meg, hogy hányadik szavak ezek. Az első szó sorszáma 1 legyen. A végén írjuk ki a találatok sorszámát, a találatok darabszámát és hogy a teljes szöveg hányad részét teszi ki a keresett szó."
   ]
  },
  {
   "cell_type": "code",
   "execution_count": 12,
   "id": "679e915b-da78-48d2-bba1-7ffe1eee5742",
   "metadata": {},
   "outputs": [
    {
     "name": "stdout",
     "output_type": "stream",
     "text": [
      "A \"never\" szó 36 alkalommal fordul elő a dalszövegben.\n",
      "A dalszöveg összesen 353 szót tartalmaz, így a \"never\" szó a dalszöveg 10.198%-át teszi ki.\n",
      "Előfordulásának helyei a következők:\n",
      "43\n",
      "48\n",
      "53\n",
      "60\n",
      "65\n",
      "69\n",
      "132\n",
      "137\n",
      "142\n",
      "149\n",
      "154\n",
      "158\n",
      "166\n",
      "171\n",
      "176\n",
      "183\n",
      "188\n",
      "192\n",
      "252\n",
      "257\n",
      "262\n",
      "269\n",
      "274\n",
      "278\n",
      "286\n",
      "291\n",
      "296\n",
      "303\n",
      "308\n",
      "312\n",
      "320\n",
      "325\n",
      "330\n",
      "337\n",
      "342\n",
      "346\n"
     ]
    }
   ],
   "source": [
    "# A lyrics változóban eltároljuk a dalszöveget. Itt most több sorba rendezett string-et alkalmazunk.\n",
    "lyrics = \"\"\"\n",
    "We're no strangers to love\n",
    "You know the rules and so do I (do I)\n",
    "A full commitment's what I'm thinking of\n",
    "You wouldn't get this from any other guy\n",
    "I just wanna tell you how I'm feeling\n",
    "Gotta make you understand\n",
    "Never gonna give you up\n",
    "Never gonna let you down\n",
    "Never gonna run around and desert you\n",
    "Never gonna make you cry\n",
    "Never gonna say goodbye\n",
    "Never gonna tell a lie and hurt you\n",
    "We've known each other for so long\n",
    "Your heart's been aching, but you're too shy to say it (say it)\n",
    "Inside, we both know what's been going on (going on)\n",
    "We know the game and we're gonna play it\n",
    "And if you ask me how I'm feeling\n",
    "Don't tell me you're too blind to see\n",
    "Never gonna give you up\n",
    "Never gonna let you down\n",
    "Never gonna run around and desert you\n",
    "Never gonna make you cry\n",
    "Never gonna say goodbye\n",
    "Never gonna tell a lie and hurt you\n",
    "Never gonna give you up\n",
    "Never gonna let you down\n",
    "Never gonna run around and desert you\n",
    "Never gonna make you cry\n",
    "Never gonna say goodbye\n",
    "Never gonna tell a lie and hurt you\n",
    "We've known each other for so long\n",
    "Your heart's been aching, but you're too shy to say it (to say it)\n",
    "Inside, we both know what's been going on (going on)\n",
    "We know the game and we're gonna play it\n",
    "I just wanna tell you how I'm feeling\n",
    "Gotta make you understand\n",
    "Never gonna give you up\n",
    "Never gonna let you down\n",
    "Never gonna run around and desert you\n",
    "Never gonna make you cry\n",
    "Never gonna say goodbye\n",
    "Never gonna tell a lie and hurt you\n",
    "Never gonna give you up\n",
    "Never gonna let you down\n",
    "Never gonna run around and desert you\n",
    "Never gonna make you cry\n",
    "Never gonna say goodbye\n",
    "Never gonna tell a lie and hurt you\n",
    "Never gonna give you up\n",
    "Never gonna let you down\n",
    "Never gonna run around and desert you\n",
    "Never gonna make you cry\n",
    "Never gonna say goodbye\n",
    "Never gonna tell a lie and hurt you\n",
    "\"\"\"\n",
    "\n",
    "# A keresett szót célszerű változóban tárolni, így nem kell minden alakommal konstansként leírni, ahol szükség van rá.\n",
    "# Ezzel a hibázás (elírás) lehetőségét minimalizáljuk, \n",
    "# valamint ha később más szó esetén szeretnénk végrehajtani a keresést, akkor csak itt kell átírni.\n",
    "findit = \"never\"\n",
    "\n",
    "# A beépített split függvény segítségével szavakra bontjuk a dalszöveget.\n",
    "# Az eredmény egy olyan lista lesz, melynek egyes elemei a dalszöveg egyes szavai.\n",
    "splitted_lyrics = lyrics.split()\n",
    "\n",
    "# Az indexes listában fogjuk eltárolni a \"never\" szavak előfordulásának pozícióját. Kezdetben üres.\n",
    "indexes = []\n",
    "\n",
    "# A dalszöveg szavain iterálunk, de szükségünk van a szavak pozíciójára is. Ebben segít az enumerate függvény, ahol 1-től indul az indexelés.\n",
    "for idx, word in enumerate(splitted_lyrics, start=1):\n",
    "    # Gondoljunk arra, hogy van ahol nagy betűvel, van ahol kis betűvel is kezdődhez a keresett szó.\n",
    "    # Ezért célszerű közös nevezőre hozni a vizsgálat előtt a lower függvénnyel.\n",
    "    if word.lower() == findit:\n",
    "        # Ha megvan a keresett \"never\" szó, akkor a pozícióját hozzáadjuk az indexes listához.\n",
    "        indexes.append(idx)\n",
    "\n",
    "# Végül kiírjuk az indexeket, valamint a lista hossza megadja azt is, hogy hányszor fordult elő a keresett szó.\n",
    "print(f\"A \\\"{findit}\\\" szó {len(indexes)} alkalommal fordul elő a dalszövegben.\")\n",
    "print(f\"A dalszöveg összesen {len(splitted_lyrics)} szót tartalmaz, így a \\\"{findit}\\\" szó a dalszöveg {len(indexes)/len(splitted_lyrics)*100:.3f}%-át teszi ki.\")\n",
    "print(\"Előfordulásának helyei a következők:\")\n",
    "for idx in indexes:\n",
    "    print(idx)"
   ]
  },
  {
   "cell_type": "markdown",
   "id": "11363852-7d31-4925-b1e0-9373c1b3167d",
   "metadata": {},
   "source": [
    "## A ```comprehension```\n",
    "\n",
    "A ```comprehension``` arra nyújt lehetőséget, hogy segítségével listákat, rendezett n-eseket, vagy halmazokat tudunk generálni más bejárható objektumokból, megszabott feltételek szerint és műveletek alkalmazásával. Segítségével nagyon tömör kódot lehet írni ilyen jellegű feladatok esetén. Nézzünk rá egy egyszerű példát!\n",
    "\n",
    "Legyen egy listánk mindenféle számokkal és mondjuk nekünk szükségünk van csak a 10 alatti értékekre. Ezeket szeretnénk egy önálló listába szervezni. Eddigi ismereteink alapján ezt könnyen megtehetjük a következők szerint:"
   ]
  },
  {
   "cell_type": "code",
   "execution_count": 13,
   "id": "688a6394-1042-420c-867b-f48f2ca2b37d",
   "metadata": {},
   "outputs": [
    {
     "name": "stdout",
     "output_type": "stream",
     "text": [
      "[3, 8, 3, 2, 1]\n"
     ]
    }
   ],
   "source": [
    "nums = [3, 60, 25, 20, 71, 8, 15, 64, 99, 45, 3, 2, 86 ,78, 1, 40, 12, 46, 81, 90]\n",
    "\n",
    "l = []\n",
    "\n",
    "for n in nums:\n",
    "    if n < 10:\n",
    "        l.append(n)\n",
    "\n",
    "print(l)  "
   ]
  },
  {
   "cell_type": "markdown",
   "id": "7afed4f7-0fbe-42c7-8650-b7344e751d54",
   "metadata": {},
   "source": [
    "Nagyon sűrűn elfordul, hogy ilyet vagy erre a sémára könnyen ráilleszthető műveletet akarunk végrehajtani. Azaz van egy listánk vagy valami más iterálható, bejárható objektumunk, amin végig szeretnénk menni, és bizonyos elemeit valamilyen feltétel mentén ki akarjuk gyűjteni egy új listába, tuple-be vagy halmazba. A comprehension segítségével pontosan ezt lehet megtenni egyetlen sorban. A fenti kódot nézzük meg hogyan lehet megvalósítani comprehension segítségével:"
   ]
  },
  {
   "cell_type": "code",
   "execution_count": 14,
   "id": "01164434-35ca-4a7a-a475-377998c0877b",
   "metadata": {},
   "outputs": [
    {
     "name": "stdout",
     "output_type": "stream",
     "text": [
      "[3, 8, 3, 2, 1]\n"
     ]
    }
   ],
   "source": [
    "nums = [3, 60, 25, 20, 71, 8, 15, 64, 99, 45, 3, 2, 86 ,78, 1, 40, 12, 46, 81, 90]\n",
    "\n",
    "l = [n for n in nums if n < 10]\n",
    "\n",
    "print(l)"
   ]
  },
  {
   "cell_type": "markdown",
   "id": "98b14e31-8fa4-4564-a805-11af079d9a9f",
   "metadata": {},
   "source": [
    "A fenti kódból ezt a részt nevezzük comprehension-nek: ```l = [n for n in nums if n < 10]```. Itt a ```[n for n in nums if n < 10]``` kódrészlet egy listát fog generálni. Erre utal az, hogy szögletes zárójelbe van írva. A ```for``` elé írt dolog fog a listába kerülni a ```for``` ciklus minden egyes iterációja során. De csak akkor, ha a ```for``` után írt logikai vizsgálat teljesül.\n",
    "\n",
    "Ha szögletes zárójelpár helyett kapcsosba írjuk, akkor halmazt fog generálni."
   ]
  },
  {
   "cell_type": "code",
   "execution_count": 15,
   "id": "4cc5838c-faf6-4015-adcf-c5544223d2af",
   "metadata": {},
   "outputs": [
    {
     "name": "stdout",
     "output_type": "stream",
     "text": [
      "{8, 1, 2, 3}\n"
     ]
    }
   ],
   "source": [
    "l = {n for n in nums if n < 10}\n",
    "\n",
    "print(l)"
   ]
  },
  {
   "cell_type": "markdown",
   "id": "53d761a8-5136-441b-a5d1-ca8a8bf5455a",
   "metadata": {},
   "source": [
    "A fenti példa esetén látjuk, hogy mivel most halmazt állítunk elő, kevesebb elemet tartalmaz, mint a listás esetben. A listában két darab hármas érték volt, de a halmaz esetén minden elem csak eygszer szerepelhet.\n",
    "\n",
    "A comprehension végén a logikai vizsgálat elhagyható, ez csupán opcionális elem. Nézzünk erre egy másik példát. Legyen ismét egy listánk számokkal és azt mondjuk, hogy egy olyan listát szeretnénk generálni, ami minden értéknek a négyzetét tartalmazza."
   ]
  },
  {
   "cell_type": "code",
   "execution_count": 16,
   "id": "80384a81-ac7a-47f4-b1a1-6fc7e62bae55",
   "metadata": {},
   "outputs": [
    {
     "name": "stdout",
     "output_type": "stream",
     "text": [
      "[9, 3600, 625, 400, 5041, 64, 225, 4096, 9801, 2025, 9, 4, 7396, 6084, 1, 1600, 144, 2116, 6561, 8100]\n"
     ]
    }
   ],
   "source": [
    "nums = [3, 60, 25, 20, 71, 8, 15, 64, 99, 45, 3, 2, 86 ,78, 1, 40, 12, 46, 81, 90]\n",
    "\n",
    "l = [n*n for n in nums]\n",
    "\n",
    "print(l)"
   ]
  },
  {
   "cell_type": "markdown",
   "id": "a0306a3e-8b7b-4889-ba09-bd2024c67e3c",
   "metadata": {},
   "source": [
    "Ismét a ```for``` előtti érték fog a listára kerülni, azaz jelen esetben minden iteráció során az ```n*n``` érték. Látjuk, hogy most logikai vizsgálat nincs, a ```nums``` lista összes elemének a négyzete fel fog kerülni az ```l``` listára.\n",
    "\n",
    "Egy kicsit kanyarodjunk vissza a korábbi dalszöveges feladatra, amikor a \"never\" szó előfordulását vizsgáltuk. Itt is egy ciklussal jártuk végig az ```enumerate``` által generált iterálható objektumot, majd egy feltétel alapján az elemeket felvettük egy listára. Tipikus sémája ez a comprehension alkalmazásának. Erről a szakaszról van most szó a korábbi feladatból:"
   ]
  },
  {
   "cell_type": "code",
   "execution_count": 17,
   "id": "cace6545-6af6-4b02-a602-b4f80cc5c5ab",
   "metadata": {},
   "outputs": [
    {
     "name": "stdout",
     "output_type": "stream",
     "text": [
      "[43, 48, 53, 60, 65, 69, 132, 137, 142, 149, 154, 158, 166, 171, 176, 183, 188, 192, 252, 257, 262, 269, 274, 278, 286, 291, 296, 303, 308, 312, 320, 325, 330, 337, 342, 346]\n"
     ]
    }
   ],
   "source": [
    "indexes = []\n",
    "\n",
    "for idx, word in enumerate(splitted_lyrics, start=1):\n",
    "    if word.lower() == findit:\n",
    "        indexes.append(idx)\n",
    "\n",
    "print(indexes)"
   ]
  },
  {
   "cell_type": "markdown",
   "id": "b4511a44-5408-48c2-8779-a91b2e93ff0f",
   "metadata": {},
   "source": [
    "Ugyanez a szakasz comprehension-nel megvalósítva:"
   ]
  },
  {
   "cell_type": "code",
   "execution_count": 18,
   "id": "260a0574-b2bf-4965-a38f-0004783820de",
   "metadata": {},
   "outputs": [
    {
     "name": "stdout",
     "output_type": "stream",
     "text": [
      "[43, 48, 53, 60, 65, 69, 132, 137, 142, 149, 154, 158, 166, 171, 176, 183, 188, 192, 252, 257, 262, 269, 274, 278, 286, 291, 296, 303, 308, 312, 320, 325, 330, 337, 342, 346]\n"
     ]
    }
   ],
   "source": [
    "indexes = [idx for idx, word in enumerate(splitted_lyrics, start=1) if word.lower() == findit]\n",
    "\n",
    "print(indexes)"
   ]
  },
  {
   "cell_type": "markdown",
   "id": "6aa03631-7003-4f78-960a-9486c16f4bf1",
   "metadata": {},
   "source": [
    "Akár egészen összetett és bonyolult dolgokat is meg tudunk fogalmazni ennek a módszernek a segítségével. A lenti példa pusztán a szemléltetés végett álljon itt. Ennek az alapozó tárgynak nem célja ilyen szintű comprehension-ök generálása."
   ]
  },
  {
   "cell_type": "code",
   "execution_count": 19,
   "id": "b0ff5d45-cfed-4383-936a-40689fe7e395",
   "metadata": {},
   "outputs": [
    {
     "name": "stdin",
     "output_type": "stream",
     "text": [
      " -1\n",
      " 8\n",
      " 3\n"
     ]
    },
    {
     "name": "stdout",
     "output_type": "stream",
     "text": [
      "[1, -8, -3]\n"
     ]
    }
   ],
   "source": [
    "l = [int(i) * -1 for i in [input() for i in range(3)]]\n",
    "\n",
    "print(l)"
   ]
  },
  {
   "cell_type": "markdown",
   "id": "70a02e72-39ca-4992-bdfd-578ea452bc45",
   "metadata": {},
   "source": [
    "A fenti kódban két comprehension-t látunk, ahol az egyik a másikba van ágyazva. A belső esetén háromszor lefut a ciklus és minden lépésben bekér adatot a felhasználótól, amelynek az eredménye fog a generált listára kerülni. Ez a comprehension önmagában is működik természetesen:"
   ]
  },
  {
   "cell_type": "code",
   "execution_count": 20,
   "id": "2f274fe5-8c35-4c1f-9a60-ff8dd7e5f233",
   "metadata": {},
   "outputs": [
    {
     "name": "stdin",
     "output_type": "stream",
     "text": [
      " 1\n",
      " 2\n",
      " 3\n"
     ]
    },
    {
     "name": "stdout",
     "output_type": "stream",
     "text": [
      "['1', '2', '3']\n"
     ]
    }
   ],
   "source": [
    "l = [input() for i in range(3)]\n",
    "\n",
    "print(l)"
   ]
  },
  {
   "cell_type": "markdown",
   "id": "e894d22e-8fbd-4244-b6af-7f4ae508828e",
   "metadata": {},
   "source": [
    "A külső comprehension-ben a ciklus a belső comprehension által generált listát járja végig. A külső comprehension által generált listán az adott elemet mindig egésszé konvertáljuk (persze ehhez szükséges, hogy a felhasználó mindhárom értéknek egészet adjon meg), majd szorozzuk -1-gyel."
   ]
  }
 ],
 "metadata": {
  "kernelspec": {
   "display_name": "Python 3 (ipykernel)",
   "language": "python",
   "name": "python3"
  },
  "language_info": {
   "codemirror_mode": {
    "name": "ipython",
    "version": 3
   },
   "file_extension": ".py",
   "mimetype": "text/x-python",
   "name": "python",
   "nbconvert_exporter": "python",
   "pygments_lexer": "ipython3",
   "version": "3.8.10"
  }
 },
 "nbformat": 4,
 "nbformat_minor": 5
}
