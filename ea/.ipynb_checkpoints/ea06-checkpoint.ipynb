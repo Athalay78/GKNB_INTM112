{
 "cells": [
  {
   "cell_type": "markdown",
   "id": "2868ec9b-a569-4cee-aa03-e5b3796999c2",
   "metadata": {},
   "source": [
    "# 6. előadás"
   ]
  },
  {
   "cell_type": "markdown",
   "id": "1fbd4bf4-3f8a-4d9c-8462-20e3f31d3744",
   "metadata": {},
   "source": [
    "## Az ```Enumerate``` függvény\n",
    "\n",
    "Korábban láttuk már, hogy listákon és rendezett n-eseken ```for``` ciklus segítségével szépen végig tudunk iterálni. Például legyen a lenti  listánk, amit egy ```for``` ciklussal bejárunk és minden iteráció során kiírjuk a következő elem nevét:"
   ]
  },
  {
   "cell_type": "code",
   "execution_count": null,
   "id": "18afe433-74fc-4ac7-bd56-dd818e153ec4",
   "metadata": {},
   "outputs": [],
   "source": []
  }
 ],
 "metadata": {
  "kernelspec": {
   "display_name": "Python 3 (ipykernel)",
   "language": "python",
   "name": "python3"
  },
  "language_info": {
   "codemirror_mode": {
    "name": "ipython",
    "version": 3
   },
   "file_extension": ".py",
   "mimetype": "text/x-python",
   "name": "python",
   "nbconvert_exporter": "python",
   "pygments_lexer": "ipython3",
   "version": "3.8.10"
  }
 },
 "nbformat": 4,
 "nbformat_minor": 5
}
