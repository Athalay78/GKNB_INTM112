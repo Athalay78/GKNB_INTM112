{
 "cells": [
  {
   "attachments": {},
   "cell_type": "markdown",
   "id": "46b88afe-2377-4e8e-86fa-a7c4bf0dbaeb",
   "metadata": {},
   "source": [
    "# 2. előadás\n",
    "\n",
    "## Tartalom\n",
    "\n",
    "* ```input``` függvény\n",
    "* ```bool``` típus\n",
    "* relációs operátorok\n",
    "* logikai operátorok\n",
    "* elágazások\n",
    "* ```str``` indexelés\n",
    "* ```str``` műveletek\n",
    "* ```str``` formázás"
   ]
  },
  {
   "attachments": {},
   "cell_type": "markdown",
   "id": "9ee22991-d981-4f90-8aa7-3c971a07c22b",
   "metadata": {},
   "source": [
    "## Felhasználói bemenet\n",
    "\n",
    "Az ```input()``` függvény segítségével lehetőségünk van arra, hogy szöveges bemenetet kérjünk a felhasználótól."
   ]
  },
  {
   "cell_type": "code",
   "execution_count": 1,
   "id": "71df39d2-3b66-4ddb-9fe0-b9253ee8ec74",
   "metadata": {},
   "outputs": [
    {
     "name": "stdout",
     "output_type": "stream",
     "text": [
      "Hogy hívnak?\n"
     ]
    },
    {
     "name": "stdin",
     "output_type": "stream",
     "text": [
      " János\n"
     ]
    },
    {
     "name": "stdout",
     "output_type": "stream",
     "text": [
      "Szia, János!\n"
     ]
    }
   ],
   "source": [
    "print(\"Hogy hívnak?\")\n",
    "name = input()\n",
    "print(\"Szia, \" + name + \"!\")"
   ]
  },
  {
   "attachments": {},
   "cell_type": "markdown",
   "id": "a6d3d901-884d-4068-8f80-492fc0cfe987",
   "metadata": {},
   "source": [
    "Az ```input``` függvénynek most nincs paramétere, üres a zárójelpár. Ahol meghívásra kerül a függvény, ott a program futása várakozik, hogy a felhasználó tetszőleges szöveget adjon meg. A függvény úgynevezett visszatérési értéke lesz a szöveg, amit a felhasználó megadott. Jelen esetben a felhasználó által megadott tetszőleges szöveg a ```name``` változóba kerül eltárolásra.\n",
    "\n",
    "A függvények visszatérési értékét hasonló módon tudjuk elképzelni, mint a matimatikai függvényen számításának eredményét. Vegyük példának a szinusz függvényt. A szinusz függvény egy tetszőleges számnak a szinuszát meghatározza. A paramétere a szám, aminek a szinuszát szeretnénk meghatározni. A szinusz függvény visszatérési értéke a paraméterként kapott szám szinusza lesz.\n",
    "\n",
    "Az ```input``` függvény esetén nincs paraméter, nincs bemenet. A felhasználótól kér be adatot, majd ezt a ```string```-et fogjak eredményként adni. A fenti kódban ezt az eredményt rögtön el is tároljuk a ```name``` változóban.\n",
    "\n",
    "De csinálhatjuk például ezt is:"
   ]
  },
  {
   "cell_type": "code",
   "execution_count": 2,
   "id": "a3b163d2-ccde-4edd-88d7-d4cbd9d995c2",
   "metadata": {},
   "outputs": [
    {
     "name": "stdout",
     "output_type": "stream",
     "text": [
      "Hogy hívnak?\n"
     ]
    },
    {
     "name": "stdin",
     "output_type": "stream",
     "text": [
      " János\n"
     ]
    },
    {
     "name": "stdout",
     "output_type": "stream",
     "text": [
      "Szia, János!\n"
     ]
    }
   ],
   "source": [
    "print(\"Hogy hívnak?\")\n",
    "print(\"Szia, \" + input() + \"!\")"
   ]
  },
  {
   "attachments": {},
   "cell_type": "markdown",
   "id": "3d2b09c1-f005-4d66-9b36-873ced060314",
   "metadata": {},
   "source": [
    "Ez a kód ugyanazt csinálja, mint az előző esetben. A különbség, hogy az ```input``` függvény visszatérési értékét nem tároltuk el változóban, hanem rögtön átadtuk a ```print``` függvénynek. A kimenet szempontjából nincs különbség. A kódunk rövidebb lett, ugyanakkor kevésbé átlátható. Ezért az ilyen módon történő felhasználása kevébé javasolt.\n",
    "\n",
    "Értelemszerű, hogy ha a felhasználótól szeretnénk bekérni adatot, akkor ezt megelőzően valamilyen tájékoztató szöveggel szeretnénk a felhasználót ellátni, hiszen tudnia kell, hogy milyen bemenetet várunk tőle. Az előző példánál látjuk, hogy megkérdeztük a felhasználó nevét, majd utána jött a bemenet kérése az ```input``` függvénnyel.\n",
    "\n",
    "Ezt a mechanizmust egyszerüsítendő az ```input``` függvényt tudjuk paraméterezni is. Méghozzá egy olyan szöveget tudunk neki paraméterül adni, amelyet a felhasználói bemenet bekérése előtt fog megjeleníteni. Ezzel gyakorlatilag kiváltva azt, hogy az ```input``` függvény hívása előtt egy plusz ```print``` utasítást helyezzünk el."
   ]
  },
  {
   "cell_type": "code",
   "execution_count": 3,
   "id": "c19e894a-9946-4430-abfe-7bdbcdfd5242",
   "metadata": {},
   "outputs": [
    {
     "name": "stdin",
     "output_type": "stream",
     "text": [
      "Hogy hívnak? János\n"
     ]
    },
    {
     "name": "stdout",
     "output_type": "stream",
     "text": [
      "Szia, János!\n"
     ]
    }
   ],
   "source": [
    "name = input(\"Hogy hívnak?\")\n",
    "print(\"Szia, \" + name + \"!\")"
   ]
  },
  {
   "attachments": {},
   "cell_type": "markdown",
   "id": "567b5c68-cd04-4f8d-8681-1fd0bfec53ba",
   "metadata": {},
   "source": [
    "#### Feladat: téglalap kerület és terület számítás\n",
    "\n",
    "Az ```input``` függvénnyel már tudunk egyszerűbb programokat készíteni, amivel tetszőleges számítási feladatokat elvégezhetünk. Például készíthetünk egy egyszerű programot, ami megadott paraméterekkel rendelkező téglalap kerületét és területét kiszámítja. Itt ügyeljünk rá, hogy az ```input``` függvény mindenképp ```string```-et fog visszaadni. Akkor is, ha a felhasználó számot adott meg bemenetként. Ilyenkor szövegként tárolt számról van szó. Amiról tudjuk, hogy nem tudunk vele számítási műveleteket végezni. Viszont azt is tudjuk, hogy az ```int``` és ```float``` függvényekkel egész vagy valós számokká tudjuk őket alakítani. A példában az ```input``` függvény visszatérési értékét rögtön át is alakítjuk a ```float``` függvénnyel valós számmá. Az ```a``` és ```b``` változókban az értékek már számként szerepelnek, így a kerület és terület számításokat is végre tudjuk hajtani."
   ]
  },
  {
   "cell_type": "code",
   "execution_count": 4,
   "id": "f989b643-9e6f-4cd2-bf84-e93f157de740",
   "metadata": {},
   "outputs": [
    {
     "name": "stdin",
     "output_type": "stream",
     "text": [
      "Kérem adja meg a téglalap egyik oldalhosszát! 3\n",
      "Kérem adja meg a téglalap másik oldalhosszát! 2\n"
     ]
    },
    {
     "name": "stdout",
     "output_type": "stream",
     "text": [
      "A téglalap adatai:\n",
      "  A oldalhossz: 3.0\n",
      "  B oldalhossz: 2.0\n",
      "  Kerülete: 10.0\n",
      "  Területe: 6.0\n"
     ]
    }
   ],
   "source": [
    "# Téglalap kerület és terület számítás, felhasználói bemenettel.\n",
    "\n",
    "# A téglalap oldalhosszainak bekérése a felhasználótól.\n",
    "a = float(input(\"Kérem adja meg a téglalap egyik oldalhosszát!\"))\n",
    "b = float(input(\"Kérem adja meg a téglalap másik oldalhosszát!\"))\n",
    "\n",
    "perimeter = 2 * (a + b) # A téglalap kerülete.\n",
    "area = a * b # A téglalap területe.\n",
    "\n",
    "# A téglalap bekért és számított adatainak megjelenítése.\n",
    "print(\"A téglalap adatai:\")\n",
    "print(\"  A oldalhossz: \" + str(a))\n",
    "print(\"  B oldalhossz: \" + str(b))\n",
    "print(\"  Kerülete: \" + str(perimeter))\n",
    "print(\"  Területe: \" + str(area))\n"
   ]
  },
  {
   "attachments": {},
   "cell_type": "markdown",
   "id": "2f1438a7-4cdc-487f-92e3-516978974262",
   "metadata": {},
   "source": [
    "A fenti példában látható, hogy a kiírásoknál most nem vesszővel elválasztva adtuk meg a kiírandó tartalmakat a ```print``` függvényben. Tudjuk már, hogy szövegeket össze lehet fűzni (konkatenálni), így itt most ezzel a lehetőséggel éltünk. Viszont az ```a```, ```b```, ```perimeter``` és ```area``` változók egy-egy ```float``` értéket tárolnak, amiket nem tudunk egy az egyben hozzáfűzni ```string```-hez. Ezért ezeket a valós számokat előbb az ```str``` függvénnyel szöveggé konvertáltuk.\n",
    "\n",
    "Természetesen a fenti kiírásokat csinálhatnánk például így is:"
   ]
  },
  {
   "cell_type": "code",
   "execution_count": 5,
   "id": "f58fa145-69f8-44bd-a7d8-488bb221cb92",
   "metadata": {},
   "outputs": [
    {
     "name": "stdout",
     "output_type": "stream",
     "text": [
      "A téglalap adatai:\n",
      "  A oldalhossz: 3.0\n",
      "  B oldalhossz: 2.0\n",
      "  Kerülete: 10.0\n",
      "  Területe: 6.0\n"
     ]
    }
   ],
   "source": [
    "# A téglalap bekért és számított adatainak megjelenítése, de most az str függvény nélkül.\n",
    "print(\"A téglalap adatai:\")\n",
    "print(\"  A oldalhossz:\", a)\n",
    "print(\"  B oldalhossz:\", b)\n",
    "print(\"  Kerülete:\", perimeter)\n",
    "print(\"  Területe:\", area)"
   ]
  },
  {
   "cell_type": "markdown",
   "id": "99393bf3-2cbe-4d8b-8ac2-18b7867b0679",
   "metadata": {},
   "source": [
    "A különbség, hogy most nem egy string-be konkatenálva jelenítettük meg az adatokat, hanem vesszővel elválasztva több paramétert adtunk a ```print``` függvénynek. Ebben az esetben a nem ```str``` típusú változókat nem kell szöveggé konvertálni. Ha az adott feladat nem kívánja meg kifejezetten valamelyik eset használatát, akkor azt is mondhatjuk, hogy mindegy melyiket alkalmazzuk. Használjuk azt a megközelítést, amelyik kényelmesebb, szimpatikusabb. De fontos, hogy ismerjük a különféle lehetőségeinket."
   ]
  },
  {
   "attachments": {},
   "cell_type": "markdown",
   "id": "16b2eafa-8ef1-48b1-91e7-8e2639a811f0",
   "metadata": {},
   "source": [
    "## Logikai értékek és műveletek\n",
    "\n",
    "Eddig három típussal ismerkedtünk meg: ```int```, ```float```, ```str```. Most megismerkedünk a logikai értékekkel. A Python-ban a logikai típus a ```bool```, amely két értéket vehet fel:\n",
    "* True\n",
    "* False"
   ]
  },
  {
   "cell_type": "code",
   "execution_count": 6,
   "id": "c364398e-5039-4649-a190-ee40ce4c8279",
   "metadata": {},
   "outputs": [
    {
     "name": "stdout",
     "output_type": "stream",
     "text": [
      "True\n",
      "<class 'bool'>\n"
     ]
    }
   ],
   "source": [
    "a = True\n",
    "print(a)\n",
    "print(type(a))"
   ]
  },
  {
   "attachments": {},
   "cell_type": "markdown",
   "id": "3856d036-eee4-4dc9-9c98-ccb1f0044e7c",
   "metadata": {},
   "source": [
    "### Relációs operátorok\n",
    "\n",
    "Meg tudunk határozni úgynevezett logikai kifejezéseket, melyek eldöntendő kérdésekre adnak választ. Azaz igennel (```True```), vagy nemmel (```False```) tudunk rájuk egyértelműen válaszolni. Ezeket a válaszokat tároljuk el a ```bool``` típussal.\n",
    "\n",
    "Erre az alábbi összehasonlító operátorok állnak a rendelkezésre:\n",
    "* Egyenlő: ```==```"
   ]
  },
  {
   "cell_type": "code",
   "execution_count": 7,
   "id": "8aa169d4-d62c-4b52-99bc-3eced833107b",
   "metadata": {},
   "outputs": [
    {
     "name": "stdout",
     "output_type": "stream",
     "text": [
      "True\n"
     ]
    }
   ],
   "source": [
    "print(10 == 10)"
   ]
  },
  {
   "attachments": {},
   "cell_type": "markdown",
   "id": "c713c196-737f-4bb9-bf3c-b83899c9ec34",
   "metadata": {},
   "source": [
    "* Nem egyenlő: ```!=```"
   ]
  },
  {
   "cell_type": "code",
   "execution_count": 8,
   "id": "4361e2c2-f196-4ee2-8831-8e2c141aa232",
   "metadata": {},
   "outputs": [
    {
     "name": "stdout",
     "output_type": "stream",
     "text": [
      "False\n"
     ]
    }
   ],
   "source": [
    "print(10 != 10)"
   ]
  },
  {
   "attachments": {},
   "cell_type": "markdown",
   "id": "ea19e83c-ca78-4f46-b495-f68b9e73e391",
   "metadata": {},
   "source": [
    "* Nagyobb: ```>```"
   ]
  },
  {
   "cell_type": "code",
   "execution_count": 9,
   "id": "f33d3e23-e7f1-4387-8a62-dd1ec100f80c",
   "metadata": {},
   "outputs": [
    {
     "name": "stdout",
     "output_type": "stream",
     "text": [
      "True\n"
     ]
    }
   ],
   "source": [
    "print(3 > 2)"
   ]
  },
  {
   "attachments": {},
   "cell_type": "markdown",
   "id": "a6c894b3-33a8-4459-a533-35de60ffce13",
   "metadata": {},
   "source": [
    "* Kisebb: ```<```"
   ]
  },
  {
   "cell_type": "code",
   "execution_count": 10,
   "id": "230d534c-436c-41c9-aa95-0ca8441d2558",
   "metadata": {},
   "outputs": [
    {
     "name": "stdout",
     "output_type": "stream",
     "text": [
      "False\n"
     ]
    }
   ],
   "source": [
    "print(3 < 2)"
   ]
  },
  {
   "attachments": {},
   "cell_type": "markdown",
   "id": "ab0ed4a0-5601-4e84-972c-5e2e6b860745",
   "metadata": {},
   "source": [
    "* Nagyobb vagy egyenlő: ```>=```"
   ]
  },
  {
   "cell_type": "code",
   "execution_count": 11,
   "id": "0c181669-a99f-4da7-a101-ab4841c1a586",
   "metadata": {},
   "outputs": [
    {
     "name": "stdout",
     "output_type": "stream",
     "text": [
      "True\n"
     ]
    }
   ],
   "source": [
    "print(2 >= 2)"
   ]
  },
  {
   "attachments": {},
   "cell_type": "markdown",
   "id": "6ba6033a-4a88-4aac-a6a1-569e8d70efa4",
   "metadata": {},
   "source": [
    "* Kisebb vagy egyenlő: ```<=```"
   ]
  },
  {
   "cell_type": "code",
   "execution_count": 12,
   "id": "26a95d75-6b42-4b6a-87be-2a9123087ae3",
   "metadata": {},
   "outputs": [
    {
     "name": "stdout",
     "output_type": "stream",
     "text": [
      "False\n"
     ]
    }
   ],
   "source": [
    "print(3 <= 2)"
   ]
  },
  {
   "attachments": {},
   "cell_type": "markdown",
   "id": "2c6121ee-206a-49f0-beaa-f55ebad9993b",
   "metadata": {},
   "source": [
    "Az relációs operátorok ugyanúgy működnek, mint a már ismert aritmetikai operátorok. Van egy rá bízott számítás, amit végre kell hajtania, ennek az eredményét a fordító kiértékeli, és az eredmény a számítás helyén megjelenik. Ezt az eredményt aztán elmenthetjük egy változóba, vagy, mint a fenti esetekben is, rögtön ki is írhatjuk a kimenetre egy ```print``` függvénnyel.\n",
    "\n",
    "### Logikai operátorok\n",
    "\n",
    "Előfordulhat, hogy összetettebb logikai kifejezést akarunk megfogalmazni, amit két szám összehasonlításával nem tudunk megtenni. Például arra szeretnénk választ kapni, hogy egy adott szám bele tartozik e egy megadott intervallumba. Legyen a szám 2 és legyen az intervallum [0, 10]. Itt két vizsgálatra van szükségünk. Egyrészt választ kell adni arra, hogy ```2 >= 0```, valamint arra is, hogy ```2 <= 10```. Viszont csak akkor tartozik a vizsgált szám az intervallumba, ha mindkét vizsgálat eredménye igaz. Az ilyen és hasonló esetekre nyújtanak megoldást a logikai operátorok. Ezek segítségével több összehasonlító kifejezést össze tudunk kapcsolni különféle módon.\n",
    "\n",
    "Három logikai operátort használhatunk:\n",
    "* [Logikai és művelet](https://en.wikipedia.org/wiki/Logical_conjunction): ```and```\n",
    "\n",
    "A ```2 >= 0``` vizsgálat eredménye igaz lesz, a 2 valóban nagyobb vagy egyenlő, mint a 0. Szintén igaz lesz a ```2 <= 10``` vizsgálat, hiszen a 2 kisebb vagy egyenlő, mint a 10. Tehát az ```and``` művelet mindkét bemenete ```True```. Kimenete akkor igaz, ha mindkét bemenet igaz. Jelen esetben ```True``` eredményt kapunk."
   ]
  },
  {
   "cell_type": "code",
   "execution_count": 13,
   "id": "a433bad2-1672-4fe4-ace3-cd96d6aac8de",
   "metadata": {},
   "outputs": [
    {
     "name": "stdout",
     "output_type": "stream",
     "text": [
      "True\n"
     ]
    }
   ],
   "source": [
    "print(2 >= 0 and 2 <= 10)"
   ]
  },
  {
   "attachments": {},
   "cell_type": "markdown",
   "id": "d315f015-8142-4136-8c8a-6712c1cee392",
   "metadata": {},
   "source": [
    "* [Logikai vagy művelet](https://en.wikipedia.org/wiki/Logical_disjunction): ```or```\n",
    "\n",
    "A ```2 == 2``` nyilván igaz, azaz ```True```. Viszont a ```10 > 100``` eredménye ```False```, hiszen a 10 nem nagyobb a 100-nál. Az ```or``` operátor kimenete akkor lesz igaz, ha legalább az egyik bemenet igaz. Mivel ez így történt, ezért a kimenet ```True``` lett."
   ]
  },
  {
   "cell_type": "code",
   "execution_count": 14,
   "id": "3c54fef7-039a-4c47-983c-9ca008601a61",
   "metadata": {},
   "outputs": [
    {
     "name": "stdout",
     "output_type": "stream",
     "text": [
      "True\n"
     ]
    }
   ],
   "source": [
    "print(2 == 2 or 10 > 100)"
   ]
  },
  {
   "attachments": {},
   "cell_type": "markdown",
   "id": "8623c8d1-4732-425a-80a1-1b259189fbb8",
   "metadata": {},
   "source": [
    "* [Logikai tagadás](https://en.wikipedia.org/wiki/Negation): ```not```\n",
    "\n",
    "A ```0 == 1``` kérdésre a válasz egyértelműen nem, azaz ```False```. A ```not``` operátor ezt az ellenkezőjére állítja. Tehát a ```False``` eredményből ```True``` lesz."
   ]
  },
  {
   "cell_type": "code",
   "execution_count": 15,
   "id": "4b8c9ea0-e90d-43c6-856c-f1edbac25f96",
   "metadata": {},
   "outputs": [
    {
     "name": "stdout",
     "output_type": "stream",
     "text": [
      "True\n"
     ]
    }
   ],
   "source": [
    "print(not 0 == 1)"
   ]
  },
  {
   "attachments": {},
   "cell_type": "markdown",
   "id": "e81e04e9-8536-47ac-9a42-427f58981701",
   "metadata": {},
   "source": [
    "#### Feladat: Szám intervallumba tartozása\n",
    "\n",
    "Kérjünk be a felhasználótól egy számot és legyen egy konstansként előre megadott, mindkét végén [nyílt intervallumunk](https://hu.wikipedia.org/wiki/Intervallum). Döntsük el, hogy a megadott szám beletartozik e az intervallumba és a vizsgálat eredményét írjuk a kimenetre."
   ]
  },
  {
   "cell_type": "code",
   "execution_count": 16,
   "id": "5a0404b7-9ffb-4488-ae6a-a07887ad990a",
   "metadata": {},
   "outputs": [
    {
     "name": "stdin",
     "output_type": "stream",
     "text": [
      "Kérek egy számot! 7\n"
     ]
    },
    {
     "name": "stdout",
     "output_type": "stream",
     "text": [
      "True\n"
     ]
    }
   ],
   "source": [
    "# Bekért szám intervallumba tartozásának vizsgálata\n",
    "\n",
    "INTER_MIN = 0 # Az intervallum alsó határértéke.\n",
    "INTER_MAX = 10 # Az intervallum felső határértéke.\n",
    "\n",
    "# Felhasználó bemenet bekérése és float típusra konvertálása.\n",
    "n = float(input(\"Kérek egy számot!\"))\n",
    "\n",
    "# Logikai kiértékelés és eredményének közvetlen kiírása.\n",
    "print(n > INTER_MIN and n < INTER_MAX)"
   ]
  },
  {
   "attachments": {},
   "cell_type": "markdown",
   "id": "ee81b6ce-ef78-4aa0-b8f3-3f28be3723af",
   "metadata": {},
   "source": [
    "A fenti példában az ```INTER_MIN``` és ```INTER_MAX``` változókat azért írtuk nagy betűkkel, mert ezek konstans értékek. Azaz nem a felhasználótól kérjük be az értékeit, vagy nem más forrásból (pl. külső fájl) érkeznek. Ezek előre \"be vannak égetve\" a forráskódba. Az [ajánlás szerint](https://peps.python.org/pep-0008/#constants) ezeket nagy betűvel szokás jelölni."
   ]
  },
  {
   "attachments": {},
   "cell_type": "markdown",
   "id": "7fce3542-2ede-43f6-98e4-76ec86ad6733",
   "metadata": {},
   "source": [
    "## Elágazás\n",
    "\n",
    "Az elágazás segítségével a programon belül meg tudunk határozni egy olyan utasítást vagy utasítás szekvenciát, amelyet nem minden esetben szeretnénk végrehajtani. A program ezen részei előre meghatározott feltételek esetén kerülnek végrehajtásra. Az eddigi programjaink olyanok voltak, hogy fentről lefelé haladva minden utasítás, egymás után sorban végrehajtásra került. Belátható, hogy ez nem túl dinamikus. Összetett programokat így nem tudunk írni. Ahhoz, hogy a programot dinamikussá tegyük, vezérlési szerkezeteket tudunk felhasználni. Ezek közül az első, amivel megismerkedünk az úgynevezett elágazás.\n",
    "\n",
    "### Egyirányú elágazás\n",
    "\n",
    "Az elágazás legegyszerűbb alakja a következő:\n",
    "\n",
    "```python\n",
    "if FELTÉTEL:\n",
    "    UTASÍTÁSOK\n",
    "```\n",
    "\n",
    "Ez a következőt jelenti. A ```FELTÉTEL```-nek logikai értéknek vagy logikai kifejezésnek kell lennie. Azaz olyan vizsgálatnak, aminek eredménye vagy igaz vagy hamis. Vagy egyszerűbben, olyan kérdés, amire igennel vagy nemmel lehet válaszolni. Amennyiben a kérdésre igen a válasz, akkor a kettőspont után következő ```UTASÍTÁSOK``` kerülnek végrehajtásra. Ez lehet csak egy utasítás is, de akár több egymás után. Ha a vizsgálat hamis eredményt ad, akkor ezek az utasítások nem kerülnek végrehajtásra. Az ```UTASÍTÁSOK``` szakaszt hívjuk az elágazás igaz ágának.\n",
    "\n",
    "Nagyon fontos, hogy az ```UTASÍTÁSOK``` résznek behúzással kell kezdődnie. Ezzel jelezzük, hogy az itt következő kódsorok az elágazáshoz tartoznak. Az elágazás utáni első kódsor, ami már nem az elágazás igaz ágához tartozik, azt már nem kezdjük behúzással. Például:\n",
    "\n",
    "```python\n",
    "if FELTÉTEL:\n",
    "    UTASÍTÁSOK_0\n",
    "UTASÍTÁSOK_1\n",
    "```\n",
    "\n",
    "Itt az ```UTASÍTÁSOK_0``` jelenti az elágazás igaz ágát. Az ```UTASÍTÁSOK_1``` már az elágazás után van. Ez már ismét egy olyan része a kódnak, ami mindenképp végrehajtódik, amikor az elágazás kiértékelése megtörtént.\n",
    "\n",
    "A behúzásokat két módon szokták jelölni:\n",
    "* 4 darab szóköz karakterrel vagy\n",
    "* 1 darab tab karakterrel.\n",
    "\n",
    "A [Python fejlesztői közösség](https://peps.python.org/pep-0008/#indentation) a 4 darab szóköz alkalmazását javasolja, így használjuk mi is ezt. De gyakorlatilag az összes fejlesztő eszköz gondoskodik arról, hogy a behúzások megtörténjenek, így ezzel általában túl nagy gondunk nincs. Ami nagyon fontos! Egy kódon belül nem szabad keverten használni a két módszert. Egy forráskód vagy csak szóközökkel vagy csak tab karakterekkel lehet tagolva.\n",
    "\n",
    "### Kétirányú elágazás\n",
    "\n",
    "Előfordulhat, hogy nem csak abban az esetben szeretnénk csinálni valamit, ha egy logikai vizsgálat eredménye igaz lett, hanem akkor is, ha hamis eredményt kaptunk. Ennek a felépítése a következő:\n",
    "\n",
    "```python\n",
    "if FELTÉTEL:\n",
    "    UTASÍTÁSOK_IGAZ\n",
    "else:\n",
    "    UTASÍTÁSOK_HAMIS\n",
    "```\n",
    "\n",
    "Ami azt jelenti, hogy az ```UTASÍTÁSOK_IGAZ``` akkor kerül végrehajtásra, ha a ```FELTÉTEL``` eredménye igaz. Az ```UTASÍTÁSOK_HAMIS``` pedig akkor kerül végrehajtásra, ha a ```FELTÉTEL``` eredménye hamis. Ez utóbbit nevezzük az elágazás hamis ágának.\n",
    "\n",
    "Az belátható, hogy a kettő közül mindig csak az egyik kerül végrehajtásra, hiszen egy eldöntendő kérdésre nem tudunk egyszerre igennel és nemmel is válaszolni. [A \"talán\", mint válaszlehetőség, itt most nem játszik.](https://en.wikipedia.org/wiki/Three-valued_logic)\n",
    "\n",
    "### Több irányú elágazás\n",
    "\n",
    "Készíthetünk olyan elágazásokat is, amelyek több logikai vizsgálatot tartalmaznak, melyeket egymás után vizsgálunk. Ennek a legegyszerűbb alakja a következő:\n",
    "\n",
    "```python\n",
    "if FELTÉTEL0:\n",
    "    UTASÍTÁSOK0\n",
    "elif FELTÉTEL1:\n",
    "    UTASÍTÁSOK1\n",
    "```\n",
    "\n",
    "Ebben az esetben először kiértékelésre kerül a ```FELTÉTEL0```. Ha az eredménye igaz, akkor végrehajtásra kerül az ```UTASÍTÁS0```. Ha az eredménye viszont hamis lesz, abban az esetben kiértékelésre kerül a ```FELTÉTEL1```. Ha ennek az eredménye lesz igaz, akkor az ```UTASÍTÁSOK1``` kerül végrehajtásra.\n",
    "\n",
    "Opcionálisan kiegészíthetjük egy ```else``` ággal:\n",
    "\n",
    "```python\n",
    "if FELTÉTEL0:\n",
    "    UTASÍTÁSOK0\n",
    "elif FELTÉTEL1:\n",
    "    UTASÍTÁSOK1\n",
    "else:\n",
    "    UTASÍTÁSOK2\n",
    "```\n",
    "\n",
    "Ez annyiban módosítja az előző esetet, hogy ha a ```FELTÉTEL1``` eredménye is hamis lesz, akkor az ```UTASÍTÁSOK2``` kerül végrehajtásra. Azt is mondhatjuk, hogy az ```else``` ág akkor kerül végrehajtásra, ha előtte sehol nem kaptunk igaz eredményt, semelyik ágat nem tudtuk végrehajtani.\n",
    "\n",
    "Az ```elif``` ágból pedig tetszőleges mennyiséget tartalmazhat az elágazás. Az előző példában egyet láthattunk. Most nézzük meg kettővel:\n",
    "\n",
    "```python\n",
    "if FELTÉTEL0:\n",
    "    UTASÍTÁSOK0\n",
    "elif FELTÉTEL1:\n",
    "    UTASÍTÁSOK1\n",
    "elif FELTÉTEL2:\n",
    "    UTASÍTÁSOK2\n",
    "else:\n",
    "    UTASÍTÁSOK3\n",
    "```\n",
    "\n",
    "A végrehajtás logikája most is ugyanaz. Először a ```FELTÉTEL0``` kiértékelése történik. Ha igaz az eredménye, akkor az ```UTASÍTÁSOK0``` kerül végrehajtásra. Ha hamis lesz az eredménye, de a ```FELTÉTEL1``` igaz, akkor az ```UTASÍTÁSOK1``` végrehajtása történik meg. Azonban, ha ennek is hamis az eredménye, akkor végül megvizsgálja a ```FELTÉTEL2``` kifejezést. Ha igazat mond, akkor az ```UTASÍTÁSOK2``` végrehajtása megtörténik. Ha ez a harmadik feltétel is hamis lesz, akkor az ```else``` részben található ```UTASÍTÁSOK3``` kerül végrehajtásra.\n",
    "\n",
    "Próbáljunk meg készíteni egy olyan programot, ami bekér a felhasználótól egy egész számot és kiírja a képernyőre, hogy a megadott szám páros vagy páratlan. Ezt az eddigi módszerekkel nem tudjuk megoldani, mert a programnak van egy pontja ahol vagy ezt vagy azt kell végrehajtania. Előre nem ismert, hogy melyik szövegnek a kiírása fog megtörténni. Ilyen esetben van szükségünk elágazásra."
   ]
  },
  {
   "cell_type": "code",
   "execution_count": 17,
   "id": "a400ed42-d79e-4bae-9b4b-6638d4ccd222",
   "metadata": {},
   "outputs": [
    {
     "name": "stdin",
     "output_type": "stream",
     "text": [
      "Adjon meg egy egész számot! 5\n"
     ]
    },
    {
     "name": "stdout",
     "output_type": "stream",
     "text": [
      "Páratlan.\n"
     ]
    }
   ],
   "source": [
    "n = int(input(\"Adjon meg egy egész számot!\"))\n",
    "if n % 2 == 0:\n",
    "    print(\"Páros.\")\n",
    "else:\n",
    "    print(\"Páratlan.\")"
   ]
  },
  {
   "attachments": {},
   "cell_type": "markdown",
   "id": "065bc94e-65e1-43c2-a8e8-362810808e40",
   "metadata": {},
   "source": [
    "Látható, hogy egy kétirányú elágazással megoldható ez a feladat. Muszáj a két darab irány, hiszen két eltérő eset van, amikor ki kell írnunk valamit: vagy ha páros a szám, vagy ha páratlan. Az elágazásban a ```n % 2 == 0``` logikai kifejezés szerepel. Itt először a maradékos osztás kerül végrehajtásra. Ennek nagyobb a precedenciája. Tehát megvizsgálja, hogy a bekért szám (```n```) 2-vel osztva mennyi maradékot ad. Ha egy tetszőleges egész számot 2-vel osztunk, akkor belátható, hogy a maradék vagy 0, vagy 1. Ha 0 a maradék, akkor a szám biztosan páros. Ha 1 a maradék, akkor kizárásos alapon páratlan.\n",
    "\n",
    "Ha feleslegesen nagyon biztosra akarunk menni, akkor a fenti példát megoldhattuk volna így is:"
   ]
  },
  {
   "cell_type": "code",
   "execution_count": 18,
   "id": "53979264-6da9-4ca4-8c58-e1227701832a",
   "metadata": {},
   "outputs": [
    {
     "name": "stdin",
     "output_type": "stream",
     "text": [
      "Adjon meg egy egész számot! 5\n"
     ]
    },
    {
     "name": "stdout",
     "output_type": "stream",
     "text": [
      "Páratlan.\n"
     ]
    }
   ],
   "source": [
    "n = int(input(\"Adjon meg egy egész számot!\"))\n",
    "if n % 2 == 0:\n",
    "    print(\"Páros.\")\n",
    "elif n % 2 == 1:\n",
    "    print(\"Páratlan.\")"
   ]
  },
  {
   "attachments": {},
   "cell_type": "markdown",
   "id": "1529a567-2a7b-4e90-b249-e18175cf14a1",
   "metadata": {},
   "source": [
    "A kimenet tekintetében a feladat ugyanaz lesz, ugyanazt a problémát oldottuk meg. De vegyük észre, hogy ebben a második esetben az ```elif``` ággal egy teljesen felesleges vizsgálatot hajtunk végre. Ha ehhez a vizsgálathoz jutunk, akkor biztosan kizártuk már azt az esetet, hogy az n osztva 2 maradéka 0. Tudjuk, hogy a maradék az csak 0 vagy 1 lehet. Ezért ha itt kiderült, hogy nem 0 a maradék, akkor már 100%, hogy 1 a maradék. Ezért felesleges ezt megvizsgálni, elegendő az ```else``` ág.\n",
    "\n",
    "És persze ha végképp tovább akarjuk bonyolítani, akkor csinálhatjuk ezt is (kizárólag a szemléltetés kedvéért):"
   ]
  },
  {
   "cell_type": "code",
   "execution_count": 19,
   "id": "9793580f-fe2b-4b85-bb3a-3f46f76c309a",
   "metadata": {},
   "outputs": [
    {
     "name": "stdin",
     "output_type": "stream",
     "text": [
      "Adjon meg egy egész számot! 5\n"
     ]
    },
    {
     "name": "stdout",
     "output_type": "stream",
     "text": [
      "Páratlan.\n"
     ]
    }
   ],
   "source": [
    "n = int(input(\"Adjon meg egy egész számot!\"))\n",
    "if n % 2 == 0:\n",
    "    print(\"Páros.\")\n",
    "elif n % 2 == 1:\n",
    "    print(\"Páratlan.\")\n",
    "else:\n",
    "    print(\"Egyiksem. ¯\\_(ツ)_/¯\")"
   ]
  },
  {
   "attachments": {},
   "cell_type": "markdown",
   "id": "0a15fcaa",
   "metadata": {},
   "source": [
    "Ezzel a megoldással lefedtük azt a nem létező esetet is, ami feltételezi, hogy a 0 és az 1 maradékon kívül előfordulhatna másik eset is. De persze tudjuk, hogy ez nincs így. Ebből következőleg azt is vegyük észre, hogy itt az ```else``` részbe soha nem fogunk belépni. Tehát ez a kód már nem csak felesleges számításokkal terheli a számítógépet (az ```elif``` során), de végrehajtásra soha nem kerülő utasításokkal hosszabbítja a forráskódot.\n",
    "\n",
    "Az elágazás különböző ágai bármilyen további utasítást tartalmazhatnak. Így például egy elágazásban szereplhet további elágazás. Ilyenkor is érvényben kell tartani a szabályt, hogy az egyes ágakhoz tartozó utasításokat egy behúzással kell kezdeni az adott blokkhoz képest. A szemléltetés végett nézzünk egy egyszerű feladatot. Tegyük fel, hogy be akarunk kérni egy egész számot és a végén kiírni, hogy azt elfogadjuk vagy sem. Ennek megfelelően pedig az ```OK``` vagy a ```NOK``` üzenetet jelenítjük meg a kimeneten. Mondjuk azt, hogy elfogadjuk 0-nál nagyobb és 10-nél nem nagyobb páros számokat, valamint a 10-nél nagyobb, de 20-nál kisebb páratlan számokat. Ezt megtehetjük a következő módon:"
   ]
  },
  {
   "cell_type": "code",
   "execution_count": 20,
   "id": "8eb0788f",
   "metadata": {},
   "outputs": [
    {
     "name": "stdin",
     "output_type": "stream",
     "text": [
      "Kérek egy egész számot! 12\n"
     ]
    },
    {
     "name": "stdout",
     "output_type": "stream",
     "text": [
      "NOK\n"
     ]
    }
   ],
   "source": [
    "n = int(input(\"Kérek egy egész számot!\"))\n",
    "\n",
    "if n % 2 == 0:\n",
    "    if n > 0 and n <= 10:\n",
    "        print(\"OK\")\n",
    "    else:\n",
    "        print(\"NOK\")\n",
    "else:\n",
    "    if n > 10 and n < 20:\n",
    "        print(\"OK\")\n",
    "    else:\n",
    "        print(\"NOK\")"
   ]
  },
  {
   "attachments": {},
   "cell_type": "markdown",
   "id": "cf262e22",
   "metadata": {},
   "source": [
    "A 3. sorban kezdődik egy elágazás, ahol azt vizsgáljuk, hogy ```n``` értéke páros e. Ha igaz, akkor ennek az elágazásnak az igaz ágában rögtön egy újabb elágazás kezdődik a 4. sorban. Majd az 5. sorban ennek a második elágazásnak látjuk az igaz ágát. Látható, hogy ez előtt nem 4, hanem 8 szóköz található, hiszen ez a belső elágazáson belül helyezkedik el.\n",
    "\n",
    "Vannak olyan esetek, amikor az egymásba ágyazott elágazások kiiktathatók. Az előző példa is pont ilyen. Nézzük meg a következő kódot:\n"
   ]
  },
  {
   "cell_type": "code",
   "execution_count": 21,
   "id": "a1f2bd91",
   "metadata": {},
   "outputs": [
    {
     "name": "stdin",
     "output_type": "stream",
     "text": [
      "Kérek egy egész számot! 12\n"
     ]
    },
    {
     "name": "stdout",
     "output_type": "stream",
     "text": [
      "NOK\n"
     ]
    }
   ],
   "source": [
    "n = int(input(\"Kérek egy egész számot!\"))\n",
    "\n",
    "if n % 2 == 0 and n > 0 and n <= 10 or n % 2 == 1 and n > 10 and n < 20:\n",
    "    print(\"OK\")\n",
    "else:\n",
    "    print(\"NOK\")"
   ]
  },
  {
   "attachments": {},
   "cell_type": "markdown",
   "id": "dfa87616",
   "metadata": {},
   "source": [
    "A fenti kód ugyanazt a feladatot végzi el, mint az előző példa, de csak egy darab kétirányú elágazással. Ez jól mutatja azt, hogy egészen összetett logikai kifejezéseket is megfogalmazhatunk, amivel akár a kód hosszát is jelentősen csökkenthetjük. Ugyanakkor érdemes szem előtt tartani, hogy ez a kód olvashatóságát nagy mértékben ronthatja. Az első esetben az egymásba ágyazott elágazások végett a kód ugyan hosszabb lett, de jobban tagolt és első ránézésre is könnyebben megérthető, hogy mit csinál.\n",
    "\n",
    "Amikor mindenképp rá vagyunk kényszerülve, hogy hosszú logikai kifejezéseket alkossunk, akkor érdemes a műveletek végrehajtási sorrendjére is ügyelni. Ezt könnyű eltéveszteni. Az ```and``` operátornak magasabb a precedenciája, így azt fogja előbb feldolgozni, majd az ```or``` művelet követekzik. Hasonlóan az aritmetikai operátorokhoz, zárójelekkel itt is van lehetőségünk módosítani a végrehajtás sorrendjén. Ha megnézzük, a fenti példa esetén erre nem volt szükségünk. Ugyanakkor az olvashatóság végett is célszerű lehet zárójelezni akár akkor is, amikor nincs rá szükség. Például:"
   ]
  },
  {
   "cell_type": "code",
   "execution_count": 22,
   "id": "e0596ee1",
   "metadata": {},
   "outputs": [
    {
     "name": "stdin",
     "output_type": "stream",
     "text": [
      "Kérek egy egész számot! 12\n"
     ]
    },
    {
     "name": "stdout",
     "output_type": "stream",
     "text": [
      "NOK\n"
     ]
    }
   ],
   "source": [
    "n = int(input(\"Kérek egy egész számot!\"))\n",
    "\n",
    "if ((n % 2 == 0) and (n > 0) and (n <= 10)) or ((n % 2 == 1) and (n > 10) and (n < 20)):\n",
    "    print(\"OK\")\n",
    "else:\n",
    "    print(\"NOK\")"
   ]
  },
  {
   "attachments": {},
   "cell_type": "markdown",
   "id": "584c2c5f",
   "metadata": {},
   "source": [
    "Ez a kód tökéletesen ugyanazt teszi mint az előző, csupán \"felesleges\" zárójelezéseket helyeztünk el benne. Viszont a zárójelek a hosszú kifejezéseket tagoltabbá, az emberi szem számára átláthatóbbá teszik, ezért nyugodtan alkalmazzuk akkor is, ha a műveleti sorrend módosítás végett egyébként nincs rá szükség.\n",
    "\n",
    "#### Feladat: Dátum ellenőrzés\n",
    "\n",
    "Nézzünk egy összetetebb példát: egy bekért dátumról (év, hó, nap) határozzuk meg, hogy minden értéke megfelelő e vagy sem. Tekintsünk megfelelőnek minden 1900.01.01. és 2023.12.31. közötti dátumot. Néhány dolgot ellenőtizni kell:\n",
    "* az évszám legalább 1900, legfeljebb 2023,\n",
    "* a hónap értéke minimum 1 és maximum 12,\n",
    "* a nap értéke minimum 1, maximuma pedig a hónap függvényében 28, 29, 30 vagy 31. Itt gondoljunk a [szökőév](https://hu.wikipedia.org/wiki/Sz%C3%B6k%C5%91%C3%A9v)ekre is!\n"
   ]
  },
  {
   "cell_type": "code",
   "execution_count": 23,
   "id": "decf66f3",
   "metadata": {},
   "outputs": [
    {
     "name": "stdin",
     "output_type": "stream",
     "text": [
      "Év: 1970\n",
      "Hó: 1\n",
      "Nap: 1\n"
     ]
    },
    {
     "name": "stdout",
     "output_type": "stream",
     "text": [
      "OK\n"
     ]
    }
   ],
   "source": [
    "# Bekérjük az év (y), a hónap (m) és a nap (d) értékeket. Ezeket egyből int típusra konvertáljuk.\n",
    "y = int(input(\"Év:\"))\n",
    "m = int(input(\"Hó:\"))\n",
    "d = int(input(\"Nap:\"))\n",
    "\n",
    "# Először eldöntjük, hogy az évszám megfelelő e. Ha igen, akkor vizsgáljuk a többi tényezőt.\n",
    "if y >= 1900 and y <=2023:\n",
    "    # Ha január, március, május, július, augusztus, október vagy december hónap van és a nap az [1, 31] tartományba esik, akkor jó a dátum.\n",
    "    if (m == 1 or m == 3 or m == 5 or m == 7 or m == 8 or m == 10 or m == 12) and (d >= 1 and d <= 31):\n",
    "        print(\"OK\")\n",
    "    # Ha április, június, szeptember vagy november hónap van és a nap az [1, 30] tartományba esik, akkor jó a dátum.\n",
    "    elif (m == 4 or m == 6 or m == 9 or m == 11) and (d >= 1 and d <= 30):\n",
    "        print(\"OK\")\n",
    "    # Ha február hónap van és a nap az [1, 28] tartományba esik, akkor jó a dátum.\n",
    "    elif (m == 2) and (d >= 1 and d <= 28):\n",
    "        print(\"OK\")\n",
    "    # Ha február 29. van, akkor szökőévnek kell lennie. Az pedig két esetben lehet:\n",
    "    #  - az évszám 400-zal osztva 0 maradékot ad, vagy \n",
    "    #  - 4-gyel osztva 0 maradékot ad, de 100-zal osztva nem 0 maradékot ad.\n",
    "    elif (m == 2 and d == 29) and (y % 400 == 0 or (y % 4 == 0 and y % 100 != 0)):\n",
    "        print(\"OK\")"
   ]
  },
  {
   "cell_type": "markdown",
   "id": "7f2323d2-7e0e-48d8-ace3-5349652a1bc6",
   "metadata": {},
   "source": [
    "## String indexelés\n",
    "\n",
    "Szövegek esetén lehetőségünk van a szöveget karakterenként elérni. Ha egy ```str``` típusú változó tartalmának csak egy meghatározott karakterére van szükségünk, akkor az adott karakter sorszámával, indexével tudjuk őt elérni. Az első karakter sorszáma 0, a másodiké 1, és így tovább. Ha egy karaktert szeretnénke elérni, hogy akkor a változó neve után szögletes zárójelben kell megadni a kívánt karakter indexét."
   ]
  },
  {
   "cell_type": "code",
   "execution_count": 24,
   "id": "37c1ee81-92da-4cc2-a65e-31428d063093",
   "metadata": {},
   "outputs": [
    {
     "name": "stdout",
     "output_type": "stream",
     "text": [
      "Programozni csudajó!\n",
      "P\n",
      "r\n"
     ]
    }
   ],
   "source": [
    "s = \"Programozni csudajó!\"\n",
    "\n",
    "print(s) # A teljes string\n",
    "print(s[0]) # A string első karaktere.\n",
    "print(s[1]) # A string második karaktere."
   ]
  },
  {
   "cell_type": "markdown",
   "id": "234588b7-660c-4cd5-aed3-7f5480d33077",
   "metadata": {},
   "source": [
    "Ügyeljünk rá, hogy ne indxeljük túl a szöveget. A túlindexelés azt jelenti, hogy olyan indexen található karaktert kérdezünk le, ami nem is létezik. A fenti ```s``` szöveg 20 darab karakterből áll. Az utolsó karakter (felkiáltójel) indexe 19. Fontos megjegyezni, hogy nem 20 lesz! Mivel a legelső karakter indexe a 0! Tehát az utolsó index a 19. Ez azt jelenti, hogy 19-nél nagyobb indexet nem adhatunk meg, különben a program hibával le fog állni. Nézzük meg."
   ]
  },
  {
   "cell_type": "code",
   "execution_count": 25,
   "id": "a2afb995-a0db-4ddd-b83a-11c24f1dd050",
   "metadata": {},
   "outputs": [
    {
     "name": "stdout",
     "output_type": "stream",
     "text": [
      "!\n"
     ]
    },
    {
     "ename": "IndexError",
     "evalue": "string index out of range",
     "output_type": "error",
     "traceback": [
      "\u001b[0;31m---------------------------------------------------------------------------\u001b[0m",
      "\u001b[0;31mIndexError\u001b[0m                                Traceback (most recent call last)",
      "Input \u001b[0;32mIn [25]\u001b[0m, in \u001b[0;36m<cell line: 2>\u001b[0;34m()\u001b[0m\n\u001b[1;32m      1\u001b[0m \u001b[38;5;28mprint\u001b[39m(s[\u001b[38;5;241m19\u001b[39m]) \u001b[38;5;66;03m# Ez a string utolsó karaktere.\u001b[39;00m\n\u001b[0;32m----> 2\u001b[0m \u001b[38;5;28mprint\u001b[39m(\u001b[43ms\u001b[49m\u001b[43m[\u001b[49m\u001b[38;5;241;43m20\u001b[39;49m\u001b[43m]\u001b[49m)\n",
      "\u001b[0;31mIndexError\u001b[0m: string index out of range"
     ]
    }
   ],
   "source": [
    "print(s[19]) # Ez a string utolsó karaktere.\n",
    "print(s[20]) # Ilyen index már nem létezik, itt hibát fogunk kapni."
   ]
  },
  {
   "cell_type": "markdown",
   "id": "1ff38dad-c5f3-48dc-8f66-4e33cb45afa6",
   "metadata": {},
   "source": [
    "Ilyen hibát könnyű véteni. De ne essünk pánikba. A kapott hiba elég beszédes, könnyen kiderül belőle, ha valahol elrontottuk az indexelést.\n",
    "\n",
    "A legtöbb nyelvvel ellentétben Python nyelven tudunk negatív előjelű indexeket is megadni. Ezt a következő módon kell értelmezni. A -1-edik index jelenti a string utolsó karakterét, a -2 takarja az utolsó előttit, és így tovább."
   ]
  },
  {
   "cell_type": "code",
   "execution_count": 26,
   "id": "51339062-a735-48c8-a7a5-8c4ec658a354",
   "metadata": {},
   "outputs": [
    {
     "name": "stdout",
     "output_type": "stream",
     "text": [
      "!\n",
      "ó\n"
     ]
    }
   ],
   "source": [
    "print(s[-1])\n",
    "print(s[-2])"
   ]
  },
  {
   "cell_type": "markdown",
   "id": "daf42fcc-d8a7-436e-b541-e35c6ad98a14",
   "metadata": {},
   "source": [
    "Ahogy létezik a túl indexelés, úgy létezik az alul indexelés is. Ez azt jelenti, hogy olyan alacsony indexet adunk meg, ami már nem létezik. jelen esetben a -20 a legalacsonyabb index, ez jelenti az ```s``` string legelső karakterét. Tehát az első index, ami már nem létezik, az a -21-es index lesz. Itt ugyanaz a probléma, mint a 19-nél nagyobb indexek esetén. A különbség, hogy ezt alul indexelésnék hívjuk, míg az előző esetet túl indexelésnek nevezzük."
   ]
  },
  {
   "cell_type": "code",
   "execution_count": 27,
   "id": "c2db8abb-e434-4163-8e9f-985444c1889a",
   "metadata": {},
   "outputs": [
    {
     "name": "stdout",
     "output_type": "stream",
     "text": [
      "P\n"
     ]
    },
    {
     "ename": "IndexError",
     "evalue": "string index out of range",
     "output_type": "error",
     "traceback": [
      "\u001b[0;31m---------------------------------------------------------------------------\u001b[0m",
      "\u001b[0;31mIndexError\u001b[0m                                Traceback (most recent call last)",
      "Input \u001b[0;32mIn [27]\u001b[0m, in \u001b[0;36m<cell line: 2>\u001b[0;34m()\u001b[0m\n\u001b[1;32m      1\u001b[0m \u001b[38;5;28mprint\u001b[39m(s[\u001b[38;5;241m-\u001b[39m\u001b[38;5;241m20\u001b[39m])\n\u001b[0;32m----> 2\u001b[0m \u001b[38;5;28mprint\u001b[39m(\u001b[43ms\u001b[49m\u001b[43m[\u001b[49m\u001b[38;5;241;43m-\u001b[39;49m\u001b[38;5;241;43m21\u001b[39;49m\u001b[43m]\u001b[49m)\n",
      "\u001b[0;31mIndexError\u001b[0m: string index out of range"
     ]
    }
   ],
   "source": [
    "print(s[-20])\n",
    "print(s[-21])"
   ]
  },
  {
   "cell_type": "markdown",
   "id": "3c61f679-83fc-4a01-a295-bae332bf5f21",
   "metadata": {},
   "source": [
    "Lehetésgünk van nem csak egy karaktert indexelni, hanem egy több karakterből álló tartományt is. Ebben az esetben először megadjuk a tartomány kezdő indexét, ami a legelső karakter indexe, amit már szeretnénk, hogy a tartományban legyen. Majd kettőspont következik. Ez után megadjuk a tartományt záró karakter indexét, úgy, hogy a záró karakter már nem fog a tartományba tartozni. Tulajdonképpen egy olyan intervallumot kell megfogalmazni, ami az alsó végén zárt, de a felső végén nyitott.\n",
    "\n",
    "Például legyen egy dátum tárolva egy stringben. Ebből a szövegből a dátum egyes komponenseit (év, hó és nap) szedjük ki tartományindexelés segítségével."
   ]
  },
  {
   "cell_type": "code",
   "execution_count": 28,
   "id": "3058e9cc-33bc-43b9-9e48-8192ad02cd80",
   "metadata": {},
   "outputs": [
    {
     "name": "stdout",
     "output_type": "stream",
     "text": [
      "Év: 2023\n",
      "Hó: 08\n",
      "Nap: 24\n"
     ]
    }
   ],
   "source": [
    "date = \"2023.08.24.\"\n",
    "print(\"Év:\", date[0:4])\n",
    "print(\"Hó:\", date[5:7])\n",
    "print(\"Nap:\", date[8:10])"
   ]
  },
  {
   "cell_type": "markdown",
   "id": "fff50550-1e48-4831-8d89-2df841272166",
   "metadata": {},
   "source": [
    "A ```date[0:4]``` a ```date``` string első 4 karaterét fogja megadni. A 0. indexű, azaz legelső karakter lesz a tartomány kezdete. A 4. index zárja, de úgy, hogy az utolsó index, ami a tatományba kerül, az a 3. lesz.\n",
    "\n",
    "Amikor tartományt indexelünk, akkor lehetőségünk van arra, hogy opcionálisan elhagyjuk akár az elejét, akár a végét. Ha az elejét elhagyjuk, az azt jelenti, mintha a legelső indexet adtuk volna meg. Azaz a tartomány a legelső karaktertől fog indulni. Ha a végét hagyjuk el, akkor az olyan, mintha az utolsó karakterig szeretnénk indexelni.\n",
    "\n",
    "Például a ```date``` változóból az utolsó 6 karatert szeretnénk, azaz csak a hónapot és a napot:"
   ]
  },
  {
   "cell_type": "code",
   "execution_count": 29,
   "id": "47e766d6-0067-4a10-9af3-c2bbc9fa9afe",
   "metadata": {},
   "outputs": [
    {
     "name": "stdout",
     "output_type": "stream",
     "text": [
      "08.24.\n"
     ]
    }
   ],
   "source": [
    "print(date[5:])"
   ]
  },
  {
   "cell_type": "markdown",
   "id": "0a3e442a-96c0-42e8-923d-6f876ede4819",
   "metadata": {},
   "source": [
    "Ez azt jelenti, hogy az 5. indexű karaktertől a legvégéig szeretnénk egy rész-string-et kérni. Olyan, mintha ezt írtuk volna:"
   ]
  },
  {
   "cell_type": "code",
   "execution_count": 30,
   "id": "9c5cb14f-21b5-452b-b740-3637cc86d449",
   "metadata": {},
   "outputs": [
    {
     "name": "stdout",
     "output_type": "stream",
     "text": [
      "08.24.\n"
     ]
    }
   ],
   "source": [
    "print(date[5:11])"
   ]
  },
  {
   "cell_type": "markdown",
   "id": "bc4b9db6-5d2e-4348-9e8f-e754171e3fc9",
   "metadata": {},
   "source": [
    "Hasonló módon az elejét is el tudjuk hagyni:"
   ]
  },
  {
   "cell_type": "code",
   "execution_count": 31,
   "id": "2cbafbe8-bf96-4513-91e3-256d0b7a4bd6",
   "metadata": {},
   "outputs": [
    {
     "name": "stdout",
     "output_type": "stream",
     "text": [
      "2023.\n"
     ]
    }
   ],
   "source": [
    "print(date[:5])"
   ]
  },
  {
   "cell_type": "markdown",
   "id": "d25ae0f7-b327-4779-84ea-e40e0d285ecd",
   "metadata": {},
   "source": [
    "A fenti kód az első 5 karaktert fogja megadni. Mintha ezt mondtuk volna:"
   ]
  },
  {
   "cell_type": "code",
   "execution_count": 32,
   "id": "57bf857f-2599-4604-a248-946b8e5afcac",
   "metadata": {},
   "outputs": [
    {
     "name": "stdout",
     "output_type": "stream",
     "text": [
      "2023.\n"
     ]
    }
   ],
   "source": [
    "print(date[0:5])"
   ]
  },
  {
   "cell_type": "markdown",
   "id": "d18e8547-0c9c-48af-a746-f638cb7c1573",
   "metadata": {},
   "source": [
    "Természetesen arra is van mód, hogy mindkét végét elhagyjuk:"
   ]
  },
  {
   "cell_type": "code",
   "execution_count": 33,
   "id": "763839eb-ec24-42fc-ad0c-a8ac12e3002d",
   "metadata": {},
   "outputs": [
    {
     "name": "stdout",
     "output_type": "stream",
     "text": [
      "2023.08.24.\n"
     ]
    }
   ],
   "source": [
    "print(date[:])"
   ]
  },
  {
   "cell_type": "markdown",
   "id": "d4aba4ea-e73f-46d3-9aa6-d4245d9af64b",
   "metadata": {},
   "source": [
    "Itt pont az történik, amit sejteni lehet. A legelejétől a legvégéig indexeltünk ebben az esetben. Ennek látszólag nincs értelme, hiszen ugyanaz történik, mintha ezt mondanánk:"
   ]
  },
  {
   "cell_type": "code",
   "execution_count": 34,
   "id": "c47bcf12-be52-4a1d-ac7c-f38085732200",
   "metadata": {},
   "outputs": [
    {
     "name": "stdout",
     "output_type": "stream",
     "text": [
      "2023.08.24.\n"
     ]
    }
   ],
   "source": [
    "print(date)"
   ]
  },
  {
   "cell_type": "markdown",
   "id": "43bc03ab-5a26-4cc1-be52-ff7dd41c761e",
   "metadata": {},
   "source": [
    "Később látni fogjuk, hogy milyen helyzetekben lehet ez hasznos.\n",
    "\n",
    "A szövegek indexelése kapcsán sokszor hasznos a ```len``` függvény használata. Ennek segítségével a szövegről megtudhatjuk, hogy az hány karakterből áll."
   ]
  },
  {
   "cell_type": "code",
   "execution_count": 35,
   "id": "fda8f469-96ac-42fb-be12-e0db7c59f50c",
   "metadata": {},
   "outputs": [
    {
     "name": "stdout",
     "output_type": "stream",
     "text": [
      "s string tartalma: Programozni csudajó!\n",
      "s string hossza: 20\n",
      "date string tartalma: 2023.08.24.\n",
      "date string hossza: 11\n"
     ]
    }
   ],
   "source": [
    "print(\"s string tartalma:\", s)\n",
    "print(\"s string hossza:\", len(s))\n",
    "print(\"date string tartalma:\", date)\n",
    "print(\"date string hossza:\", len(date))"
   ]
  },
  {
   "cell_type": "markdown",
   "id": "9b807e31-0a17-4a2c-8158-b0d9bc03e875",
   "metadata": {},
   "source": [
    "Például megjeleníthetjük az ```s``` string második felét:"
   ]
  },
  {
   "cell_type": "code",
   "execution_count": 36,
   "id": "e1267962-5abf-4b3b-b178-182853436c62",
   "metadata": {},
   "outputs": [
    {
     "name": "stdout",
     "output_type": "stream",
     "text": [
      "i csudajó!\n"
     ]
    }
   ],
   "source": [
    "print(s[int(len(s)/2):])"
   ]
  },
  {
   "cell_type": "markdown",
   "id": "49017621-7da5-4e7b-8f64-bec0ebfc2813",
   "metadata": {},
   "source": [
    "Itt ügyelni kell rá, hogy a ```len(s)/2``` eredménye ```float``` típusú lesz, annak ellenére, hogy egész számot tartalmaz. Indexelni pedig csak egészekkel szabad. Ezért az ```int``` függvénnyel a ```10.0``` értékből ```10```-et csinálunk.\n",
    "\n",
    "Felmerülhet a gondolat, hogy ha egy szöveg típusnak el tudjuk érni külön-külön az egyes karaktereit és azokat meg tudjuk jeleníteni, paraméterként vagy értékként adni más függvényeknek, változóknak, akkor akár lehetőségünk lehetne arra is, hogy módosítsuk az adott karaktert.\n",
    "\n",
    "Próbáljuk meg az ```s``` string első karakterét (0. index) módosítani:"
   ]
  },
  {
   "cell_type": "code",
   "execution_count": 37,
   "id": "59d25999-3cbd-4b85-af54-aa8775d9552d",
   "metadata": {},
   "outputs": [
    {
     "ename": "TypeError",
     "evalue": "'str' object does not support item assignment",
     "output_type": "error",
     "traceback": [
      "\u001b[0;31m---------------------------------------------------------------------------\u001b[0m",
      "\u001b[0;31mTypeError\u001b[0m                                 Traceback (most recent call last)",
      "Input \u001b[0;32mIn [37]\u001b[0m, in \u001b[0;36m<cell line: 1>\u001b[0;34m()\u001b[0m\n\u001b[0;32m----> 1\u001b[0m \u001b[43ms\u001b[49m\u001b[43m[\u001b[49m\u001b[38;5;241;43m0\u001b[39;49m\u001b[43m]\u001b[49m \u001b[38;5;241m=\u001b[39m \u001b[38;5;124m\"\u001b[39m\u001b[38;5;124mp\u001b[39m\u001b[38;5;124m\"\u001b[39m\n",
      "\u001b[0;31mTypeError\u001b[0m: 'str' object does not support item assignment"
     ]
    }
   ],
   "source": [
    "s[0] = \"p\""
   ]
  },
  {
   "cell_type": "markdown",
   "id": "03725e65-6b29-4b17-9824-d1a5078212d4",
   "metadata": {},
   "source": [
    "Ahogy látjuk ez sajnos nem fog működni, az ```str``` típus karaktereit elérjük indexeléssel, vagy részhalmazait a slice művelet segítségével. De az ilyen módon elért karaktereket, részeket nem tudjuk módosítani.\n",
    "\n",
    "Ugyanakkor vannak különféle módszerek, amikkel ezt meg tudjuk kerülni. Az eddigi ismereteink alapján egy ilyen lehetőséggel már mi is tudunk élni. Nézzük meg az alábbi kódot:"
   ]
  },
  {
   "cell_type": "code",
   "execution_count": 38,
   "id": "6e7a0bec-d400-4676-a552-cc914e8fdd86",
   "metadata": {},
   "outputs": [
    {
     "name": "stdout",
     "output_type": "stream",
     "text": [
      "python\n",
      "Python\n"
     ]
    }
   ],
   "source": [
    "# Az s változó tárolja az eredeti szöveget, aminek egy részét módosítani szeretnénk.\n",
    "s = \"python\"\n",
    "print(s)\n",
    "# Az idx változó megadja a cserélendő karakternek a pozícióját.\n",
    "idx = 0\n",
    "# A new_string változó tárolja az új szövegrészletet, amit az idx pozícióra szeretnénk helyezni.\n",
    "new_string = \"P\"\n",
    "# Az s stringbe három rész-string konkatenációja képződik.\n",
    "s = s[:idx] + new_string + s[idx+1:]\n",
    "print(s)"
   ]
  },
  {
   "cell_type": "markdown",
   "id": "8d5b27f5-de2c-405c-a22a-c49304cfd71d",
   "metadata": {},
   "source": [
    "A módszer a következő. Az eredeti ```s``` stringből vágjuk ki két szakaszt:\n",
    "* A cserélni kívánt karakter előtti szakaszt a string elejétől,\n",
    "* a cserélni kívánt karakter utáni szakaszt a string végéig.\n",
    "\n",
    "Ezt a két új string-et konkatenáljuk össze a kettő közé fűzendő harmadik stirng-gel, amit az új karaktert jelenti.\n",
    "\n",
    "Belátható, hogy ezzel a módszerrel nem csak egy karaktert tudunk beszúrni, hanem akár hosszabb karaktersorozatot is. Persze azt is vegyük észre, hogy ezzel a módszerrel szigorúan véve nem a string karakterét módosítjuk, hanem megy új stirng-et fűzünk össze. Csupán a végeredmény tekintetében kapjuk ugyanazt, mintha lehetőségünk lenne arra, hogy utólag változtassunk egy string karakterén."
   ]
  },
  {
   "cell_type": "markdown",
   "id": "38c0347a-14f3-49c7-bd3d-9e36cc938855",
   "metadata": {},
   "source": [
    "## String műveletek\n",
    "\n",
    "Az ```str``` típusú adatokhoz különféle beépített műveletek, úgynevezett függvények tartoznak, amikkel sok hasznos alapvető feladatot végre tudunk hajtani szövegek esetén. Például csupa nagybetűssé vagy csupa kisbetűssé tudunk alakítani szöveget, vagy el tudjuk dönteni, hogy számokat tartalmaz e. Ezek közül nézzünk meg néhányat és ezek használatát!\n",
    "\n",
    "[Bővebben a beépített string függvényekről](https://docs.python.org/3/library/stdtypes.html#string-methods)\n",
    "\n",
    "* ```isdigit()```\n",
    "Logikai értéket ad vissza. Megmondja, hogy a string csak számokat tartalmaz e."
   ]
  },
  {
   "cell_type": "code",
   "execution_count": 42,
   "id": "bccd9395-bb19-498f-8f60-cc59c68d0ef8",
   "metadata": {},
   "outputs": [
    {
     "name": "stdout",
     "output_type": "stream",
     "text": [
      "True\n"
     ]
    }
   ],
   "source": [
    "s = \"1234\"\n",
    "print(s.isdigit())"
   ]
  },
  {
   "cell_type": "code",
   "execution_count": 43,
   "id": "5992f21d-84c1-4cc0-a408-2c061fc14950",
   "metadata": {},
   "outputs": [
    {
     "name": "stdout",
     "output_type": "stream",
     "text": [
      "False\n"
     ]
    }
   ],
   "source": [
    "s = \"12a34\"\n",
    "print(s.isdigit())"
   ]
  },
  {
   "cell_type": "markdown",
   "id": "e8e05788-c860-4384-a228-e99cd40e3726",
   "metadata": {},
   "source": [
    "* ```isalpha()```"
   ]
  },
  {
   "cell_type": "markdown",
   "id": "1612496e-c7ee-41ec-a5f4-3f29660b4f96",
   "metadata": {},
   "source": [
    "Hasonló az ```isdigit``` függvényhez. Ebben az esetben akkor ad igaz eredményt, ha a string csak alfabetikus karaktereket tartalmaz."
   ]
  },
  {
   "cell_type": "code",
   "execution_count": 44,
   "id": "ac59bbdd-e2e0-466d-80af-ac4563580a9b",
   "metadata": {},
   "outputs": [
    {
     "name": "stdout",
     "output_type": "stream",
     "text": [
      "True\n"
     ]
    }
   ],
   "source": [
    "s = \"alma\"\n",
    "print(s.isalpha())"
   ]
  },
  {
   "cell_type": "code",
   "execution_count": 45,
   "id": "b939ac9c-6a16-4788-9f0c-ed5723076135",
   "metadata": {},
   "outputs": [
    {
     "name": "stdout",
     "output_type": "stream",
     "text": [
      "False\n"
     ]
    }
   ],
   "source": [
    "s = \"abc123\"\n",
    "print(s.isalpha())"
   ]
  },
  {
   "cell_type": "markdown",
   "id": "48c33718-f105-45d2-a5f3-e2413a3c583c",
   "metadata": {},
   "source": [
    "* ```find()```\n",
    "A paraméterként megadott szöveg első elfordulási helyének kezdő indexét fogja megadni. Ha nem található a rész-string, akkor -1 értéket ad eredményül."
   ]
  },
  {
   "cell_type": "code",
   "execution_count": 46,
   "id": "74c59fd8-45d3-4790-8eaa-973b299b0818",
   "metadata": {},
   "outputs": [
    {
     "name": "stdout",
     "output_type": "stream",
     "text": [
      "0\n"
     ]
    }
   ],
   "source": [
    "s = \"alma\"\n",
    "print(s.find(\"a\"))"
   ]
  },
  {
   "cell_type": "code",
   "execution_count": 47,
   "id": "ce854b6a-2b94-4537-b601-8c2640d2e388",
   "metadata": {},
   "outputs": [
    {
     "name": "stdout",
     "output_type": "stream",
     "text": [
      "-1\n"
     ]
    }
   ],
   "source": [
    "s = \"alma\"\n",
    "print(s.find(\"b\"))"
   ]
  },
  {
   "cell_type": "markdown",
   "id": "7200733a-1fba-4858-b36a-5de4bae37b41",
   "metadata": {},
   "source": [
    "* ```upper()```\n",
    "A szöveget csupa nagybetűssé alakítja."
   ]
  },
  {
   "cell_type": "code",
   "execution_count": 48,
   "id": "67e58c16-403e-4e85-a262-2baf2698c432",
   "metadata": {},
   "outputs": [
    {
     "name": "stdout",
     "output_type": "stream",
     "text": [
      "KISBETŰS\n"
     ]
    }
   ],
   "source": [
    "s = \"kisbetűs\"\n",
    "print(s.upper())"
   ]
  },
  {
   "cell_type": "markdown",
   "id": "2256fc78-53c0-4cbf-ada2-ee0dda5ee0c3",
   "metadata": {},
   "source": [
    "* ```lower()```\n",
    "Hasonló módon, mint az ```upper```, de most csupa kisbetűs lesz a szöveg."
   ]
  },
  {
   "cell_type": "code",
   "execution_count": 49,
   "id": "1aada8af-549d-4590-bff0-8bf16860af79",
   "metadata": {},
   "outputs": [
    {
     "name": "stdout",
     "output_type": "stream",
     "text": [
      "nagybetűs\n"
     ]
    }
   ],
   "source": [
    "s = \"NAGYBETŰS\"\n",
    "print(s.lower())"
   ]
  },
  {
   "cell_type": "markdown",
   "id": "6c840cf2-b539-47c6-8a1f-ba646872c796",
   "metadata": {},
   "source": [
    "* ```replace()```\n",
    "\n",
    "Az első paraméterként megadott szöveget megkeresi és kicseréli a második paraméterként megadott szövegre. Ha a keresett szöveg többször is előfordul, akkor mindegyik előfordulást cseréli.\n"
   ]
  },
  {
   "cell_type": "code",
   "execution_count": 50,
   "id": "98e787d5-be27-4c6b-8969-d4989a550fc0",
   "metadata": {},
   "outputs": [
    {
     "name": "stdout",
     "output_type": "stream",
     "text": [
      "Szeretem a kovászos uborkát.\n"
     ]
    }
   ],
   "source": [
    "s = \"Szeretem a banánt.\"\n",
    "print(s.replace(\"banánt\", \"kovászos uborkát\"))"
   ]
  },
  {
   "cell_type": "markdown",
   "id": "27d23d26-80a8-4dff-b122-3e773df235a5",
   "metadata": {},
   "source": [
    "* ```endswith()```\n",
    "\n",
    "Igaz eredményt ad, ha a string a megadott szövegrészlettel végződik."
   ]
  },
  {
   "cell_type": "code",
   "execution_count": 51,
   "id": "44142768-5835-433f-93dc-bc6c7305253a",
   "metadata": {},
   "outputs": [
    {
     "name": "stdout",
     "output_type": "stream",
     "text": [
      "True\n"
     ]
    }
   ],
   "source": [
    "s = \"img.png\"\n",
    "print(s.endswith(\".png\"))"
   ]
  },
  {
   "cell_type": "markdown",
   "id": "cb10f065-ed00-45f9-bf9c-c9e6d6507f7f",
   "metadata": {},
   "source": [
    "* ```strip()```\n",
    "\n",
    "A szöveg elejéről és végéről levágja a [fehér karakter](https://en.wikipedia.org/wiki/Whitespace_character)eket."
   ]
  },
  {
   "cell_type": "code",
   "execution_count": 52,
   "id": "1834a694-96f7-4bc8-b949-fa59ec0f485d",
   "metadata": {},
   "outputs": [
    {
     "name": "stdout",
     "output_type": "stream",
     "text": [
      "Python\n"
     ]
    }
   ],
   "source": [
    "s = \"  Python         \"\n",
    "print(s.strip())"
   ]
  },
  {
   "cell_type": "markdown",
   "id": "e2907762-b0d6-4d98-b004-587020d1b248",
   "metadata": {},
   "source": [
    "* ```lstrip()```\n",
    "\n",
    "Ugyanaz, mint az ```strip```, de csak bal oldalról vág le."
   ]
  },
  {
   "cell_type": "code",
   "execution_count": 53,
   "id": "ffd3b0c7-ce0d-4ae9-aef3-b3d3a557ec29",
   "metadata": {},
   "outputs": [
    {
     "name": "stdout",
     "output_type": "stream",
     "text": [
      "Python         \n"
     ]
    }
   ],
   "source": [
    "s = \"  Python         \"\n",
    "print(s.lstrip())"
   ]
  },
  {
   "cell_type": "markdown",
   "id": "baad3b0b-b135-49cf-a697-c00a4cf796cb",
   "metadata": {},
   "source": [
    "* ```rstrip()```\n",
    "\n",
    "Ugyanaz, mint az ```strip```, de csak jobb oldalról vág le."
   ]
  },
  {
   "cell_type": "code",
   "execution_count": 54,
   "id": "60d0fdcd-80fc-410b-9203-c685755a4b6e",
   "metadata": {},
   "outputs": [
    {
     "name": "stdout",
     "output_type": "stream",
     "text": [
      "  Python\n"
     ]
    }
   ],
   "source": [
    "s = \"  Python         \"\n",
    "print(s.rstrip())"
   ]
  },
  {
   "cell_type": "markdown",
   "id": "3edf2fb6-fee4-43ea-b1db-a7ca85ea7fbe",
   "metadata": {},
   "source": [
    "* ```in```\n",
    "\n",
    "Az ```in``` az eddigiekhez képest kicsit kilóg a sorból. Ez ugyanis nem az ```str``` típushoz tartozó beépített függvény, hanem egy operátor. Segítségével el tudjuk dönteni, hogy egy szöveg része e egy másik szövegnek. Az ```in``` operátor előtti rész-string-et fogja keresni az operátor után megadott szövegben. Ha megtalálható benne, akkor igaz (```True```), különben hamis (```False```) értéket ad."
   ]
  },
  {
   "cell_type": "code",
   "execution_count": 55,
   "id": "6c3c9caa-b2ea-436d-a46a-868a294f064d",
   "metadata": {},
   "outputs": [
    {
     "name": "stdout",
     "output_type": "stream",
     "text": [
      "True\n"
     ]
    }
   ],
   "source": [
    "print(\"pite\" in \"almáspite\")"
   ]
  },
  {
   "cell_type": "markdown",
   "id": "4c8009f4-a188-4fb4-9ff4-07f9160e01fc",
   "metadata": {},
   "source": [
    "## String formázás"
   ]
  },
  {
   "cell_type": "markdown",
   "id": "6c648b60-7f2f-4f23-bcb1-3ce6bf2524d6",
   "metadata": {},
   "source": [
    "Korábban láttuk, hogy a ```print``` függvény segítségével egyszerre több mindent is megjeleníthetünk. Ilyenkor vesszővel elválasztva adjuk meg az  egyes elemeket, amik lehetnek különböző típusú adatok is. Néztünk egy másik módszert, amikor az összeadás operátorral konkatenáljuk az egyes elemeket. Ilyenkor ügyelni kell rá, hogy minden tagnak ```str``` típusúnak kell lennie. Ilyenkor az ```str``` függvénnyel mindig string-et konvertáltunk például a számokból (```int```, ```float```).\n",
    "\n",
    "Nézzük meg a Python string formázási lehetőségét egy példán keresztül:"
   ]
  },
  {
   "cell_type": "code",
   "execution_count": 56,
   "id": "1216fda6-293d-4b63-a278-84237d5a16fd",
   "metadata": {},
   "outputs": [
    {
     "name": "stdin",
     "output_type": "stream",
     "text": [
      "Adja meg a nevét! Hollósi János\n",
      "Adja meg az életkorát 35\n"
     ]
    },
    {
     "name": "stdout",
     "output_type": "stream",
     "text": [
      "név: Hollósi János, életkor: 35\n"
     ]
    }
   ],
   "source": [
    "name = input(\"Adja meg a nevét!\")\n",
    "age = int(input(\"Adja meg az életkorát\"))\n",
    "\n",
    "print(f\"név: {name}, életkor: {age}\")"
   ]
  },
  {
   "cell_type": "markdown",
   "id": "dee0539a-0cb4-46dc-ab48-7fcb69cf5e66",
   "metadata": {},
   "source": [
    "A ```print``` függvényben most szöveget és két változót helyeztünk el. Ennél a módszernél a szöveget egy ```f``` karakterrel kezdjük, ami a \"format\" szóra utal. A teljes szöveget aposztróf vagy idézőjel pár közé írjuk, még a változókat is. Azzal jelezzük, hogy az adott helyen változóról van szó, hogy a változó nevét kapcsoszárójel párba írjuk. Ezeken a helyeken be fogja helyettesíteni az adott változó aktuális értékét. Látjuk azt is, hogy ennél az esetnél nem kell konvertálni az adatokat.\n",
    "\n",
    "Ezzel a módszerrel lehetőségünk van arra is, hogy számok (```int```, ```float```) esetén meghatározzuk, hogy az értékétől függetlenül hány tizedesjegy pontossággal szeretnénk megjeleníteni. Nézzünk erre egy példát!"
   ]
  },
  {
   "cell_type": "code",
   "execution_count": 57,
   "id": "2a911247-1600-49de-8ddc-fdd398515c01",
   "metadata": {},
   "outputs": [
    {
     "name": "stdout",
     "output_type": "stream",
     "text": [
      "A PI értéke: 3.14\n"
     ]
    }
   ],
   "source": [
    "PI = 3.14159265358979323846\n",
    "\n",
    "print(f\"A PI értéke: {PI:.2f}\")"
   ]
  },
  {
   "cell_type": "markdown",
   "id": "785fb4c1-ca79-4a04-a668-c7395a70a683",
   "metadata": {},
   "source": [
    "A fenti példában azt látjuk, hogy a kapcsoszárójel pár közé nem csak a változó nevét (```PI```) írtuk, hanem szerepel utána a következő kifejezés: ```:.2f```. A kettőspont után írt szövegrésszel definiálhatjuk a formázást a következők szerint.\n",
    "* A kettőspont és a pont közé írt szám megadja, hogy a teljes számot hány karakter hosszan jelenítse meg. Ez azt jelenti, hogy ha nagyobb értéket adunk meg, mint ahány karakterből áll a szám az adott formázás szerint, akkor kiegészítő szóközöket fog a szám elé rakni. Ha üresen hagyjuk (mint a fenti példában), akkor nem fog kiegészítő szóközöket megjeleníteni.\n",
    "* A pont után írt egész szám meghatározza, hogy a tizedes részt hány számjegy pontossággal jelenítse meg. Ezt muszáj megadni (a példában 2). Fontos, hogy ettől a változóban tárolt érték nem lesz pontatlanabb! Ez csupán a megjelenítést formázza.\n",
    "* A végén meghatározott jelölő karakterekkel jelezhetjük a formátumot. A példában itt ```f``` szerepel, ami a \"float\"-ra utal.\n",
    "\n",
    "Nézzünk még néhány példát a formázásra!\n",
    "\n",
    "Most 10 karakter hosszan jelenítsük meg a ```PI``` értékét és a tizedesek száma legyen 5. Ez azt fogja eredményezni, hogy az érték elé 3 darab szóköz kerül. Azért 3, mert 10 karakter hosszan jeleníti meg a számot. Ebből 5 karakter a tizedesek, 1 karakter a tizedespont, és további 1 karakter az egész rész. Ez összesen 7 karakter, tehát 3 karakter hiányzik a 10-hez."
   ]
  },
  {
   "cell_type": "code",
   "execution_count": 58,
   "id": "16f9fe67-f2c1-495b-af31-f91a6e90112a",
   "metadata": {},
   "outputs": [
    {
     "name": "stdout",
     "output_type": "stream",
     "text": [
      "   3.14159\n"
     ]
    }
   ],
   "source": [
    "print(f\"{PI:10.5f}\")"
   ]
  },
  {
   "cell_type": "markdown",
   "id": "700e4f85-4b96-4d45-aa39-332ea1ed6fbf",
   "metadata": {},
   "source": [
    "Ha a formázás végére ```f``` helyett ```e``` karkatert írunk, akkor exponenciális alakban fogja megjeleníteni az értéket:"
   ]
  },
  {
   "cell_type": "code",
   "execution_count": 59,
   "id": "45be81f7-241a-421b-9c55-caa8fda7fe3a",
   "metadata": {},
   "outputs": [
    {
     "name": "stdout",
     "output_type": "stream",
     "text": [
      "3.4e-04\n"
     ]
    }
   ],
   "source": [
    "x = 0.000345\n",
    "print(f\"{x:.1e}\")"
   ]
  },
  {
   "cell_type": "markdown",
   "id": "9270a8d1-5aeb-4328-8c08-05de5a460edc",
   "metadata": {},
   "source": [
    "Ezen a tárgyon általában csak az ```f``` jelölést fogjuk használni a számok formázása során. De ettől függetlenül jó, ha tudunk róla, hogy van számtalan más lehetőség. Erről [itt](https://www.w3schools.com/python/ref_string_format.asp) és [itt](https://docs.python.org/3/library/string.html#format-string-syntax) lehet bővebben olvasni."
   ]
  }
 ],
 "metadata": {
  "kernelspec": {
   "display_name": "Python 3 (ipykernel)",
   "language": "python",
   "name": "python3"
  },
  "language_info": {
   "codemirror_mode": {
    "name": "ipython",
    "version": 3
   },
   "file_extension": ".py",
   "mimetype": "text/x-python",
   "name": "python",
   "nbconvert_exporter": "python",
   "pygments_lexer": "ipython3",
   "version": "3.8.10"
  }
 },
 "nbformat": 4,
 "nbformat_minor": 5
}
