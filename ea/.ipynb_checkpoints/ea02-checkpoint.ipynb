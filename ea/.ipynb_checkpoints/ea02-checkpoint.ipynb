{
 "cells": [
  {
   "cell_type": "markdown",
   "id": "46b88afe-2377-4e8e-86fa-a7c4bf0dbaeb",
   "metadata": {},
   "source": [
    "# 2. előadás"
   ]
  },
  {
   "cell_type": "markdown",
   "id": "9ee22991-d981-4f90-8aa7-3c971a07c22b",
   "metadata": {},
   "source": [
    "## Felhasználói bemenet\n",
    "\n",
    "Az ```input()``` függvény segítségével lehetőségünk van arra, hogy szöveges bemenetet kérjünk a felhasználótól."
   ]
  },
  {
   "cell_type": "code",
   "execution_count": 1,
   "id": "e1544562-9cff-4307-8851-15c2cd13696f",
   "metadata": {},
   "outputs": [
    {
     "name": "stdout",
     "output_type": "stream",
     "text": [
      "Hogy hívnak?\n"
     ]
    },
    {
     "name": "stdin",
     "output_type": "stream",
     "text": [
      " János\n"
     ]
    },
    {
     "name": "stdout",
     "output_type": "stream",
     "text": [
      "Szia, János!\n"
     ]
    }
   ],
   "source": [
    "print(\"Hogy hívnak?\")\n",
    "name = input()\n",
    "print(\"Szia, \" + name + \"!\")"
   ]
  },
  {
   "cell_type": "markdown",
   "id": "a6d3d901-884d-4068-8f80-492fc0cfe987",
   "metadata": {},
   "source": [
    "Az ```input``` függvénynek most nincs paramétere, üres a zárójelpár. Ahol meghívásra kerül a függvény, ott a program futása várakozik, hogy a felhasználó tetszőleges szöveget adjon meg. A függvény úgynevezett visszatérési értéke lesz a szöveg, amit a felhasználó megadott.\n",
    "\n",
    "A függvények visszatérési értékét hasonló módon tudjuk elképzelni, mint a matimatikai függvényen számításának eredményét. Vegyük példának a szinusz függvényt. A szinusz függvény egy tetszőleges számnak a szinuszát meghatározza. A paramétere a szám, aminek a szinuszát szeretnénk meghatározni. A szinusz függvény visszatérési értéke a paraméterként kapott szám szinusza lesz.\n",
    "\n",
    "Az ```input``` függvény esetén nincs paraméter, nincs bemenet. A felhasználótól kér be adatot, majd ezt a ```string```-et fogjak eredményként adni. A fenti kódban ezt az eredményt rögtön el is tároljuk a ```name``` változóban.\n",
    "\n",
    "De csinálhatjuk például ezt is:"
   ]
  },
  {
   "cell_type": "code",
   "execution_count": 2,
   "id": "a3b163d2-ccde-4edd-88d7-d4cbd9d995c2",
   "metadata": {},
   "outputs": [
    {
     "name": "stdout",
     "output_type": "stream",
     "text": [
      "Hogy hívnak?\n"
     ]
    },
    {
     "name": "stdin",
     "output_type": "stream",
     "text": [
      " János\n"
     ]
    },
    {
     "name": "stdout",
     "output_type": "stream",
     "text": [
      "Szia, János!\n"
     ]
    }
   ],
   "source": [
    "print(\"Hogy hívnak?\")\n",
    "print(\"Szia, \" + input() + \"!\")"
   ]
  },
  {
   "cell_type": "markdown",
   "id": "3d2b09c1-f005-4d66-9b36-873ced060314",
   "metadata": {},
   "source": [
    "Ez a kód ugyanazt csinálja, mint az előző esetben. A különbség, hogy az ```input``` függvény visszatérési értékét nem tároltuk el változóban, hanem rögtön átadtuk a ```print``` függvénynek. A kimenet szempontjából nincs különbség. A kódunk rövidebb lett, ugyanakkor kevésbé átlátható. Ezért az ilyen módon történő felhasználása kevébé javasolt.\n",
    "\n",
    "Értelemszerű, hogy ha a felhasználótól szeretnénk bekérni adatot, akkor ezt megelőzően valamilyen tájékoztató szöveggel szeretnénk a felhasználót ellátni, hiszen tudnia kell, hogy milyen bemenetet várunk tőle. Az előző példánál látjuk, hogy megkérdeztük a felhasználó nevét, majd utána jött a bemenet kérése az ```input``` függvénnyel.\n",
    "\n",
    "Ezt a mechanizmust egyszerüsítendő az ```input``` függvényt tudjuk paraméterezni is. Méghozzá egy olyan szöveget tudunk neki paraméterül adni, amelyet a felhasználói bemenet bekérése előtt fog megjeleníteni. Ezzel gyakorlatilag kiváltva azt, hogy az ```input``` függvény hívása előtt egy plusz ```print``` utasítást helyezzünk el."
   ]
  },
  {
   "cell_type": "code",
   "execution_count": 3,
   "id": "c19e894a-9946-4430-abfe-7bdbcdfd5242",
   "metadata": {},
   "outputs": [
    {
     "name": "stdin",
     "output_type": "stream",
     "text": [
      "Hogy hívnak? János\n"
     ]
    },
    {
     "name": "stdout",
     "output_type": "stream",
     "text": [
      "Szia, János!\n"
     ]
    }
   ],
   "source": [
    "name = input(\"Hogy hívnak?\")\n",
    "print(\"Szia, \" + name + \"!\")"
   ]
  },
  {
   "cell_type": "markdown",
   "id": "567b5c68-cd04-4f8d-8681-1fd0bfec53ba",
   "metadata": {},
   "source": [
    "#### Feladat: téglalap kerület és terület számítás\n",
    "\n",
    "Az ```input``` függvénnyel már tudunk egyszerűbb programokat készíteni, amivel tetszőleges számítási feladatokat elvégezhetünk. Például készíthetünk egy egyszerű programot, ami megadott paraméterekkel rendelkező téglalap kerületét és területét kiszámítja. Itt ügyeljünk rá, hogy az ```input``` függvény mindenképp ```string```-et fog visszaadni. Akkor is, ha a felhasználó számot adott meg bemenetként. Ilyenkor szövegként tárolt számról van szó. Amiról tudjuk, hogy nem tudunk vele számítási műveleteket végezni. Viszont azt is tudjuk, hogy az ```int``` és ```float``` függvényekkel egész vagy valós számokká tudjuk őket alakítani. A példában az ```input``` függvény visszatérési értékét rögtön át is alakítjuk a ```float``` függvénnyel valós számmá. Az ```a``` és ```b``` változókban az értékek már számként szerepelnek, így a kerület és terület számításokat is végre tudjuk hajtani."
   ]
  },
  {
   "cell_type": "code",
   "execution_count": 4,
   "id": "f989b643-9e6f-4cd2-bf84-e93f157de740",
   "metadata": {},
   "outputs": [
    {
     "name": "stdin",
     "output_type": "stream",
     "text": [
      "Kérem adja meg a téglalap egyik oldalhosszát! 3\n",
      "Kérem adja meg a téglalap másik oldalhosszát! 5\n"
     ]
    },
    {
     "name": "stdout",
     "output_type": "stream",
     "text": [
      "A téglalap adatai:\n",
      "  A oldalhossz: 3.0\n",
      "  B oldalhossz: 5.0\n",
      "  Kerülete: 16.0\n",
      "  Területe: 15.0\n"
     ]
    }
   ],
   "source": [
    "# Téglalap kerület és terület számítás, felhasználói bemenettel.\n",
    "\n",
    "# A téglalap oldalhosszainak bekérése a felhasználótól.\n",
    "a = float(input(\"Kérem adja meg a téglalap egyik oldalhosszát!\"))\n",
    "b = float(input(\"Kérem adja meg a téglalap másik oldalhosszát!\"))\n",
    "\n",
    "perimeter = 2 * (a + b) # A téglalap kerülete.\n",
    "area = a * b # A téglalap területe.\n",
    "\n",
    "# A téglalap bekért és számított adatainak megjelenítése.\n",
    "print(\"A téglalap adatai:\")\n",
    "print(\"  A oldalhossz: \" + str(a))\n",
    "print(\"  B oldalhossz: \" + str(b))\n",
    "print(\"  Kerülete: \" + str(perimeter))\n",
    "print(\"  Területe: \" + str(area))\n"
   ]
  },
  {
   "cell_type": "code",
   "execution_count": null,
   "id": "b2fa13c2-f53a-4c3f-ad15-8f54fa39a156",
   "metadata": {},
   "outputs": [],
   "source": []
  }
 ],
 "metadata": {
  "kernelspec": {
   "display_name": "Python 3 (ipykernel)",
   "language": "python",
   "name": "python3"
  },
  "language_info": {
   "codemirror_mode": {
    "name": "ipython",
    "version": 3
   },
   "file_extension": ".py",
   "mimetype": "text/x-python",
   "name": "python",
   "nbconvert_exporter": "python",
   "pygments_lexer": "ipython3",
   "version": "3.8.10"
  }
 },
 "nbformat": 4,
 "nbformat_minor": 5
}
