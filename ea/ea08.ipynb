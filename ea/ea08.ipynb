{
 "cells": [
  {
   "cell_type": "markdown",
   "id": "a4bb637b-95bb-4748-8b2c-6dfdc3fbe23a",
   "metadata": {},
   "source": [
    "# 8. előadás\n",
    "\n",
    "## Tartalom\n",
    "* Az alulvonás (```_```) használata\n",
    "* Véletlenszámok generálása\n",
    "\n",
    "## Az alulvonás, mint változó\n",
    "\n",
    "Python nyelven a változók nevei az angol ábécé betűiből, számokból és alulvonásból (```_```) (angolul underscore) állhat. Ezen felül egy megkötés van csupán a változónévre: nem kezdődhet számmal. Ezek alapján azt mondhatjuk, hogy pusztán egy darab alulvonás elfogadható változónév. Teljesül, hogy számokon, betűkön és alulvonáson kívül mást nem tartalmaz, továbbá az is igaz, hogy nem számmal kezdődik. És ez így is van!"
   ]
  },
  {
   "cell_type": "code",
   "execution_count": 38,
   "id": "4693294f-89e1-4c52-a7f7-b3aa994d4657",
   "metadata": {},
   "outputs": [
    {
     "name": "stdout",
     "output_type": "stream",
     "text": [
      "42\n"
     ]
    }
   ],
   "source": [
    "_ = 42\n",
    "print(_)"
   ]
  },
  {
   "cell_type": "markdown",
   "id": "3ce63267-12b0-44a4-9bd2-b1174a7ac8f2",
   "metadata": {},
   "source": [
    "A fenti kód alapján látjuk, hogy ez valóban működik. Mindannak ellenére, hogy nagyon furán néz ki. Python programozási nyelven az alulvonás, mint változónév egy speciális változót takar, amit szabály szerint csak speciális esetekben alkalmazunk. De egyébként is tudjuk, hogy a változónév mindig beszédes legyen, a neve alapján derüljön ki, hogy az adott kontextusban milyen célt szolgálhat. Ilyen tekintetben pedig az alulvonás nem túl célszerű elnevezés, ezt könnyen beláthatjuk.\n",
    "\n",
    "Az alulvonást akkor használjuk változónévként, ha olyan értéket szeretnénk tárolni, amire nincs szükségünk. Ez elsőre furán hangzik, de van néhány szituáció, amikor ez nagyon hasznos. Nézzük meg ezeket!\n",
    "\n",
    "Találkoztunk már azzal, hogy egy ```tuple``` vagy egy ```list``` elemeit egy-egy változóba szeretnénk eltárolni a könnyebb feldolgozás érdekében. Ezt meg tudjuk tenni az alábbi módon:"
   ]
  },
  {
   "cell_type": "code",
   "execution_count": 39,
   "id": "6c5e472b-ceec-452f-b9bd-016011795eff",
   "metadata": {},
   "outputs": [
    {
     "name": "stdout",
     "output_type": "stream",
     "text": [
      "1 2 3 4 5\n"
     ]
    }
   ],
   "source": [
    "t = (1, 2, 3, 4, 5)\n",
    "a, b, c, d, e = t\n",
    "print(a, b, c, d, e)"
   ]
  },
  {
   "cell_type": "markdown",
   "id": "153d64b7-3f02-4505-8069-cf3903b0f000",
   "metadata": {},
   "source": [
    "A ```t``` változó egy 5 elemű ```tuple```-t tárol. Ezeket az értékeket rendre eltároljuk az ```a```, ```b```, ```c```, ```d``` és ```e``` változókba. Ilyet eddig tudtunk, nincs benne újdonság. Azonban, mi van akkor, ha nekünk nincs szükségünk a ```tuple``` összes elemére, csak mondjuk az első kettőre meg az utolsó előttire? Azaz, ha a fenti példát nézzük, akkor a ```c``` és az ```e``` változók tartalmát nem szeretnénk felhasználni, tegyük fel. Persze semmi nem kötelez minket arra, hogy felhasználjuk őket. De ezt a tényt nagyon szépen tudjuk jelezni, ha ilyen esetben az alulvonást használjuk változónévként. Ezzel ránézésre is látszik bárki számára, hogy azokkal az értékekkel biztosan nem fogunk számítást végezni. Ebben az esetben így járunk el:"
   ]
  },
  {
   "cell_type": "code",
   "execution_count": 40,
   "id": "e280f577-e9e1-47ca-ab99-cf1334f597a2",
   "metadata": {},
   "outputs": [
    {
     "name": "stdout",
     "output_type": "stream",
     "text": [
      "1 2 4\n"
     ]
    }
   ],
   "source": [
    "t = (1, 2, 3, 4, 5)\n",
    "a, b, _, d, _ = t\n",
    "print(a, b, d)"
   ]
  },
  {
   "cell_type": "markdown",
   "id": "edd56d13-ff8e-4dcf-9eb2-e0efa26ae682",
   "metadata": {},
   "source": [
    "A fenti kód ez alapján elég beszédes. Egyértelműen utal arra, hogy a ```t``` ```tuple```-ből a 2. és a 4. indexeken található elemeket nem fogjuk felhasználni az adott feladat, számítás során.\n",
    "\n",
    "Persze ettől az ```_``` változó még ugyanúgy funkcionál változóként. Ha például kiírjuk az értékét, akkor látjuk, hogy az ```5``` található benne, hiszen ezt az értéket (a ```t``` utolsó elemét) helyeztük el benne utoljára."
   ]
  },
  {
   "cell_type": "code",
   "execution_count": 41,
   "id": "0a7b6e55-413a-4c39-a88b-f4f103f0fe67",
   "metadata": {},
   "outputs": [
    {
     "name": "stdout",
     "output_type": "stream",
     "text": [
      "5\n"
     ]
    }
   ],
   "source": [
    "print(_)"
   ]
  },
  {
   "cell_type": "markdown",
   "id": "a1f6b99e-ba6a-4433-a84c-3b32ea177e24",
   "metadata": {},
   "source": [
    "Ugyanezen elven használhatjuk arra is, hogy ha egy függvénynek több visszatérési értéke van, de nekünk az adott helyzetben nincs szükségünk mindegyikre, akkor a feleslegeseket mindig az ```_``` nevű változóba tároljuk el.\n",
    "\n",
    "Nézzünk erre egy példát! Ehhez először készítsünk egy függvényt, amely bemenetként várja egy tetszőleges téglalap két különböző oldalhosszát (```w``` és ```l``` bemeneti változók). Ezek alapján határozzuk meg a téglalap\n",
    "* kerületét,\n",
    "* területét,\n",
    "* átlóját,\n",
    "* és annak tényét, hogy négyzet vagy sem.\n",
    "\n",
    "Ez a 4 tulajdonság, a fenti sorrendben legyen a visszatérési értéke a függvénynek."
   ]
  },
  {
   "cell_type": "code",
   "execution_count": 42,
   "id": "3a9caafc-3acd-4fbd-a1e4-983d6633c3f9",
   "metadata": {},
   "outputs": [
    {
     "name": "stdout",
     "output_type": "stream",
     "text": [
      "10, 6, 3.605551275463989, False\n",
      "48, 144, 16.97056274847714, True\n"
     ]
    }
   ],
   "source": [
    "def calcRectangleProperties(w, l):\n",
    "    perimeter = 2 * (w + l)\n",
    "    area = w * l\n",
    "    diagonal = (w**2 + l**2)**0.5\n",
    "    isSquare = w == l\n",
    "    return perimeter, area, diagonal, isSquare\n",
    "\n",
    "p, a, d, issq = calcRectangleProperties(2, 3)\n",
    "print(p, a, d, issq, sep=\", \")\n",
    "\n",
    "p, a, d, issq = calcRectangleProperties(12, 12)\n",
    "print(p, a, d, issq, sep=\", \")"
   ]
  },
  {
   "cell_type": "markdown",
   "id": "1f1bf223-4b82-4cd5-83f6-e7b19aacb44e",
   "metadata": {},
   "source": [
    "Tegyük fel, hogy számunkra most csak a téglalap területe az érdekes, a többi tulajdonságát most nem szeretnénk felhasználni. Nyilván megtehetjük azt, hogy a fenti kódban csak az ```a``` változóban található területet használjuk fel, és a ```p```, ```d``` valamint ```issq``` változókat nem használjuk fel sehol. Sokkal szemléletesebb és átláthatóbb a kód, ha ennek a tényét jelezzük azzal, hogy a számunkra éppen szükségtelen számítási eredményeket az ```_``` változóba helyezzük:"
   ]
  },
  {
   "cell_type": "code",
   "execution_count": 43,
   "id": "15584cc3-407d-4336-b615-02a489d73f9a",
   "metadata": {},
   "outputs": [
    {
     "name": "stdout",
     "output_type": "stream",
     "text": [
      "144\n"
     ]
    }
   ],
   "source": [
    "_, a, _, _ = calcRectangleProperties(12, 12)\n",
    "print(a)"
   ]
  },
  {
   "cell_type": "markdown",
   "id": "af9209c9-c7f0-4163-8071-ffeff17ed80c",
   "metadata": {},
   "source": [
    "Így ha valaki először látja a kódunkat, akkor is egyértelmű lesz számára, hogy az adott feladatban nekünk csak a területre volt szükségünk, a többi tulajdonság felhasználását ne is keressük a kód további részeiben."
   ]
  },
  {
   "cell_type": "markdown",
   "id": "52b83ef5-0fa1-461c-b6b5-ac95d2a1aae5",
   "metadata": {},
   "source": [
    "Egy másik nagyon gyakori esete az alulvonás, mint változónév alkalmazásának a ciklusok esetén jön elő. A ciklusokat sok esetben arra használjuk, hogy végig iteráljunk egy listán vagy egy rendezett n-esen, esetleg egy szótáron. Iterálás során pedig minden egyes elemen ugyanazt a műveletet szeretnénk végrehajtani. Egy másik gyakori esete a ciklusok használatának, amikor adott műveletet előre meghatározott mennyiségben végre szeretnénk hajtani. Mondjuk egy olyan programot akarunk írni, ami tetszőleges mennyiségű számot össze tud adni. Készítsük is ezt el és nézzük meg, hogy hol jöhet itt jól az alulvonás! Először kérjük be a felhasználótól, hogy hány darab számot szeretne összegezni, majd kérjük be tőle a számokat és írjuk ki az összegzés eredményét."
   ]
  },
  {
   "cell_type": "code",
   "execution_count": 44,
   "id": "81a20bf6-f2d5-4634-91b1-ae61cb33844a",
   "metadata": {},
   "outputs": [
    {
     "name": "stdin",
     "output_type": "stream",
     "text": [
      "Hány számot szeretne összegezni? 3\n",
      "Kérem a következő számot! 1\n",
      "Kérem a következő számot! 2\n",
      "Kérem a következő számot! 3\n"
     ]
    },
    {
     "name": "stdout",
     "output_type": "stream",
     "text": [
      "Az 3 darab szám szummája 6.0\n"
     ]
    }
   ],
   "source": [
    "n = int(input(\"Hány számot szeretne összegezni?\"))\n",
    "\n",
    "sum = 0\n",
    "\n",
    "for i in range(n):\n",
    "    sum += float(input(\"Kérem a következő számot!\"))\n",
    "\n",
    "print(f\"Az {n} darab szám szummája {sum}\")"
   ]
  },
  {
   "cell_type": "markdown",
   "id": "1c1c0164-2c66-44bf-9da9-626565a2ad3b",
   "metadata": {},
   "source": [
    "A fenti kódban a ```for``` ciklus ```n```-szer fog lefutni, ahol ```n``` értékét közvetlenül előtte a felhasználótól kérjük be. Az ```n``` darab futást egyszerűen kivitelezhetjük a ```range``` függvény segítségével, ezt már ismerjük. vegyük észre, hogy a ciklusváltozót (```i```) ebben a feladatban nem használtuk semmire, túl nagy jelentősége nincsen. Egyszerűen csak arra van szükségünk, hogy ```n```-szer értéket kérjünk a felhasználótól és azt mindig hozzáadjuk a ```sum``` változóhoz. Azaz itt megint van egy olyan értékünk amire nincs szükség, sehol nem használjuk fel. Ez az érték pedig a ciklusváltozó. Ha a ciklusváltozóra nincs szükségünk, akkor ennek a tényét szintén jelezhetjük azzal, ha a ciklusváltozó elnevezésére az alulvonást használjuk. A fenti feladatot ezzel a megközelítéssel így oldhatjuk meg:"
   ]
  },
  {
   "cell_type": "code",
   "execution_count": 45,
   "id": "fbeed833-b7fc-4844-9cb6-84c9c6805978",
   "metadata": {},
   "outputs": [
    {
     "name": "stdin",
     "output_type": "stream",
     "text": [
      "Hány számot szeretne összegezni? 3\n",
      "Kérem a következő számot! 1\n",
      "Kérem a következő számot! 2\n",
      "Kérem a következő számot! 3\n"
     ]
    },
    {
     "name": "stdout",
     "output_type": "stream",
     "text": [
      "Az 3 darab szám szummája 6.0\n"
     ]
    }
   ],
   "source": [
    "n = int(input(\"Hány számot szeretne összegezni?\"))\n",
    "\n",
    "sum = 0\n",
    "\n",
    "for _ in range(n):\n",
    "    sum += float(input(\"Kérem a következő számot!\"))\n",
    "\n",
    "print(f\"Az {n} darab szám szummája {sum}\")"
   ]
  },
  {
   "cell_type": "markdown",
   "id": "31eab900-aeba-4faf-8f04-06a8958c426b",
   "metadata": {},
   "source": [
    "Az egyetlen változás a kódban, hogy az ```i``` változó helyett ```_``` változó szerepel. A műküdés tekintetében semmilyen változás nem történt, pontosan ugyanazt csinálja a program. Viszont sokkal beszédesebb lett, mert ránézésre is látszik, hogy a ciklusváltozót nem fogjuk használni semmire, nincs neki kitüntetett szerepe.\n",
    "\n",
    "Találkoztunk már olyan esettel, amikor egy olyan ```list``` vagy ```tuple``` objektumon iteráltunk végig, melynek minden eleme egy-egy további azonos méretű ```list``` vagy ```tuple``` volt. Például a ```calcRectangleProperties``` függvényt felhasználva ```list comprehension``` módszerrel generáljunk egy listát, ami téglalapok tulajdonságait tartalmazza:"
   ]
  },
  {
   "cell_type": "code",
   "execution_count": 46,
   "id": "62568f20-ee07-4db2-9d70-138feabd8ac7",
   "metadata": {},
   "outputs": [],
   "source": [
    "rectangles = [calcRectangleProperties(i, i*2) for i in range(1, 20)]"
   ]
  },
  {
   "cell_type": "markdown",
   "id": "f3758ad1-d5df-4b4a-84de-e2ca8725ad78",
   "metadata": {},
   "source": [
    "Az így létrehozott ```rectangles``` nevű ```list```-et egy ```for``` ciklus segítségével könnyen be tudjuk járni:"
   ]
  },
  {
   "cell_type": "code",
   "execution_count": 47,
   "id": "8187c32e-e7bb-487c-90a1-b86b9154638d",
   "metadata": {},
   "outputs": [
    {
     "name": "stdout",
     "output_type": "stream",
     "text": [
      "6 2 2.23606797749979 False\n",
      "12 8 4.47213595499958 False\n",
      "18 18 6.708203932499369 False\n",
      "24 32 8.94427190999916 False\n",
      "30 50 11.180339887498949 False\n",
      "36 72 13.416407864998739 False\n",
      "42 98 15.652475842498529 False\n",
      "48 128 17.88854381999832 False\n",
      "54 162 20.12461179749811 False\n",
      "60 200 22.360679774997898 False\n",
      "66 242 24.596747752497688 False\n",
      "72 288 26.832815729997478 False\n",
      "78 338 29.068883707497267 False\n",
      "84 392 31.304951684997057 False\n",
      "90 450 33.54101966249684 False\n",
      "96 512 35.77708763999664 False\n",
      "102 578 38.01315561749642 False\n",
      "108 648 40.24922359499622 False\n",
      "114 722 42.485291572496 False\n"
     ]
    }
   ],
   "source": [
    "for p, a, d, issq in rectangles:\n",
    "    print(p, a, d, issq)"
   ]
  },
  {
   "cell_type": "markdown",
   "id": "6897cb52-b0db-4bb9-b7a3-f34e426f5cb0",
   "metadata": {},
   "source": [
    "Tegyük fel, hogy számunkra az iteráció során csak a téglalapok területére és kerületére, tehát az első két értékre van szükségünk. Az alávonás változó itt is jó szolgálatot tesz:"
   ]
  },
  {
   "cell_type": "code",
   "execution_count": 48,
   "id": "d507aff7-ab30-4f3f-86fc-fce826de745e",
   "metadata": {},
   "outputs": [
    {
     "name": "stdout",
     "output_type": "stream",
     "text": [
      "6 2\n",
      "12 8\n",
      "18 18\n",
      "24 32\n",
      "30 50\n",
      "36 72\n",
      "42 98\n",
      "48 128\n",
      "54 162\n",
      "60 200\n",
      "66 242\n",
      "72 288\n",
      "78 338\n",
      "84 392\n",
      "90 450\n",
      "96 512\n",
      "102 578\n",
      "108 648\n",
      "114 722\n"
     ]
    }
   ],
   "source": [
    "for p, a, _, _ in rectangles:\n",
    "    print(p, a)"
   ]
  },
  {
   "cell_type": "markdown",
   "id": "3365d8ca-cef9-4053-87c7-40c470549d0f",
   "metadata": {},
   "source": [
    "Az ```_``` változónév használatával egyértelműen jelezzük, hogy itt a feladatunk végrehajtása során nekünk csak az első két tulajdonságra, tehát a kerületre és a területre van szükségünk."
   ]
  },
  {
   "cell_type": "markdown",
   "id": "63c54c92-e981-4443-9b6f-1b22cde0c712",
   "metadata": {},
   "source": [
    "## Véletlenszám generálás\n",
    "\n",
    "Nagyon sok helyzetben szükségünk lehet arra, hogy véletlenszerű értékeket legyünk képesek generálni. Itt arra kell gondolni, hogy egy változónak olyan (jellemzően) szám értéket szeretnénk adni, amit előre nem ismerünk. Tesszük ezt valamilyen meghatározott intervallumban, meghatározott számok halmazán és meghatározott eloszlás mellett.\n",
    "\n",
    "Számtalan területen alkalmazzuk a véletlenszámokat. Ide tartoznak a játékok, ha például a klasszikus casino játékokra vagy a lottóra gondolunk. A számítógépes szimuláció területén véletlenszerű paraméterek generálásával és futtatásával vizsgálható az adott szimuláció minél változatosabb körülmények között. Szintén klasszikus példa a jelszó generálás, ahol valamilyen szabályrendszer szerint (pl. milyen jellegű karaktereket tartalmazzon) szeretnénk kellő erősségű jelszavakat előállítani. De ide tartozik a titkosítás is, ahol valamilyen üzenetből a titkosított és minél nehezebben visszafejthető jelsorozat előállításához véletlenszámok generálása elengedhetetlen.\n",
    "\n",
    "De nem csak a műszaki tudományok világában találkozunk véletlenszámokkal, az élet más területén is előfordul az alkalmazásuk, jelenlétük. Gondolhatunk akár a politikára, sportra, művészetre vagy a biológiára.\n",
    "\n",
    "A Python programozási nyelv beépítve tartalmaz lehetőséget véletlenszámok generálására. Ehhez a ```random``` modult kell importálnunk."
   ]
  },
  {
   "cell_type": "code",
   "execution_count": 49,
   "id": "3e0872cf-ee7a-4f8d-a1e9-2087cc645a11",
   "metadata": {},
   "outputs": [],
   "source": [
    "import random"
   ]
  },
  {
   "cell_type": "markdown",
   "id": "8cbaf970-20ba-4374-ab52-84f9e557f997",
   "metadata": {},
   "source": [
    "A ```random``` modul importálása után lehetőségünk van használni számtalan függvényt, amik segítségével különféle módon tudunk véletlenszerű értékeket generálni. Nézzük meg ezek közül a legfontosabbakat!\n",
    "\n",
    "* ```random.random```\n",
    "\n",
    "Segítségével $[0, 1[$ intervallumba tartozó véletlen valós értékeket tudunk generálni. Ez a leggyakoribb formája a véletlenszám generálásnak."
   ]
  },
  {
   "cell_type": "code",
   "execution_count": 50,
   "id": "9b1d60d0-e4bf-4a9a-86d9-826e676c46f6",
   "metadata": {},
   "outputs": [
    {
     "name": "stdout",
     "output_type": "stream",
     "text": [
      "0.05533141654743601\n"
     ]
    }
   ],
   "source": [
    "print(random.random())"
   ]
  },
  {
   "cell_type": "markdown",
   "id": "c65b8b02-19d2-4bad-bbb2-f43025b0563c",
   "metadata": {},
   "source": [
    "Látjuk, hogy a függvény visszatérési értéke valóban egy 0 és 1 közötti valós érték, amely minden futtatásra más-más értéket fog generálni. Egy ciklussal generáljunk több értéket, hogy ezzel is szemléltessük a generált véletlenszámokat:"
   ]
  },
  {
   "cell_type": "code",
   "execution_count": 51,
   "id": "2a41662a-d4ad-4e62-93c1-a27cafa96170",
   "metadata": {},
   "outputs": [
    {
     "name": "stdout",
     "output_type": "stream",
     "text": [
      "0.6224531610578652\n",
      "0.03981542044835351\n",
      "0.3580750311617643\n",
      "0.19157622695909005\n",
      "0.35439929711353657\n",
      "0.7022071477020242\n",
      "0.11283599539155953\n",
      "0.1221476365482127\n",
      "0.7272486158701741\n",
      "0.561342942856527\n"
     ]
    }
   ],
   "source": [
    "for _ in range(10):\n",
    "    print(random.random())"
   ]
  },
  {
   "cell_type": "markdown",
   "id": "cdb5c6bd-8be4-4bde-9d21-fd85439efbbf",
   "metadata": {},
   "source": [
    "* ```random.randint```\n",
    "\n",
    "Paraméterként megadott minimum és maximum érték közötti egész számot fog véletlenszerűen generálni. Az intervallum mindkét oldalról zárt, tehát a végértékek is beletartoznak a generálható számok halmazába."
   ]
  },
  {
   "cell_type": "code",
   "execution_count": 52,
   "id": "36004fbf-c207-4d6f-b54d-03d9c3e2fac1",
   "metadata": {},
   "outputs": [
    {
     "name": "stdout",
     "output_type": "stream",
     "text": [
      "5\n"
     ]
    }
   ],
   "source": [
    "print(random.randint(0, 10))"
   ]
  },
  {
   "cell_type": "markdown",
   "id": "74dc5e91-4041-4b98-9d74-688ff00bda00",
   "metadata": {},
   "source": [
    "Segítségével egyszerűen tudunk hagyományos hatoldalú dobókocka dobást szimulálni:"
   ]
  },
  {
   "cell_type": "code",
   "execution_count": 53,
   "id": "85d6394e-4c83-4518-ac9e-ea544e8ab4f7",
   "metadata": {},
   "outputs": [
    {
     "name": "stdout",
     "output_type": "stream",
     "text": [
      "1\n",
      "4\n",
      "4\n",
      "1\n",
      "6\n",
      "1\n",
      "4\n",
      "5\n",
      "6\n",
      "2\n"
     ]
    }
   ],
   "source": [
    "for _ in range(10):\n",
    "    print(random.randint(1, 6))"
   ]
  }
 ],
 "metadata": {
  "kernelspec": {
   "display_name": "Python 3 (ipykernel)",
   "language": "python",
   "name": "python3"
  },
  "language_info": {
   "codemirror_mode": {
    "name": "ipython",
    "version": 3
   },
   "file_extension": ".py",
   "mimetype": "text/x-python",
   "name": "python",
   "nbconvert_exporter": "python",
   "pygments_lexer": "ipython3",
   "version": "3.8.10"
  }
 },
 "nbformat": 4,
 "nbformat_minor": 5
}
