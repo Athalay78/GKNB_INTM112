{
 "cells": [
  {
   "cell_type": "markdown",
   "id": "7ce2638c-88f4-4bc9-869b-ba6f425786f0",
   "metadata": {},
   "source": [
    "# 9. előadás\n",
    "\n",
    "## Tartalom\n",
    "* Szöveges fájlok létrehozása, megnyitása, írása, olvasása\n",
    "\n",
    "Szöveges fájlokat megnyitni az ```open``` függvény segítségével tudunnk, függetlenül attól, hogy milyen műveletet szeretnénk végrehajtani:\n",
    "* új fájl létrehozása,\n",
    "* meglévő fájl felülírása,\n",
    "* meglévő fájlhoz hozzáfűzés,\n",
    "* vagy meglévő fájl olvasása.\n",
    "\n",
    "Az ```open``` függvénynek két paramétert szükséges megadnunk: az első a fájl neve, a második egy karakter, ami meghatározza, hogy milyen műveletet szeretnénk végrehajtani:\n",
    "* ```\"w\"```: Írásra megnyitjuk a fájlt. Ha már létezik, akkor a tartalma törlésre kerül. Ha még nem létezik, akkor új fájlt hoz létre.\n",
    "* ```\"a\"```: Meglévő fájlt nyitunk meg írásra a tartalma törlése nélkül. Ezt hozzáfűzésnek nevezzük. Ha a fájl nem létezik, akkor új fájlt hoz létre.\n",
    "* ```\"r\"```: Meglévő fájlt olvasásra nyitunk meg. Ha a fájl nem létezik, akkor hibát kapunk.\n",
    "\n",
    "Nézzünk ezekre példákat!\n",
    "\n",
    "## Fájl írása"
   ]
  },
  {
   "cell_type": "code",
   "execution_count": 1,
   "id": "b8dd7c34-e167-4445-ab56-48538bdd2296",
   "metadata": {},
   "outputs": [],
   "source": [
    "f = open(\"f0.txt\", \"w\")"
   ]
  },
  {
   "cell_type": "markdown",
   "id": "50f0f4f4-e2b5-4a4b-ae93-a8aaaae9311d",
   "metadata": {},
   "source": [
    "A fenti kódban megnyitottuk az ```f0.txt``` nevű fájlt írásra. Mivel ez még nem létezett, ezért létrehozásra került, tartalma teljesen üres.\n",
    "\n",
    "Ez után van lehetőségünk arra, hogy tartalommal töltsük fel."
   ]
  },
  {
   "cell_type": "code",
   "execution_count": 2,
   "id": "b7fe2191-745d-461e-8a24-ed3bc6d8eaae",
   "metadata": {},
   "outputs": [
    {
     "data": {
      "text/plain": [
       "6"
      ]
     },
     "execution_count": 2,
     "metadata": {},
     "output_type": "execute_result"
    }
   ],
   "source": [
    "f.write(\"Hello!\")"
   ]
  },
  {
   "cell_type": "markdown",
   "id": "6d202433-9786-42c7-a39b-b701c23a47b7",
   "metadata": {},
   "source": [
    "A ```write``` függvénnyel tetszőleges szöveget helyezhetünk el a fájlban. Mindig a végéhez fogja illeszteni az új szöveget, így többször is írhatunk a fájlba segítségével:"
   ]
  },
  {
   "cell_type": "code",
   "execution_count": 3,
   "id": "ca2f3bfc-90f2-46a1-ba57-3ffb0057e33e",
   "metadata": {},
   "outputs": [],
   "source": [
    "for i in range(10):\n",
    "    f.write(str(i))"
   ]
  },
  {
   "cell_type": "markdown",
   "id": "abf8704c-9550-4630-b994-ceee0d123189",
   "metadata": {},
   "source": [
    "Arra ügyelni kell, hogy csak ```str``` típust írhatunk a fájlba. Ha más jellegű adatunk van, akkor azt előbb szöveggé kell alakítani, mint azt fent is láthatjuk.\n",
    "\n",
    "Jelen pillanatban ez található az ```f0.txt``` fájlban:\n",
    "\n",
    "```Hello!0123456789```"
   ]
  },
  {
   "cell_type": "markdown",
   "id": "b5ebb84a-cdb8-4892-bb67-988b47fc4a6b",
   "metadata": {},
   "source": [
    "Látható, hogy a ```write``` függvény sosem fog új sort kezdeni. Ha szeretnénk mégis, akkor ezt sortörés karakterrel kell jeleznünk."
   ]
  },
  {
   "cell_type": "code",
   "execution_count": 4,
   "id": "9bb0d750-a419-4912-89bf-6d0b08a79e90",
   "metadata": {},
   "outputs": [
    {
     "data": {
      "text/plain": [
       "24"
      ]
     },
     "execution_count": 4,
     "metadata": {},
     "output_type": "execute_result"
    }
   ],
   "source": [
    "f.write(\"\\nEz most új sorban lesz.\")"
   ]
  },
  {
   "cell_type": "markdown",
   "id": "2bd51df8-6b68-4cc8-a4a4-bb04c58df2be",
   "metadata": {},
   "source": [
    "Így a fájl tartalma a következő:\n",
    "\n",
    "```Hello!0123456789```\n",
    "\n",
    "```Ez most új sorban lesz.```\n",
    "\n",
    "Nagyon fontos! Ha a fájl írásával végeztünk, akkor ezt jeleznünk kell a ```close``` függvény hívásával:"
   ]
  },
  {
   "cell_type": "code",
   "execution_count": 5,
   "id": "8189f242-164f-43b0-8d5d-7c78871f9fb0",
   "metadata": {},
   "outputs": [],
   "source": [
    "f.close()"
   ]
  },
  {
   "cell_type": "markdown",
   "id": "b04e0d62-12b1-4035-89fb-757ed1938528",
   "metadata": {},
   "source": [
    "Most nyissuk meg újra az ```f0.txt``` fájlt írásra (```\"w\"```) és egy ciklus segítségével írjuk be az egész számokat a $[0, 5[$ intervallumból:"
   ]
  },
  {
   "cell_type": "code",
   "execution_count": 6,
   "id": "a042f858-64ba-491d-ba21-56e3227ab8c5",
   "metadata": {},
   "outputs": [],
   "source": [
    "f = open(\"f0.txt\", \"w\")\n",
    "\n",
    "for i in range(5):\n",
    "    f.write(f\"{i}\\n\")\n",
    "\n",
    "f.close()"
   ]
  },
  {
   "cell_type": "markdown",
   "id": "799b862b-2aee-4198-938e-f554f3b574fb",
   "metadata": {},
   "source": [
    "A fájl tartalma most a következő lett:\n",
    "\n",
    "```0```\n",
    "\n",
    "```1```\n",
    "\n",
    "```2```\n",
    "\n",
    "```3```\n",
    "\n",
    "```4```\n",
    "\n",
    "\n",
    "Fontos, hogy a ```\"w\"``` paraméter miatt a korábban beleírt tartalom elveszett. Ha azt szeretnénk, hogy a korábbi tartalom ne vesszen el, hanem ahhoz szeretnénk további sorokat fűzni, akkor az ```\"a\"``` paraméterrel tehetjük ezt meg:"
   ]
  },
  {
   "cell_type": "code",
   "execution_count": 7,
   "id": "8c5b6b94-71ce-45be-9907-b5176ceda3f0",
   "metadata": {},
   "outputs": [],
   "source": [
    "f = open(\"f0.txt\", \"a\")\n",
    "\n",
    "numbers = (\"nulla\", \"egy\", \"kettő\", \"három\", \"négy\")\n",
    "\n",
    "for number in numbers:\n",
    "    f.write(number + \"\\n\")\n",
    "\n",
    "f.close()"
   ]
  },
  {
   "cell_type": "markdown",
   "id": "2a091e33-c3d6-4a63-98de-1ea11b1fb8db",
   "metadata": {},
   "source": [
    "Ennek hatására a fájl tartalma a következő lett:\n",
    "\n",
    "```0```\n",
    "\n",
    "```1```\n",
    "\n",
    "```2```\n",
    "\n",
    "```3```\n",
    "\n",
    "```4```\n",
    "\n",
    "```nulla```\n",
    "\n",
    "```egy```\n",
    "\n",
    "```kettő```\n",
    "\n",
    "```három```\n",
    "\n",
    "```négy```"
   ]
  },
  {
   "cell_type": "markdown",
   "id": "277d61fb-0721-43ae-a6ac-78bebffa5427",
   "metadata": {},
   "source": [
    "A ```write``` függvényel kívül a ```writelines``` függvény segítségével is tudunk fájlba írni. Bemenetként egy szövegeket tartalmazó listát vár és a lista elemeit fogja egymás után a fájlba írni."
   ]
  },
  {
   "cell_type": "code",
   "execution_count": 8,
   "id": "38f4768b-ea26-4f89-90ea-136b771d91eb",
   "metadata": {},
   "outputs": [],
   "source": [
    "f = open(\"f0.txt\", \"w\")\n",
    "\n",
    "numbers = (\"nulla\", \"egy\", \"kettő\", \"három\", \"négy\")\n",
    "\n",
    "f.writelines(numbers)\n",
    "\n",
    "f.close()"
   ]
  },
  {
   "cell_type": "markdown",
   "id": "e6748e32-7c6e-4217-bdd7-f87bee272d8f",
   "metadata": {},
   "source": [
    "Fontos, hogy itt sem fog automatikusan sortöréseket elhelyezni. Így a fájl tartalma a következő módon alakul:\n",
    "\n",
    "```nullaegykettőháromnégy```\n",
    "\n",
    "Ennél az esetnél csinálhatjuk például azt, hogy list comprehension módszerrel generálunk egy új listát, ahol minden elemhez hozzáfűzűnk még egy sortörést. Ezt rögtön át is adjuk bemenetként a ```writelines``` függvénynek."
   ]
  },
  {
   "cell_type": "code",
   "execution_count": 9,
   "id": "f8b84d47-089e-4ba1-a3f6-770d84066d95",
   "metadata": {},
   "outputs": [],
   "source": [
    "f = open(\"f0.txt\", \"w\")\n",
    "\n",
    "numbers = (\"nulla\", \"egy\", \"kettő\", \"három\", \"négy\")\n",
    "\n",
    "f.writelines([number + \"\\n\" for number in numbers])\n",
    "\n",
    "f.close()"
   ]
  },
  {
   "cell_type": "markdown",
   "id": "0e62d17b-97b5-4ca8-9fe2-1550e083fe0e",
   "metadata": {},
   "source": [
    "így már a következő tartalmat kapjuk:\n",
    "\n",
    "```nulla```\n",
    "\n",
    "```egy```\n",
    "\n",
    "```kettő```\n",
    "\n",
    "```három```\n",
    "\n",
    "```négy```"
   ]
  },
  {
   "cell_type": "markdown",
   "id": "86315bb4-0000-49df-811d-37b449d1a3e6",
   "metadata": {},
   "source": [
    "#### Feladat: Bevásárlólista\n",
    "\n",
    "Készítsünk egy programot, amivel bevásárlólistát tudunk generálni. A listán el szeretnénk tárolni a vásárlandó termékek nevét (```str```) és mennyiségét (```int```). A mértékegységtől most eltekintünk. A felhasználótól folyamatosan kérjük be előbb a következő termék nevét, majd annak a mennyiségét. Ezeket egy szótárba tároljuk el. A bekérést úgy lehessen megszakítani, ha a termék nevének ```0``` értéket ad meg. Ez után hozzunk létre egy ```MyShoppingList.txt``` nevű fájlt és ebbe mentsük el a lista tartalmát, soronként az egyes elemeket. Minden sor előbb a termék nevét tartalmazza, majd kettősponttal és szóközzel elválasztva a mennyiséget."
   ]
  },
  {
   "cell_type": "code",
   "execution_count": 10,
   "id": "ccabd14c-6189-4a99-b6da-ac96c1c9d620",
   "metadata": {},
   "outputs": [
    {
     "name": "stdin",
     "output_type": "stream",
     "text": [
      "Mit szeretne a listához adni? alma\n",
      "Mekkora mennyiséget szeretnél venni ebből: alma? 10\n",
      "Mit szeretne a listához adni? ásványvíz\n",
      "Mekkora mennyiséget szeretnél venni ebből: ásványvíz? 6\n",
      "Mit szeretne a listához adni? liszt\n",
      "Mekkora mennyiséget szeretnél venni ebből: liszt? 1\n",
      "Mit szeretne a listához adni? 0\n"
     ]
    }
   ],
   "source": [
    "# Bevásárlólista generálása és fájlba írása\n",
    "\n",
    "# A listát egy szótárban tároljuk el\n",
    "shopping_list = {}\n",
    "\n",
    "# Végtelen ciklussal folyamatosan kérjük be a felhasználótól a termék nevét és mennyiségét.\n",
    "# Kilépni akkor tudunk, ha terméknévnek 0-t ad meg.\n",
    "while True:\n",
    "    # Először kérjük a termék nevét, ami mindenképp szöveg.\n",
    "    item = str(input(\"Mit szeretne a listához adni?\"))\n",
    "    # Megnézzük, hogy ki kell e lépni.\n",
    "    # Ha igen, akkor a break utasítással zárjuk a ciklust.\n",
    "    if item == \"0\":\n",
    "        break\n",
    "    # Ha nem léptünk ki, akkor jöhet a kívánt termék mennyisége. Feltételezzük, hogy egész számot ad meg a felhasználó.\n",
    "    count = int(input(f\"Mekkora mennyiséget szeretnél venni ebből: {item}?\"))\n",
    "    # A megadott értékek alapján frissítjük a szótár tartalmát.\n",
    "    shopping_list[item] = count\n",
    "\n",
    "# Létrehozzuk a fájlt írásra. Ha korábban létezett, akkor az eddigi tartalma törlődik.\n",
    "f = open(\"MyShoppingList.txt\", \"w\")\n",
    "\n",
    "# Végig iterálunk a szótár kulcs-érték párjain.\n",
    "# Most a kulcs (item) a termék neve, és az érték (count) a vásárlandó mennyiség.\n",
    "for item, count in shopping_list.items():\n",
    "    # A kívánt módon a  fájlba írjuk. Ügyelünk rá, hogy a végén egy sortörést is elhelyezzünk.\n",
    "    f.write(f\"{item}: {count}\\n\")\n",
    "\n",
    "# Ha végeztünk a fájl írásával, akkor bezárjuk a fájlt.\n",
    "f.close()"
   ]
  },
  {
   "cell_type": "markdown",
   "id": "7b6d6407-6467-467e-b585-fc4047adcb6f",
   "metadata": {},
   "source": [
    "Ha mindent jól csináltunk, akkor a ```MyShoppingList.txt``` fájl tartalma a következő:\n",
    "\n",
    "```alma: 10```\n",
    "\n",
    "```ásványvíz: 6```\n",
    "\n",
    "```liszt: 1```\n",
    "\n",
    "## Fájl olvasása\n",
    "\n",
    "Létező fájl olvasása esetén az ```\"r\"``` paraméterrel jelezhetjük a szándékunkat. Nyissuk meg olvasásra a korábban létrehozott ```MyShoppingList.txt``` fájlt!"
   ]
  },
  {
   "cell_type": "code",
   "execution_count": 11,
   "id": "7d57979f-0d22-43de-a6f7-acfff58643b2",
   "metadata": {},
   "outputs": [],
   "source": [
    "f = open(\"MyShoppingList.txt\", \"r\")"
   ]
  },
  {
   "cell_type": "markdown",
   "id": "c189fa55-3cc5-49eb-a035-eae7ac42965e",
   "metadata": {},
   "source": [
    "A fájl teljes tartalmát a ```read``` függvény segítségével tudjuk kiolvasni. Visszatérési értéke egy ```str``` lesz, ami a fájlban található szöveget tartalmazza."
   ]
  },
  {
   "cell_type": "code",
   "execution_count": 12,
   "id": "95006754-395f-41bd-99d4-71c739d70950",
   "metadata": {},
   "outputs": [
    {
     "name": "stdout",
     "output_type": "stream",
     "text": [
      "alma: 10\n",
      "ásványvíz: 6\n",
      "liszt: 1\n",
      "\n"
     ]
    }
   ],
   "source": [
    "my_shopping_list = f.read()\n",
    "\n",
    "print(my_shopping_list)"
   ]
  },
  {
   "cell_type": "markdown",
   "id": "f9678de2-309b-4a13-9da0-6e8edc09f364",
   "metadata": {},
   "source": [
    "Fontos, hogy ezzel a függvénnyel csak egyszer tudjuk kiolvasni a teljes tartalmat. Következő hívásra egy üres szöveget kapunk."
   ]
  },
  {
   "cell_type": "code",
   "execution_count": 13,
   "id": "ab6cd02c-b4d7-4e45-a42d-c420874cf69e",
   "metadata": {},
   "outputs": [
    {
     "name": "stdout",
     "output_type": "stream",
     "text": [
      "\n",
      "0\n"
     ]
    }
   ],
   "source": [
    "my_shopping_list = f.read()\n",
    "\n",
    "print(my_shopping_list)\n",
    "print(len(my_shopping_list))"
   ]
  },
  {
   "cell_type": "markdown",
   "id": "6f2d0441-252e-4950-a2e1-f4652af15a06",
   "metadata": {},
   "source": [
    "Zárjuk le a fájlt, nyissuk meg újra és nézzünk meg egy másik módszert, ami általában jobban a hasznukra fog válni! A ```readlines``` függvény segítségével a teljes fájl tartalmát szintén be tudjuk olvasni. Azonban most egy listát fogunk visszatérésül kapni, amely eleme a fájl egyes sorait jelképezi. Általában ezzel sokkal könnyebb dolgozni. Jellemzően soronként szeretnénk valamilyen műveletet eszközölni egy fájl tartalmán, ezért eleve jó az számunkra, ha olyan szerkezetben kapjuk vissza a tartalmat, ahol elkülönülnek az egyes sorok."
   ]
  },
  {
   "cell_type": "code",
   "execution_count": 14,
   "id": "75fac789-f4ac-4c08-b340-0304e1d9644f",
   "metadata": {},
   "outputs": [
    {
     "name": "stdout",
     "output_type": "stream",
     "text": [
      "['alma: 10\\n', 'ásványvíz: 6\\n', 'liszt: 1\\n']\n",
      "alma: 10\n",
      "\n",
      "ásványvíz: 6\n",
      "\n",
      "liszt: 1\n",
      "\n"
     ]
    }
   ],
   "source": [
    "f.close()\n",
    "\n",
    "f = open(\"MyShoppingList.txt\", \"r\")\n",
    "\n",
    "lines = f.readlines()\n",
    "\n",
    "f.close()\n",
    "\n",
    "print(lines)\n",
    "\n",
    "for line in lines:\n",
    "    print(line)"
   ]
  },
  {
   "cell_type": "markdown",
   "id": "32f996be-39aa-488f-8719-aae32bddf0d4",
   "metadata": {},
   "source": [
    "Fontos, hogy a sorvégi sortöréseket tartalmazni fogja a visszakapott lista. Általában erre nincs szükségünk, de már ismerünk több módszert is amikkel könnyen megszabadulhatunk a sortörésektől.\n",
    "\n",
    "Csinálhatjuk azt, hogy a feldolgozás előtt egyszerű slicing művelettel megválunk tőle:"
   ]
  },
  {
   "cell_type": "code",
   "execution_count": 15,
   "id": "4a768549-e5e0-4d18-aaee-e0e31083e4de",
   "metadata": {},
   "outputs": [
    {
     "name": "stdout",
     "output_type": "stream",
     "text": [
      "alma: 10\n",
      "ásványvíz: 6\n",
      "liszt: 1\n"
     ]
    }
   ],
   "source": [
    "for line in lines:\n",
    "    print(line[:-1])"
   ]
  },
  {
   "cell_type": "markdown",
   "id": "211b3eca-d874-45a0-964f-6bb222648898",
   "metadata": {},
   "source": [
    "Hasonló módon ezt elérhetjük a ```replace``` függvény alkalmazásával is:"
   ]
  },
  {
   "cell_type": "code",
   "execution_count": 16,
   "id": "91816bc1-5a7f-498a-b538-b379c388f6d5",
   "metadata": {},
   "outputs": [
    {
     "name": "stdout",
     "output_type": "stream",
     "text": [
      "alma: 10\n",
      "ásványvíz: 6\n",
      "liszt: 1\n"
     ]
    }
   ],
   "source": [
    "for line in lines:\n",
    "    print(line.replace(\"\\n\", \"\"))"
   ]
  },
  {
   "cell_type": "markdown",
   "id": "5324a54f-e4c4-41ad-9860-94164af2d56a",
   "metadata": {},
   "source": [
    "De használhatunk comprehension-t is, így előbb megszabadulunk az összes sortöréstől, majd csak utána következik az egyes sorok feldolgozása:"
   ]
  },
  {
   "cell_type": "code",
   "execution_count": 17,
   "id": "d40c73fb-7797-4dd7-9b8b-d7d96099c8a9",
   "metadata": {},
   "outputs": [
    {
     "name": "stdout",
     "output_type": "stream",
     "text": [
      "alma: 10\n",
      "ásványvíz: 6\n",
      "liszt: 1\n"
     ]
    }
   ],
   "source": [
    "lines = [line[:-1] for line in lines]\n",
    "\n",
    "for line in lines:\n",
    "    print(line)"
   ]
  },
  {
   "cell_type": "markdown",
   "id": "7e93a9eb-f4cd-4102-9572-844b898e6674",
   "metadata": {},
   "source": [
    "#### Feladat: Bevásárlólista olvasása\n",
    "\n",
    "Készítsünk egy programot, ami a korábban létrehozott bevásárlólista fájlt vissza tudja olvasni és készít belőle egy szótárat ugyanolyan formában, mint ahogy azt a bevásárlólista felvitele során tettük."
   ]
  },
  {
   "cell_type": "code",
   "execution_count": 18,
   "id": "1bcb99aa-b3c5-4b95-a16e-f7d75d45eec2",
   "metadata": {},
   "outputs": [
    {
     "name": "stdout",
     "output_type": "stream",
     "text": [
      "Bevásárlólistám:\n",
      "alma 10\n",
      "ásványvíz 6\n",
      "liszt 1\n"
     ]
    }
   ],
   "source": [
    "# Megnyitjuk a fájlt olvasásra, majd beolvassuk a teljes tartalmát egy listába. Végül zárjuk a fájlt.\n",
    "f = open(\"MyShoppingList.txt\", \"r\")\n",
    "lines = f.readlines()\n",
    "f.close()\n",
    "\n",
    "# Kezdetben üres szótár. Ide fogjuk eltárolni a beolvasott adatokat.\n",
    "my_shopping_list = {}\n",
    "\n",
    "# Végig megyünk az egyes sorokon\n",
    "for line in lines:\n",
    "    # Az idx megadja, hogy hol kezdődik az elválasztó kettőspont és szóköz.\n",
    "    # Tudjuk, hogy eddig az indexig tart a vásárlandó termék megnevezése.\n",
    "    idx = line.index(\": \")\n",
    "    # Ez  alapján a termék nevét ki tudjuk nyerni slicing segítségével.\n",
    "    item = line[:idx]\n",
    "    # A darabszámot is könnyen elérjük ugyanezzel a technikával.\n",
    "    # Kezdő pozíciója az idx után van két karakterrel, mivel az idx-en kezdődik a \": \" rész-string.\n",
    "    # Az utolsó karakter a sortörés, erre nincs szükségünk. Ezért nem a végéig indexelünk.\n",
    "    count = line[idx+2:-1]\n",
    "    # Egésszé alakítjuk a kinyert adatot.\n",
    "    count = int(count)\n",
    "    # Felvesszük a szótárhoz az adott terméket és a mennyiséget.\n",
    "    my_shopping_list[item] = count\n",
    "\n",
    "print(\"Bevásárlólistám:\")\n",
    "for item, count in my_shopping_list.items():\n",
    "    print(item, count)    "
   ]
  },
  {
   "cell_type": "markdown",
   "id": "0ba36bbc-6659-4850-84e3-4827cf76978d",
   "metadata": {},
   "source": [
    "Vegyük észre, hogy ezt nagyon szépen meg lehet oldani dict comprehension segítségével is!"
   ]
  },
  {
   "cell_type": "code",
   "execution_count": 19,
   "id": "90f91c0a-89b6-4c15-b7e6-988e46eeb761",
   "metadata": {},
   "outputs": [
    {
     "name": "stdout",
     "output_type": "stream",
     "text": [
      "Bevásárlólistám:\n",
      "alma 10\n",
      "ásványvíz 6\n",
      "liszt 1\n"
     ]
    }
   ],
   "source": [
    "f = open(\"MyShoppingList.txt\", \"r\")\n",
    "lines = f.readlines()\n",
    "f.close()\n",
    "\n",
    "my_shopping_list = {line[:line.index(\":\")]:int(line[line.index(\":\")+2:-1]) for line in lines} \n",
    "\n",
    "print(\"Bevásárlólistám:\")\n",
    "for item, count in my_shopping_list.items():\n",
    "    print(item, count)"
   ]
  },
  {
   "cell_type": "markdown",
   "id": "21288716-5985-4e40-a9e3-c1d702dfe319",
   "metadata": {},
   "source": [
    "#### Feladat: Tarantino\n",
    "\n",
    "Olvassuk be az ```ea09``` mappából a ```tarantino.csv``` fájlt. A fájl egy [csv formátumú](https://en.wikipedia.org/wiki/Comma-separated_values) adatbázis, amely [Quentin Tarantino](https://hu.wikipedia.org/wiki/Quentin_Tarantino) néhány filmje esetén tartalmazza, hogy:\n",
    "* Az adott filmben mikor halt meg valaki, és\n",
    "* az adott filmben mikor és milyen káromkodás hangzott el.\n",
    "\n",
    "A fájl 4 tulajdonságot rögzít a következő sorrendben:\n",
    "* Film címe\n",
    "* Esemény típusa: \"word\" vagy \"death\"\n",
    "* Ha az esemény \"word\", akkor az elhangzott káromkodás. A tulajdonság \"death\" esemény esetén üres.\n",
    "* Az esemény idejét a filmben, percben kifejezve, valós értékként.\n",
    "\n",
    "\n",
    "A fájl első 10 sora a következő:\n",
    "\n",
    "```\n",
    "movie,type,word,minutes_in\n",
    "Reservoir Dogs,word,dick,0.40\n",
    "Reservoir Dogs,word,dicks,0.43\n",
    "Reservoir Dogs,word,fucked,0.55\n",
    "Reservoir Dogs,word,fucking,0.61\n",
    "Reservoir Dogs,word,bullshit,0.61\n",
    "Reservoir Dogs,word,fuck,0.66\n",
    "Reservoir Dogs,word,shit,0.90\n",
    "Reservoir Dogs,word,fuck,1.43\n",
    "Reservoir Dogs,word,dicks,1.56\n",
    "```\n",
    "\n",
    "Látjuk, hogy a fájl első sora a fejléc: \"movie\", \"type\", \"word\" és \"minutes_in\". Utána az egyes rekordok következnek. A tulajdonságokat elválasztó karakter mindenhol a vessző.\n",
    "\n",
    "Olvassuk be a fájlt, mint szöveges fájlt és a tartalmát tároljuk el egy listában. Így könnyen feldolgozhatóvá válik."
   ]
  },
  {
   "cell_type": "code",
   "execution_count": 20,
   "id": "65a11dc2-5f7d-4473-9eef-80219e3938d1",
   "metadata": {},
   "outputs": [],
   "source": [
    "# A fájl megnnyitása olvasásra.\n",
    "f = open(\"ea09/tarantino.csv\", \"r\")\n",
    "# Beolvassuk az összes sorát.\n",
    "lines = f.readlines()\n",
    "# Ez után nyugodtan zárhatjuk a fájlt, már nincs rá szükség, hiszen a teljes tartalma a lines listában megtalálható.\n",
    "f.close()"
   ]
  },
  {
   "cell_type": "markdown",
   "id": "53b9368d-f407-43b4-9467-2465f8948ac4",
   "metadata": {},
   "source": [
    "A ```lines``` lista önmagában még elég kaotikus. Nézzük meg az első 100 bejegyzését:"
   ]
  },
  {
   "cell_type": "code",
   "execution_count": 21,
   "id": "5627c044-9875-40c9-ac54-3937a1b41a1e",
   "metadata": {},
   "outputs": [
    {
     "name": "stdout",
     "output_type": "stream",
     "text": [
      "['movie,type,word,minutes_in\\n', 'Reservoir Dogs,word,dick,0.40\\n', 'Reservoir Dogs,word,dicks,0.43\\n', 'Reservoir Dogs,word,fucked,0.55\\n', 'Reservoir Dogs,word,fucking,0.61\\n', 'Reservoir Dogs,word,bullshit,0.61\\n', 'Reservoir Dogs,word,fuck,0.66\\n', 'Reservoir Dogs,word,shit,0.90\\n', 'Reservoir Dogs,word,fuck,1.43\\n', 'Reservoir Dogs,word,dicks,1.56\\n', 'Reservoir Dogs,word,fuck,1.66\\n', 'Reservoir Dogs,word,dick,1.75\\n', 'Reservoir Dogs,word,dick,1.75\\n', 'Reservoir Dogs,word,dick,1.75\\n', 'Reservoir Dogs,word,dick,1.75\\n', 'Reservoir Dogs,word,dick,1.75\\n', 'Reservoir Dogs,word,dick,1.75\\n', 'Reservoir Dogs,word,dick,1.75\\n', 'Reservoir Dogs,word,dicks,1.75\\n', 'Reservoir Dogs,word,motherfucker,1.83\\n', 'Reservoir Dogs,word,dick,1.96\\n', 'Reservoir Dogs,word,pussy,2.15\\n', 'Reservoir Dogs,word,fucks,2.18\\n', 'Reservoir Dogs,word,fuck,2.30\\n', 'Reservoir Dogs,word,fucking,2.45\\n', 'Reservoir Dogs,word,hell,2.48\\n', 'Reservoir Dogs,word,fucking,2.51\\n', 'Reservoir Dogs,word,fucking,2.81\\n', 'Reservoir Dogs,word,dick,2.86\\n', 'Reservoir Dogs,word,jap,2.93\\n', 'Reservoir Dogs,word,fuck,3.05\\n', 'Reservoir Dogs,word,shit,3.20\\n', 'Reservoir Dogs,word,fucking,3.40\\n', 'Reservoir Dogs,word,fucking,3.55\\n', 'Reservoir Dogs,word,fucking,3.70\\n', 'Reservoir Dogs,word,motherfucker,3.93\\n', 'Reservoir Dogs,word,motherfucker,3.98\\n', 'Reservoir Dogs,word,shit,4.35\\n', 'Reservoir Dogs,word,shit,4.76\\n', 'Reservoir Dogs,word,fucking,4.86\\n', 'Reservoir Dogs,word,dick,5.25\\n', 'Reservoir Dogs,word,fucking,5.41\\n', 'Reservoir Dogs,word,fucking,5.51\\n', 'Reservoir Dogs,word,fucking,5.55\\n', 'Reservoir Dogs,word,fucking,5.61\\n', 'Reservoir Dogs,word,bullshit,6.23\\n', 'Reservoir Dogs,word,fuck,6.46\\n', 'Reservoir Dogs,word,fucked,6.58\\n', 'Reservoir Dogs,word,fucks,6.66\\n', 'Reservoir Dogs,word,bullshit,6.81\\n', 'Reservoir Dogs,word,fucking,6.86\\n', 'Reservoir Dogs,word,fucking,6.73\\n', 'Reservoir Dogs,word,bastard,7.38\\n', 'Reservoir Dogs,word,goddamn,7.41\\n', 'Reservoir Dogs,word,goddamn,7.58\\n', 'Reservoir Dogs,word,shit,9.63\\n', 'Reservoir Dogs,word,fucking,9.96\\n', 'Reservoir Dogs,word,shit,10.01\\n', 'Reservoir Dogs,word,fucking,10.08\\n', 'Reservoir Dogs,word,shit,10.26\\n', 'Reservoir Dogs,word,goddamn,11.13\\n', 'Reservoir Dogs,word,fucking,11.13\\n', 'Reservoir Dogs,word,fucking,11.85\\n', 'Reservoir Dogs,word,fucking,12.06\\n', 'Reservoir Dogs,word,fucking,12.08\\n', 'Reservoir Dogs,word,fucking,12.43\\n', 'Reservoir Dogs,word,fucking,12.45\\n', 'Reservoir Dogs,word,fucking,12.90\\n', 'Reservoir Dogs,word,fucking,13.73\\n', 'Reservoir Dogs,word,fuck,14.38\\n', 'Reservoir Dogs,word,fucking,14.66\\n', 'Reservoir Dogs,word,fucking,14.95\\n', 'Reservoir Dogs,word,fucking,15.38\\n', 'Reservoir Dogs,word,fucking,15.41\\n', 'Reservoir Dogs,word,shit,15.45\\n', 'Reservoir Dogs,word,fuck,15.51\\n', 'Reservoir Dogs,word,fuck,15.65\\n', 'Reservoir Dogs,word,fucking,15.75\\n', 'Reservoir Dogs,word,fucked,15.86\\n', 'Reservoir Dogs,word,fucked,15.88\\n', 'Reservoir Dogs,word,fucked,15.93\\n', 'Reservoir Dogs,word,fuck,16.45\\n', 'Reservoir Dogs,word,motherfuckers,16.60\\n', 'Reservoir Dogs,word,fucking,16.65\\n', 'Reservoir Dogs,word,fuck,16.75\\n', 'Reservoir Dogs,word,fucking,16.86\\n', 'Reservoir Dogs,word,fucking,17.56\\n', 'Reservoir Dogs,word,fuck,17.63\\n', 'Reservoir Dogs,word,fucking,17.75\\n', 'Reservoir Dogs,word,fucking,17.95\\n', 'Reservoir Dogs,word,fucking,18.00\\n', 'Reservoir Dogs,word,shit,20.13\\n', 'Reservoir Dogs,word,fucking,20.16\\n', 'Reservoir Dogs,word,fuck,20.68\\n', 'Reservoir Dogs,word,fuck,20.73\\n', 'Reservoir Dogs,word,fuck,20.93\\n', 'Reservoir Dogs,word,fucking,20.96\\n', 'Reservoir Dogs,word,asshole,20.98\\n', 'Reservoir Dogs,word,fuck,21.00\\n', 'Reservoir Dogs,word,fucking,21.01\\n']\n"
     ]
    }
   ],
   "source": [
    "print(lines[:100])"
   ]
  },
  {
   "cell_type": "markdown",
   "id": "ffffa115-c4c6-405a-b95a-4ca4d3766ab9",
   "metadata": {},
   "source": [
    "Most a ```lines``` lista minden eleme egy ```str``` szöveg, ami egy-egy sora a ```tarantino.csv``` fájlnak."
   ]
  },
  {
   "cell_type": "code",
   "execution_count": 22,
   "id": "85a44f18-ba43-4603-bff8-aae1ed13c09e",
   "metadata": {},
   "outputs": [
    {
     "name": "stdout",
     "output_type": "stream",
     "text": [
      "movie,type,word,minutes_in\n",
      "\n",
      "Reservoir Dogs,word,fucking,26.26\n",
      "\n"
     ]
    }
   ],
   "source": [
    "print(lines[0]) # A lista első sora a fejlécet tartalmazza.\n",
    "print(lines[123]) # A 123. sorban található bejegyzés."
   ]
  },
  {
   "cell_type": "markdown",
   "id": "0559aa97-8e85-451d-b5c8-7d74906752ba",
   "metadata": {},
   "source": [
    "Alakítsuk át a ```lines``` listát úgy, hogy minden eleme egy 4 elemú lista legyen, amely a korábban részletezett 4 tulajdonságot tárolják. Ügyeljünk rá, hogy az első sor (tehát a 0. indexen lévő elem) a fejléc. Ez utóbbit ne tároljuk el."
   ]
  },
  {
   "cell_type": "code",
   "execution_count": 23,
   "id": "e004a5c2-9b2c-4c3f-b1e4-a9191e5da7e7",
   "metadata": {},
   "outputs": [],
   "source": [
    "lines = [line[:-1].split(\",\") for line in lines[1:]]"
   ]
  },
  {
   "cell_type": "markdown",
   "id": "eab8d5be-483d-4164-bfab-b87ed59da682",
   "metadata": {},
   "source": [
    "Nézzük végig, hogy mi történt a fenti comprehension-ben! A ```for``` ciklus segítségével a ```lines[1:]``` listán iteráltunk végig. Azért ezen és nem a ```lines``` listán, mert annak első sorára nincs szükségünk, az a fejléc. Ezért a slicing művelettel az első sort kihagytuk a listából. Minden lépésben az ```line``` változóba kerül az aktuális sor. Ennek az utolsó karakterére nincs szükségünk, mivel az a sortörés karaktert tartalmazza. Ezért a ```line[:-1]``` szövegrésszel operálunk, szintén a slicing művelet segítségével. Az így kapott szöveget a ```split``` függvény segítségével daraboljuk listává a vessző karakterek mentén. Ez a lista fog minden iterációban belekerülni a comprehension által generált listába, amit el is tárolunk az  eredeti lista helyén (azt felülírva) a ```lines``` változóban.\n",
    "\n",
    "Nézzük meg most a ```lines``` néhány sorát:"
   ]
  },
  {
   "cell_type": "code",
   "execution_count": 24,
   "id": "d72ae2b8-a2b6-4a0d-9e2f-51318f0543ff",
   "metadata": {},
   "outputs": [
    {
     "name": "stdout",
     "output_type": "stream",
     "text": [
      "['Reservoir Dogs', 'word', 'dick', '0.40']\n",
      "['Reservoir Dogs', 'word', 'dicks', '0.43']\n",
      "['Reservoir Dogs', 'word', 'fucked', '0.55']\n",
      "['Reservoir Dogs', 'word', 'fucking', '0.61']\n",
      "['Reservoir Dogs', 'word', 'bullshit', '0.61']\n",
      "['Reservoir Dogs', 'word', 'fuck', '0.66']\n",
      "['Reservoir Dogs', 'word', 'shit', '0.90']\n",
      "['Reservoir Dogs', 'word', 'fuck', '1.43']\n",
      "['Reservoir Dogs', 'word', 'dicks', '1.56']\n",
      "['Reservoir Dogs', 'word', 'fuck', '1.66']\n"
     ]
    }
   ],
   "source": [
    "for line in lines[:10]:\n",
    "    print(line)"
   ]
  },
  {
   "cell_type": "markdown",
   "id": "b266581d-b62e-4a80-afdf-cc0e918d3d13",
   "metadata": {},
   "source": [
    "Látjuk, hogy ez így már sokkal jobban kezelhető. Így már tudunk különféle műveleteket, számításokat végrehajtani a csv fájl tartalmán.\n",
    "\n",
    "Gyűjtsük ki az összes egyedi káromkodást a filmekből. Azaz minden káromkodás csak egyszer szerepeljen a gyűjteményben. Erre jó megoldás, ha halmazt alkalmazunk, hiszen ez az adatszerkezet garantálja, hogy minden elem csak egyszer szerepelhet."
   ]
  },
  {
   "cell_type": "code",
   "execution_count": 25,
   "id": "b4830e31-95ad-485f-9f47-ba0b050989bf",
   "metadata": {},
   "outputs": [
    {
     "name": "stdout",
     "output_type": "stream",
     "text": [
      "{'', 'assholes', 'dicks', 'hell', 'horseshit', 'chickenshit', 'cunts', 'horeshit', 'jackass', 'motherfucking', 'merde', 'shittiest', 'fuckup', 'gook', 'fuckface', 'motherfuckers', 'shitty', 'cunt', 'asshole', 'asshead', 'negro ', 'faggot', 'bastards', 'slope', 'gooks', 'dick', 'goddamned', 'cockblockery', 'shithead', 'fucker', 'damn', 'fucking', 'jew (verb)', 'fucks', 'pussy', 'shit', 'goddamn', 'cocksucker', 'dickless', 'wetback', 'bitch', 'fuckhead', 'bastard', 'japs', 'shitting', 'slut', 'damned', 'shitload', 'ass', 'motherfucker', 'jap', 'bullshit', 'asses', 'bitches', 'shitless', 'fuckers', 'fuck', 'dumbass', 'n-word ', 'fucked', 'squaw'}\n"
     ]
    }
   ],
   "source": [
    "# A words halmazba gyűjtjük a káromkodásokat.\n",
    "words = set()\n",
    "\n",
    "# Ciklussal végig megyünk az egyes sorokon.\n",
    "for line in lines:\n",
    "    # A káromkodás a harmadik tulajdonság (2. indexű), ezeket adjuk hozzá a words halmazhoz.\n",
    "    words.add(line[2])\n",
    "\n",
    "# Írjuk a kimenetre a halmaz tartalmát.\n",
    "print(words)"
   ]
  },
  {
   "cell_type": "markdown",
   "id": "1c36563e-8e71-4644-8ad1-28af49f48270",
   "metadata": {},
   "source": [
    "Látjuk, hogy ez így nem az  igazi. Az első eleme egy üres string. Ez azért van, mert az adatbázisunk nem csak káromkodásokat, de haláleseteket is tartalmaz. Haláleset esetén a \"word\" oszlopban az érték üres szöveg. Ezek miatt van egy üres szöveg a káromkodások listán. Generáljuk újra, de most kicsit okosabban:"
   ]
  },
  {
   "cell_type": "code",
   "execution_count": 26,
   "id": "427bdcc6-d275-4934-b4a7-b635e365ee4a",
   "metadata": {},
   "outputs": [
    {
     "name": "stdout",
     "output_type": "stream",
     "text": [
      "{'assholes', 'dicks', 'hell', 'horseshit', 'chickenshit', 'cunts', 'horeshit', 'jackass', 'motherfucking', 'merde', 'shittiest', 'fuckup', 'gook', 'fuckface', 'motherfuckers', 'shitty', 'cunt', 'asshole', 'asshead', 'negro ', 'faggot', 'bastards', 'slope', 'gooks', 'dick', 'goddamned', 'cockblockery', 'shithead', 'fucker', 'damn', 'fucking', 'jew (verb)', 'fucks', 'pussy', 'shit', 'goddamn', 'cocksucker', 'dickless', 'wetback', 'bitch', 'fuckhead', 'bastard', 'japs', 'shitting', 'slut', 'damned', 'shitload', 'ass', 'motherfucker', 'jap', 'bullshit', 'asses', 'bitches', 'shitless', 'fuckers', 'fuck', 'dumbass', 'n-word ', 'fucked', 'squaw'}\n"
     ]
    }
   ],
   "source": [
    "# A words halmazba gyűjtjük a káromkodásokat.\n",
    "words = set()\n",
    "\n",
    "# Ciklussal végig megyünk az egyes sorokon.\n",
    "for line in lines:\n",
    "    # Csak akkor adjuk  a halmazhoz az értéket, ha az adott sor eseménye káromkodás.\n",
    "    if line[1] == \"word\":\n",
    "        # A káromkodás a harmadik tulajdonság (2. indexű), ezeket adjuk hozzá a words halmazhoz.\n",
    "        words.add(line[2])\n",
    "\n",
    "# Írjuk a kimenetre a halmaz tartalmát.\n",
    "print(words)"
   ]
  },
  {
   "cell_type": "code",
   "execution_count": 27,
   "id": "b6f4cef5-7d04-455f-a645-afc9eef9ec87",
   "metadata": {},
   "outputs": [
    {
     "name": "stdout",
     "output_type": "stream",
     "text": [
      "Reservoir Dogs: 421\n",
      "Pulp Fiction: 469\n",
      "Kill Bill: Vol. 1: 57\n",
      "Kill Bill: Vol. 2: 69\n",
      "Inglorious Basterds: 58\n",
      "Django Unchained: 262\n",
      "Jackie Brown: 368\n"
     ]
    }
   ],
   "source": [
    "words_in_movie = {}\n",
    "\n",
    "for line in lines:\n",
    "    if line[1] == \"word\":\n",
    "        if line[0] in words_in_movie:\n",
    "            words_in_movie[line[0]] += 1\n",
    "        else:\n",
    "            words_in_movie[line[0]] = 1\n",
    "\n",
    "for title, count in words_in_movie.items():\n",
    "    print(f\"{title}: {count}\")"
   ]
  },
  {
   "cell_type": "markdown",
   "id": "78f4afc4-a8bf-4cdb-a7c6-aaed7bf115c7",
   "metadata": {},
   "source": [
    "Az eredmények alapján látjuk, hogy a legtöbb káromkodás a Ponyvaregény c. filmben hangzik el.\n",
    "\n",
    "Nézzük meg, hogy mi a legnagyobb szünet két káromkodás között a Ponyvaregény esetén! Ehhez először gyűjtsük egy listába a káromkodások időpontjait:"
   ]
  },
  {
   "cell_type": "code",
   "execution_count": 28,
   "id": "f4741b87-0712-4e5e-a282-fd60cc09c984",
   "metadata": {},
   "outputs": [
    {
     "name": "stdout",
     "output_type": "stream",
     "text": [
      "0.52 0.82 1.37 1.62 1.73 1.77 2.18 2.22 2.28 2.28 2.42 2.45 2.47 2.53 2.6 3.52 3.58 3.67 3.7 4.68 4.75 7.7 7.87 8.25 8.67 8.72 8.72 9.1 10.08 10.17 10.4 10.73 10.75 10.85 10.98 11.52 11.55 11.6 11.6 11.63 11.68 11.83 11.88 11.92 12.03 12.07 12.2 12.27 12.88 12.9 12.92 12.93 12.95 12.97 12.98 13.0 13.23 13.33 13.38 13.43 13.47 16.78 17.4 17.45 18.38 18.4 18.62 19.33 19.57 19.58 19.7 19.82 19.85 19.85 19.95 20.0 21.32 21.42 21.82 21.88 22.03 22.08 22.1 23.07 23.47 23.52 23.7 24.07 24.23 24.4 24.45 24.45 25.08 25.12 25.17 25.28 25.33 25.37 25.42 25.88 25.92 27.75 27.78 27.88 27.98 27.98 28.03 28.08 28.1 28.22 28.3 28.98 29.43 29.47 29.52 29.63 29.65 29.67 29.68 29.82 29.88 29.92 29.92 29.97 34.25 37.02 37.03 41.05 41.05 41.12 41.9 42.1 42.98 43.0 43.03 54.58 54.63 54.67 54.68 54.97 55.0 55.48 55.75 55.83 55.83 55.93 55.93 56.1 56.22 56.28 56.32 56.38 56.45 56.53 56.55 56.55 56.92 56.98 57.02 57.03 57.05 57.12 57.12 57.17 57.18 57.25 57.38 57.45 57.57 57.62 57.63 57.82 57.85 57.85 57.87 57.88 57.9 57.98 58.15 58.48 58.87 58.88 59.05 59.27 59.32 59.65 59.97 60.15 60.93 64.47 67.33 67.5 67.5 67.6 67.67 67.78 70.3 70.38 70.4 70.5 70.55 70.6 72.98 73.78 73.92 74.02 74.12 74.45 74.72 77.47 80.7 82.75 84.95 84.95 85.28 85.42 85.58 85.65 85.78 86.03 86.03 86.05 86.07 86.1 86.15 86.15 86.8 88.03 88.05 88.07 94.7 95.35 96.08 96.2 96.32 96.33 96.45 96.5 96.78 100.53 102.35 102.38 102.63 102.67 103.35 103.93 104.88 104.95 106.4 106.62 107.08 107.33 107.37 108.22 108.73 109.97 110.0 110.7 111.15 111.73 111.78 112.87 112.87 112.88 112.95 112.97 112.98 113.08 113.13 113.65 113.75 113.93 114.03 114.43 114.52 114.53 114.57 114.6 114.63 114.75 114.85 115.08 115.12 115.53 115.55 115.63 115.68 115.72 115.87 115.88 116.1 116.12 116.17 116.23 116.23 116.33 116.38 116.42 116.5 116.55 116.57 116.67 116.7 116.83 116.85 117.02 117.02 117.13 117.18 117.52 117.53 117.6 117.63 117.65 117.65 117.67 117.78 117.87 117.9 117.98 118.4 118.45 118.58 118.68 118.77 118.92 119.07 119.12 119.17 119.3 119.32 119.37 119.4 119.52 119.57 119.72 119.77 120.12 120.18 120.18 120.25 120.25 120.27 120.27 120.3 120.3 120.55 120.55 120.83 121.03 121.07 121.12 121.13 121.27 121.32 121.45 121.47 123.85 125.57 126.0 128.0 128.0 128.03 128.03 128.17 128.18 128.2 128.22 128.27 128.35 128.4 128.43 128.53 128.53 128.67 128.68 128.73 128.78 129.12 129.52 129.33 129.5 129.83 130.08 130.1 130.22 130.22 130.25 130.3 130.9 131.5 131.57 131.85 133.48 133.55 133.63 134.0 134.05 134.55 134.85 135.35 135.38 135.47 135.48 135.77 135.93 136.6 136.8 137.05 137.22 137.57 137.93 138.0 138.1 138.22 138.23 138.28 138.3 138.33 138.37 138.43 138.48 138.65 138.68 138.87 139.0 139.23 139.53 139.6 139.75 139.85 139.97 140.05 140.72 141.05 141.15 141.18 141.43 142.23 142.37 142.4 142.42 142.45 142.45 142.5 142.5 143.77 143.8 144.25 144.27 144.3 144.48 144.53 144.82 145.38 145.68 146.23 146.3 146.32 146.35 146.67 147.43 147.48 147.58 147.6 147.62 147.65 147.9 148.15 "
     ]
    }
   ],
   "source": [
    "times = [float(line[-1]) for line in lines if line[0] ==  \"Pulp Fiction\" and line[1] == \"word\"]\n",
    "\n",
    "for t in times:\n",
    "    print(t, end=\" \")"
   ]
  },
  {
   "cell_type": "markdown",
   "id": "3dc9279f-422b-4017-a1f0-2935d2db61d3",
   "metadata": {},
   "source": [
    "A fenti comprehension a következők végzi. A ```lines``` elemein iterál végig. Minden iterációban a ```line``` tartalmazza a következő rekordot az adatbázisból. Nekünk csak azok a sorok érdekesek, ahol a film címe a \"Pulp Fiction\" és az esemény típusa \"word\". Ezt szűrőfeltételt állítjuk be a comprehension utolsó szakaszában. Az ennek a feltételnek eleget tevő ```line```-oknak nézzük az utolsó elemét, hiszen ez tartalmazza az időpontot, amikor a káromkodás elhangzott. Ezt a ```float``` függvénnyel valós számmá alakítjuk, mivel számolni fogunk  az itt található perc értékekkel. Végeredményben a ```times``` lista ```float``` értékeket fog tartalmazni, ahol minden érték egy percet jelent a Ponyvaregényből, ahol egy káromkodás elhangzott.\n",
    "\n",
    "Ahhoz, hogy megkapjuk, hogy hol van a legnagyobb szünet két egymás utáni káromkodás között, a következőkre van szükségünk:\n",
    "* Muszáj, hogy a lista növekvő sorrendben rendezett legyen. Ez egyébként eleve így van, mert az adatbázis időpont szerint rendezve tartalmazza az értékeket. De ha nem így lenne, akkor a ```sort``` segítségével ezt könnyen megtehetjük.\n",
    "* Végig kell menni a listán és minden két szomszédos elem esetén nézni kell a különbségüket. Azaz, hogy mennyi idő telt el a kettő között. Ezekből az időkből kell nekünk a legnagyobb."
   ]
  },
  {
   "cell_type": "code",
   "execution_count": 29,
   "id": "006805c1-6807-45c3-a1f2-127639cdf877",
   "metadata": {},
   "outputs": [
    {
     "name": "stdout",
     "output_type": "stream",
     "text": [
      "Legnagyobb szünet két káromkodás között: 11.55 perc\n",
      "Ez a film [43.03, 54.58] perc intervallumában található.\n"
     ]
    }
   ],
   "source": [
    "# Most nincs szükség rendezésre, mert az adatbázis eleve idő szerint rendezetten tartalmazza a rekordokat.\n",
    "# De ha nem így lenne, akkor a sort függvénnyel ezt könnyen megtehetnénk.\n",
    "#times.sort()\n",
    "\n",
    "# A max_len tárolja mindig az eddigi leghosszabb szünetet.\n",
    "# Kezdetben legyen 0, mivel ennél csak hosszabb időket kaphatunk.\n",
    "max_len = 0\n",
    "# A max_len_idx változóban tároljuk a hozzá tartozó indexet a times listáról.\n",
    "# Itt a szünet kezdő idejének helyzetét tároljuk, tehát az első és a második káromkodás közötti szünet kezdete a 0. indexen található.\n",
    "max_len_idx = 0\n",
    "\n",
    "# A ciklussal végig járjuk az időket.\n",
    "# Minden lépésben az i-edik és az (i+1)-edik elmekkel dolgozunk.\n",
    "# Emiatt nem megyünk a lista végéig, hiszen az utolsó elem esetén az (i+1)-edik érték már nem értelmezett.\n",
    "for i in range(1, len(times) - 1):\n",
    "    # Vesszük a két káromkodás között eltelt időt.\n",
    "    act_len = times[i+1] - times[i]\n",
    "    # Megnézzük, hogy a most mért távolság nagyobb e, mint az eddigi legnagyobb.\n",
    "    if act_len > max_len:\n",
    "        # Ha nagyobb, akkor eltároljuk az új eddigi legnagyobb értékét.\n",
    "        max_len = act_len\n",
    "        # Valamint eltároljuk a hozzá tartozó indexet is.\n",
    "        max_len_idx = i\n",
    "\n",
    "print(f\"Legnagyobb szünet két káromkodás között: {max_len:.2f} perc\")\n",
    "print(f\"Ez a film [{times[max_len_idx]}, {times[max_len_idx+1]}] perc intervallumában található.\")"
   ]
  },
  {
   "cell_type": "markdown",
   "id": "791cc4bb-cea7-448e-b0c9-f1a84c1b681c",
   "metadata": {},
   "source": [
    "Az előző feladatot indexelés használata helyett megoldhatjuk például a ```zip``` függvény használatával is:"
   ]
  },
  {
   "cell_type": "code",
   "execution_count": 30,
   "id": "49fba651-4c55-44a0-ae72-f714e8ee072e",
   "metadata": {},
   "outputs": [
    {
     "name": "stdout",
     "output_type": "stream",
     "text": [
      "Legnagyobb szünet két káromkodás között: 11.55 perc\n",
      "Ez a film [147.9, 148.15] perc intervallumában található.\n"
     ]
    }
   ],
   "source": [
    "max_len = 0\n",
    "\n",
    "max_len_idx = 0\n",
    "\n",
    "for t0, t1 in zip(times[:-1], times[1:]):\n",
    "    act_len = t1 - t0\n",
    "    if act_len > max_len:\n",
    "        max_len = act_len\n",
    "        max_len_idx = i\n",
    "\n",
    "print(f\"Legnagyobb szünet két káromkodás között: {max_len:.2f} perc\")\n",
    "print(f\"Ez a film [{times[max_len_idx]}, {times[max_len_idx+1]}] perc intervallumában található.\")"
   ]
  },
  {
   "cell_type": "markdown",
   "id": "407b5b61-83e8-47da-b233-8bc1e95d6bf1",
   "metadata": {},
   "source": [
    "Ebben a megközelítésben a ```times[:-1]``` és ```times[1:]``` listákon iteráltunk egyszerre a ```zip``` függvény segítségével. A ```times[:-1]``` segítségével az első elemtől az utolsó előtti elemig megyünk, míg a ```times[1:]``` lista az első elemet hagyja ki, de az utolsóig megy."
   ]
  },
  {
   "cell_type": "code",
   "execution_count": null,
   "id": "b1137a75-ae4f-486d-87fe-bb77f78f3250",
   "metadata": {},
   "outputs": [],
   "source": []
  }
 ],
 "metadata": {
  "kernelspec": {
   "display_name": "Python 3 (ipykernel)",
   "language": "python",
   "name": "python3"
  },
  "language_info": {
   "codemirror_mode": {
    "name": "ipython",
    "version": 3
   },
   "file_extension": ".py",
   "mimetype": "text/x-python",
   "name": "python",
   "nbconvert_exporter": "python",
   "pygments_lexer": "ipython3",
   "version": "3.8.10"
  }
 },
 "nbformat": 4,
 "nbformat_minor": 5
}
