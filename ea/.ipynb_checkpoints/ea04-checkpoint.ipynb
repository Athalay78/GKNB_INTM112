{
 "cells": [
  {
   "cell_type": "markdown",
   "id": "efc06c7c-2261-423a-be2d-927250868569",
   "metadata": {},
   "source": [
    "# 4. előadás"
   ]
  },
  {
   "cell_type": "markdown",
   "id": "fbc616d3-4f13-4d13-a084-045d39f1ef61",
   "metadata": {},
   "source": [
    "* tuple, list, set, különbségek\n",
    "* indexelés különféle módjai\n",
    "* in operátor (ciklus esetén és logikai vizsgálat esetén)\n",
    "* list: append, insert, pop, reverse, sort\n",
    "* string: split függvény listát készít\n",
    "* több dimenziós listák\n",
    "* for ciklus\n",
    "* range függvény\n"
   ]
  },
  {
   "cell_type": "code",
   "execution_count": null,
   "id": "88ebec55-409f-4c5c-8856-0ff4271c5d89",
   "metadata": {},
   "outputs": [],
   "source": []
  }
 ],
 "metadata": {
  "kernelspec": {
   "display_name": "Python 3 (ipykernel)",
   "language": "python",
   "name": "python3"
  },
  "language_info": {
   "codemirror_mode": {
    "name": "ipython",
    "version": 3
   },
   "file_extension": ".py",
   "mimetype": "text/x-python",
   "name": "python",
   "nbconvert_exporter": "python",
   "pygments_lexer": "ipython3",
   "version": "3.8.10"
  }
 },
 "nbformat": 4,
 "nbformat_minor": 5
}
