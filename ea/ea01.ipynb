{
 "cells": [
  {
   "cell_type": "markdown",
   "id": "e21c7688-bc3c-4621-9e82-cb6895d4668c",
   "metadata": {},
   "source": [
    "# 1. előadás"
   ]
  },
  {
   "cell_type": "markdown",
   "id": "f3afd41b-b4ae-40c9-87bc-e054e33de82b",
   "metadata": {},
   "source": [
    "_TODO: Bevezetés, technikai tudnivalók_"
   ]
  },
  {
   "cell_type": "markdown",
   "id": "f1ba0d35-9214-47a8-b944-2dbf7e7f7be4",
   "metadata": {},
   "source": [
    "## Helló, világ!\n",
    "\n",
    "Első programunk a \"Helló, világ!\" üzenetet jelenti meg a képenyőn. [Régi szokás szerint a legtöbb tankönyv, tananyag ezzel az egyszerű programmal indít.](https://en.wikipedia.org/wiki/%22Hello,_World!%22_program)\n",
    "\n"
   ]
  },
  {
   "cell_type": "code",
   "execution_count": 1,
   "id": "37dd55ec-73a9-4f8c-8286-3e549af45da7",
   "metadata": {},
   "outputs": [
    {
     "name": "stdout",
     "output_type": "stream",
     "text": [
      "Helló, világ!\n"
     ]
    }
   ],
   "source": [
    "print(\"Helló, világ!\")"
   ]
  },
  {
   "cell_type": "markdown",
   "id": "f1483f17-a245-40bc-a49a-37f460417bc9",
   "metadata": {},
   "source": [
    "A programunk a ```print``` kulcsszóval kezdődik, ami egy függvénynek a neve. A függvények kerek zárójelpár között várnak meghatározott paramétereket. A ```print``` függvény számára azt kell megadni, hogy mit írjon a kimenetre.\n",
    "\n",
    "[Bővebben a ```print``` függvényről.](https://www.w3schools.com/python/ref_func_print.asp)\n",
    "\n",
    "Bármilyen tetszőleges szöveget megadhatunk idézőjelek között:"
   ]
  },
  {
   "cell_type": "code",
   "execution_count": 2,
   "id": "65c23add-7003-4729-9be4-d7c6cc32e26a",
   "metadata": {},
   "outputs": [
    {
     "name": "stdout",
     "output_type": "stream",
     "text": [
      "Rendőr, postás, pék is lennék, / kertésznek is vígan mennék, / de leginkább azért főleg / machine learning szakértőnek.\n"
     ]
    }
   ],
   "source": [
    "print(\"Rendőr, postás, pék is lennék, / kertésznek is vígan mennék, / de leginkább azért főleg / machine learning szakértőnek.\")"
   ]
  },
  {
   "cell_type": "markdown",
   "id": "dc5e9105-d1ff-491d-b7ae-56c322d2ea51",
   "metadata": {},
   "source": [
    "Természetesen egy program nem csak egy sorból állhat. Lehetőségünk van arra is, hogy egymás után több utasítást adjunk meg. Például több ```print``` függvényt írunk egymás utáni sorokba.\n",
    "\n",
    "Ilyenkor az egyes utasítások egymás után, fentről lefelé haladva kerülnek végrehajtása. Ezt nevezzük szekvenciális végrehajtásnak. A kimeneten is ennek megfelelően jelennek meg egymás után (egymás alatt) az üzenetek.\n",
    "\n",
    "Így [Varró Dániel](https://hu.wikipedia.org/wiki/Varr%C3%B3_D%C3%A1niel) versét törtvonalak nélkül, több sorban is megjeleníthetjük:"
   ]
  },
  {
   "cell_type": "code",
   "execution_count": 3,
   "id": "0230351d-61f1-43dc-9f78-398b002abce9",
   "metadata": {},
   "outputs": [
    {
     "name": "stdout",
     "output_type": "stream",
     "text": [
      "Rendőr, postás, pék is lennék,\n",
      "kertésznek is vígan mennék,\n",
      "de leginkább azért főleg\n",
      "machine learning szakértőnek.\n"
     ]
    }
   ],
   "source": [
    "print(\"Rendőr, postás, pék is lennék,\")\n",
    "print(\"kertésznek is vígan mennék,\")\n",
    "print(\"de leginkább azért főleg\")\n",
    "print(\"machine learning szakértőnek.\")"
   ]
  },
  {
   "cell_type": "markdown",
   "id": "9242bf00-b3f4-44bb-973e-76f5413dcd9f",
   "metadata": {},
   "source": [
    "## Aritmetikai műveletek\n",
    "\n",
    "\n",
    "A ```print``` függvény segítségével nem csak konstans szövegeket, de matematikai kifejezéseket is lehetőségünk van megjeleníteni. Ilyenkor a fordító kiértékeli a kifejezést, kiszámítja annak eredményét, majd az eredményt fogja a ```print``` függvény a kimeneten megjeleníteni.\n",
    "\n",
    "A következő 7 alapvető aritmetikai műveletet használhatjuk Python nyelven:\n",
    "\n",
    "* Összeadás: ```+```"
   ]
  },
  {
   "cell_type": "code",
   "execution_count": 4,
   "id": "bf98f76f-aa37-43ac-aebd-96641f6f501f",
   "metadata": {},
   "outputs": [
    {
     "name": "stdout",
     "output_type": "stream",
     "text": [
      "5\n"
     ]
    }
   ],
   "source": [
    "print(2+3)"
   ]
  },
  {
   "cell_type": "markdown",
   "id": "35c69b63-3503-4e42-940f-1c8634b18c73",
   "metadata": {},
   "source": [
    " - Kivonás: ```-```"
   ]
  },
  {
   "cell_type": "code",
   "execution_count": 5,
   "id": "256700b8-1801-4fbe-890b-ff188de36395",
   "metadata": {},
   "outputs": [
    {
     "name": "stdout",
     "output_type": "stream",
     "text": [
      "-1\n"
     ]
    }
   ],
   "source": [
    "print(2-3)"
   ]
  },
  {
   "cell_type": "markdown",
   "id": "7dc16b41-bafd-4870-9d20-a3775a964208",
   "metadata": {},
   "source": [
    " - Szorzás: ```*```"
   ]
  },
  {
   "cell_type": "code",
   "execution_count": 6,
   "id": "2ee3bff8-076c-4381-a243-a39545454611",
   "metadata": {},
   "outputs": [
    {
     "name": "stdout",
     "output_type": "stream",
     "text": [
      "6\n"
     ]
    }
   ],
   "source": [
    "print(2*3)"
   ]
  },
  {
   "cell_type": "markdown",
   "id": "8b63d70b-e831-4401-9309-8deb08ecdec8",
   "metadata": {},
   "source": [
    " - Osztás: ```/```"
   ]
  },
  {
   "cell_type": "code",
   "execution_count": 7,
   "id": "f7179443-3b7e-4cb3-a42f-14333dca0460",
   "metadata": {},
   "outputs": [
    {
     "name": "stdout",
     "output_type": "stream",
     "text": [
      "0.6666666666666666\n"
     ]
    }
   ],
   "source": [
    "print(2/3)"
   ]
  },
  {
   "cell_type": "markdown",
   "id": "a4263ebc-3cf0-44bc-95e9-e71b93f7b16b",
   "metadata": {},
   "source": [
    " - Maradékos osztás: ```%```\n",
    "\n",
    "Az osztás maradékát fogja megadni. A példában: kettőben a három megvan nulla egésszer, és maradék a kettő."
   ]
  },
  {
   "cell_type": "code",
   "execution_count": 8,
   "id": "fef0b7ad-582e-4e95-bcbb-afe74182135c",
   "metadata": {},
   "outputs": [
    {
     "name": "stdout",
     "output_type": "stream",
     "text": [
      "2\n"
     ]
    }
   ],
   "source": [
    "print(2%3)"
   ]
  },
  {
   "cell_type": "markdown",
   "id": "3bdfe97c-5619-4d86-b8f0-cc92fdded64b",
   "metadata": {},
   "source": [
    " - Hatványozás: ```**```\n",
    "\n",
    "Az ```**``` operátor elé kerül az alap, utána pedig a kitevő. A példában: kettő a harmadik hatványon."
   ]
  },
  {
   "cell_type": "code",
   "execution_count": 9,
   "id": "e765ee68-3aed-4d82-97e5-03b28e42d582",
   "metadata": {},
   "outputs": [
    {
     "name": "stdout",
     "output_type": "stream",
     "text": [
      "8\n"
     ]
    }
   ],
   "source": [
    "print(2**3)"
   ]
  },
  {
   "cell_type": "markdown",
   "id": "26a85b43-d5de-49cc-a5fc-086785b7c7f0",
   "metadata": {},
   "source": [
    "- Egészosztás: ```//```\n",
    "\n",
    "Megadja lefelé kerekítve az osztás eredményét. A példában: a három a kettőben nulla egésszer van meg."
   ]
  },
  {
   "cell_type": "code",
   "execution_count": 10,
   "id": "e2af82d4-0b53-4fdf-a6e3-fc3c1a3a164c",
   "metadata": {},
   "outputs": [
    {
     "name": "stdout",
     "output_type": "stream",
     "text": [
      "0\n"
     ]
    }
   ],
   "source": [
    "print(2//3)"
   ]
  },
  {
   "cell_type": "markdown",
   "id": "e79a6a7b-d277-4a2a-89e3-47a5a589c608",
   "metadata": {},
   "source": [
    "Lehetőségünk van összetettebb kifejezések megfogalmazására is. A végrehajtás tekintetében a matematikában megszokott szabályok érvényesülnek."
   ]
  },
  {
   "cell_type": "code",
   "execution_count": 11,
   "id": "59edcca1-c3e9-46cd-a408-e037e69f694b",
   "metadata": {},
   "outputs": [
    {
     "name": "stdout",
     "output_type": "stream",
     "text": [
      "5\n"
     ]
    }
   ],
   "source": [
    "print(2*3-1)"
   ]
  },
  {
   "cell_type": "code",
   "execution_count": 12,
   "id": "bc22cfad-ad84-413d-9367-181b83308523",
   "metadata": {},
   "outputs": [
    {
     "name": "stdout",
     "output_type": "stream",
     "text": [
      "81\n"
     ]
    }
   ],
   "source": [
    "print(3**3*3)"
   ]
  },
  {
   "cell_type": "markdown",
   "id": "9967b151-1b5d-435c-8dfb-230c41576ee7",
   "metadata": {},
   "source": [
    "Zárójelek segítségével tudjuk szabályozni a végrehajtás sorrendjét."
   ]
  },
  {
   "cell_type": "code",
   "execution_count": 13,
   "id": "34dccb5c-55c9-48f7-b046-476b615e778e",
   "metadata": {},
   "outputs": [
    {
     "name": "stdout",
     "output_type": "stream",
     "text": [
      "4\n"
     ]
    }
   ],
   "source": [
    "print(2*(3-1))"
   ]
  },
  {
   "cell_type": "code",
   "execution_count": 14,
   "id": "8e68389a-57dc-4907-b6a4-ffff770baa2a",
   "metadata": {},
   "outputs": [
    {
     "name": "stdout",
     "output_type": "stream",
     "text": [
      "19683\n"
     ]
    }
   ],
   "source": [
    "print(3**(3*3))"
   ]
  },
  {
   "cell_type": "markdown",
   "id": "125345bc-57c0-43ef-890a-2f319e0b1942",
   "metadata": {},
   "source": [
    "## Összetett üzenetek kiírása\n",
    "\n",
    "Lehetőségünk van arra is, hogy a ```print``` segítségével összetett, több üzenetben álló kiírásokat hajtsunk végre. Például szeretnénk megjeleníteni egy szöveget, majd utána egy számítási eredményt is."
   ]
  },
  {
   "cell_type": "code",
   "execution_count": 15,
   "id": "ebfac4e7-b85e-42d9-a9bd-1727f1a249b0",
   "metadata": {},
   "outputs": [
    {
     "name": "stdout",
     "output_type": "stream",
     "text": [
      "A kettő és a három szorzatának eredménye: 6\n"
     ]
    }
   ],
   "source": [
    "print(\"A kettő és a három szorzatának eredménye:\", 2*3)"
   ]
  },
  {
   "cell_type": "markdown",
   "id": "08154540-5374-43f5-a175-2a76d2365f29",
   "metadata": {},
   "source": [
    "Ilyenkor az egyes üzeneteket vesszővel elválasztva soroljuk fel a zárójelen belül. Az előző példában először egy szöveget, majd egy matematikai kifejezés eredményét jelenítjük meg.\n",
    "\n",
    "Természetesen kettőnél több paraméter is állhat itt, mindig vesszővel elválasztva egymástól."
   ]
  },
  {
   "cell_type": "code",
   "execution_count": 16,
   "id": "816717dc-2259-4985-bb82-8ee7af819a02",
   "metadata": {},
   "outputs": [
    {
     "name": "stdout",
     "output_type": "stream",
     "text": [
      "Ada Lovelace 1815-ben született, 208 évvel ezelőtt. 1852-ben ( 37 . évében) hunyt el.\n"
     ]
    }
   ],
   "source": [
    "print(\"Ada Lovelace 1815-ben született,\", 2023-1815, \"évvel ezelőtt. 1852-ben (\", 1852-1815, \". évében) hunyt el.\")"
   ]
  },
  {
   "cell_type": "markdown",
   "id": "936156a8-7cc2-4968-9022-dfc4aae5d81e",
   "metadata": {},
   "source": [
    "Látható, hogy a vesszővel elválasztott elemek közé automatikusan egy-egy szóköz kerül a kimeneten. Ezért van az, hogy a ```2023-1815``` kifejezés előtti szövegrész végére és utáni szövegrész elejére nem raktunk szóköz karaktert. Viszont az ```1852-1815``` kifejezés esetén más a helyzet. Itt is láthatjuk az automatikus szóközeket, viszont itt egyik oldalra sem kellene.\n",
    "\n",
    "Hogyan lehet ezt orvosolni?\n",
    "\n",
    "A ```print``` függvény rendelkezik több opcionális paraméterrel. Az egyik ilyen a ```sep``` nevezetű, amely a \"separator\" szó rövidítéséből ered. Ennek segítségével megadható, hogy szóköz helyett milyen karaktert (vagy karaktersorozatot) illesszen be az egyes kiírandó elemek közé. Például megadhatjuk azt, a fenti szöveg esetén, hogy ne szerepeljen semmilyen elválasztó szöveg. Ehhez üres karaktersorozatot (```\"\"```) kell értékül adni a ```sep``` paraméternek a következő módon:"
   ]
  },
  {
   "cell_type": "code",
   "execution_count": 17,
   "id": "be12a338-aa79-4530-827b-b4f875c2b7b1",
   "metadata": {},
   "outputs": [
    {
     "name": "stdout",
     "output_type": "stream",
     "text": [
      "Ada Lovelace 1815-ben született,208évvel ezelőtt. 1852-ben (37. évében) hunyt el.\n"
     ]
    }
   ],
   "source": [
    "print(\"Ada Lovelace 1815-ben született,\", 2023-1815, \"évvel ezelőtt. 1852-ben (\", 1852-1815, \". évében) hunyt el.\", sep=\"\")"
   ]
  },
  {
   "cell_type": "markdown",
   "id": "f9fdc89a-b59b-44f6-886a-23cdbb8f7bb0",
   "metadata": {},
   "source": [
    "Látható, hogy az elválasztó szóközök eltűntek. Ezzel a zárójelbe írt életkor problémája megoldódott. Viszont a \"208\" előtt és után sincs így már szóköz, pedig ott szükség van rá. Ezért egyszerűbb, ha az előtte és utána található szövegrész végére és elejére fűzzük hozzá a kívánt elválasztó szóközöket. Így már megfelelő formában kapjuk meg a szöveget:"
   ]
  },
  {
   "cell_type": "code",
   "execution_count": 18,
   "id": "ee937d73-f850-483a-acd5-a602a8023190",
   "metadata": {},
   "outputs": [
    {
     "name": "stdout",
     "output_type": "stream",
     "text": [
      "Ada Lovelace 1815-ben született, 208 évvel ezelőtt. 1852-ben (37. évében) hunyt el.\n"
     ]
    }
   ],
   "source": [
    "print(\"Ada Lovelace 1815-ben született, \", 2023-1815, \" évvel ezelőtt. 1852-ben (\", 1852-1815, \". évében) hunyt el.\", sep=\"\")"
   ]
  },
  {
   "cell_type": "markdown",
   "id": "0ef8f834-a9bc-4a70-aaa2-dbeee83473fc",
   "metadata": {},
   "source": [
    "A ```sep``` paraméter értéke bármilyen más tetszőleges szöveg lehet, amit az adott feladat, kívánt cél megkíván. Például kifejezések eredményét pontosvesszővel tagoltan szeretnénk megjeleníteni. Ezt a következő módon tehetjük:"
   ]
  },
  {
   "cell_type": "code",
   "execution_count": 19,
   "id": "5283ac7f-85d3-4f96-b824-8dc2532b7cdf",
   "metadata": {},
   "outputs": [
    {
     "name": "stdout",
     "output_type": "stream",
     "text": [
      "1;2;4;8;16;32;64;128\n"
     ]
    }
   ],
   "source": [
    "print(2**0, 2**1, 2**2, 2**3, 2**4, 2**5, 2**6, 2**7, sep=\";\")"
   ]
  },
  {
   "cell_type": "markdown",
   "id": "c6b25e73-2e31-4058-8283-d919add830f4",
   "metadata": {},
   "source": [
    "A ```print``` függvény másik opcionális paramétere az ```end```. Ennek is egy karaktert vagy karaktersorozatot adhatunk meg. Ami az ```end``` értéke, azt a szöveget fogja minden kiírás végére elhelyezni a ```print``` függvény. Ahogy a ```sep``` alapértelmezett értéke a szóköz, úgy az ```end``` alapértelmezett értéke a sortörés karakter. Ennek köszönhető, hogy ha egymás után több ```print``` függvényt hívunk meg, akkor az egyes kiírások egymás alatt, és nem egymás mellett fognak megjelenni a kimeneten.\n",
    "\n",
    "Az előző példa alapján, ha az utolsó kifejezés után is szeretnénk pontosvesszőt megjeleníteni, akkor azt a következő módon tehetjük meg:"
   ]
  },
  {
   "cell_type": "code",
   "execution_count": 20,
   "id": "e519d531-6de1-4d15-9f39-0165bafe6940",
   "metadata": {},
   "outputs": [
    {
     "name": "stdout",
     "output_type": "stream",
     "text": [
      "1;2;4;8;16;32;64;128;"
     ]
    }
   ],
   "source": [
    "print(2**0, 2**1, 2**2, 2**3, 2**4, 2**5, 2**6, 2**7, sep=\";\", end=\";\")"
   ]
  },
  {
   "cell_type": "markdown",
   "id": "6baf7749-2065-4b4c-9190-9bafccacb8fd",
   "metadata": {},
   "source": [
    "## Típusok"
   ]
  },
  {
   "cell_type": "code",
   "execution_count": null,
   "id": "8f7de788-6618-4e51-9ed3-3c6b16255779",
   "metadata": {},
   "outputs": [],
   "source": []
  }
 ],
 "metadata": {
  "kernelspec": {
   "display_name": "Python 3 (ipykernel)",
   "language": "python",
   "name": "python3"
  },
  "language_info": {
   "codemirror_mode": {
    "name": "ipython",
    "version": 3
   },
   "file_extension": ".py",
   "mimetype": "text/x-python",
   "name": "python",
   "nbconvert_exporter": "python",
   "pygments_lexer": "ipython3",
   "version": "3.8.10"
  }
 },
 "nbformat": 4,
 "nbformat_minor": 5
}
