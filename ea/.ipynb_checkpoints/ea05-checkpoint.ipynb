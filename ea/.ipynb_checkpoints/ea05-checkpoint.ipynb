{
 "cells": [
  {
   "cell_type": "markdown",
   "id": "aa43399a-0b44-4946-ae21-f5ffa45277ef",
   "metadata": {},
   "source": [
    "# 5. előadás\n",
    "\n",
    "## Tartalom\n",
    "* Külső modulok használata\n",
    "* A ```math``` könyvtár bevezetése\n",
    "* PyPI megismerése\n",
    "* A szótár (```dict```) adatszerkezet használata"
   ]
  },
  {
   "cell_type": "markdown",
   "id": "eafc4a4d-6e40-4495-a715-f0790c6fef6d",
   "metadata": {},
   "source": [
    "## Modulok\n",
    "\n",
    "A modulok segítségével lehetőségünk van arra, hogy szorosan összekapcsolódó funkcionalitásokat, programrészleteket összekapcsoljunk és egy egységként legyünk képesek kezelni. Számos feladatra, problémára léteznek ma már kész modulok, amiket csak fel kell használnunk. Ilyen modulokat beépítve is tartalmaz a Python, de külső fejlesztők által létrehozott modulok is elérhetők. Melyek közül bizonyos modulok adott feladat tekintetében széles körben elfogadott standardként kezelhetők. A későbbiek során ilyen külső könyvtárakkal meg fogunk ismerkedni. Egyelőre nézzünk meg egy beépített modult, ami sok feladat esetén hasznos.\n",
    "\n",
    "### A math modul\n",
    "\n",
    "A ```math``` modul segítségével alapvető matematikai állandókhoz, gyakorta használt matematikai függvényekhez férünk hozzá. Először nézzük meg mit kell tennünk, ha használni szeretnénk a ```math``` modult!"
   ]
  },
  {
   "cell_type": "code",
   "execution_count": 1,
   "id": "6b952589-e4ce-4880-aa62-384f53a95626",
   "metadata": {},
   "outputs": [],
   "source": [
    "import math"
   ]
  },
  {
   "cell_type": "markdown",
   "id": "8207e3f5-97a4-409c-afe7-df58b5afd471",
   "metadata": {},
   "source": [
    "Ha egy modult használni szeretnénk, akkor azt mindenek előtt importálni szükséges. Ehhez a fent látható utasítást kell kiadnunk. Az ```import math``` utasítás utántól kezdve a ```math``` modulhoz hozzáférünk, fel tudjuk használni. Nézzük meg, hogy milyen, gyakran használt lehetőségeket nyújt számunkra!\n",
    "\n",
    "* ```math.pi```\n",
    "\n",
    "Konstansként tartalmazza a [$\\pi$](https://en.wikipedia.org/wiki/Pi) értékét 15 tizedesjegy pontosságig, amit a ```pi``` változóban találunk. Mivel a ```pi``` változó most a ```math``` modulon belül van, ezért ezt jelezni kell azzal, hogy elé írjuk a modul nevet és egy pontot."
   ]
  },
  {
   "cell_type": "code",
   "execution_count": 2,
   "id": "81921a6d-9fdc-4f59-a804-4a4f3caeadf2",
   "metadata": {},
   "outputs": [
    {
     "name": "stdout",
     "output_type": "stream",
     "text": [
      "3.141592653589793\n"
     ]
    }
   ],
   "source": [
    "print(math.pi)"
   ]
  },
  {
   "cell_type": "markdown",
   "id": "d324c1f0-7444-457f-b5c4-77c5da40acd3",
   "metadata": {},
   "source": [
    "* ```math.e```\n",
    "\n",
    "Hasonló módon az [$e$](https://en.wikipedia.org/wiki/E_(mathematical_constant)) értékét is megtaláljuk a ```math``` modulban."
   ]
  },
  {
   "cell_type": "code",
   "execution_count": 3,
   "id": "be5feb8e-2639-410c-9cc6-d463ec2d0334",
   "metadata": {},
   "outputs": [
    {
     "name": "stdout",
     "output_type": "stream",
     "text": [
      "2.718281828459045\n"
     ]
    }
   ],
   "source": [
    "print(math.e)"
   ]
  },
  {
   "cell_type": "markdown",
   "id": "08b0cc00-f306-4a30-91eb-25fcda7ebb20",
   "metadata": {},
   "source": [
    "* ```math.inf```\n",
    "\n",
    "Segítségével a végtelent tudjuk reprezentálni. Vannak olyan tipikus feladatok, ahol szükségünk van arra, hogy egy változó értéke, ha ideiglenes is, de biztosan nagyobb (vagy kisebb) legyen minden értéknél. Ilyenkkel később találkozni fogunk. Erre tudjuk használni a ```math.inf``` értéket. Ha negatív végtelenre van szükségünk, akkor nyugodtan szorozzuk -1-gyel: ```-math.inf```."
   ]
  },
  {
   "cell_type": "code",
   "execution_count": 4,
   "id": "0860dd7e-1365-45f2-96eb-65987149176a",
   "metadata": {},
   "outputs": [
    {
     "name": "stdout",
     "output_type": "stream",
     "text": [
      "False\n"
     ]
    }
   ],
   "source": [
    "print(1000000000000000000000000000000000000000000000000000000 > math.inf)"
   ]
  },
  {
   "cell_type": "markdown",
   "id": "fab6c5a6-68c3-450c-8ea8-4081028c3389",
   "metadata": {},
   "source": [
    "* ```math.nan```\n",
    "\n",
    "A [NaN](https://en.wikipedia.org/wiki/NaN), azaz \"Not a Number\" kifejezésre utal. A ```math.inf```-hez hasonlóan szintén egy speciális értékű \"szám\". Jelentése, hogy ez az érték nem szám. Használhatjuk ezt arra, hogy ha egy számérték hiányát akarjuk kifejezni, vagy ha egy számítás során az értéket nem tudjuk meghatározni (pl. nullával kellene osztani, ami hibához vezetne). De olyankor is hasznos, amikor egy számítás eselén ideiglenesen számként kell létrehoznunk egy változót, de nem szeretnénk, hogy az bármilyen konkrét értéket felvegyen. Erre később látni fogunk konkrét feladatokat."
   ]
  },
  {
   "cell_type": "code",
   "execution_count": 5,
   "id": "9bd8cda6-422d-460c-bef8-d92d2295e2c2",
   "metadata": {},
   "outputs": [
    {
     "name": "stdout",
     "output_type": "stream",
     "text": [
      "nan\n",
      "False\n"
     ]
    }
   ],
   "source": [
    "x = math.nan\n",
    "print(x)\n",
    "print(x == 10)"
   ]
  },
  {
   "cell_type": "markdown",
   "id": "b878b76c-f48f-4b2b-9d2b-a195e86a9aae",
   "metadata": {},
   "source": [
    "Természetesen nem csak matematikai konstansok, de számos funkció is elérhető a ```math``` könyvtáron keresztül. Nézzünk meg ezek közül néhány fontosabbat!\n",
    "\n",
    "* ```math.ceil```\n",
    "\n",
    "A paraméterül kapott számot egészre felfelé kerekíti."
   ]
  },
  {
   "cell_type": "code",
   "execution_count": 6,
   "id": "0f96e800-73a2-4aee-9ed6-70b0e11f2804",
   "metadata": {},
   "outputs": [
    {
     "name": "stdout",
     "output_type": "stream",
     "text": [
      "2\n",
      "3\n",
      "3\n"
     ]
    }
   ],
   "source": [
    "print(math.ceil(2.0))\n",
    "print(math.ceil(2.1))\n",
    "print(math.ceil(2.9))"
   ]
  },
  {
   "cell_type": "markdown",
   "id": "656073b7-f778-45d2-a492-240601c13864",
   "metadata": {},
   "source": [
    "* ```math.floor```\n",
    "\n",
    "A paraméterül kapott számot egészre lefelé kerekíti."
   ]
  },
  {
   "cell_type": "code",
   "execution_count": 7,
   "id": "32322c06-aea0-450c-a7e1-075322d8db20",
   "metadata": {},
   "outputs": [
    {
     "name": "stdout",
     "output_type": "stream",
     "text": [
      "2\n",
      "2\n",
      "2\n"
     ]
    }
   ],
   "source": [
    "print(math.floor(2.0))\n",
    "print(math.floor(2.1))\n",
    "print(math.floor(2.9))"
   ]
  },
  {
   "cell_type": "markdown",
   "id": "ced2feb9-11b9-4c79-b2c5-dc7f78b47da2",
   "metadata": {},
   "source": [
    "* ```math.pow```\n",
    "\n",
    "Hatványozni tudunk vele. Első paraméter az alap, második paraméter a kitevő. A visszatérési értéke lesz a hatványozás eredménye."
   ]
  },
  {
   "cell_type": "code",
   "execution_count": 8,
   "id": "d3ad1839-1d68-4a97-aaca-e9f26adc8cdd",
   "metadata": {},
   "outputs": [
    {
     "name": "stdout",
     "output_type": "stream",
     "text": [
      "Három a hetediken eredménye: 2187.0\n"
     ]
    }
   ],
   "source": [
    "x = math.pow(3, 7)\n",
    "print(\"Három a hetediken eredménye:\", x)"
   ]
  },
  {
   "cell_type": "markdown",
   "id": "a04dc3e3-75f1-452a-8a29-8caeaf0c0abb",
   "metadata": {},
   "source": [
    "* ```math.sqrt```\n",
    "\n",
    "A megadott számt gyökét kapjuk visszatérési értékül."
   ]
  },
  {
   "cell_type": "code",
   "execution_count": 9,
   "id": "5baae8cd-b23e-42de-ae40-9d0842cd27ff",
   "metadata": {},
   "outputs": [
    {
     "name": "stdout",
     "output_type": "stream",
     "text": [
      "3.0\n"
     ]
    }
   ],
   "source": [
    "x = math.sqrt(9)\n",
    "print(x)"
   ]
  },
  {
   "cell_type": "markdown",
   "id": "5cbde070-1499-4361-b9ee-2dbcfc62f1a5",
   "metadata": {},
   "source": [
    "Fontos! A komplex számok halmazán nem tudunk ennek segítségével számolni!"
   ]
  },
  {
   "cell_type": "code",
   "execution_count": 10,
   "id": "319cda2e-027e-40e0-be38-f1f416783d95",
   "metadata": {},
   "outputs": [
    {
     "ename": "ValueError",
     "evalue": "math domain error",
     "output_type": "error",
     "traceback": [
      "\u001b[0;31m---------------------------------------------------------------------------\u001b[0m",
      "\u001b[0;31mValueError\u001b[0m                                Traceback (most recent call last)",
      "Cell \u001b[0;32mIn[10], line 1\u001b[0m\n\u001b[0;32m----> 1\u001b[0m \u001b[38;5;28mprint\u001b[39m(\u001b[43mmath\u001b[49m\u001b[38;5;241;43m.\u001b[39;49m\u001b[43msqrt\u001b[49m\u001b[43m(\u001b[49m\u001b[38;5;241;43m-\u001b[39;49m\u001b[38;5;241;43m1\u001b[39;49m\u001b[43m)\u001b[49m)\n",
      "\u001b[0;31mValueError\u001b[0m: math domain error"
     ]
    }
   ],
   "source": [
    "print(math.sqrt(-1))"
   ]
  },
  {
   "cell_type": "markdown",
   "id": "26112f85-a3db-43a1-8bbb-cdeaa752ce6f",
   "metadata": {},
   "source": [
    "* ```math.sin```\n",
    "\n",
    "Megadott érték szinuszát kapjuk vissza. A bemenetet radiánban kell értelmezni."
   ]
  },
  {
   "cell_type": "code",
   "execution_count": 11,
   "id": "0285aefe-c59f-4a1c-bb89-12873b46a6fd",
   "metadata": {},
   "outputs": [
    {
     "name": "stdout",
     "output_type": "stream",
     "text": [
      "1.0\n"
     ]
    }
   ],
   "source": [
    "print(math.sin(math.pi/2))"
   ]
  },
  {
   "cell_type": "markdown",
   "id": "87bc844a-2aab-49e9-b824-5ab20e81d08d",
   "metadata": {},
   "source": [
    "* ```math.cos```\n",
    "\n",
    "A megadott érték koszinuszát kapjuk vissza. Itt is radián kell legyen a bemenet."
   ]
  },
  {
   "cell_type": "code",
   "execution_count": 12,
   "id": "36fa2ec0-25cd-4af8-9292-cad2a23149af",
   "metadata": {},
   "outputs": [
    {
     "name": "stdout",
     "output_type": "stream",
     "text": [
      "1.0\n"
     ]
    }
   ],
   "source": [
    "print(math.cos(0))"
   ]
  },
  {
   "cell_type": "markdown",
   "id": "29f76ea6-931b-4c03-a9ae-5272c04a826a",
   "metadata": {},
   "source": [
    "* ```math.degrees```\n",
    "\n",
    "Paraméterként megadott radián értékből fokot kapunk visszatérési értékként."
   ]
  },
  {
   "cell_type": "code",
   "execution_count": 13,
   "id": "400529e4-63e7-4795-9ede-46e57c290681",
   "metadata": {},
   "outputs": [
    {
     "name": "stdout",
     "output_type": "stream",
     "text": [
      "180.0\n"
     ]
    }
   ],
   "source": [
    "print(math.degrees(math.pi))"
   ]
  },
  {
   "cell_type": "markdown",
   "id": "1874810c-ebf6-4a7f-b6e3-69aac735a47a",
   "metadata": {},
   "source": [
    "* ```math.radians```\n",
    "\n",
    "Hasonló módon, mint az előző, de most fok értékből tudunk radiánt generálni."
   ]
  },
  {
   "cell_type": "code",
   "execution_count": 14,
   "id": "c43c0a45-e5e9-437d-922a-9e54dafce22d",
   "metadata": {},
   "outputs": [
    {
     "name": "stdout",
     "output_type": "stream",
     "text": [
      "6.283185307179586\n"
     ]
    }
   ],
   "source": [
    "print(math.radians(360))"
   ]
  },
  {
   "cell_type": "markdown",
   "id": "ad32b96a-2897-43d6-92bc-6c2868e17d3d",
   "metadata": {},
   "source": [
    "* ```math.isinf```\n",
    "\n",
    "Egy értékről eldönti, hogy végtelen vagy sem. Akár pozitív, akár negatív végtelen az érték, igazat ad eredményül. Máskülönben hamis lesz a visszatérési értéke."
   ]
  },
  {
   "cell_type": "code",
   "execution_count": 15,
   "id": "6afc6faa-2fc7-4886-a95c-33a04c6d7701",
   "metadata": {},
   "outputs": [
    {
     "name": "stdout",
     "output_type": "stream",
     "text": [
      "True\n",
      "True\n",
      "False\n"
     ]
    }
   ],
   "source": [
    "a = math.inf\n",
    "b = -math.inf\n",
    "c = 42\n",
    "\n",
    "print(math.isinf(a))\n",
    "print(math.isinf(b))\n",
    "print(math.isinf(c))"
   ]
  },
  {
   "cell_type": "markdown",
   "id": "0c47a975-b7a2-44ae-bee3-a9b248c1796d",
   "metadata": {},
   "source": [
    "* ```math.isnan```\n",
    "\n",
    "A paraméterül kapott értékről eldönti, hogy NaN vagy sem. Ha NaN, akkor igaz eredményt ad, különben hamis."
   ]
  },
  {
   "cell_type": "code",
   "execution_count": 16,
   "id": "06a88df4-728e-414e-9261-6b7f21371fb1",
   "metadata": {},
   "outputs": [
    {
     "name": "stdout",
     "output_type": "stream",
     "text": [
      "False\n",
      "True\n",
      "False\n"
     ]
    }
   ],
   "source": [
    "a = math.inf\n",
    "b = math.nan\n",
    "c = 42\n",
    "\n",
    "print(math.isnan(a))\n",
    "print(math.isnan(b))\n",
    "print(math.isnan(c))"
   ]
  },
  {
   "cell_type": "markdown",
   "id": "f20b92b1-6ec5-4e83-973b-ff8a81181ccc",
   "metadata": {},
   "source": [
    "[Bővebben a ```math``` modulról.](https://docs.python.org/3/library/math.html)"
   ]
  },
  {
   "cell_type": "markdown",
   "id": "fe428949-5c65-4a5b-944c-67d3e829ccda",
   "metadata": {},
   "source": [
    "#### Feladat: Két pont távolsága\n",
    "\n",
    "Készítsünk programot, ami két tetszőleges síkbeli pont [euklideszi távolságát](https://en.wikipedia.org/wiki/Euclidean_distance) képes kiszámítani!"
   ]
  },
  {
   "cell_type": "code",
   "execution_count": 17,
   "id": "50c07509-a030-477a-892f-4c3f1ba372a4",
   "metadata": {},
   "outputs": [
    {
     "name": "stdin",
     "output_type": "stream",
     "text": [
      "Kérem adja meg az első pont x tagját! 1.23\n",
      "Kérem adja meg az első pont y tagját! -0.002\n",
      "Kérem adja meg a második pont x tagját! 9.0\n",
      "Kérem adja meg a második pont y tagját! 6.6723\n"
     ]
    },
    {
     "name": "stdout",
     "output_type": "stream",
     "text": [
      "A megadott pontok:\n",
      "  (1.23, -0.00)\n",
      "  (9.00, 6.67)\n",
      "\n",
      "A két pont távolsága: 10.24301\n"
     ]
    }
   ],
   "source": [
    "# Két síkbeli pont euklideszi távolságának meghatározása.\n",
    "\n",
    "# A math könyvtárra a hatványozás és a gyökvonás miatt van szükség.\n",
    "import math\n",
    "\n",
    "# Először bekérjük az egyik pont koordinátáját.\n",
    "x0 = float(input(\"Kérem adja meg az első pont x tagját!\"))\n",
    "y0 = float(input(\"Kérem adja meg az első pont y tagját!\"))\n",
    "\n",
    "# Majd a másik pont koordinátája következik.\n",
    "x1 = float(input(\"Kérem adja meg a második pont x tagját!\"))\n",
    "y1 = float(input(\"Kérem adja meg a második pont y tagját!\"))\n",
    "\n",
    "# Kiírjuk a felvett pontokat, minden tagot 2 tizedes pontosságig.\n",
    "print(\"A megadott pontok:\")\n",
    "print(f\"  ({x0:.2f}, {y0:.2f})\")\n",
    "print(f\"  ({x1:.2f}, {y1:.2f})\")\n",
    "\n",
    "# A távolság számítása.\n",
    "distance = math.sqrt(math.pow(x0 - x1, 2) + math.pow(y0 - y1, 2))\n",
    "\n",
    "# Számítási eredmény megjelenítése.\n",
    "print(f\"\\nA két pont távolsága: {distance:.5f}\")"
   ]
  },
  {
   "cell_type": "markdown",
   "id": "b7a38c99-5a3b-4320-9667-b748bf7a95dc",
   "metadata": {},
   "source": [
    "Vegyünk észre egy fontos dolgot! A fenti feladat esetén a ```math``` modult használtuk arra, hogy hatványozni és gyököt vonni tudjunk. Eszünkbe juthat a gondolat, hogy mi hatványozni tudunk már a ```math``` modul nélkül is a ```**``` operátorral. Természetesen ezt kihasználva is írhatnánk a számítást, jelent feladatban nincs jelentősége:"
   ]
  },
  {
   "cell_type": "code",
   "execution_count": 18,
   "id": "9e4fbcad-d070-4955-8279-078707e15608",
   "metadata": {},
   "outputs": [
    {
     "name": "stdout",
     "output_type": "stream",
     "text": [
      "\n",
      "A két pont távolsága: 10.24301\n"
     ]
    }
   ],
   "source": [
    "distance = math.sqrt((x0 - x1)**2 + (y0 - y1)**2)\n",
    "\n",
    "print(f\"\\nA két pont távolsága: {distance:.5f}\")"
   ]
  },
  {
   "cell_type": "markdown",
   "id": "4442fba0-65d2-4e46-a13b-cbda36393632",
   "metadata": {},
   "source": [
    "Sőt! Matematikából tudjuk, hogy a gyökvonás felírható hatványozásként is, hiszen egy szám négyzetgyöke megegyezik azzal, ha 0,5 kitevő esetén vesszük a hatványát. Ezek alapján:"
   ]
  },
  {
   "cell_type": "code",
   "execution_count": 19,
   "id": "72e0bd13-bd86-45ef-b916-0ebef1c68199",
   "metadata": {},
   "outputs": [
    {
     "name": "stdout",
     "output_type": "stream",
     "text": [
      "\n",
      "A két pont távolsága: 10.24301\n"
     ]
    }
   ],
   "source": [
    "distance = ((x0 - x1)**2 + (y0 - y1)**2)**0.5\n",
    "\n",
    "print(f\"\\nA két pont távolsága: {distance:.5f}\")"
   ]
  },
  {
   "cell_type": "markdown",
   "id": "c024aa60-280d-4916-826b-6750e821b7e4",
   "metadata": {},
   "source": [
    "Láthatjuk, hogy a számítási eredmény ugyanaz lett és a ```math``` könyvtár használatát ennél a feladatnál teljesen ki tudtuk iktatni. Most valóban nincs jelentősége, hogy melyiket használjuk, de valós szoftverfejlesztési gyakorlatban ilyenkor jellemzően azt szükséges mérlegelni, hogy az adott specifikációra nézve melyik megoldás hatékonyabb és gyorsabb. Viszont ilyen kérdésekkel nem célja foglalkozni ennek a tantárgynak. Itt most csupán az a cél, hogy lássuk és értsük a különféle lehetőségeinket egy adott feladat, számítás végrehajtásának tekintetében."
   ]
  },
  {
   "cell_type": "markdown",
   "id": "e6965b0b-cc1a-44b3-83fe-6967255a1a57",
   "metadata": {},
   "source": [
    "### PyPI\n",
    "\n",
    "A PyPI (Python Package Index) egy szoftvergyűjtemény, amely a Python nyelvhez írt külső modulokat foglalja össze. A gyűjtemény elérhető a weboldalán: [pypi.org](https://pypi.org/). A honlapon keresztül lehet keresni modulokat, akár szabadszavas keresővel, akár különféle szűrőfeltételek alapján. Hasonlóan tudjuk ezt elképzelni, mint az asztali és telefonos operációs rendszerek esetén a különféle szoftver áruházakat, ahol hivatalos forrásból egyszerűen tudunk célszoftvereket keresni és telepíteni. A PyPI esetén ugyanez a séma, csak Python modulok esetére vetítve, ahol meghatározott feladatokra kereshetünk kész megoldásokat.\n",
    "\n",
    "Például különféle diagramok rajzolásához nagyon jó választás a [matplotlib](https://pypi.org/project/matplotlib/) modul, vagy több dimenziós mátrixokon végzett műveletek esetén hasznos eszköz a [numpy](https://pypi.org/project/numpy/) elnevezésű modul.\n",
    "\n",
    "Ilyen külső modulokkal egyelőre nem foglalkozunk, de később még hasznosak lesznek.\n"
   ]
  },
  {
   "cell_type": "markdown",
   "id": "81c7b339-8bce-42a6-9b24-7d22d0669c9c",
   "metadata": {},
   "source": [
    "## Szótár (```dict```)\n",
    "\n",
    "A lista (```list```), rendezett n-es (```tuple```) és halmaz (```set```) adatszerkezetek után a ```dict```, azaz a szótár a 4. eszköz \n",
    "amivel megismerkedünk. A szótár segítségével szintén több értéket tudunk tárolni, leginkább a listához hasonló. De van egy nagyon fontos különbség.\n",
    "\n",
    "A listában az elemek felvételük sorrendjében helyezkednek el és az indexükkel tudunk rájuk hivatkozni. Az első elem indexe a 0, a második elemé az 1, és így tovább. A szótár abban különbözik ettől, hogy nem indexeket használ, hanem úgynevezett kulcsokat fogunk alkalmazni. Ilyen tekintetben kulcs-érték párokat tudunk eltárolni a szótárban. Az érték jelenti az adatot, amit el akarunk helyezni a szótárba. Ez ugyanaz, mint a lista esetén. A kulcs pedig az értékhez tartozó azonosítót jelenti. A lista esetén ez volt az index. Szótárnál a kulcs bár milyen adat lehet, nem csak szám, de akár szöveg is.\n",
    "\n",
    "Hozzunk létre egy üres szótárat!"
   ]
  },
  {
   "cell_type": "code",
   "execution_count": 20,
   "id": "1f348c09-602f-43e7-83c4-2d929cbd224f",
   "metadata": {},
   "outputs": [
    {
     "name": "stdout",
     "output_type": "stream",
     "text": [
      "<class 'dict'>\n"
     ]
    }
   ],
   "source": [
    "d = {}\n",
    "\n",
    "print(type(d))"
   ]
  },
  {
   "cell_type": "markdown",
   "id": "a2f48d20-82ec-4cab-ba45-2456bafc9c54",
   "metadata": {},
   "source": [
    "A ```d``` változónk most egy üres szótárat tárol. Adjunk hozzá egy új elemet. Ehhez meg kell adni a felvenni kívánt értéket és a hozzá tartozó kulcsot is, ami egyedileg azonosítani fogja az értéket (az index helyett). Ezt így tehetjük meg:"
   ]
  },
  {
   "cell_type": "code",
   "execution_count": 21,
   "id": "eaa3e597-4209-44fe-87dc-3df2b2b05c4c",
   "metadata": {},
   "outputs": [],
   "source": [
    "d[\"one\"] = \"egy\""
   ]
  },
  {
   "cell_type": "markdown",
   "id": "7cc5b02a-52c8-44ca-9471-f0979952acca",
   "metadata": {},
   "source": [
    "A ```d``` szótárba most eltároltuk az ```\"egy\"``` string-et, amelyhez a ```\"one\"``` string tartozik, mint kulcs. Tehát itt most index helyett a ```\"one\"``` kifejezést tudjuk használni.\n",
    "\n",
    "A teljes szótár tartalmát könnyen kiírathatjuk:"
   ]
  },
  {
   "cell_type": "code",
   "execution_count": 22,
   "id": "4dbe91dd-16a2-4cee-9c86-c084fe4ee8dc",
   "metadata": {},
   "outputs": [
    {
     "name": "stdout",
     "output_type": "stream",
     "text": [
      "{'one': 'egy'}\n"
     ]
    }
   ],
   "source": [
    "print(d)"
   ]
  },
  {
   "cell_type": "markdown",
   "id": "3a4f010e-7b6e-443a-8a38-05aad0898a56",
   "metadata": {},
   "source": [
    "Egy adott elemét lekérdezni most nem az index segítségével, hanem a kulcs segítségével tehetjük meg:"
   ]
  },
  {
   "cell_type": "code",
   "execution_count": 23,
   "id": "ec6f7717-02c3-41cf-b1aa-4708f14613da",
   "metadata": {},
   "outputs": [
    {
     "name": "stdout",
     "output_type": "stream",
     "text": [
      "egy\n"
     ]
    }
   ],
   "source": [
    "print(d[\"one\"])"
   ]
  },
  {
   "cell_type": "markdown",
   "id": "0f576219-da90-43d0-a059-d1aa528f6334",
   "metadata": {},
   "source": [
    "Emiatt hívják szótárnak, mivel egy adott értékhez (ami lehet szöveg, de bármilyen más adat is), egyértelműen hozzárendel egy másik adatot (ami szintén bármi lehet).\n",
    "\n",
    "A kulcs lehet szám is, és persze az sem gond, hogy egyszerre több különböző típusú kulcsot használunk egy szótárban. Ettől függetlenül a gyakorlatban ritka, hogy ilyen módon alkalmazzuk a szótárat."
   ]
  },
  {
   "cell_type": "code",
   "execution_count": 24,
   "id": "ff68b156-c8b6-4f52-8f5f-da9de2864e5c",
   "metadata": {},
   "outputs": [],
   "source": [
    "d[42] = \"alma\""
   ]
  },
  {
   "cell_type": "markdown",
   "id": "6b7907a7-435b-43df-8b2e-49e50d0b2f43",
   "metadata": {},
   "source": [
    "Most a ```42``` kulcshoz rendeltük hozzá az ```\"alma\"``` értéket."
   ]
  },
  {
   "cell_type": "code",
   "execution_count": 25,
   "id": "b029c73c-a2b0-494e-a69b-b2fa1c5eff79",
   "metadata": {},
   "outputs": [
    {
     "name": "stdout",
     "output_type": "stream",
     "text": [
      "alma\n"
     ]
    }
   ],
   "source": [
    "print(d[42])"
   ]
  },
  {
   "cell_type": "markdown",
   "id": "f74ca8c6-b09b-4cc5-8b19-7df1c0ddf7e7",
   "metadata": {},
   "source": [
    "Ha már létezik egy kulcs a szótárban, akkor ugyanilyen módon változtatni is tudunk a hozzá rendelt értéken."
   ]
  },
  {
   "cell_type": "code",
   "execution_count": 26,
   "id": "96c28bf9-9408-4d36-acbd-46c197add5f0",
   "metadata": {},
   "outputs": [
    {
     "name": "stdout",
     "output_type": "stream",
     "text": [
      "alma\n",
      "banán\n"
     ]
    }
   ],
   "source": [
    "print(d[42])\n",
    "\n",
    "d[42] = \"banán\"\n",
    "\n",
    "print(d[42])"
   ]
  },
  {
   "cell_type": "markdown",
   "id": "85871146-8f24-47ae-933d-93090ce1415b",
   "metadata": {},
   "source": [
    "Arra is van lehetőségünk, hogy egy elemet töröljünk, ha már nincs rá szükség."
   ]
  },
  {
   "cell_type": "code",
   "execution_count": 27,
   "id": "e1f78677-e527-4c21-8483-b293adc4454e",
   "metadata": {},
   "outputs": [
    {
     "name": "stdout",
     "output_type": "stream",
     "text": [
      "{'one': 'egy', 42: 'banán'}\n",
      "{'one': 'egy'}\n"
     ]
    }
   ],
   "source": [
    "print(d)\n",
    "\n",
    "del d[42]\n",
    "\n",
    "print(d)"
   ]
  },
  {
   "cell_type": "markdown",
   "id": "69a0432a-0902-4fd0-a1af-b0b7618303ea",
   "metadata": {},
   "source": [
    "Ha olyan elemre próbálunk hivatkozni a kulcson keresztül, amely még nem létezik, akkor természetesen hibát kapunk."
   ]
  },
  {
   "cell_type": "code",
   "execution_count": 28,
   "id": "405dfd63-4197-439a-94e9-d7363088d6ac",
   "metadata": {},
   "outputs": [
    {
     "ename": "KeyError",
     "evalue": "1",
     "output_type": "error",
     "traceback": [
      "\u001b[0;31m---------------------------------------------------------------------------\u001b[0m",
      "\u001b[0;31mKeyError\u001b[0m                                  Traceback (most recent call last)",
      "Cell \u001b[0;32mIn[28], line 1\u001b[0m\n\u001b[0;32m----> 1\u001b[0m \u001b[38;5;28mprint\u001b[39m(\u001b[43md\u001b[49m\u001b[43m[\u001b[49m\u001b[38;5;241;43m1\u001b[39;49m\u001b[43m]\u001b[49m)\n",
      "\u001b[0;31mKeyError\u001b[0m: 1"
     ]
    }
   ],
   "source": [
    "print(d[1])"
   ]
  },
  {
   "cell_type": "markdown",
   "id": "f8a0b94e-d92a-4a68-980b-45640946fa73",
   "metadata": {},
   "source": [
    "Attól függetlenül, hogy lehet keverten több típusú adat is a kulcs, ,nagyon ritka, hogy ilyen módon használjuk. Általában az összes kulcs ugyanolyan típusú egy adott szótárban.\n",
    "\n",
    "Töltsük fel még néhány elemmel a ```d``` szótárunkat!"
   ]
  },
  {
   "cell_type": "code",
   "execution_count": 29,
   "id": "9088cfe7-1bfd-4414-b357-ec5625011e2f",
   "metadata": {},
   "outputs": [
    {
     "name": "stdout",
     "output_type": "stream",
     "text": [
      "{'one': 'egy', 'two': 'kettő', 'three': 'három', 'four': 'négy', 'five': 'öt'}\n"
     ]
    }
   ],
   "source": [
    "d[\"two\"] = \"kettő\"\n",
    "d[\"three\"] = \"három\"\n",
    "d[\"four\"] = \"négy\"\n",
    "d[\"five\"] = \"öt\"\n",
    "\n",
    "print(d)"
   ]
  },
  {
   "cell_type": "markdown",
   "id": "c723a9dd-3e80-4358-9511-0684e0a0a226",
   "metadata": {},
   "source": [
    "Nézzük meg, hogy hogyan tudunk egy szótár elemein iterálni egy ```for``` ciklus segítségével."
   ]
  },
  {
   "cell_type": "code",
   "execution_count": 30,
   "id": "839466f7-4cb3-4111-bd02-749ccd9dd81f",
   "metadata": {},
   "outputs": [
    {
     "name": "stdout",
     "output_type": "stream",
     "text": [
      "kulcs: one , érték: egy\n",
      "kulcs: two , érték: kettő\n",
      "kulcs: three , érték: három\n",
      "kulcs: four , érték: négy\n",
      "kulcs: five , érték: öt\n"
     ]
    }
   ],
   "source": [
    "for k in d.keys():\n",
    "    print(\"kulcs:\", k, \", érték:\", d[k])"
   ]
  },
  {
   "cell_type": "markdown",
   "id": "c7a724e9-417f-44cb-95c1-45c6d2a6aaac",
   "metadata": {},
   "source": [
    "Minden szótárnak van egy ```keys``` függvénye. Ennek segítségével egy olyan objektumot kapunk, amin végég tudunk iterálni és az adott szótár egyes kulcsait tartalmazza. A kulcsok alapján pedig mindig elérjük a hozzá tartozó értéket, ha a kulcs segítségével \"indexeljük\" a szótárat.\n",
    "\n",
    "A ```list``` függvénynek ezt is megadhatjuk paraméterként. Ekkor egy olyan listát generál, ami az adott szótár kulcsait fogja tartalmazni."
   ]
  },
  {
   "cell_type": "code",
   "execution_count": 31,
   "id": "ca860cdd-35aa-4bbe-a74f-9021bf2746ce",
   "metadata": {},
   "outputs": [
    {
     "name": "stdout",
     "output_type": "stream",
     "text": [
      "['one', 'two', 'three', 'four', 'five']\n"
     ]
    }
   ],
   "source": [
    "keys = list(d.keys())\n",
    "\n",
    "print(keys)"
   ]
  },
  {
   "cell_type": "markdown",
   "id": "99de848c-c1e8-4a9f-9c90-fd3c4a87f5c4",
   "metadata": {},
   "source": [
    "Egy másik lehetőség a szótár iterálására az ```items``` függvény használata. Ezzel egy olyan iterálható objektumot kapunk, melynek minden eleme egy ```tuple```. Annyi ```tuple``` van benne, ahány eleme van a szótárnak, és minden ```tuple``` egy-egy kulcs-érték párt tartalmaz, ahol az első elem mindig egy kulcs, a második pedig a hozzá tartozó érték."
   ]
  },
  {
   "cell_type": "code",
   "execution_count": 32,
   "id": "47ab87df-5223-46fc-9e11-9ae23f856b07",
   "metadata": {},
   "outputs": [
    {
     "name": "stdout",
     "output_type": "stream",
     "text": [
      "kulcs: one , érték: egy\n",
      "kulcs: two , érték: kettő\n",
      "kulcs: three , érték: három\n",
      "kulcs: four , érték: négy\n",
      "kulcs: five , érték: öt\n"
     ]
    }
   ],
   "source": [
    "for i in d.items():\n",
    "    print(\"kulcs:\", i[0], \", érték:\", i[1])"
   ]
  },
  {
   "cell_type": "markdown",
   "id": "772983c0-5f8c-46fa-8355-a764597506ac",
   "metadata": {},
   "source": [
    "Amikor egy olyan iterációt hajtunk végre, ahol minden elem egy-egy azonos méretű ```list``` vagy ```tuple```, akkor lehetőségünk van a következő módszerre:"
   ]
  },
  {
   "cell_type": "code",
   "execution_count": 33,
   "id": "9166552f-749d-4f2b-9ff6-e5af50516976",
   "metadata": {},
   "outputs": [
    {
     "name": "stdout",
     "output_type": "stream",
     "text": [
      "kulcs: one , érték: egy\n",
      "kulcs: two , érték: kettő\n",
      "kulcs: three , érték: három\n",
      "kulcs: four , érték: négy\n",
      "kulcs: five , érték: öt\n"
     ]
    }
   ],
   "source": [
    "for key, value in d.items():\n",
    "    print(\"kulcs:\", key, \", érték:\", value)"
   ]
  },
  {
   "cell_type": "markdown",
   "id": "725596a2-f9f2-4111-a1a2-cf08b30ad1b1",
   "metadata": {},
   "source": [
    "Az utóbbi két eset közötti különbség, hogy míg az elsőben az ```i[0]``` elem volt a kulcs, addig most a ```key``` változóban találjuk ugyanazt. Valamint az ```i[1]``` helyett a ```value``` változóban lesz a hozzá tartozó érték.\n",
    "\n",
    "Korábban láttuk, hogy ```list``` és ```tuple``` elemeit fel lehet osztani változók között egy sorban. Ha meggondoljuk, akkor a fenti kódban ugyanez történik. A ```for``` ciklussal iterálunk a ```d.items()``` által visszaadott objektumon. Ennek minden eleme egy-egy 2 elemű ```tuple```. Az első megoldásban ezt jelöltük ```i```-vel, a másodikban pedig a ```key``` és ```value``` változókkal. Egyszerűen fogalmazva ez olyan, mintha azt mondtuk volna, hogy ```key, value = i```. Tehát a ```tuple``` két elemét felosztottuk két változóra.\n",
    "\n",
    "Ilyenkor célszerűbb a második megoldást használni, mivel ezzel elkerüljük az esetleges téves indexelésből eredető hibákat, valamint a változók neve is sokkal beszédesebb, könnyebben átláthatóvá teszi a kódot.\n",
    "\n",
    "A ```len``` függvényt most is használhatjuk. Megmondja, hogy egy szótárnak hány eleme, azaz hány kulcs-érték párja van."
   ]
  },
  {
   "cell_type": "code",
   "execution_count": 34,
   "id": "0e19add3-b18e-4901-8a2c-6294a3c5a210",
   "metadata": {},
   "outputs": [
    {
     "name": "stdout",
     "output_type": "stream",
     "text": [
      "5\n"
     ]
    }
   ],
   "source": [
    "print(len(d))"
   ]
  },
  {
   "cell_type": "markdown",
   "id": "c7036f5e-89cd-49b3-8fd2-8e03a9feb744",
   "metadata": {},
   "source": [
    "#### Feladat: raktár nyilvántartó program\n",
    "\n",
    "Készítsünk egy nagyon egyszerű raktár nyilvántartó programot szótár segítségével. A raktárunkat jelképezze egy szótár, ahol a kulcsok az egyes elemek (```str```), a hozzá tartozó mennyiségek (```int```), amennyi a raktárban található.\n",
    "\n",
    "A programhoz tartozzon egy menü, ahol 4 tevékenység közül választhatunk:\n",
    "* kilépés,,\n",
    "* raktár listázása,\n",
    "* új elem felvétele,\n",
    "* elem eltávolítása.\n",
    "\n",
    "A programot úgy oldjuk meg, hogy egy végtelen cikluson belül előszőr mindig kilistázzuk, hogy milyen tevékenységek közül lehet választani, majd legyen lehetősége választani egyet a felhasználónak. Utána elágazásokkal biztosítsuk, hogy a választásnak megfelelő cselekvés történjen.\n",
    "* A ciklusból akkor tudunk kilépni, ha a kilépést választja a felhasználó. Ekkor egy ```break``` utasítással könnyen megszakítható a ciklus. A maradák három esetben végezzük el a kívánt műveleteket.\n",
    "* A listázás esetén egyszerűen soroljuk fel az  elemeket és a mennyiségeket. De ha üres a raktár, akkor erről tájékoztassuk a felhasználót.\n",
    "* Hozzáadás során ügyeljünk rá, hogy a hozzáadni kívánt elemből már lehet hogy van valamennyi a raktárban, de lehet hogy nincs.\n",
    "* Kivétel során előfordulhat, hogy annyit szeretnénk kivenni, amekkora mennyiség nincs is a raktárban. Ilyenkor hibaüzenettel lássuk el a felhasználót és ne történjen kivételezés a raktárból. Ha a felhasználó pont akkora mennyiséget vesz ki, mint amennyi van, akkor erről tájékoztassuk külön. Máskülönben tájékoztassuk arról, hogy mekkora mennyiség maradt még.\n",
    "* Ha olyan cselekvést szeretne a felhasználó, ami nincs definiálva, akkor hibaüzenettel tájékoztassuk erről."
   ]
  },
  {
   "cell_type": "code",
   "execution_count": 35,
   "id": "b606bc70-5816-4125-b2c8-ac3c6b58eb08",
   "metadata": {},
   "outputs": [
    {
     "name": "stdout",
     "output_type": "stream",
     "text": [
      "------------------------------------------\n",
      "Mit szeretne tenni?\n",
      " q: kilépés\n",
      " l: raktár listázása\n",
      " h: raktárhoz hozzáadás\n",
      " k: raktárból kivétel\n"
     ]
    },
    {
     "name": "stdin",
     "output_type": "stream",
     "text": [
      " l\n"
     ]
    },
    {
     "name": "stdout",
     "output_type": "stream",
     "text": [
      "A raktár üres!\n",
      "------------------------------------------\n",
      "Mit szeretne tenni?\n",
      " q: kilépés\n",
      " l: raktár listázása\n",
      " h: raktárhoz hozzáadás\n",
      " k: raktárból kivétel\n"
     ]
    },
    {
     "name": "stdin",
     "output_type": "stream",
     "text": [
      " h\n"
     ]
    },
    {
     "name": "stdout",
     "output_type": "stream",
     "text": [
      "Mit szeretne a raktárhoz adni?\n"
     ]
    },
    {
     "name": "stdin",
     "output_type": "stream",
     "text": [
      " alma\n"
     ]
    },
    {
     "name": "stdout",
     "output_type": "stream",
     "text": [
      "Mennyit szeretne hozzáadni?\n"
     ]
    },
    {
     "name": "stdin",
     "output_type": "stream",
     "text": [
      " 100\n"
     ]
    },
    {
     "name": "stdout",
     "output_type": "stream",
     "text": [
      "Felvétel megtörtént!\n",
      "------------------------------------------\n",
      "Mit szeretne tenni?\n",
      " q: kilépés\n",
      " l: raktár listázása\n",
      " h: raktárhoz hozzáadás\n",
      " k: raktárból kivétel\n"
     ]
    },
    {
     "name": "stdin",
     "output_type": "stream",
     "text": [
      " h\n"
     ]
    },
    {
     "name": "stdout",
     "output_type": "stream",
     "text": [
      "Mit szeretne a raktárhoz adni?\n"
     ]
    },
    {
     "name": "stdin",
     "output_type": "stream",
     "text": [
      " banán\n"
     ]
    },
    {
     "name": "stdout",
     "output_type": "stream",
     "text": [
      "Mennyit szeretne hozzáadni?\n"
     ]
    },
    {
     "name": "stdin",
     "output_type": "stream",
     "text": [
      " 250\n"
     ]
    },
    {
     "name": "stdout",
     "output_type": "stream",
     "text": [
      "Felvétel megtörtént!\n",
      "------------------------------------------\n",
      "Mit szeretne tenni?\n",
      " q: kilépés\n",
      " l: raktár listázása\n",
      " h: raktárhoz hozzáadás\n",
      " k: raktárból kivétel\n"
     ]
    },
    {
     "name": "stdin",
     "output_type": "stream",
     "text": [
      " l\n"
     ]
    },
    {
     "name": "stdout",
     "output_type": "stream",
     "text": [
      "A raktár tartalma:\n",
      "alma 100\n",
      "banán 250\n",
      "------------------------------------------\n",
      "Mit szeretne tenni?\n",
      " q: kilépés\n",
      " l: raktár listázása\n",
      " h: raktárhoz hozzáadás\n",
      " k: raktárból kivétel\n"
     ]
    },
    {
     "name": "stdin",
     "output_type": "stream",
     "text": [
      " k\n"
     ]
    },
    {
     "name": "stdout",
     "output_type": "stream",
     "text": [
      "Mit szeretne kivenni?\n"
     ]
    },
    {
     "name": "stdin",
     "output_type": "stream",
     "text": [
      " körte\n"
     ]
    },
    {
     "name": "stdout",
     "output_type": "stream",
     "text": [
      "Hiba! Nincs a raktárban körte!\n",
      "------------------------------------------\n",
      "Mit szeretne tenni?\n",
      " q: kilépés\n",
      " l: raktár listázása\n",
      " h: raktárhoz hozzáadás\n",
      " k: raktárból kivétel\n"
     ]
    },
    {
     "name": "stdin",
     "output_type": "stream",
     "text": [
      " k\n"
     ]
    },
    {
     "name": "stdout",
     "output_type": "stream",
     "text": [
      "Mit szeretne kivenni?\n"
     ]
    },
    {
     "name": "stdin",
     "output_type": "stream",
     "text": [
      " alma\n"
     ]
    },
    {
     "name": "stdout",
     "output_type": "stream",
     "text": [
      "Mennyit szeretne kivenni?\n"
     ]
    },
    {
     "name": "stdin",
     "output_type": "stream",
     "text": [
      " 25\n"
     ]
    },
    {
     "name": "stdout",
     "output_type": "stream",
     "text": [
      "Kivétel megtörtént, még ennyi alma van a raktárban: 75.\n",
      "------------------------------------------\n",
      "Mit szeretne tenni?\n",
      " q: kilépés\n",
      " l: raktár listázása\n",
      " h: raktárhoz hozzáadás\n",
      " k: raktárból kivétel\n"
     ]
    },
    {
     "name": "stdin",
     "output_type": "stream",
     "text": [
      " k\n"
     ]
    },
    {
     "name": "stdout",
     "output_type": "stream",
     "text": [
      "Mit szeretne kivenni?\n"
     ]
    },
    {
     "name": "stdin",
     "output_type": "stream",
     "text": [
      " banán\n"
     ]
    },
    {
     "name": "stdout",
     "output_type": "stream",
     "text": [
      "Mennyit szeretne kivenni?\n"
     ]
    },
    {
     "name": "stdin",
     "output_type": "stream",
     "text": [
      " 300\n"
     ]
    },
    {
     "name": "stdout",
     "output_type": "stream",
     "text": [
      "Hiba! Nincs ekkora  mennyiség a raktárban!\n",
      "------------------------------------------\n",
      "Mit szeretne tenni?\n",
      " q: kilépés\n",
      " l: raktár listázása\n",
      " h: raktárhoz hozzáadás\n",
      " k: raktárból kivétel\n"
     ]
    },
    {
     "name": "stdin",
     "output_type": "stream",
     "text": [
      " l\n"
     ]
    },
    {
     "name": "stdout",
     "output_type": "stream",
     "text": [
      "A raktár tartalma:\n",
      "alma 75\n",
      "banán 250\n",
      "------------------------------------------\n",
      "Mit szeretne tenni?\n",
      " q: kilépés\n",
      " l: raktár listázása\n",
      " h: raktárhoz hozzáadás\n",
      " k: raktárból kivétel\n"
     ]
    },
    {
     "name": "stdin",
     "output_type": "stream",
     "text": [
      " q\n"
     ]
    },
    {
     "name": "stdout",
     "output_type": "stream",
     "text": [
      "Viszlát!\n"
     ]
    }
   ],
   "source": [
    "# Egyszerű raktárnyilvántartó program\n",
    "\n",
    "# A raktárat egy szótár jelképezi, ami kezdetben üres.\n",
    "store = {}\n",
    "\n",
    "# Végtelen ciklussal valósítunk meg egy primitív menüt.\n",
    "# A ciklus végtelensége ellenére ki fogunk tudni lépni, amikor a kilépés menüpontot választja a felhasználó.\n",
    "while True:\n",
    "    # Kiírjuk a használathoz szükséges tájékoztató üzeneteket.\n",
    "    print(\"------------------------------------------\")\n",
    "    print(\"Mit szeretne tenni?\")\n",
    "    print(\" q: kilépés\")\n",
    "    print(\" l: raktár listázása\")\n",
    "    print(\" h: raktárhoz hozzáadás\")\n",
    "    print(\" k: raktárból kivétel\")\n",
    "    # Várjuk, hogy a felhasználó melyik menüpontot választja.\n",
    "    m = input()\n",
    "    # Elágazás segítségével kezeljük a különféle menüpontokat.\n",
    "    # Az elágazás végén mindig legyen egy else ág, arra az esetre, ha olyan menüpontot választ a felhasználó ami nem is létezik.\n",
    "    # Első ág a kilépéshez tartozik.\n",
    "    if m == \"q\":\n",
    "        print(\"Viszlát!\") # Tájékoztató üzenet.\n",
    "        break # A break utasítás lezárja a ciklus aktuális iterációját és nem is kezd újat, a ciklus után folytatódik a program futása.\n",
    "    # Raktár listázása következő ebben az esetben.\n",
    "    elif m == \"l\":\n",
    "        # Ha üres a raktár, akkor csak erről tájékoztatjuk a felhasználót.\n",
    "        if len(store) == 0:\n",
    "            print(\"A raktár üres!\")\n",
    "        # Ha nem üres, akkor végig iterálunk a szótáron, kiírjuk az egyes kulcsokat (termékek a raktárban) és értékeket (termékek mennyisége).\n",
    "        else:\n",
    "            print(\"A raktár tartalma:\")\n",
    "            for k, v in store.items():\n",
    "                print(k, v)\n",
    "    # Termékeket szeretne a felhasználó a raktárhoz adni.\n",
    "    elif m == \"h\":\n",
    "        print(\"Mit szeretne a raktárhoz adni?\")\n",
    "        new_item = input() # A hozzáadni kívánt termék neve.\n",
    "        # Megnézzük, hogy a termékből van e egyáltalán raktáron.\n",
    "        if new_item in store.keys():\n",
    "            # Kiírjuk, hogy a termékből mennyi van raktáron, majd bekérjük, hogy mennyit szeretne hozzáadni.\n",
    "            print(\"A raktárban már van \" + new_item + \" a következő mennyiségben: \" + str(store[new_item]) + \". Mennyit szeretne hozzáadni?\")\n",
    "            new_qt = int(input())\n",
    "            store[new_item] += new_qt # Itt += operátorral növeljük az eddigi raktár mennyiséget.\n",
    "        else:\n",
    "            # Ebben az ágba akkor jutunk, ha nincs egy darab sem a raktárban a megadott termékből.\n",
    "            print(\"Mennyit szeretne hozzáadni?\")\n",
    "            new_qt = int(input())\n",
    "            store[new_item] = new_qt # Itt nem a += operátorral növeljük a mennyiséget, hanem új elemet veszünk fel a raktárba a megadott mennyiséggel.\n",
    "        print(\"Felvétel megtörtént!\")\n",
    "    # A felhasználó termékeket szeretne kivenni a raktárból.\n",
    "    elif m == \"k\":\n",
    "        print(\"Mit szeretne kivenni?\")\n",
    "        item = input() # A kivenni kívánt termék neve.\n",
    "        # Megnézzük, hogy a raktárban van e egyáltalán ilyen termék.\n",
    "        if item in store.keys():\n",
    "            # Ha van ilyen termék, akkor megkérdezhetjük, hogy mennnyit szeretne kivenni.\n",
    "            print(\"Mennyit szeretne kivenni?\")\n",
    "            qt = int(input()) # Az item termékből kivenni kívánt mennyiség.\n",
    "            # Három eset lehet: vagy több van a raktárban a kivenni kívánt mennyiségből, vagy pont annyi van, vagy kevesebb van.\n",
    "            # Az első eset amikor több van, min amennyit ki akar venni a felhasználó.\n",
    "            if store[item] > qt:\n",
    "                store[item] -= qt # A kivett mennyiséggel csökkentjük a raktárban található mennyiséget.\n",
    "                print(\"Kivétel megtörtént, még ennyi \" + item + \" van a raktárban: \" + str(store[item]) + \".\")\n",
    "            # Amikor pont annyi van a raktárban, mint amennyit ki szeretnénk venni.\n",
    "            elif store[item] == qt:\n",
    "                print(\"Kivétel megtörtént, nem maradt több \" + item + \" a raktárban!\")\n",
    "                del store[item] # itt nem átírjuk nullára az értéket, hanem egyszerűen töröljük a raktárból a terméket.\n",
    "            # Kizárásos alapon ez az az eset, amikor kevesebb van raktáron, mint amennyit a felhasználó ki szeretne venni.\n",
    "            else:\n",
    "                # Itt csak tájékoztató üzenetet helyezünk el, kivétel nem történik.\n",
    "                print(\"Hiba! Nincs ekkora  mennyiség a raktárban!\")\n",
    "        # Ha nincs a raktárban a kivenni kívánt elemből egy darab sem, akkor az else ágba jutunk.\n",
    "        else:\n",
    "            # Itt csak tájékoztató üzenetet helyezünk el.\n",
    "            print(\"Hiba! Nincs a raktárban \" + item + \"!\")\n",
    "    # Ha olyan menüpontot választ a felhasználó, ami nem létezik, akkor tájékoztatjuk a hibáról és kezdődik minden előlről.\n",
    "    else:\n",
    "        print(\"Hiba! Nem megfelelő parancs!\")\n",
    "            "
   ]
  }
 ],
 "metadata": {
  "kernelspec": {
   "display_name": "Python 3 (ipykernel)",
   "language": "python",
   "name": "python3"
  },
  "language_info": {
   "codemirror_mode": {
    "name": "ipython",
    "version": 3
   },
   "file_extension": ".py",
   "mimetype": "text/x-python",
   "name": "python",
   "nbconvert_exporter": "python",
   "pygments_lexer": "ipython3",
   "version": "3.8.10"
  }
 },
 "nbformat": 4,
 "nbformat_minor": 5
}
